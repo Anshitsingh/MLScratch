{
 "cells": [
  {
   "cell_type": "code",
   "execution_count": 1,
   "metadata": {},
   "outputs": [
    {
     "name": "stderr",
     "output_type": "stream",
     "text": [
      "Skipping line 267909: expected 33 fields, saw 34\n",
      "\n",
      "Skipping line 299539: expected 33 fields, saw 34\n",
      "\n",
      "/home/jash/anaconda3/envs/py27/lib/python2.7/site-packages/IPython/core/interactiveshell.py:2718: DtypeWarning: Columns (5,17,18,19,20) have mixed types. Specify dtype option on import or set low_memory=False.\n",
      "  interactivity=interactivity, compiler=compiler, result=result)\n"
     ]
    }
   ],
   "source": [
    "import pandas as pd\n",
    "a=pd.read_table(\"/home/jash/Desktop/petplan/Profitability1.txt\", sep='|', lineterminator='\\n', error_bad_lines=False)"
   ]
  },
  {
   "cell_type": "code",
   "execution_count": 2,
   "metadata": {},
   "outputs": [],
   "source": [
    "data=pd.DataFrame(data=a,index=None)\n",
    "data = data.sample(frac=1).reset_index(drop=True)\n",
    "import math\n",
    "import numpy as np\n",
    "data['LossRatio'].fillna(0, inplace=True)\n",
    "data['L']=0\n",
    "data.loc[data['LossRatio'] >.57, 'L'] = 1\n",
    "data.to_csv(\"/home/jash/Desktop/petplan/Profitability.csv\")\n",
    "Y=data['L']\n",
    "y=pd.DataFrame(Y)\n",
    "x=pd.DataFrame(data)\n"
   ]
  },
  {
   "cell_type": "code",
   "execution_count": 3,
   "metadata": {},
   "outputs": [],
   "source": [
    "x.drop(['LossRatio'],axis=1,inplace=True)\n",
    "x.drop(['CustomerNumber','PhoneNumber','Surname','GivenName','CustomerMailingAddr_Addr1','CustomerMailingAddr_City','CustomerMailingAddr_StateProvCd',\n",
    "       'CustomerMailingAddr_PostalCode','PetId','StartDate','EndDate','LastPolicyRef'],axis=1,inplace=True)\n",
    "\n",
    "p=pd.DataFrame(x)\n",
    "p.drop(p.index[334476],inplace=True)\n",
    "y.drop(y.index[334476],inplace=True)\n",
    "p['TotalClaimsAmtPaid'].fillna(0, inplace=True)"
   ]
  },
  {
   "cell_type": "code",
   "execution_count": 4,
   "metadata": {},
   "outputs": [
    {
     "data": {
      "text/plain": [
       "Duration                       0\n",
       "TotalClaimsAmtPaid             0\n",
       "TotalEarnedPremium             0\n",
       "BreedName                     86\n",
       "Currentage                     1\n",
       "CopayPct                       0\n",
       "Deductible                     0\n",
       "PetType                        0\n",
       "PolicyForm                     0\n",
       "CarrierCd                      0\n",
       "ClaimNumber               296354\n",
       "ClaimAmount               296354\n",
       "ClaimDetails              296354\n",
       "ConditionGrp              296354\n",
       "Claimcodecategory         296354\n",
       "Severity                  296652\n",
       "Country                      389\n",
       "Quadrant                       0\n",
       "claimdurationInception    296354\n",
       "churn\\r                        0\n",
       "L                              0\n",
       "dtype: int64"
      ]
     },
     "execution_count": 4,
     "metadata": {},
     "output_type": "execute_result"
    }
   ],
   "source": [
    "p.isnull().sum()"
   ]
  },
  {
   "cell_type": "code",
   "execution_count": 5,
   "metadata": {},
   "outputs": [],
   "source": [
    "p.drop(['ClaimNumber','ClaimAmount','Severity','ClaimDetails','ConditionGrp','Claimcodecategory','claimdurationInception'],axis=1,inplace=True)"
   ]
  },
  {
   "cell_type": "code",
   "execution_count": 6,
   "metadata": {},
   "outputs": [
    {
     "data": {
      "text/plain": [
       "Duration                0\n",
       "TotalClaimsAmtPaid      0\n",
       "TotalEarnedPremium      0\n",
       "BreedName              86\n",
       "Currentage              1\n",
       "CopayPct                0\n",
       "Deductible              0\n",
       "PetType                 0\n",
       "PolicyForm              0\n",
       "CarrierCd               0\n",
       "Country               389\n",
       "Quadrant                0\n",
       "churn\\r                 0\n",
       "L                       0\n",
       "dtype: int64"
      ]
     },
     "execution_count": 6,
     "metadata": {},
     "output_type": "execute_result"
    }
   ],
   "source": [
    "p.isnull().sum()"
   ]
  },
  {
   "cell_type": "code",
   "execution_count": 7,
   "metadata": {},
   "outputs": [],
   "source": [
    "p.drop(['Quadrant'],axis=1,inplace=True)"
   ]
  },
  {
   "cell_type": "code",
   "execution_count": 8,
   "metadata": {},
   "outputs": [],
   "source": [
    "p.dropna(how='any',inplace=True)"
   ]
  },
  {
   "cell_type": "code",
   "execution_count": 9,
   "metadata": {},
   "outputs": [
    {
     "name": "stdout",
     "output_type": "stream",
     "text": [
      "Checking whether there is an H2O instance running at http://localhost:54321..... not found.\n",
      "Attempting to start a local H2O server...\n",
      "  Java Version: openjdk version \"1.8.0_121\"; OpenJDK Runtime Environment (Zulu 8.20.0.5-linux64) (build 1.8.0_121-b15); OpenJDK 64-Bit Server VM (Zulu 8.20.0.5-linux64) (build 25.121-b15, mixed mode)\n",
      "  Starting server from /home/jash/anaconda3/envs/py27/h2o_jar/h2o.jar\n",
      "  Ice root: /tmp/tmpXevmeD\n",
      "  JVM stdout: /tmp/tmpXevmeD/h2o_jash_started_from_python.out\n",
      "  JVM stderr: /tmp/tmpXevmeD/h2o_jash_started_from_python.err\n",
      "  Server is running at http://127.0.0.1:54321\n",
      "Connecting to H2O server at http://127.0.0.1:54321... successful.\n",
      "Warning: Your H2O cluster version is too old (4 months and 25 days)! Please download and install the latest version from http://h2o.ai/download/\n"
     ]
    },
    {
     "data": {
      "text/html": [
       "<div style=\"overflow:auto\"><table style=\"width:50%\"><tr><td>H2O cluster uptime:</td>\n",
       "<td>02 secs</td></tr>\n",
       "<tr><td>H2O cluster timezone:</td>\n",
       "<td>Asia/Kolkata</td></tr>\n",
       "<tr><td>H2O data parsing timezone:</td>\n",
       "<td>UTC</td></tr>\n",
       "<tr><td>H2O cluster version:</td>\n",
       "<td>3.18.0.2</td></tr>\n",
       "<tr><td>H2O cluster version age:</td>\n",
       "<td>4 months and 25 days !!!</td></tr>\n",
       "<tr><td>H2O cluster name:</td>\n",
       "<td>H2O_from_python_jash_0c1kr3</td></tr>\n",
       "<tr><td>H2O cluster total nodes:</td>\n",
       "<td>1</td></tr>\n",
       "<tr><td>H2O cluster free memory:</td>\n",
       "<td>1.714 Gb</td></tr>\n",
       "<tr><td>H2O cluster total cores:</td>\n",
       "<td>4</td></tr>\n",
       "<tr><td>H2O cluster allowed cores:</td>\n",
       "<td>4</td></tr>\n",
       "<tr><td>H2O cluster status:</td>\n",
       "<td>accepting new members, healthy</td></tr>\n",
       "<tr><td>H2O connection url:</td>\n",
       "<td>http://127.0.0.1:54321</td></tr>\n",
       "<tr><td>H2O connection proxy:</td>\n",
       "<td>None</td></tr>\n",
       "<tr><td>H2O internal security:</td>\n",
       "<td>False</td></tr>\n",
       "<tr><td>H2O API Extensions:</td>\n",
       "<td>XGBoost, Algos, AutoML, Core V3, Core V4</td></tr>\n",
       "<tr><td>Python version:</td>\n",
       "<td>2.7.14 final</td></tr></table></div>"
      ],
      "text/plain": [
       "--------------------------  ----------------------------------------\n",
       "H2O cluster uptime:         02 secs\n",
       "H2O cluster timezone:       Asia/Kolkata\n",
       "H2O data parsing timezone:  UTC\n",
       "H2O cluster version:        3.18.0.2\n",
       "H2O cluster version age:    4 months and 25 days !!!\n",
       "H2O cluster name:           H2O_from_python_jash_0c1kr3\n",
       "H2O cluster total nodes:    1\n",
       "H2O cluster free memory:    1.714 Gb\n",
       "H2O cluster total cores:    4\n",
       "H2O cluster allowed cores:  4\n",
       "H2O cluster status:         accepting new members, healthy\n",
       "H2O connection url:         http://127.0.0.1:54321\n",
       "H2O connection proxy:\n",
       "H2O internal security:      False\n",
       "H2O API Extensions:         XGBoost, Algos, AutoML, Core V3, Core V4\n",
       "Python version:             2.7.14 final\n",
       "--------------------------  ----------------------------------------"
      ]
     },
     "metadata": {},
     "output_type": "display_data"
    },
    {
     "name": "stderr",
     "output_type": "stream",
     "text": [
      "/home/jash/anaconda3/envs/py27/lib/python2.7/site-packages/h2o/h2o.py:562: UserWarning: [Lwater.parser.ParseWriter$ParseErr;@310fafaf\n",
      "  warnings.warn(w)\n"
     ]
    },
    {
     "name": "stdout",
     "output_type": "stream",
     "text": [
      "Parse progress: |█████████████████████████████████████████████████████████| 100%\n"
     ]
    },
    {
     "name": "stderr",
     "output_type": "stream",
     "text": [
      "/home/jash/anaconda3/envs/py27/lib/python2.7/site-packages/h2o/job.py:69: UserWarning: ParseError at file upload_ad061eab75e02a171a4ba6e61ea34b6b at line 0 ( destination line 0 )  at byte offset 153; error = 'Unmatched quote char \"'\n",
      "  warnings.warn(w)\n",
      "/home/jash/anaconda3/envs/py27/lib/python2.7/site-packages/h2o/job.py:69: UserWarning: ParseError at file upload_ad061eab75e02a171a4ba6e61ea34b6b at line 2 ( destination line 2 )  at byte offset 159; error = 'Unmatched quote char \"'\n",
      "  warnings.warn(w)\n"
     ]
    },
    {
     "data": {
      "text/html": [
       "<table>\n",
       "<thead>\n",
       "<tr><th style=\"text-align: right;\">  Duration</th><th style=\"text-align: right;\">  TotalClaimsAmtPaid</th><th style=\"text-align: right;\">  TotalEarnedPremium</th><th>BreedName                     </th><th style=\"text-align: right;\">  Currentage</th><th style=\"text-align: right;\">  CopayPct</th><th style=\"text-align: right;\">  Deductible</th><th>PetType  </th><th>PolicyForm  </th><th>CarrierCd  </th><th>Country  </th><th style=\"text-align: right;\">    churn\r",
       "</th><th style=\"text-align: right;\">  L</th></tr>\n",
       "</thead>\n",
       "<tbody>\n",
       "<tr><td style=\"text-align: right;\">       nan</td><td style=\"text-align: right;\">             nan    </td><td style=\"text-align: right;\">            nan     </td><td>BreedName                     </td><td style=\"text-align: right;\">         nan</td><td style=\"text-align: right;\">     nan  </td><td style=\"text-align: right;\">         nan</td><td>PetType  </td><td>PolicyForm  </td><td>CarrierCd  </td><td>Country  </td><td style=\"text-align: right;\">nan</td><td style=\"text-align: right;\">nan</td></tr>\n",
       "<tr><td style=\"text-align: right;\">       nan</td><td style=\"text-align: right;\">             nan    </td><td style=\"text-align: right;\">            nan     </td><td>                              </td><td style=\"text-align: right;\">         nan</td><td style=\"text-align: right;\">     nan  </td><td style=\"text-align: right;\">         nan</td><td>         </td><td>            </td><td>           </td><td>         </td><td style=\"text-align: right;\">nan</td><td style=\"text-align: right;\">nan</td></tr>\n",
       "<tr><td style=\"text-align: right;\">       265</td><td style=\"text-align: right;\">             296.784</td><td style=\"text-align: right;\">            365.374 </td><td>Mastiff Mix                   </td><td style=\"text-align: right;\">           0</td><td style=\"text-align: right;\">       0.8</td><td style=\"text-align: right;\">         200</td><td>Dog      </td><td>Bronze      </td><td>ALZ        </td><td>US       </td><td style=\"text-align: right;\">  1</td><td style=\"text-align: right;\">  1</td></tr>\n",
       "<tr><td style=\"text-align: right;\">        30</td><td style=\"text-align: right;\">               0    </td><td style=\"text-align: right;\">              0     </td><td>Mixed Breed Large (71lb +)    </td><td style=\"text-align: right;\">           1</td><td style=\"text-align: right;\">       0.8</td><td style=\"text-align: right;\">         100</td><td>Dog      </td><td>Introductory</td><td>XLC        </td><td>US       </td><td style=\"text-align: right;\">  1</td><td style=\"text-align: right;\">  0</td></tr>\n",
       "<tr><td style=\"text-align: right;\">      1256</td><td style=\"text-align: right;\">             499.49 </td><td style=\"text-align: right;\">           1558.91  </td><td>Mixed Breed Medium (23 - 70lb)</td><td style=\"text-align: right;\">           5</td><td style=\"text-align: right;\">       0.9</td><td style=\"text-align: right;\">         350</td><td>Dog      </td><td>15000       </td><td>XLC        </td><td>US       </td><td style=\"text-align: right;\">  0</td><td style=\"text-align: right;\">  0</td></tr>\n",
       "<tr><td style=\"text-align: right;\">        30</td><td style=\"text-align: right;\">               0    </td><td style=\"text-align: right;\">              0     </td><td>Labrador Mix                  </td><td style=\"text-align: right;\">           0</td><td style=\"text-align: right;\">       0.8</td><td style=\"text-align: right;\">         100</td><td>Dog      </td><td>Introductory</td><td>XLC        </td><td>US       </td><td style=\"text-align: right;\">  1</td><td style=\"text-align: right;\">  0</td></tr>\n",
       "<tr><td style=\"text-align: right;\">        30</td><td style=\"text-align: right;\">               0    </td><td style=\"text-align: right;\">              0     </td><td>Domestic Shorthair            </td><td style=\"text-align: right;\">           0</td><td style=\"text-align: right;\">       0.8</td><td style=\"text-align: right;\">         100</td><td>Cat      </td><td>Introductory</td><td>CAN        </td><td>CAN      </td><td style=\"text-align: right;\">  1</td><td style=\"text-align: right;\">  0</td></tr>\n",
       "<tr><td style=\"text-align: right;\">       949</td><td style=\"text-align: right;\">            3470.71 </td><td style=\"text-align: right;\">           2420.73  </td><td>Great Dane                    </td><td style=\"text-align: right;\">           2</td><td style=\"text-align: right;\">       0.9</td><td style=\"text-align: right;\">         300</td><td>Dog      </td><td>Unlimited   </td><td>XLC        </td><td>US       </td><td style=\"text-align: right;\">  0</td><td style=\"text-align: right;\">  1</td></tr>\n",
       "<tr><td style=\"text-align: right;\">       100</td><td style=\"text-align: right;\">               0    </td><td style=\"text-align: right;\">             92.8384</td><td>Mixed Breed Medium (23 - 70lb)</td><td style=\"text-align: right;\">           2</td><td style=\"text-align: right;\">       0.8</td><td style=\"text-align: right;\">         250</td><td>Dog      </td><td>15000       </td><td>XLC        </td><td>US       </td><td style=\"text-align: right;\">  1</td><td style=\"text-align: right;\">  0</td></tr>\n",
       "<tr><td style=\"text-align: right;\">       226</td><td style=\"text-align: right;\">               0    </td><td style=\"text-align: right;\">            711.12  </td><td>Boxer                         </td><td style=\"text-align: right;\">           6</td><td style=\"text-align: right;\">       0.8</td><td style=\"text-align: right;\">         500</td><td>Dog      </td><td>15000       </td><td>XLC        </td><td>US       </td><td style=\"text-align: right;\">  1</td><td style=\"text-align: right;\">  0</td></tr>\n",
       "</tbody>\n",
       "</table>"
      ]
     },
     "metadata": {},
     "output_type": "display_data"
    },
    {
     "name": "stdout",
     "output_type": "stream",
     "text": [
      "\n",
      "gbm Model Build progress: |███████████████████████████████████████████████| 100%\n",
      "Total cross validation models: 3\n"
     ]
    }
   ],
   "source": [
    "import h2o\n",
    "from h2o.estimators import H2ORandomForestEstimator\n",
    "h2o.init()\n",
    "df = h2o.H2OFrame(p)\n",
    "y = 'L'\n",
    "x=df.col_names\n",
    "print df\n",
    "x.remove(y)\n",
    "df[y] = df[y].asfactor()\n",
    "train, valid, test = df.split_frame(ratios=[.8,.1])\n",
    "from h2o.estimators.gbm import H2OGradientBoostingEstimator\n",
    "gbm_cv3 = H2OGradientBoostingEstimator(nfolds=3)\n",
    "gbm_cv3.train(x=x, y=y, training_frame=train)\n",
    "## Getting all cross validated models \n",
    "all_models = gbm_cv3.cross_validation_models()\n",
    "print(\"Total cross validation models: \" + str(len(all_models)))"
   ]
  },
  {
   "cell_type": "code",
   "execution_count": 10,
   "metadata": {},
   "outputs": [
    {
     "name": "stdout",
     "output_type": "stream",
     "text": [
      "\n",
      "ModelMetricsBinomial: gbm\n",
      "** Reported on test data. **\n",
      "\n",
      "MSE: 0.000904551738344\n",
      "RMSE: 0.0300757666294\n",
      "LogLoss: 0.00719412672271\n",
      "Mean Per-Class Error: 0.000761391043228\n",
      "AUC: 0.999995727573\n",
      "Gini: 0.999991455145\n",
      "Confusion Matrix (Act/Pred) for max f1 @ threshold = 0.543669914928: \n"
     ]
    },
    {
     "data": {
      "text/html": [
       "<div style=\"overflow:auto\"><table style=\"width:50%\"><tr><td><b></b></td>\n",
       "<td><b>0</b></td>\n",
       "<td><b>1</b></td>\n",
       "<td><b>Error</b></td>\n",
       "<td><b>Rate</b></td></tr>\n",
       "<tr><td>0</td>\n",
       "<td>32691.0</td>\n",
       "<td>13.0</td>\n",
       "<td>0.0004</td>\n",
       "<td> (13.0/32704.0)</td></tr>\n",
       "<tr><td>1</td>\n",
       "<td>13.0</td>\n",
       "<td>9749.0</td>\n",
       "<td>0.0013</td>\n",
       "<td> (13.0/9762.0)</td></tr>\n",
       "<tr><td>Total</td>\n",
       "<td>32704.0</td>\n",
       "<td>9762.0</td>\n",
       "<td>0.0006</td>\n",
       "<td> (26.0/42466.0)</td></tr></table></div>"
      ],
      "text/plain": [
       "       0      1     Error    Rate\n",
       "-----  -----  ----  -------  --------------\n",
       "0      32691  13    0.0004   (13.0/32704.0)\n",
       "1      13     9749  0.0013   (13.0/9762.0)\n",
       "Total  32704  9762  0.0006   (26.0/42466.0)"
      ]
     },
     "metadata": {},
     "output_type": "display_data"
    },
    {
     "name": "stdout",
     "output_type": "stream",
     "text": [
      "Maximum Metrics: Maximum metrics at their respective thresholds\n",
      "\n"
     ]
    },
    {
     "data": {
      "text/html": [
       "<div style=\"overflow:auto\"><table style=\"width:50%\"><tr><td><b>metric</b></td>\n",
       "<td><b>threshold</b></td>\n",
       "<td><b>value</b></td>\n",
       "<td><b>idx</b></td></tr>\n",
       "<tr><td>max f1</td>\n",
       "<td>0.5436699</td>\n",
       "<td>0.9986683</td>\n",
       "<td>204.0</td></tr>\n",
       "<tr><td>max f2</td>\n",
       "<td>0.4584835</td>\n",
       "<td>0.9988735</td>\n",
       "<td>216.0</td></tr>\n",
       "<tr><td>max f0point5</td>\n",
       "<td>0.6325110</td>\n",
       "<td>0.9991174</td>\n",
       "<td>190.0</td></tr>\n",
       "<tr><td>max accuracy</td>\n",
       "<td>0.5436699</td>\n",
       "<td>0.9993877</td>\n",
       "<td>204.0</td></tr>\n",
       "<tr><td>max precision</td>\n",
       "<td>0.9948305</td>\n",
       "<td>1.0</td>\n",
       "<td>0.0</td></tr>\n",
       "<tr><td>max recall</td>\n",
       "<td>0.0573361</td>\n",
       "<td>1.0</td>\n",
       "<td>324.0</td></tr>\n",
       "<tr><td>max specificity</td>\n",
       "<td>0.9948305</td>\n",
       "<td>1.0</td>\n",
       "<td>0.0</td></tr>\n",
       "<tr><td>max absolute_mcc</td>\n",
       "<td>0.5436699</td>\n",
       "<td>0.9982708</td>\n",
       "<td>204.0</td></tr>\n",
       "<tr><td>max min_per_class_accuracy</td>\n",
       "<td>0.4584835</td>\n",
       "<td>0.9991805</td>\n",
       "<td>216.0</td></tr>\n",
       "<tr><td>max mean_per_class_accuracy</td>\n",
       "<td>0.4584835</td>\n",
       "<td>0.9992386</td>\n",
       "<td>216.0</td></tr></table></div>"
      ],
      "text/plain": [
       "metric                       threshold    value     idx\n",
       "---------------------------  -----------  --------  -----\n",
       "max f1                       0.54367      0.998668  204\n",
       "max f2                       0.458484     0.998874  216\n",
       "max f0point5                 0.632511     0.999117  190\n",
       "max accuracy                 0.54367      0.999388  204\n",
       "max precision                0.994831     1         0\n",
       "max recall                   0.0573361    1         324\n",
       "max specificity              0.994831     1         0\n",
       "max absolute_mcc             0.54367      0.998271  204\n",
       "max min_per_class_accuracy   0.458484     0.99918   216\n",
       "max mean_per_class_accuracy  0.458484     0.999239  216"
      ]
     },
     "metadata": {},
     "output_type": "display_data"
    },
    {
     "name": "stdout",
     "output_type": "stream",
     "text": [
      "Gains/Lift Table: Avg response rate: 22.99 %\n",
      "\n"
     ]
    },
    {
     "data": {
      "text/html": [
       "<div style=\"overflow:auto\"><table style=\"width:50%\"><tr><td><b></b></td>\n",
       "<td><b>group</b></td>\n",
       "<td><b>cumulative_data_fraction</b></td>\n",
       "<td><b>lower_threshold</b></td>\n",
       "<td><b>lift</b></td>\n",
       "<td><b>cumulative_lift</b></td>\n",
       "<td><b>response_rate</b></td>\n",
       "<td><b>cumulative_response_rate</b></td>\n",
       "<td><b>capture_rate</b></td>\n",
       "<td><b>cumulative_capture_rate</b></td>\n",
       "<td><b>gain</b></td>\n",
       "<td><b>cumulative_gain</b></td></tr>\n",
       "<tr><td></td>\n",
       "<td>1</td>\n",
       "<td>0.0108793</td>\n",
       "<td>0.9947898</td>\n",
       "<td>4.3501332</td>\n",
       "<td>4.3501332</td>\n",
       "<td>1.0</td>\n",
       "<td>1.0</td>\n",
       "<td>0.0473264</td>\n",
       "<td>0.0473264</td>\n",
       "<td>335.0133169</td>\n",
       "<td>335.0133169</td></tr>\n",
       "<tr><td></td>\n",
       "<td>2</td>\n",
       "<td>0.0205812</td>\n",
       "<td>0.9947416</td>\n",
       "<td>4.3501332</td>\n",
       "<td>4.3501332</td>\n",
       "<td>1.0</td>\n",
       "<td>1.0</td>\n",
       "<td>0.0422045</td>\n",
       "<td>0.0895308</td>\n",
       "<td>335.0133169</td>\n",
       "<td>335.0133169</td></tr>\n",
       "<tr><td></td>\n",
       "<td>3</td>\n",
       "<td>0.0372298</td>\n",
       "<td>0.9947411</td>\n",
       "<td>4.3501332</td>\n",
       "<td>4.3501332</td>\n",
       "<td>1.0</td>\n",
       "<td>1.0</td>\n",
       "<td>0.0724237</td>\n",
       "<td>0.1619545</td>\n",
       "<td>335.0133169</td>\n",
       "<td>335.0133169</td></tr>\n",
       "<tr><td></td>\n",
       "<td>4</td>\n",
       "<td>0.0402911</td>\n",
       "<td>0.9947176</td>\n",
       "<td>4.3501332</td>\n",
       "<td>4.3501332</td>\n",
       "<td>1.0</td>\n",
       "<td>1.0</td>\n",
       "<td>0.0133169</td>\n",
       "<td>0.1752715</td>\n",
       "<td>335.0133169</td>\n",
       "<td>335.0133169</td></tr>\n",
       "<tr><td></td>\n",
       "<td>5</td>\n",
       "<td>0.0500165</td>\n",
       "<td>0.9946227</td>\n",
       "<td>4.3501332</td>\n",
       "<td>4.3501332</td>\n",
       "<td>1.0</td>\n",
       "<td>1.0</td>\n",
       "<td>0.0423069</td>\n",
       "<td>0.2175784</td>\n",
       "<td>335.0133169</td>\n",
       "<td>335.0133169</td></tr>\n",
       "<tr><td></td>\n",
       "<td>6</td>\n",
       "<td>0.1000565</td>\n",
       "<td>0.9940607</td>\n",
       "<td>4.3501332</td>\n",
       "<td>4.3501332</td>\n",
       "<td>1.0</td>\n",
       "<td>1.0</td>\n",
       "<td>0.2176808</td>\n",
       "<td>0.4352592</td>\n",
       "<td>335.0133169</td>\n",
       "<td>335.0133169</td></tr>\n",
       "<tr><td></td>\n",
       "<td>7</td>\n",
       "<td>0.1500024</td>\n",
       "<td>0.9931490</td>\n",
       "<td>4.3501332</td>\n",
       "<td>4.3501332</td>\n",
       "<td>1.0</td>\n",
       "<td>1.0</td>\n",
       "<td>0.2172711</td>\n",
       "<td>0.6525302</td>\n",
       "<td>335.0133169</td>\n",
       "<td>335.0133169</td></tr>\n",
       "<tr><td></td>\n",
       "<td>8</td>\n",
       "<td>0.2000188</td>\n",
       "<td>0.9880561</td>\n",
       "<td>4.3501332</td>\n",
       "<td>4.3501332</td>\n",
       "<td>1.0</td>\n",
       "<td>1.0</td>\n",
       "<td>0.2175784</td>\n",
       "<td>0.8701086</td>\n",
       "<td>335.0133169</td>\n",
       "<td>335.0133169</td></tr>\n",
       "<tr><td></td>\n",
       "<td>9</td>\n",
       "<td>0.3000754</td>\n",
       "<td>0.0019590</td>\n",
       "<td>1.2981805</td>\n",
       "<td>3.3324963</td>\n",
       "<td>0.2984232</td>\n",
       "<td>0.7660676</td>\n",
       "<td>0.1298914</td>\n",
       "<td>1.0</td>\n",
       "<td>29.8180480</td>\n",
       "<td>233.2496272</td></tr>\n",
       "<tr><td></td>\n",
       "<td>10</td>\n",
       "<td>0.8092356</td>\n",
       "<td>0.0017799</td>\n",
       "<td>0.0</td>\n",
       "<td>1.2357340</td>\n",
       "<td>0.0</td>\n",
       "<td>0.2840681</td>\n",
       "<td>0.0</td>\n",
       "<td>1.0</td>\n",
       "<td>-100.0</td>\n",
       "<td>23.5734032</td></tr>\n",
       "<tr><td></td>\n",
       "<td>11</td>\n",
       "<td>0.9024631</td>\n",
       "<td>0.0017093</td>\n",
       "<td>0.0</td>\n",
       "<td>1.1080785</td>\n",
       "<td>0.0</td>\n",
       "<td>0.2547229</td>\n",
       "<td>0.0</td>\n",
       "<td>1.0</td>\n",
       "<td>-100.0</td>\n",
       "<td>10.8078489</td></tr>\n",
       "<tr><td></td>\n",
       "<td>12</td>\n",
       "<td>1.0</td>\n",
       "<td>0.0015860</td>\n",
       "<td>0.0</td>\n",
       "<td>1.0</td>\n",
       "<td>0.0</td>\n",
       "<td>0.2298780</td>\n",
       "<td>0.0</td>\n",
       "<td>1.0</td>\n",
       "<td>-100.0</td>\n",
       "<td>0.0</td></tr></table></div>"
      ],
      "text/plain": [
       "    group    cumulative_data_fraction    lower_threshold    lift     cumulative_lift    response_rate    cumulative_response_rate    capture_rate    cumulative_capture_rate    gain     cumulative_gain\n",
       "--  -------  --------------------------  -----------------  -------  -----------------  ---------------  --------------------------  --------------  -------------------------  -------  -----------------\n",
       "    1        0.0108793                   0.99479            4.35013  4.35013            1                1                           0.0473264       0.0473264                  335.013  335.013\n",
       "    2        0.0205812                   0.994742           4.35013  4.35013            1                1                           0.0422045       0.0895308                  335.013  335.013\n",
       "    3        0.0372298                   0.994741           4.35013  4.35013            1                1                           0.0724237       0.161955                   335.013  335.013\n",
       "    4        0.0402911                   0.994718           4.35013  4.35013            1                1                           0.0133169       0.175271                   335.013  335.013\n",
       "    5        0.0500165                   0.994623           4.35013  4.35013            1                1                           0.0423069       0.217578                   335.013  335.013\n",
       "    6        0.100057                    0.994061           4.35013  4.35013            1                1                           0.217681        0.435259                   335.013  335.013\n",
       "    7        0.150002                    0.993149           4.35013  4.35013            1                1                           0.217271        0.65253                    335.013  335.013\n",
       "    8        0.200019                    0.988056           4.35013  4.35013            1                1                           0.217578        0.870109                   335.013  335.013\n",
       "    9        0.300075                    0.00195901         1.29818  3.3325             0.298423         0.766068                    0.129891        1                          29.818   233.25\n",
       "    10       0.809236                    0.00177986         0        1.23573            0                0.284068                    0               1                          -100     23.5734\n",
       "    11       0.902463                    0.00170926         0        1.10808            0                0.254723                    0               1                          -100     10.8078\n",
       "    12       1                           0.00158601         0        1                  0                0.229878                    0               1                          -100     0"
      ]
     },
     "metadata": {},
     "output_type": "display_data"
    },
    {
     "name": "stdout",
     "output_type": "stream",
     "text": [
      "\n",
      "\n"
     ]
    }
   ],
   "source": [
    "gbm_cv3.confusion_matrix()\n",
    "performance = gbm_cv3.model_performance(test_data=test)\n",
    "print performance\n"
   ]
  },
  {
   "cell_type": "code",
   "execution_count": 12,
   "metadata": {
    "scrolled": false
   },
   "outputs": [
    {
     "data": {
      "image/png": "[encoded data removed]",
      "text/plain": [
       "<Figure size 1008x720 with 1 Axes>"
      ]
     },
     "metadata": {},
     "output_type": "display_data"
    }
   ],
   "source": [
    "import matplotlib.pyplot as plt\n",
    "gbm_cv3.varimp_plot()\n"
   ]
  }
 ],
 "metadata": {
  "kernelspec": {
   "display_name": "Python 2",
   "language": "python",
   "name": "python2"
  },
  "language_info": {
   "codemirror_mode": {
    "name": "ipython",
    "version": 2
   },
   "file_extension": ".py",
   "mimetype": "text/x-python",
   "name": "python",
   "nbconvert_exporter": "python",
   "pygments_lexer": "ipython2",
   "version": "2.7.14"
  }
 },
 "nbformat": 4,
 "nbformat_minor": 2
}
