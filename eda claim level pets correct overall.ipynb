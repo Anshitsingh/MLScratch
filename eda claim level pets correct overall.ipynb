{
 "cells": [
  {
   "cell_type": "code",
   "execution_count": 1,
   "metadata": {},
   "outputs": [
    {
     "name": "stderr",
     "output_type": "stream",
     "text": [
      "Skipping line 267909: expected 33 fields, saw 34\n",
      "\n",
      "Skipping line 299539: expected 33 fields, saw 34\n",
      "\n",
      "/home/jash/anaconda3/envs/py27/lib/python2.7/site-packages/IPython/core/interactiveshell.py:2718: DtypeWarning: Columns (5,17,18,19,20) have mixed types. Specify dtype option on import or set low_memory=False.\n",
      "  interactivity=interactivity, compiler=compiler, result=result)\n"
     ]
    }
   ],
   "source": [
    "import pandas as pd\n",
    "a=pd.read_table(\"/home/jash/Desktop/petplan/Profitability1.txt\", sep='|', lineterminator='\\n', error_bad_lines=False)"
   ]
  },
  {
   "cell_type": "code",
   "execution_count": 2,
   "metadata": {},
   "outputs": [
    {
     "name": "stdout",
     "output_type": "stream",
     "text": [
      "['15000' '5000' 'Gold' '10000' 'Bronze' '2500' 'Unlimited' '20000'\n",
      " 'Silver' '25000']\n"
     ]
    }
   ],
   "source": [
    "data=pd.DataFrame(data=a,index=None)\n",
    "data = data.sample(frac=1).reset_index(drop=True)\n",
    "import math\n",
    "import numpy as np\n",
    "data['LossRatio'].fillna(0, inplace=True)\n",
    "data['L']=0\n",
    "data.loc[data['LossRatio'] >.57, 'L'] = 1\n",
    "\n",
    "data.to_csv(\"/home/jash/Desktop/petplan/Profitability.csv\")\n",
    "Y=data['L']\n",
    "y=pd.DataFrame(Y)\n",
    "x=pd.DataFrame(data)\n",
    "\n",
    "m=x.loc[x['PolicyForm']!='Introductory']\n",
    "q=pd.DataFrame(m)\n",
    "m2=q.loc[q['PolicyForm']!='Intro']\n",
    "x=pd.DataFrame(m2)\n",
    "print x['PolicyForm'].unique()"
   ]
  },
  {
   "cell_type": "code",
   "execution_count": 42,
   "metadata": {},
   "outputs": [
    {
     "data": {
      "text/plain": [
       "array(['LowTenure-HighLR', 'LowTenure-LowLR', 'HighTenure-LowLR',\n",
       "       'HighTenure-HighLR'], dtype=object)"
      ]
     },
     "execution_count": 42,
     "metadata": {},
     "output_type": "execute_result"
    }
   ],
   "source": [
    "x['Quadrant'].unique()"
   ]
  },
  {
   "cell_type": "code",
   "execution_count": 3,
   "metadata": {},
   "outputs": [
    {
     "data": {
      "text/plain": [
       "277273"
      ]
     },
     "execution_count": 3,
     "metadata": {},
     "output_type": "execute_result"
    }
   ],
   "source": [
    "len(x)"
   ]
  },
  {
   "cell_type": "code",
   "execution_count": 4,
   "metadata": {},
   "outputs": [],
   "source": [
    "x = x[pd.notnull(x['BreedName'])]"
   ]
  },
  {
   "cell_type": "code",
   "execution_count": 5,
   "metadata": {},
   "outputs": [
    {
     "data": {
      "text/plain": [
       "LossRatio                               0\n",
       "Duration                                0\n",
       "PetId                                   0\n",
       "StartDate                               0\n",
       "EndDate                                 0\n",
       "LastPolicyRef                           0\n",
       "TotalClaimsAmtPaid                 115224\n",
       "TotalEarnedPremium                      0\n",
       "BreedName                               0\n",
       "Currentage                              0\n",
       "CopayPct                                0\n",
       "Deductible                              0\n",
       "PetType                                 0\n",
       "PolicyForm                              0\n",
       "CarrierCd                               0\n",
       "ClaimNumber                        149260\n",
       "ClaimAmount                        149260\n",
       "ClaimDetails                       149260\n",
       "ConditionGrp                       149260\n",
       "Claimcodecategory                  149260\n",
       "Severity                           149558\n",
       "CustomerNumber                        334\n",
       "Country                               334\n",
       "PhoneNumber                           669\n",
       "Surname                               375\n",
       "GivenName                             382\n",
       "CustomerMailingAddr_Addr1             334\n",
       "CustomerMailingAddr_City              334\n",
       "CustomerMailingAddr_StateProvCd       342\n",
       "CustomerMailingAddr_PostalCode        334\n",
       "Quadrant                                0\n",
       "claimdurationInception             149260\n",
       "churn\\r                                 0\n",
       "L                                       0\n",
       "dtype: int64"
      ]
     },
     "execution_count": 5,
     "metadata": {},
     "output_type": "execute_result"
    }
   ],
   "source": [
    "x.isnull().sum()"
   ]
  },
  {
   "cell_type": "code",
   "execution_count": 6,
   "metadata": {
    "scrolled": true
   },
   "outputs": [
    {
     "data": {
      "text/plain": [
       "0"
      ]
     },
     "execution_count": 6,
     "metadata": {},
     "output_type": "execute_result"
    }
   ],
   "source": [
    "x['Duration'].min()"
   ]
  },
  {
   "cell_type": "code",
   "execution_count": 7,
   "metadata": {},
   "outputs": [
    {
     "data": {
      "text/plain": [
       "Quadrant\n",
       "LowTenure-HighLR     8.451531\n",
       "HighTenure-HighLR    3.970562\n",
       "HighTenure-LowLR     0.085238\n",
       "LowTenure-LowLR      0.010214\n",
       "Name: LossRatio, dtype: float64"
      ]
     },
     "execution_count": 7,
     "metadata": {},
     "output_type": "execute_result"
    }
   ],
   "source": [
    "#QUADRANT\n",
    "q = x.groupby(['Quadrant']).mean()\n",
    "quad=pd.DataFrame(q)\n",
    "topquad=quad['LossRatio'].sort_values(ascending=False)\n",
    "topquad"
   ]
  },
  {
   "cell_type": "code",
   "execution_count": 8,
   "metadata": {},
   "outputs": [],
   "source": [
    "x['Dseg']=0"
   ]
  },
  {
   "cell_type": "code",
   "execution_count": 9,
   "metadata": {},
   "outputs": [],
   "source": [
    "x.loc[x['Duration'] <100, 'Dseg'] = 1\n",
    "x.loc[(x['Duration']>=100) & (x['Duration'] <200),'Dseg']=2\n",
    "x.loc[(x['Duration']>=200) & (x['Duration'] <300),'Dseg']=3\n",
    "x.loc[(x['Duration']>=300) & (x['Duration'] <400),'Dseg']=4\n",
    "x.loc[(x['Duration']>=400) & (x['Duration'] <500),'Dseg']=5\n",
    "x.loc[(x['Duration']>=500) & (x['Duration'] <600),'Dseg']=6\n",
    "x.loc[(x['Duration']>=600) & (x['Duration'] <700),'Dseg']=7\n",
    "x.loc[(x['Duration']>=700) & (x['Duration'] <800),'Dseg']=8\n",
    "x.loc[(x['Duration']>=800) & (x['Duration'] <900),'Dseg']=9\n",
    "x.loc[(x['Duration']>=900) ,'Dseg']=10"
   ]
  },
  {
   "cell_type": "code",
   "execution_count": 10,
   "metadata": {
    "scrolled": false
   },
   "outputs": [
    {
     "data": {
      "text/plain": [
       "array([ 4,  1,  6,  2, 10,  3,  8,  5,  7,  9])"
      ]
     },
     "execution_count": 10,
     "metadata": {},
     "output_type": "execute_result"
    }
   ],
   "source": [
    "#OVERALL\n",
    "x['Dseg'].unique()"
   ]
  },
  {
   "cell_type": "code",
   "execution_count": 11,
   "metadata": {},
   "outputs": [
    {
     "data": {
      "text/plain": [
       "[<matplotlib.lines.Line2D at 0x7f4d447f2f50>]"
      ]
     },
     "execution_count": 11,
     "metadata": {},
     "output_type": "execute_result"
    }
   ],
   "source": [
    "#DURATION\n",
    "dur = x.groupby(['Dseg']).mean()\n",
    "dse=pd.DataFrame(dur)\n",
    "dse.head()\n",
    "import matplotlib.pyplot as plt\n",
    "fig = plt.figure(\"LossRatio vs DurationBucket\",figsize=(16,8))\n",
    "\n",
    "plt.plot(dse.index,dse['LossRatio'])"
   ]
  },
  {
   "cell_type": "code",
   "execution_count": 12,
   "metadata": {},
   "outputs": [
    {
     "data": {
      "text/plain": [
       "46.70909090909091"
      ]
     },
     "execution_count": 12,
     "metadata": {},
     "output_type": "execute_result"
    }
   ],
   "source": [
    "x.loc[x['LossRatio']>=x['LossRatio'].max()-400]['Duration'].mean()"
   ]
  },
  {
   "cell_type": "code",
   "execution_count": 13,
   "metadata": {},
   "outputs": [
    {
     "data": {
      "text/plain": [
       "1201"
      ]
     },
     "execution_count": 13,
     "metadata": {},
     "output_type": "execute_result"
    }
   ],
   "source": [
    "len(x.loc[x['LossRatio']>=x['LossRatio'].max()-500])"
   ]
  },
  {
   "cell_type": "code",
   "execution_count": 14,
   "metadata": {},
   "outputs": [
    {
     "data": {
      "text/plain": [
       "36680"
      ]
     },
     "execution_count": 14,
     "metadata": {},
     "output_type": "execute_result"
    }
   ],
   "source": [
    "len(x.loc[x['Duration'] <100])"
   ]
  },
  {
   "cell_type": "code",
   "execution_count": 15,
   "metadata": {},
   "outputs": [
    {
     "data": {
      "text/plain": [
       "601.0434338807354"
      ]
     },
     "execution_count": 15,
     "metadata": {},
     "output_type": "execute_result"
    }
   ],
   "source": [
    "x['Duration'].mean()"
   ]
  },
  {
   "cell_type": "code",
   "execution_count": 16,
   "metadata": {},
   "outputs": [
    {
     "name": "stdout",
     "output_type": "stream",
     "text": [
      "Dseg\n",
      "6     2.305130\n",
      "7     2.255089\n",
      "10    2.181810\n",
      "8     2.007477\n",
      "9     1.965109\n",
      "5     1.774716\n",
      "3     1.395080\n",
      "4     1.391344\n",
      "2     1.079083\n",
      "1     0.843439\n",
      "Name: LossRatio, dtype: float64\n"
     ]
    }
   ],
   "source": [
    "topdse=dse['LossRatio'].sort_values(ascending=False)\n",
    "print topdse\n"
   ]
  },
  {
   "cell_type": "code",
   "execution_count": 17,
   "metadata": {},
   "outputs": [
    {
     "data": {
      "text/plain": [
       "BreedName\n",
       "Belgian Shepherd Laekenois       125.652078\n",
       "Hungarian Vizsla                  18.578355\n",
       "Bergamasco                        12.483211\n",
       "Welsh Springer Spaniel            10.698056\n",
       "Mexican Hairless Crested           9.630875\n",
       "Australian Kelpie                  8.386192\n",
       "Ori Pei                            7.946571\n",
       "Peterbald                          7.677554\n",
       "Ocicat                             6.065461\n",
       "Belgian Shepherd Tervuren          6.063968\n",
       "Spinone italiano                   5.864304\n",
       "Havana Brown                       5.272087\n",
       "American Shorthair (purebred)      4.888956\n",
       "Abyssinian                         4.643358\n",
       "Shar-pei Mix                       4.427271\n",
       "Argentine Dogo                     4.425663\n",
       "Alapaha Blue Blood Bulldog         4.276661\n",
       "Pekingese                          4.210040\n",
       "Lagotto Romagnolo                  4.036106\n",
       "Doberman Pinscher Mix              4.023289\n",
       "Name: LossRatio, dtype: float64"
      ]
     },
     "execution_count": 17,
     "metadata": {},
     "output_type": "execute_result"
    }
   ],
   "source": [
    "#BREEDS\n",
    "df_agg = x.groupby(['BreedName']).mean()\n",
    "breed=pd.DataFrame(df_agg)\n",
    "breed.head()\n",
    "topbreeds=breed['LossRatio'].sort_values(ascending=False)\n",
    "topbreeds.head(20)\n"
   ]
  },
  {
   "cell_type": "code",
   "execution_count": 31,
   "metadata": {},
   "outputs": [
    {
     "data": {
      "text/plain": [
       "Currentage\n",
       "18.0    4.569484\n",
       "16.0    3.485691\n",
       "12.0    2.642291\n",
       "13.0    2.417943\n",
       "8.0     2.366490\n",
       "15.0    2.344461\n",
       "10.0    2.251987\n",
       "11.0    2.057830\n",
       "5.0     2.043176\n",
       "17.0    2.004397\n",
       "Name: LossRatio, dtype: float64"
      ]
     },
     "execution_count": 31,
     "metadata": {},
     "output_type": "execute_result"
    }
   ],
   "source": [
    "#CURRENTAGE\n",
    "age = x.groupby(['Currentage']).mean()\n",
    "ag=pd.DataFrame(age)\n",
    "ag.head()\n",
    "topcurrentage=ag['LossRatio'].sort_values(ascending=False)\n",
    "topcurrentage.head(10)"
   ]
  },
  {
   "cell_type": "code",
   "execution_count": 41,
   "metadata": {},
   "outputs": [
    {
     "name": "stdout",
     "output_type": "stream",
     "text": [
      "Index([u'LossRatio', u'Duration', u'TotalClaimsAmtPaid', u'TotalEarnedPremium',\n",
      "       u'CopayPct', u'Deductible', u'ClaimNumber', u'ClaimAmount',\n",
      "       u'CustomerNumber', u'claimdurationInception', u'churn\\r', u'L',\n",
      "       u'Dseg'],\n",
      "      dtype='object')\n"
     ]
    },
    {
     "data": {
      "text/plain": [
       "[<matplotlib.lines.Line2D at 0x7f4d6df416d0>]"
      ]
     },
     "execution_count": 41,
     "metadata": {},
     "output_type": "execute_result"
    },
    {
     "data": {
      "image/png": "[encoded data removed]",
      "text/plain": [
       "<Figure size 1152x576 with 1 Axes>"
      ]
     },
     "metadata": {},
     "output_type": "display_data"
    }
   ],
   "source": [
    "import matplotlib.pyplot as plt\n",
    "fig = plt.figure(\"LossRatio vs Currentage\",figsize=(16,8))\n",
    "print age.columns\n",
    "plt.plot(ag.index,ag['LossRatio'])"
   ]
  },
  {
   "cell_type": "code",
   "execution_count": 19,
   "metadata": {
    "scrolled": true
   },
   "outputs": [
    {
     "data": {
      "text/plain": [
       "PolicyForm\n",
       "25000        2.985784\n",
       "Gold         2.368515\n",
       "Unlimited    2.337165\n",
       "Silver       2.016216\n",
       "10000        1.886515\n",
       "20000        1.724543\n",
       "Bronze       1.675097\n",
       "15000        1.568882\n",
       "2500         0.909969\n",
       "5000         0.716967\n",
       "Name: LossRatio, dtype: float64"
      ]
     },
     "execution_count": 19,
     "metadata": {},
     "output_type": "execute_result"
    }
   ],
   "source": [
    "#POLICYFORM\n",
    "p = x.groupby(['PolicyForm']).mean()\n",
    "pf=pd.DataFrame(p)\n",
    "toppf=pf['LossRatio'].sort_values(ascending=False)\n",
    "toppf"
   ]
  },
  {
   "cell_type": "code",
   "execution_count": 20,
   "metadata": {},
   "outputs": [
    {
     "data": {
      "text/plain": [
       "churn\\r\n",
       "0    1.739911\n",
       "1    1.694695\n",
       "Name: LossRatio, dtype: float64"
      ]
     },
     "execution_count": 20,
     "metadata": {},
     "output_type": "execute_result"
    }
   ],
   "source": [
    "#CHURN\n",
    "c = x.groupby(['churn\\r']).mean()\n",
    "ch=pd.DataFrame(c)\n",
    "churn=ch['LossRatio'].sort_values(ascending=False)\n",
    "churn"
   ]
  },
  {
   "cell_type": "code",
   "execution_count": 21,
   "metadata": {},
   "outputs": [
    {
     "data": {
      "text/plain": [
       "Deductible\n",
       "700    3.567858\n",
       "150    2.356685\n",
       "200    2.133599\n",
       "100    2.108878\n",
       "350    1.911898\n",
       "450    1.782146\n",
       "400    1.623339\n",
       "250    1.619697\n",
       "500    1.610637\n",
       "750    1.573437\n",
       "Name: LossRatio, dtype: float64"
      ]
     },
     "execution_count": 21,
     "metadata": {},
     "output_type": "execute_result"
    }
   ],
   "source": [
    "#DEDUCTIBLE\n",
    "d=x.groupby(['Deductible']).mean()\n",
    "ded=pd.DataFrame(d)\n",
    "ded.head()\n",
    "topded=ded['LossRatio'].sort_values(ascending=False)\n",
    "topded.head(10)\n"
   ]
  }
 ],
 "metadata": {
  "kernelspec": {
   "display_name": "Python 2",
   "language": "python",
   "name": "python2"
  },
  "language_info": {
   "codemirror_mode": {
    "name": "ipython",
    "version": 2
   },
   "file_extension": ".py",
   "mimetype": "text/x-python",
   "name": "python",
   "nbconvert_exporter": "python",
   "pygments_lexer": "ipython2",
   "version": "2.7.14"
  }
 },
 "nbformat": 4,
 "nbformat_minor": 2
}
