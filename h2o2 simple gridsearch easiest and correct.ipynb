{
 "cells": [
  {
   "cell_type": "code",
   "execution_count": 1,
   "metadata": {},
   "outputs": [
    {
     "name": "stderr",
     "output_type": "stream",
     "text": [
      "Skipping line 267909: expected 33 fields, saw 34\n",
      "\n",
      "Skipping line 299539: expected 33 fields, saw 34\n",
      "\n",
      "/home/jash/anaconda3/envs/py27/lib/python2.7/site-packages/IPython/core/interactiveshell.py:2718: DtypeWarning: Columns (5,17,18,19,20) have mixed types. Specify dtype option on import or set low_memory=False.\n",
      "  interactivity=interactivity, compiler=compiler, result=result)\n"
     ]
    }
   ],
   "source": [
    "import pandas as pd\n",
    "a=pd.read_table(\"/home/jash/Desktop/petplan/Profitability1.txt\", sep='|', lineterminator='\\n', error_bad_lines=False)"
   ]
  },
  {
   "cell_type": "code",
   "execution_count": 2,
   "metadata": {
    "scrolled": false
   },
   "outputs": [
    {
     "name": "stdout",
     "output_type": "stream",
     "text": [
      "     LossRatio  Duration             PetId   StartDate     EndDate  \\\n",
      "3     0.911322       128     CAN289501Arlo  2018-03-22  2019-03-21   \n",
      "88    0.972395       382  US1721840Liberty  2016-06-01  2017-06-17   \n",
      "94    4.759177       199    CAN164837Tommy  2015-12-19  2016-07-04   \n",
      "181   8.559491       276      US162004Mojo  2017-10-25  2018-10-24   \n",
      "195   1.922764       227   US2183299Casper  2017-12-13  2018-12-12   \n",
      "\n",
      "    LastPolicyRef  TotalClaimsAmtPaid  TotalEarnedPremium  \\\n",
      "3          146136             310.255          340.444932   \n",
      "88         441731             268.480          276.101699   \n",
      "94          33941            1283.987          269.791803   \n",
      "181        540460            3918.704          457.819726   \n",
      "195        569118             326.956          170.044767   \n",
      "\n",
      "                          BreedName  Currentage ...      Surname  GivenName  \\\n",
      "3                           Mastiff         1.0 ...     Streisel    Jasmine   \n",
      "88            Yorkshire Terrier Mix         1.0 ...       McNeer      Stacy   \n",
      "94   Mixed Breed Medium (23 - 70lb)         0.0 ...  Christopher      Jacob   \n",
      "181  Mixed Breed Medium (23 - 70lb)         2.0 ...        Davis   Kimberly   \n",
      "195              Domestic Shorthair         0.0 ...       Mourad    Natasha   \n",
      "\n",
      "    CustomerMailingAddr_Addr1 CustomerMailingAddr_City  \\\n",
      "3           603-320 5th Ave N                Saskatoon   \n",
      "88        3510 Silvercrest Dr               Texas City   \n",
      "94     13859 Parkland Blvd SE                  calgary   \n",
      "181     42816 Philadelphia Pl                  Fremont   \n",
      "195  8250 Westpark Dr Apt 607                   Mclean   \n",
      "\n",
      "    CustomerMailingAddr_StateProvCd  CustomerMailingAddr_PostalCode  \\\n",
      "3                                SK                         S7K 2P5   \n",
      "88                               TX                      77591-7023   \n",
      "94                               AB                         T2J 3X9   \n",
      "181                              CA                      94538-5531   \n",
      "195                              VA                      22102-3179   \n",
      "\n",
      "             Quadrant claimdurationInception churn\\r  L  \n",
      "3    LowTenure-HighLR                   68.0       0  0  \n",
      "88   LowTenure-HighLR                  139.0       1  0  \n",
      "94   LowTenure-HighLR                   52.0       1  0  \n",
      "181  LowTenure-HighLR                  217.0       0  1  \n",
      "195  LowTenure-HighLR                   36.0       0  0  \n",
      "\n",
      "[5 rows x 34 columns]\n"
     ]
    }
   ],
   "source": [
    "data=pd.DataFrame(data=a,index=None)\n",
    "data = data.sample(frac=1).reset_index(drop=True)\n",
    "import math\n",
    "import numpy as np\n",
    "data['LossRatio'].fillna(0, inplace=True)\n",
    "data['L']=0\n",
    "data.loc[data['LossRatio'] >8.451531 ,'L'] = 1\n",
    "data.to_csv(\"/home/jash/Desktop/petplan/Profitability.csv\")\n",
    "Y=data['L']\n",
    "y=pd.DataFrame(Y)\n",
    "x=pd.DataFrame(data)\n",
    "\n",
    "m=x.loc[x['PolicyForm']!='Introductory']\n",
    "q=pd.DataFrame(m)\n",
    "m2=q.loc[q['PolicyForm']!='Intro']\n",
    "m3=pd.DataFrame(m2)\n",
    "m4=m3.loc[m3['Quadrant']=='LowTenure-HighLR']\n",
    "x=pd.DataFrame(m4)\n",
    "\n",
    "print x.head()\n"
   ]
  },
  {
   "cell_type": "code",
   "execution_count": 3,
   "metadata": {},
   "outputs": [
    {
     "data": {
      "text/plain": [
       "526.2746201058766"
      ]
     },
     "execution_count": 3,
     "metadata": {},
     "output_type": "execute_result"
    }
   ],
   "source": [
    "x['LossRatio'].max()"
   ]
  },
  {
   "cell_type": "code",
   "execution_count": 4,
   "metadata": {
    "scrolled": true
   },
   "outputs": [
    {
     "data": {
      "text/plain": [
       "4189"
      ]
     },
     "execution_count": 4,
     "metadata": {},
     "output_type": "execute_result"
    }
   ],
   "source": [
    "len(x.loc[x['L']==1])"
   ]
  },
  {
   "cell_type": "code",
   "execution_count": 5,
   "metadata": {
    "scrolled": false
   },
   "outputs": [
    {
     "data": {
      "text/plain": [
       "16161"
      ]
     },
     "execution_count": 5,
     "metadata": {},
     "output_type": "execute_result"
    }
   ],
   "source": [
    "len(x)"
   ]
  },
  {
   "cell_type": "code",
   "execution_count": 6,
   "metadata": {},
   "outputs": [
    {
     "data": {
      "text/plain": [
       "LossRatio                           0\n",
       "Duration                            0\n",
       "PetId                               0\n",
       "StartDate                           0\n",
       "EndDate                             0\n",
       "LastPolicyRef                       0\n",
       "TotalClaimsAmtPaid                  0\n",
       "TotalEarnedPremium                  0\n",
       "BreedName                           0\n",
       "Currentage                          0\n",
       "CopayPct                            0\n",
       "Deductible                          0\n",
       "PetType                             0\n",
       "PolicyForm                          0\n",
       "CarrierCd                           0\n",
       "ClaimNumber                         0\n",
       "ClaimAmount                         0\n",
       "ClaimDetails                        0\n",
       "ConditionGrp                        0\n",
       "Claimcodecategory                   0\n",
       "Severity                           46\n",
       "CustomerNumber                     61\n",
       "Country                            61\n",
       "PhoneNumber                        92\n",
       "Surname                            63\n",
       "GivenName                          67\n",
       "CustomerMailingAddr_Addr1          61\n",
       "CustomerMailingAddr_City           61\n",
       "CustomerMailingAddr_StateProvCd    61\n",
       "CustomerMailingAddr_PostalCode     61\n",
       "Quadrant                            0\n",
       "claimdurationInception              0\n",
       "churn\\r                             0\n",
       "L                                   0\n",
       "dtype: int64"
      ]
     },
     "execution_count": 6,
     "metadata": {},
     "output_type": "execute_result"
    }
   ],
   "source": [
    "\n",
    "x.isnull().sum()"
   ]
  },
  {
   "cell_type": "code",
   "execution_count": 7,
   "metadata": {
    "scrolled": true
   },
   "outputs": [],
   "source": [
    "x.drop(['LossRatio'],axis=1,inplace=True)\n",
    "x.drop(['CustomerNumber','PhoneNumber','Surname','GivenName','CustomerMailingAddr_Addr1','CustomerMailingAddr_City','CustomerMailingAddr_StateProvCd',\n",
    "       'CustomerMailingAddr_PostalCode','PetId','StartDate','EndDate','LastPolicyRef'],axis=1,inplace=True)\n",
    "\n"
   ]
  },
  {
   "cell_type": "code",
   "execution_count": 8,
   "metadata": {},
   "outputs": [],
   "source": [
    "p=pd.DataFrame(x)"
   ]
  },
  {
   "cell_type": "code",
   "execution_count": 9,
   "metadata": {},
   "outputs": [],
   "source": [
    "p.drop(['ClaimNumber','ClaimAmount','Severity','ClaimDetails','ConditionGrp','Claimcodecategory','claimdurationInception'],axis=1,inplace=True)"
   ]
  },
  {
   "cell_type": "code",
   "execution_count": 10,
   "metadata": {},
   "outputs": [
    {
     "data": {
      "text/plain": [
       "Duration               0\n",
       "TotalClaimsAmtPaid     0\n",
       "TotalEarnedPremium     0\n",
       "BreedName              0\n",
       "Currentage             0\n",
       "CopayPct               0\n",
       "Deductible             0\n",
       "PetType                0\n",
       "PolicyForm             0\n",
       "CarrierCd              0\n",
       "Country               61\n",
       "Quadrant               0\n",
       "churn\\r                0\n",
       "L                      0\n",
       "dtype: int64"
      ]
     },
     "execution_count": 10,
     "metadata": {},
     "output_type": "execute_result"
    }
   ],
   "source": [
    "p.isnull().sum()"
   ]
  },
  {
   "cell_type": "code",
   "execution_count": 11,
   "metadata": {},
   "outputs": [],
   "source": [
    "\n",
    "\n",
    "p['TotalClaimsAmtPaid'].fillna(0, inplace=True)"
   ]
  },
  {
   "cell_type": "code",
   "execution_count": 12,
   "metadata": {},
   "outputs": [
    {
     "data": {
      "text/plain": [
       "Duration               0\n",
       "TotalClaimsAmtPaid     0\n",
       "TotalEarnedPremium     0\n",
       "BreedName              0\n",
       "Currentage             0\n",
       "CopayPct               0\n",
       "Deductible             0\n",
       "PetType                0\n",
       "PolicyForm             0\n",
       "CarrierCd              0\n",
       "Country               61\n",
       "Quadrant               0\n",
       "churn\\r                0\n",
       "L                      0\n",
       "dtype: int64"
      ]
     },
     "execution_count": 12,
     "metadata": {},
     "output_type": "execute_result"
    }
   ],
   "source": [
    "p.isnull().sum()"
   ]
  },
  {
   "cell_type": "code",
   "execution_count": 13,
   "metadata": {},
   "outputs": [],
   "source": [
    "p.dropna(how='any',inplace=True)"
   ]
  },
  {
   "cell_type": "code",
   "execution_count": 14,
   "metadata": {
    "scrolled": false
   },
   "outputs": [
    {
     "data": {
      "text/plain": [
       "Duration              0\n",
       "TotalClaimsAmtPaid    0\n",
       "TotalEarnedPremium    0\n",
       "BreedName             0\n",
       "Currentage            0\n",
       "CopayPct              0\n",
       "Deductible            0\n",
       "PetType               0\n",
       "PolicyForm            0\n",
       "CarrierCd             0\n",
       "Country               0\n",
       "Quadrant              0\n",
       "churn\\r               0\n",
       "L                     0\n",
       "dtype: int64"
      ]
     },
     "execution_count": 14,
     "metadata": {},
     "output_type": "execute_result"
    }
   ],
   "source": [
    "p.isnull().sum()"
   ]
  },
  {
   "cell_type": "code",
   "execution_count": 15,
   "metadata": {},
   "outputs": [],
   "source": [
    "p.drop(['Quadrant','TotalClaimsAmtPaid','TotalEarnedPremium'],axis=1,inplace=True)"
   ]
  },
  {
   "cell_type": "code",
   "execution_count": 16,
   "metadata": {},
   "outputs": [
    {
     "name": "stdout",
     "output_type": "stream",
     "text": [
      "(16100, 11)\n"
     ]
    }
   ],
   "source": [
    "print p.shape"
   ]
  },
  {
   "cell_type": "code",
   "execution_count": 17,
   "metadata": {
    "scrolled": false
   },
   "outputs": [
    {
     "name": "stdout",
     "output_type": "stream",
     "text": [
      "Checking whether there is an H2O instance running at http://localhost:54321. connected.\n",
      "Warning: Your H2O cluster version is too old (4 months and 28 days)! Please download and install the latest version from http://h2o.ai/download/\n"
     ]
    },
    {
     "data": {
      "text/html": [
       "<div style=\"overflow:auto\"><table style=\"width:50%\"><tr><td>H2O cluster uptime:</td>\n",
       "<td>14 mins 44 secs</td></tr>\n",
       "<tr><td>H2O cluster timezone:</td>\n",
       "<td>Asia/Kolkata</td></tr>\n",
       "<tr><td>H2O data parsing timezone:</td>\n",
       "<td>UTC</td></tr>\n",
       "<tr><td>H2O cluster version:</td>\n",
       "<td>3.18.0.2</td></tr>\n",
       "<tr><td>H2O cluster version age:</td>\n",
       "<td>4 months and 28 days !!!</td></tr>\n",
       "<tr><td>H2O cluster name:</td>\n",
       "<td>H2O_from_python_jash_vy1417</td></tr>\n",
       "<tr><td>H2O cluster total nodes:</td>\n",
       "<td>1</td></tr>\n",
       "<tr><td>H2O cluster free memory:</td>\n",
       "<td>1.338 Gb</td></tr>\n",
       "<tr><td>H2O cluster total cores:</td>\n",
       "<td>4</td></tr>\n",
       "<tr><td>H2O cluster allowed cores:</td>\n",
       "<td>4</td></tr>\n",
       "<tr><td>H2O cluster status:</td>\n",
       "<td>locked, healthy</td></tr>\n",
       "<tr><td>H2O connection url:</td>\n",
       "<td>http://localhost:54321</td></tr>\n",
       "<tr><td>H2O connection proxy:</td>\n",
       "<td>None</td></tr>\n",
       "<tr><td>H2O internal security:</td>\n",
       "<td>False</td></tr>\n",
       "<tr><td>H2O API Extensions:</td>\n",
       "<td>XGBoost, Algos, AutoML, Core V3, Core V4</td></tr>\n",
       "<tr><td>Python version:</td>\n",
       "<td>2.7.14 final</td></tr></table></div>"
      ],
      "text/plain": [
       "--------------------------  ----------------------------------------\n",
       "H2O cluster uptime:         14 mins 44 secs\n",
       "H2O cluster timezone:       Asia/Kolkata\n",
       "H2O data parsing timezone:  UTC\n",
       "H2O cluster version:        3.18.0.2\n",
       "H2O cluster version age:    4 months and 28 days !!!\n",
       "H2O cluster name:           H2O_from_python_jash_vy1417\n",
       "H2O cluster total nodes:    1\n",
       "H2O cluster free memory:    1.338 Gb\n",
       "H2O cluster total cores:    4\n",
       "H2O cluster allowed cores:  4\n",
       "H2O cluster status:         locked, healthy\n",
       "H2O connection url:         http://localhost:54321\n",
       "H2O connection proxy:\n",
       "H2O internal security:      False\n",
       "H2O API Extensions:         XGBoost, Algos, AutoML, Core V3, Core V4\n",
       "Python version:             2.7.14 final\n",
       "--------------------------  ----------------------------------------"
      ]
     },
     "metadata": {},
     "output_type": "display_data"
    },
    {
     "name": "stderr",
     "output_type": "stream",
     "text": [
      "/home/jash/anaconda3/envs/py27/lib/python2.7/site-packages/h2o/h2o.py:562: UserWarning: [Lwater.parser.ParseWriter$ParseErr;@2e9d147b\n",
      "  warnings.warn(w)\n"
     ]
    },
    {
     "name": "stdout",
     "output_type": "stream",
     "text": [
      "Parse progress: |█████████████████████████████████████████████████████████| 100%\n"
     ]
    },
    {
     "name": "stderr",
     "output_type": "stream",
     "text": [
      "/home/jash/anaconda3/envs/py27/lib/python2.7/site-packages/h2o/job.py:69: UserWarning: ParseError at file upload_9e873a9ba0b4da5ce33f3ca01ec74fdd at line 0 ( destination line 0 )  at byte offset 111; error = 'Unmatched quote char \"'\n",
      "  warnings.warn(w)\n",
      "/home/jash/anaconda3/envs/py27/lib/python2.7/site-packages/h2o/job.py:69: UserWarning: ParseError at file upload_9e873a9ba0b4da5ce33f3ca01ec74fdd at line 2 ( destination line 2 )  at byte offset 117; error = 'Unmatched quote char \"'\n",
      "  warnings.warn(w)\n"
     ]
    },
    {
     "data": {
      "text/html": [
       "<table>\n",
       "<thead>\n",
       "<tr><th style=\"text-align: right;\">  Duration</th><th>BreedName                     </th><th style=\"text-align: right;\">  Currentage</th><th style=\"text-align: right;\">  CopayPct</th><th style=\"text-align: right;\">  Deductible</th><th>PetType  </th><th style=\"text-align: right;\">  PolicyForm</th><th>CarrierCd  </th><th>Country  </th><th style=\"text-align: right;\">    churn\r",
       "</th><th style=\"text-align: right;\">  L</th></tr>\n",
       "</thead>\n",
       "<tbody>\n",
       "<tr><td style=\"text-align: right;\">       nan</td><td>BreedName                     </td><td style=\"text-align: right;\">         nan</td><td style=\"text-align: right;\">     nan  </td><td style=\"text-align: right;\">         nan</td><td>PetType  </td><td style=\"text-align: right;\">         nan</td><td>CarrierCd  </td><td>Country  </td><td style=\"text-align: right;\">nan</td><td style=\"text-align: right;\">nan</td></tr>\n",
       "<tr><td style=\"text-align: right;\">       nan</td><td>                              </td><td style=\"text-align: right;\">         nan</td><td style=\"text-align: right;\">     nan  </td><td style=\"text-align: right;\">         nan</td><td>         </td><td style=\"text-align: right;\">         nan</td><td>           </td><td>         </td><td style=\"text-align: right;\">nan</td><td style=\"text-align: right;\">nan</td></tr>\n",
       "<tr><td style=\"text-align: right;\">       128</td><td>Mastiff                       </td><td style=\"text-align: right;\">           1</td><td style=\"text-align: right;\">       0.9</td><td style=\"text-align: right;\">         400</td><td>Dog      </td><td style=\"text-align: right;\">       20000</td><td>CAN        </td><td>CAN      </td><td style=\"text-align: right;\">  0</td><td style=\"text-align: right;\">  0</td></tr>\n",
       "<tr><td style=\"text-align: right;\">       382</td><td>Yorkshire Terrier Mix         </td><td style=\"text-align: right;\">           1</td><td style=\"text-align: right;\">       0.9</td><td style=\"text-align: right;\">         200</td><td>Dog      </td><td style=\"text-align: right;\">       20000</td><td>XLC        </td><td>US       </td><td style=\"text-align: right;\">  1</td><td style=\"text-align: right;\">  0</td></tr>\n",
       "<tr><td style=\"text-align: right;\">       199</td><td>Mixed Breed Medium (23 - 70lb)</td><td style=\"text-align: right;\">           0</td><td style=\"text-align: right;\">       0.9</td><td style=\"text-align: right;\">         100</td><td>Dog      </td><td style=\"text-align: right;\">         nan</td><td>AGR        </td><td>CAN      </td><td style=\"text-align: right;\">  1</td><td style=\"text-align: right;\">  0</td></tr>\n",
       "<tr><td style=\"text-align: right;\">       276</td><td>Mixed Breed Medium (23 - 70lb)</td><td style=\"text-align: right;\">           2</td><td style=\"text-align: right;\">       0.8</td><td style=\"text-align: right;\">         250</td><td>Dog      </td><td style=\"text-align: right;\">       15000</td><td>XLC        </td><td>US       </td><td style=\"text-align: right;\">  0</td><td style=\"text-align: right;\">  1</td></tr>\n",
       "<tr><td style=\"text-align: right;\">       227</td><td>Domestic Shorthair            </td><td style=\"text-align: right;\">           0</td><td style=\"text-align: right;\">       0.8</td><td style=\"text-align: right;\">         300</td><td>Cat      </td><td style=\"text-align: right;\">       15000</td><td>XLC        </td><td>US       </td><td style=\"text-align: right;\">  0</td><td style=\"text-align: right;\">  0</td></tr>\n",
       "<tr><td style=\"text-align: right;\">       366</td><td>Cockapoo                      </td><td style=\"text-align: right;\">          11</td><td style=\"text-align: right;\">       0.7</td><td style=\"text-align: right;\">         500</td><td>Dog      </td><td style=\"text-align: right;\">       15000</td><td>XLC        </td><td>US       </td><td style=\"text-align: right;\">  1</td><td style=\"text-align: right;\">  0</td></tr>\n",
       "<tr><td style=\"text-align: right;\">       182</td><td>Domestic Shorthair            </td><td style=\"text-align: right;\">          12</td><td style=\"text-align: right;\">       1  </td><td style=\"text-align: right;\">         200</td><td>Cat      </td><td style=\"text-align: right;\">         nan</td><td>ALZ        </td><td>US       </td><td style=\"text-align: right;\">  1</td><td style=\"text-align: right;\">  1</td></tr>\n",
       "<tr><td style=\"text-align: right;\">       383</td><td>Savannah                      </td><td style=\"text-align: right;\">           1</td><td style=\"text-align: right;\">       0.9</td><td style=\"text-align: right;\">         300</td><td>Cat      </td><td style=\"text-align: right;\">         nan</td><td>XLC        </td><td>US       </td><td style=\"text-align: right;\">  1</td><td style=\"text-align: right;\">  0</td></tr>\n",
       "</tbody>\n",
       "</table>"
      ]
     },
     "metadata": {},
     "output_type": "display_data"
    },
    {
     "name": "stdout",
     "output_type": "stream",
     "text": [
      "\n",
      "gbm Model Build progress: |███████████████████████████████████████████████| 100%\n",
      "Total cross validation models: 3\n"
     ]
    }
   ],
   "source": [
    "\n",
    "import h2o\n",
    "from h2o.estimators import H2ORandomForestEstimator\n",
    "h2o.init()\n",
    "df = h2o.H2OFrame(p)\n",
    "y = 'L'\n",
    "x=df.col_names\n",
    "print df\n",
    "x.remove(y)\n",
    "df[y] = df[y].asfactor()\n",
    "train, valid, test = df.split_frame(ratios=[.8,.1])\n",
    "from h2o.estimators.gbm import H2OGradientBoostingEstimator\n",
    "from h2o.grid.grid_search import H2OGridSearch\n",
    "gbm_cv3 = H2OGradientBoostingEstimator(nfolds=3,max_depth=4,ntrees=130)\n",
    "gbm_cv3.train(x=x, y=y, training_frame=train)\n",
    "## Getting all cross validated models \n",
    "all_models = gbm_cv3.cross_validation_models()\n",
    "print(\"Total cross validation models: \" + str(len(all_models)))"
   ]
  },
  {
   "cell_type": "code",
   "execution_count": 42,
   "metadata": {},
   "outputs": [
    {
     "name": "stdout",
     "output_type": "stream",
     "text": [
      "gbm Grid Build progress: |████████████████████████████████████████████████| 100%\n"
     ]
    },
    {
     "data": {
      "text/plain": [
       "0.8429966435509801"
      ]
     },
     "execution_count": 42,
     "metadata": {},
     "output_type": "execute_result"
    }
   ],
   "source": [
    "# Use same data as above\n",
    "\n",
    "# GBM hyperparameters\n",
    "gbm_params2 = {'learn_rate': [i * 0.01 for i in range(1, 11)],\n",
    "                'max_depth': range(1, 4),\n",
    "                'sample_rate': [i * 0.1 for i in range(5, 11)],\n",
    "                'col_sample_rate': [i * 0.1 for i in range(1, 11)]}\n",
    "\n",
    "# Search criteria\n",
    "search_criteria = {'strategy': 'RandomDiscrete', 'max_models': 36, 'seed': 1}\n",
    "\n",
    "# Train and validate a random grid of GBMs\n",
    "gbm_grid2 = H2OGridSearch(model=H2OGradientBoostingEstimator,\n",
    "                          grid_id='gbm_grid2',\n",
    "                          hyper_params=gbm_params2,\n",
    "                          search_criteria=search_criteria)\n",
    "gbm_grid2.train(x=x, y=y,\n",
    "                training_frame=train,\n",
    "                validation_frame=valid,\n",
    "                ntrees=100,\n",
    "                seed=1)\n",
    "\n",
    "# Get the grid results, sorted by validation AUC\n",
    "gbm_gridperf2 = gbm_grid2.get_grid(sort_by='auc', decreasing=True)\n",
    "gbm_gridperf2\n",
    "\n",
    "# Grab the top GBM model, chosen by validation AUC\n",
    "best_gbm2 = gbm_gridperf2.models[0]\n",
    "\n",
    "# Now let's evaluate the model performance on a test set\n",
    "# so we get an honest estimate of top model performance\n",
    "best_gbm_perf2 = best_gbm2.model_performance(test)\n",
    "\n",
    "best_gbm_perf2.auc()  #0.7811331652127048"
   ]
  },
  {
   "cell_type": "code",
   "execution_count": 43,
   "metadata": {
    "scrolled": true
   },
   "outputs": [
    {
     "name": "stdout",
     "output_type": "stream",
     "text": [
      "\n",
      "ModelMetricsBinomial: gbm\n",
      "** Reported on test data. **\n",
      "\n",
      "MSE: 0.130992304711\n",
      "RMSE: 0.361928590624\n",
      "LogLoss: 0.412327916218\n",
      "Mean Per-Class Error: 0.241580005756\n",
      "AUC: 0.842996643551\n",
      "Gini: 0.685993287102\n",
      "Confusion Matrix (Act/Pred) for max f1 @ threshold = 0.337801100339: \n"
     ]
    },
    {
     "data": {
      "text/html": [
       "<div style=\"overflow:auto\"><table style=\"width:50%\"><tr><td><b></b></td>\n",
       "<td><b>0</b></td>\n",
       "<td><b>1</b></td>\n",
       "<td><b>Error</b></td>\n",
       "<td><b>Rate</b></td></tr>\n",
       "<tr><td>0</td>\n",
       "<td>1088.0</td>\n",
       "<td>149.0</td>\n",
       "<td>0.1205</td>\n",
       "<td> (149.0/1237.0)</td></tr>\n",
       "<tr><td>1</td>\n",
       "<td>173.0</td>\n",
       "<td>268.0</td>\n",
       "<td>0.3923</td>\n",
       "<td> (173.0/441.0)</td></tr>\n",
       "<tr><td>Total</td>\n",
       "<td>1261.0</td>\n",
       "<td>417.0</td>\n",
       "<td>0.1919</td>\n",
       "<td> (322.0/1678.0)</td></tr></table></div>"
      ],
      "text/plain": [
       "       0     1    Error    Rate\n",
       "-----  ----  ---  -------  --------------\n",
       "0      1088  149  0.1205   (149.0/1237.0)\n",
       "1      173   268  0.3923   (173.0/441.0)\n",
       "Total  1261  417  0.1919   (322.0/1678.0)"
      ]
     },
     "metadata": {},
     "output_type": "display_data"
    },
    {
     "name": "stdout",
     "output_type": "stream",
     "text": [
      "Maximum Metrics: Maximum metrics at their respective thresholds\n",
      "\n"
     ]
    },
    {
     "data": {
      "text/html": [
       "<div style=\"overflow:auto\"><table style=\"width:50%\"><tr><td><b>metric</b></td>\n",
       "<td><b>threshold</b></td>\n",
       "<td><b>value</b></td>\n",
       "<td><b>idx</b></td></tr>\n",
       "<tr><td>max f1</td>\n",
       "<td>0.3378011</td>\n",
       "<td>0.6247086</td>\n",
       "<td>166.0</td></tr>\n",
       "<tr><td>max f2</td>\n",
       "<td>0.1853354</td>\n",
       "<td>0.7372506</td>\n",
       "<td>262.0</td></tr>\n",
       "<tr><td>max f0point5</td>\n",
       "<td>0.5107990</td>\n",
       "<td>0.6745738</td>\n",
       "<td>101.0</td></tr>\n",
       "<tr><td>max accuracy</td>\n",
       "<td>0.4635352</td>\n",
       "<td>0.8206198</td>\n",
       "<td>116.0</td></tr>\n",
       "<tr><td>max precision</td>\n",
       "<td>0.9496450</td>\n",
       "<td>1.0</td>\n",
       "<td>0.0</td></tr>\n",
       "<tr><td>max recall</td>\n",
       "<td>0.0225018</td>\n",
       "<td>1.0</td>\n",
       "<td>386.0</td></tr>\n",
       "<tr><td>max specificity</td>\n",
       "<td>0.9496450</td>\n",
       "<td>1.0</td>\n",
       "<td>0.0</td></tr>\n",
       "<tr><td>max absolute_mcc</td>\n",
       "<td>0.3625822</td>\n",
       "<td>0.4965483</td>\n",
       "<td>155.0</td></tr>\n",
       "<tr><td>max min_per_class_accuracy</td>\n",
       "<td>0.2574378</td>\n",
       "<td>0.7505669</td>\n",
       "<td>212.0</td></tr>\n",
       "<tr><td>max mean_per_class_accuracy</td>\n",
       "<td>0.2469333</td>\n",
       "<td>0.7584200</td>\n",
       "<td>219.0</td></tr></table></div>"
      ],
      "text/plain": [
       "metric                       threshold    value     idx\n",
       "---------------------------  -----------  --------  -----\n",
       "max f1                       0.337801     0.624709  166\n",
       "max f2                       0.185335     0.737251  262\n",
       "max f0point5                 0.510799     0.674574  101\n",
       "max accuracy                 0.463535     0.82062   116\n",
       "max precision                0.949645     1         0\n",
       "max recall                   0.0225018    1         386\n",
       "max specificity              0.949645     1         0\n",
       "max absolute_mcc             0.362582     0.496548  155\n",
       "max min_per_class_accuracy   0.257438     0.750567  212\n",
       "max mean_per_class_accuracy  0.246933     0.75842   219"
      ]
     },
     "metadata": {},
     "output_type": "display_data"
    },
    {
     "name": "stdout",
     "output_type": "stream",
     "text": [
      "Gains/Lift Table: Avg response rate: 26.28 %\n",
      "\n"
     ]
    },
    {
     "data": {
      "text/html": [
       "<div style=\"overflow:auto\"><table style=\"width:50%\"><tr><td><b></b></td>\n",
       "<td><b>group</b></td>\n",
       "<td><b>cumulative_data_fraction</b></td>\n",
       "<td><b>lower_threshold</b></td>\n",
       "<td><b>lift</b></td>\n",
       "<td><b>cumulative_lift</b></td>\n",
       "<td><b>response_rate</b></td>\n",
       "<td><b>cumulative_response_rate</b></td>\n",
       "<td><b>capture_rate</b></td>\n",
       "<td><b>cumulative_capture_rate</b></td>\n",
       "<td><b>gain</b></td>\n",
       "<td><b>cumulative_gain</b></td></tr>\n",
       "<tr><td></td>\n",
       "<td>1</td>\n",
       "<td>0.0101311</td>\n",
       "<td>0.9100229</td>\n",
       "<td>3.8049887</td>\n",
       "<td>3.8049887</td>\n",
       "<td>1.0</td>\n",
       "<td>1.0</td>\n",
       "<td>0.0385488</td>\n",
       "<td>0.0385488</td>\n",
       "<td>280.4988662</td>\n",
       "<td>280.4988662</td></tr>\n",
       "<tr><td></td>\n",
       "<td>2</td>\n",
       "<td>0.0202622</td>\n",
       "<td>0.8574498</td>\n",
       "<td>3.5811658</td>\n",
       "<td>3.6930772</td>\n",
       "<td>0.9411765</td>\n",
       "<td>0.9705882</td>\n",
       "<td>0.0362812</td>\n",
       "<td>0.0748299</td>\n",
       "<td>258.1165800</td>\n",
       "<td>269.3077231</td></tr>\n",
       "<tr><td></td>\n",
       "<td>3</td>\n",
       "<td>0.0327771</td>\n",
       "<td>0.8421603</td>\n",
       "<td>3.6237987</td>\n",
       "<td>3.6666254</td>\n",
       "<td>0.9523810</td>\n",
       "<td>0.9636364</td>\n",
       "<td>0.0453515</td>\n",
       "<td>0.1201814</td>\n",
       "<td>262.3798726</td>\n",
       "<td>266.6625438</td></tr>\n",
       "<tr><td></td>\n",
       "<td>4</td>\n",
       "<td>0.0411204</td>\n",
       "<td>0.8047001</td>\n",
       "<td>3.5332038</td>\n",
       "<td>3.6395544</td>\n",
       "<td>0.9285714</td>\n",
       "<td>0.9565217</td>\n",
       "<td>0.0294785</td>\n",
       "<td>0.1496599</td>\n",
       "<td>253.3203758</td>\n",
       "<td>263.9554372</td></tr>\n",
       "<tr><td></td>\n",
       "<td>5</td>\n",
       "<td>0.0500596</td>\n",
       "<td>0.7617196</td>\n",
       "<td>3.8049887</td>\n",
       "<td>3.6690962</td>\n",
       "<td>1.0</td>\n",
       "<td>0.9642857</td>\n",
       "<td>0.0340136</td>\n",
       "<td>0.1836735</td>\n",
       "<td>280.4988662</td>\n",
       "<td>266.9096210</td></tr>\n",
       "<tr><td></td>\n",
       "<td>6</td>\n",
       "<td>0.1001192</td>\n",
       "<td>0.5832668</td>\n",
       "<td>2.8990390</td>\n",
       "<td>3.2840676</td>\n",
       "<td>0.7619048</td>\n",
       "<td>0.8630952</td>\n",
       "<td>0.1451247</td>\n",
       "<td>0.3287982</td>\n",
       "<td>189.9038981</td>\n",
       "<td>228.4067595</td></tr>\n",
       "<tr><td></td>\n",
       "<td>7</td>\n",
       "<td>0.1501788</td>\n",
       "<td>0.4813844</td>\n",
       "<td>2.0836843</td>\n",
       "<td>2.8839398</td>\n",
       "<td>0.5476190</td>\n",
       "<td>0.7579365</td>\n",
       "<td>0.1043084</td>\n",
       "<td>0.4331066</td>\n",
       "<td>108.3684267</td>\n",
       "<td>188.3939819</td></tr>\n",
       "<tr><td></td>\n",
       "<td>8</td>\n",
       "<td>0.2002384</td>\n",
       "<td>0.4090096</td>\n",
       "<td>1.7666019</td>\n",
       "<td>2.6046053</td>\n",
       "<td>0.4642857</td>\n",
       "<td>0.6845238</td>\n",
       "<td>0.0884354</td>\n",
       "<td>0.5215420</td>\n",
       "<td>76.6601879</td>\n",
       "<td>160.4605334</td></tr>\n",
       "<tr><td></td>\n",
       "<td>9</td>\n",
       "<td>0.3003576</td>\n",
       "<td>0.2993491</td>\n",
       "<td>1.4042220</td>\n",
       "<td>2.2044776</td>\n",
       "<td>0.3690476</td>\n",
       "<td>0.5793651</td>\n",
       "<td>0.1405896</td>\n",
       "<td>0.6621315</td>\n",
       "<td>40.4222006</td>\n",
       "<td>120.4477558</td></tr>\n",
       "<tr><td></td>\n",
       "<td>10</td>\n",
       "<td>0.4004768</td>\n",
       "<td>0.2487908</td>\n",
       "<td>1.1550858</td>\n",
       "<td>1.9421296</td>\n",
       "<td>0.3035714</td>\n",
       "<td>0.5104167</td>\n",
       "<td>0.1156463</td>\n",
       "<td>0.7777778</td>\n",
       "<td>15.5085844</td>\n",
       "<td>94.2129630</td></tr>\n",
       "<tr><td></td>\n",
       "<td>11</td>\n",
       "<td>0.5017878</td>\n",
       "<td>0.2109137</td>\n",
       "<td>0.8729092</td>\n",
       "<td>1.7262538</td>\n",
       "<td>0.2294118</td>\n",
       "<td>0.4536817</td>\n",
       "<td>0.0884354</td>\n",
       "<td>0.8662132</td>\n",
       "<td>-12.7090836</td>\n",
       "<td>72.6253764</td></tr>\n",
       "<tr><td></td>\n",
       "<td>12</td>\n",
       "<td>0.6007151</td>\n",
       "<td>0.1631346</td>\n",
       "<td>0.5042756</td>\n",
       "<td>1.5250153</td>\n",
       "<td>0.1325301</td>\n",
       "<td>0.4007937</td>\n",
       "<td>0.0498866</td>\n",
       "<td>0.9160998</td>\n",
       "<td>-49.5724394</td>\n",
       "<td>52.5015297</td></tr>\n",
       "<tr><td></td>\n",
       "<td>13</td>\n",
       "<td>0.6996424</td>\n",
       "<td>0.1261971</td>\n",
       "<td>0.4355108</td>\n",
       "<td>1.3709627</td>\n",
       "<td>0.1144578</td>\n",
       "<td>0.3603066</td>\n",
       "<td>0.0430839</td>\n",
       "<td>0.9591837</td>\n",
       "<td>-56.4489250</td>\n",
       "<td>37.0962695</td></tr>\n",
       "<tr><td></td>\n",
       "<td>14</td>\n",
       "<td>0.7997616</td>\n",
       "<td>0.0765190</td>\n",
       "<td>0.1358925</td>\n",
       "<td>1.2163488</td>\n",
       "<td>0.0357143</td>\n",
       "<td>0.3196721</td>\n",
       "<td>0.0136054</td>\n",
       "<td>0.9727891</td>\n",
       "<td>-86.4107548</td>\n",
       "<td>21.6348835</td></tr>\n",
       "<tr><td></td>\n",
       "<td>15</td>\n",
       "<td>0.9004768</td>\n",
       "<td>0.0331735</td>\n",
       "<td>0.1801178</td>\n",
       "<td>1.1004501</td>\n",
       "<td>0.0473373</td>\n",
       "<td>0.2892124</td>\n",
       "<td>0.0181406</td>\n",
       "<td>0.9909297</td>\n",
       "<td>-81.9882194</td>\n",
       "<td>10.0450063</td></tr>\n",
       "<tr><td></td>\n",
       "<td>16</td>\n",
       "<td>1.0</td>\n",
       "<td>0.0102330</td>\n",
       "<td>0.0911375</td>\n",
       "<td>1.0</td>\n",
       "<td>0.0239521</td>\n",
       "<td>0.2628129</td>\n",
       "<td>0.0090703</td>\n",
       "<td>1.0</td>\n",
       "<td>-90.8862547</td>\n",
       "<td>0.0</td></tr></table></div>"
      ],
      "text/plain": [
       "    group    cumulative_data_fraction    lower_threshold    lift       cumulative_lift    response_rate    cumulative_response_rate    capture_rate    cumulative_capture_rate    gain      cumulative_gain\n",
       "--  -------  --------------------------  -----------------  ---------  -----------------  ---------------  --------------------------  --------------  -------------------------  --------  -----------------\n",
       "    1        0.0101311                   0.910023           3.80499    3.80499            1                1                           0.0385488       0.0385488                  280.499   280.499\n",
       "    2        0.0202622                   0.85745            3.58117    3.69308            0.941176         0.970588                    0.0362812       0.0748299                  258.117   269.308\n",
       "    3        0.0327771                   0.84216            3.6238     3.66663            0.952381         0.963636                    0.0453515       0.120181                   262.38    266.663\n",
       "    4        0.0411204                   0.8047             3.5332     3.63955            0.928571         0.956522                    0.0294785       0.14966                    253.32    263.955\n",
       "    5        0.0500596                   0.76172            3.80499    3.6691             1                0.964286                    0.0340136       0.183673                   280.499   266.91\n",
       "    6        0.100119                    0.583267           2.89904    3.28407            0.761905         0.863095                    0.145125        0.328798                   189.904   228.407\n",
       "    7        0.150179                    0.481384           2.08368    2.88394            0.547619         0.757937                    0.104308        0.433107                   108.368   188.394\n",
       "    8        0.200238                    0.40901            1.7666     2.60461            0.464286         0.684524                    0.0884354       0.521542                   76.6602   160.461\n",
       "    9        0.300358                    0.299349           1.40422    2.20448            0.369048         0.579365                    0.14059         0.662132                   40.4222   120.448\n",
       "    10       0.400477                    0.248791           1.15509    1.94213            0.303571         0.510417                    0.115646        0.777778                   15.5086   94.213\n",
       "    11       0.501788                    0.210914           0.872909   1.72625            0.229412         0.453682                    0.0884354       0.866213                   -12.7091  72.6254\n",
       "    12       0.600715                    0.163135           0.504276   1.52502            0.13253          0.400794                    0.0498866       0.9161                     -49.5724  52.5015\n",
       "    13       0.699642                    0.126197           0.435511   1.37096            0.114458         0.360307                    0.0430839       0.959184                   -56.4489  37.0963\n",
       "    14       0.799762                    0.076519           0.135892   1.21635            0.0357143        0.319672                    0.0136054       0.972789                   -86.4108  21.6349\n",
       "    15       0.900477                    0.0331735          0.180118   1.10045            0.0473373        0.289212                    0.0181406       0.99093                    -81.9882  10.045\n",
       "    16       1                           0.010233           0.0911375  1                  0.0239521        0.262813                    0.00907029      1                          -90.8863  0"
      ]
     },
     "metadata": {},
     "output_type": "display_data"
    },
    {
     "name": "stdout",
     "output_type": "stream",
     "text": [
      "\n",
      "\n"
     ]
    }
   ],
   "source": [
    "best_gbm2.confusion_matrix()\n",
    "performance = best_gbm2.model_performance(test_data=test)\n",
    "print performance\n"
   ]
  },
  {
   "cell_type": "code",
   "execution_count": 44,
   "metadata": {},
   "outputs": [
    {
     "data": {
      "image/png": "[encoded data removed]",
      "text/plain": [
       "<Figure size 1008x720 with 1 Axes>"
      ]
     },
     "metadata": {},
     "output_type": "display_data"
    },
    {
     "data": {
      "text/plain": [
       "[(u'BreedName', 3544.75048828125, 1.0, 0.681133497266713),\n",
       " (u'Duration', 1003.163818359375, 0.2829998392484265, 0.19276067023319832),\n",
       " (u'Deductible', 160.00238037109375, 0.0451378399974985, 0.030744894816561476),\n",
       " (u'Currentage', 123.83834838867188, 0.0349357024699128, 0.02379587720280105),\n",
       " (u'CarrierCd', 123.06483459472656, 0.03471748857968202, 0.023647244412595986),\n",
       " (u'PolicyForm',\n",
       "  116.60151672363281,\n",
       "  0.032894139406739915,\n",
       "  0.022405300213691557),\n",
       " (u'churn\\r', 77.70362091064453, 0.0219207589271878, 0.014930963190815948),\n",
       " (u'CopayPct', 38.67036437988281, 0.010909192200614658, 0.007430616235959411),\n",
       " (u'Country', 16.398082733154297, 0.004626018893957545, 0.003150936427663195),\n",
       " (u'PetType', 0.0, 0.0, 0.0)]"
      ]
     },
     "execution_count": 44,
     "metadata": {},
     "output_type": "execute_result"
    }
   ],
   "source": [
    "import matplotlib.pyplot as plt\n",
    "best_gbm2.varimp_plot()\n",
    "best_gbm2.varimp()"
   ]
  },
  {
   "cell_type": "code",
   "execution_count": 45,
   "metadata": {},
   "outputs": [],
   "source": [
    "import subprocess\n",
    "from IPython.display import Image"
   ]
  },
  {
   "cell_type": "code",
   "execution_count": 46,
   "metadata": {},
   "outputs": [],
   "source": [
    "mojo_file_name = \"/home/jash/Desktop/petplan/treeshyper/my_gbm_mojo.zip\"\n",
    "h2o_jar_path= '/home/jash/Desktop/petplan/trees/h2o-3.20.0.4/h2o.jar'\n",
    "mojo_full_path = mojo_file_name\n",
    "gv_file_path = \"/home/jash/Desktop/petplan/treeshyper/my_gbm_graph.gv\""
   ]
  },
  {
   "cell_type": "code",
   "execution_count": 47,
   "metadata": {},
   "outputs": [],
   "source": [
    "image_file_name = \"/home/jash/Desktop/petplan/treeshyper/my_gbm_tree_best4\""
   ]
  },
  {
   "cell_type": "code",
   "execution_count": 48,
   "metadata": {},
   "outputs": [
    {
     "data": {
      "text/plain": [
       "'/home/jash/Desktop/petplan/treeshyper/my_gbm_mojo.zip'"
      ]
     },
     "execution_count": 48,
     "metadata": {},
     "output_type": "execute_result"
    }
   ],
   "source": [
    "best_gbm2.download_mojo(mojo_file_name)"
   ]
  },
  {
   "cell_type": "code",
   "execution_count": 49,
   "metadata": {},
   "outputs": [],
   "source": [
    "\n",
    "def generateTree(h2o_jar_path, mojo_full_path, gv_file_path, image_file_path, tree_id = 0):\n",
    "    image_file_path = image_file_path + \"_\" + str(tree_id) + \".png\"\n",
    "    result = subprocess.call([\"java\", \"-cp\", h2o_jar_path, \"hex.genmodel.tools.PrintMojo\", \"--tree\", str(tree_id), \"-i\", mojo_full_path , \"-o\", gv_file_path ], shell=False)\n",
    "    result = subprocess.call([\"ls\",gv_file_path], shell = False)\n",
    "    if result is 0:\n",
    "        print(\"Success: Graphviz file \" + gv_file_path + \" is generated.\")\n",
    "    else: \n",
    "        print(\"Error: Graphviz file \" + gv_file_path + \" could not be generated.\")"
   ]
  },
  {
   "cell_type": "code",
   "execution_count": 50,
   "metadata": {},
   "outputs": [],
   "source": [
    "def generateTreeImage(gv_file_path, image_file_path, tree_id):\n",
    "    image_file_path = image_file_path + \"_\" + str(tree_id) + \".png\"\n",
    "    result = subprocess.call([\"dot\", \"-Tpng\", gv_file_path, \"-o\", image_file_path], shell=False)\n",
    "    result = subprocess.call([\"ls\",image_file_path], shell = False)\n",
    "    if result is 0:\n",
    "        print(\"Success: Image File \" + image_file_path + \" is generated.\")\n",
    "        print(\"Now you can execute the follow line as-it-is to see the tree graph:\") \n",
    "        print(\"Image(filename='\" + image_file_path + \"\\')\")\n",
    "    else:\n",
    "        print(\"Error: Image file \" + image_file_path + \" could not be generated.\")"
   ]
  },
  {
   "cell_type": "code",
   "execution_count": 51,
   "metadata": {},
   "outputs": [
    {
     "name": "stdout",
     "output_type": "stream",
     "text": [
      "Success: Graphviz file /home/jash/Desktop/petplan/treeshyper/my_gbm_graph.gv is generated.\n"
     ]
    }
   ],
   "source": [
    "\n",
    "generateTree(h2o_jar_path, mojo_full_path, gv_file_path, image_file_name, 0)"
   ]
  },
  {
   "cell_type": "code",
   "execution_count": 52,
   "metadata": {},
   "outputs": [
    {
     "name": "stdout",
     "output_type": "stream",
     "text": [
      "Success: Image File /home/jash/Desktop/petplan/treeshyper/my_gbm_tree_best4_0.png is generated.\n",
      "Now you can execute the follow line as-it-is to see the tree graph:\n",
      "Image(filename='/home/jash/Desktop/petplan/treeshyper/my_gbm_tree_best4_0.png')\n"
     ]
    }
   ],
   "source": [
    "generateTreeImage(gv_file_path, image_file_name, 0)"
   ]
  },
  {
   "cell_type": "code",
   "execution_count": 53,
   "metadata": {},
   "outputs": [
    {
     "data": {
      "image/png": "[encoded data removed]",
      "text/plain": [
       "<IPython.core.display.Image object>"
      ]
     },
     "execution_count": 53,
     "metadata": {},
     "output_type": "execute_result"
    }
   ],
   "source": [
    "Image(filename='/home/jash/Desktop/petplan/treeshyper/my_gbm_tree_best4_0.png')"
   ]
  },
  {
   "cell_type": "code",
   "execution_count": null,
   "metadata": {},
   "outputs": [],
   "source": []
  }
 ],
 "metadata": {
  "kernelspec": {
   "display_name": "Python 2",
   "language": "python",
   "name": "python2"
  },
  "language_info": {
   "codemirror_mode": {
    "name": "ipython",
    "version": 2
   },
   "file_extension": ".py",
   "mimetype": "text/x-python",
   "name": "python",
   "nbconvert_exporter": "python",
   "pygments_lexer": "ipython2",
   "version": "2.7.14"
  }
 },
 "nbformat": 4,
 "nbformat_minor": 2
}
