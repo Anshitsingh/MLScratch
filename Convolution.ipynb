{
 "cells": [
  {
   "cell_type": "code",
   "execution_count": 1,
   "metadata": {},
   "outputs": [],
   "source": [
    "import numpy as np\n",
    "import cv2\n",
    "import math\n",
    "image= cv2.imread(\"/home/jash/Desktop/dl/rubix.png\")\n"
   ]
  },
  {
   "cell_type": "code",
   "execution_count": 2,
   "metadata": {},
   "outputs": [],
   "source": [
    "\n",
    "f=np.array([[[-1,0,1],[-2,0,2],[-1,0,1]],[[-1,0,1],[-2,0,2],[-1,0,1]],[[-1,0,1],[-2,0,2],[-1,0,1]]])\n",
    "\n",
    "out=np.zeros(shape=(image.shape[0],image.shape[1]))\n",
    "i_h=image.shape[0]\n",
    "i_w=image.shape[1]\n",
    "d=image.shape[2]\n",
    "\n",
    "\n",
    "f_h=f.shape[0]\n",
    "f_w=f.shape[1]\n",
    "p_h=1\n",
    "p_w=1\n",
    "\n",
    "p=113\n",
    "x=113*2+225\n",
    "a=np.zeros(shape=(x,x,3))"
   ]
  },
  {
   "cell_type": "code",
   "execution_count": 3,
   "metadata": {},
   "outputs": [],
   "source": [
    "def padding(image,a):\n",
    "    for i in range(image.shape[0]):\n",
    "        for j in range(image.shape[1]):\n",
    "            for k in range(3):\n",
    "                a[p+i][p+j][k]=image[i][j][k]\n",
    "    return a\n",
    "                "
   ]
  },
  {
   "cell_type": "code",
   "execution_count": 4,
   "metadata": {},
   "outputs": [],
   "source": [
    "\n",
    "output_list=[]\n",
    "s_w=2\n",
    "s_h=2\n",
    "\n",
    "out=np.zeros(shape=(image.shape[0],image.shape[1]))                                                                "
   ]
  },
  {
   "cell_type": "code",
   "execution_count": 5,
   "metadata": {},
   "outputs": [],
   "source": [
    "\n",
    "def convolve(image,fil):\n",
    "    out=[]\n",
    "    pad=2\n",
    "    print image.shape\n",
    "    for i in range(i_h-p_h+1):\n",
    "        for j in range(i_w-p_w+1):\n",
    "            sum=0\n",
    "            for k in range(d):\n",
    "                for p in range(f_h-pad):\n",
    "                    for q in range(f_w-pad):\n",
    "                        sum=sum+image[i+p][j+q][k]*f[p][q][k]\n",
    "            out.append(sum)\n",
    "            j=j+s_w\n",
    "        i=i+s_h \n",
    "    return (out)\n"
   ]
  },
  {
   "cell_type": "code",
   "execution_count": 6,
   "metadata": {},
   "outputs": [],
   "source": [
    "def convert(sum,out,image):\n",
    "    k=0\n",
    "    for i in range(image.shape[0]):\n",
    "        for j in range(image.shape[1]):\n",
    "            out[i][j]=sum[k]\n",
    "            k=k+1\n",
    "    return out\n",
    "\n",
    "\n",
    "            "
   ]
  },
  {
   "cell_type": "code",
   "execution_count": 7,
   "metadata": {},
   "outputs": [],
   "source": [
    "a=padding(image,a)"
   ]
  },
  {
   "cell_type": "code",
   "execution_count": 8,
   "metadata": {},
   "outputs": [
    {
     "name": "stdout",
     "output_type": "stream",
     "text": [
      "(225, 225, 3)\n",
      "50625\n"
     ]
    }
   ],
   "source": [
    "output_list=convolve(image,f)\n",
    "print len(output_list)"
   ]
  },
  {
   "cell_type": "code",
   "execution_count": 9,
   "metadata": {},
   "outputs": [],
   "source": [
    "out=convert(output_list,out,image)\n"
   ]
  },
  {
   "cell_type": "code",
   "execution_count": 10,
   "metadata": {},
   "outputs": [],
   "source": [
    "def sigmoid(image):\n",
    "    return out"
   ]
  },
  {
   "cell_type": "code",
   "execution_count": 11,
   "metadata": {},
   "outputs": [],
   "source": [
    "def maxpool(image):\n",
    "    s=2\n",
    "    f=2\n",
    "    out=[]\n",
    "    for i in range(image.shape[0]-1):\n",
    "        for j in range(image.shape[1]-1):\n",
    "            maximum=0\n",
    "            for p in range(2):\n",
    "                for q in range(2):\n",
    "                    if(image[i+p][j+q]>maximum):\n",
    "                        maximum=image[i+p][j+q]\n",
    "            out.append(maximum)\n",
    "            j=j+1\n",
    "        i=i+1\n",
    "    return out\n",
    "    \n",
    "    "
   ]
  },
  {
   "cell_type": "code",
   "execution_count": 12,
   "metadata": {},
   "outputs": [],
   "source": [
    "def convertmaxpool(maxpool_list,image):\n",
    "    out=np.zeros(shape=( (image.shape[0]-1), (image.shape[1]-1) ))\n",
    "    \n",
    "    k=0\n",
    "    for i in range(out.shape[0]):\n",
    "        for j in range(out.shape[1]):\n",
    "            out[i][j]=maxpool_list[k]\n",
    "            k=k+1\n",
    "    return out"
   ]
  },
  {
   "cell_type": "code",
   "execution_count": 13,
   "metadata": {},
   "outputs": [
    {
     "name": "stdout",
     "output_type": "stream",
     "text": [
      "[[0. 0. 0. ... 0. 0. 0.]\n",
      " [0. 0. 0. ... 0. 0. 0.]\n",
      " [0. 0. 0. ... 0. 0. 0.]\n",
      " ...\n",
      " [0. 0. 0. ... 0. 0. 0.]\n",
      " [0. 0. 0. ... 0. 0. 0.]\n",
      " [0. 0. 0. ... 0. 0. 0.]]\n"
     ]
    }
   ],
   "source": [
    "sigmoid_output=sigmoid(out)\n",
    "print sigmoid_output"
   ]
  },
  {
   "cell_type": "code",
   "execution_count": 14,
   "metadata": {},
   "outputs": [],
   "source": [
    "maxpool_list=[]\n",
    "maxpool_list=maxpool(sigmoid_output)\n",
    "\n"
   ]
  },
  {
   "cell_type": "code",
   "execution_count": null,
   "metadata": {},
   "outputs": [],
   "source": [
    "maxpool_out=convertmaxpool(maxpool_list,sigmoid_output)"
   ]
  },
  {
   "cell_type": "code",
   "execution_count": null,
   "metadata": {},
   "outputs": [],
   "source": [
    "cv2.imshow(\"maxpool output\",maxpool_out)\n",
    "cv2.waitKey(0)\n",
    "cv2.destroyAllWindows()"
   ]
  }
 ],
 "metadata": {
  "kernelspec": {
   "display_name": "Python 2",
   "language": "python",
   "name": "python2"
  },
  "language_info": {
   "codemirror_mode": {
    "name": "ipython",
    "version": 2
   },
   "file_extension": ".py",
   "mimetype": "text/x-python",
   "name": "python",
   "nbconvert_exporter": "python",
   "pygments_lexer": "ipython2",
   "version": "2.7.14"
  }
 },
 "nbformat": 4,
 "nbformat_minor": 2
}
