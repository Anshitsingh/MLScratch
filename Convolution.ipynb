{
 "cells": [
  {
   "cell_type": "code",
   "execution_count": 1,
   "metadata": {},
   "outputs": [],
   "source": [
    "import numpy as np\n",
    "import cv2\n",
    "import math\n",
    "image= cv2.imread(\"/home/jash/Desktop/dl/rubix.png\")\n"
   ]
  },
  {
   "cell_type": "code",
   "execution_count": 2,
   "metadata": {},
   "outputs": [],
   "source": [
    "f=np.array([[[-1,0,1],[-2,0,2],[-1,0,1]],[[-1,0,1],[-2,0,2],[-1,0,1]],[[-1,0,1],[-2,0,2],[-1,0,1]]])\n",
    "out=np.zeros(shape=(image.shape[0],image.shape[1]))\n",
    "i_h=image.shape[0]\n",
    "i_w=image.shape[1]\n",
    "d=image.shape[2]\n",
    "f_h=f.shape[0]\n",
    "f_w=f.shape[1]\n",
    "p_h=1\n",
    "p_w=1\n",
    "output_list=[]\n",
    "s_w=2\n",
    "s_h=2\n",
    "\n",
    "#using formula to calculate padding\n",
    "pad=1\n",
    "x=1*2+225\n",
    "a=np.zeros(shape=(x,x,3))"
   ]
  },
  {
   "cell_type": "code",
   "execution_count": 3,
   "metadata": {},
   "outputs": [],
   "source": [
    "def padding(image,a):\n",
    "    p=1\n",
    "    for i in range(image.shape[0]):\n",
    "        for j in range(image.shape[1]):\n",
    "            for k in range(3):\n",
    "                a[p+i][p+j][k]=image[i][j][k]\n",
    "    return a\n",
    "                "
   ]
  },
  {
   "cell_type": "code",
   "execution_count": 4,
   "metadata": {},
   "outputs": [
    {
     "name": "stdout",
     "output_type": "stream",
     "text": [
      "(227, 227, 3)\n"
     ]
    }
   ],
   "source": [
    "a=padding(image,a)\n",
    "print a.shape"
   ]
  },
  {
   "cell_type": "code",
   "execution_count": 5,
   "metadata": {},
   "outputs": [],
   "source": [
    "def convolve(image,fil):\n",
    "    out=[]\n",
    "    pad=1\n",
    "    print image.shape\n",
    "    i_h=image.shape[0]\n",
    "    i_w=image.shape[1]\n",
    "    s_h=1\n",
    "    s_w=1\n",
    "    d=3\n",
    "    l=i_h-f_h+1\n",
    "    y=0\n",
    "    print \"a shape is\",a.shape\n",
    "    print \"l is\",l\n",
    "    for i in range(i_h-f_h+1):\n",
    "        \n",
    "        \n",
    "        for j in range(i_w-f_w+1):\n",
    "            sum=0\n",
    "            for k in range(d):\n",
    "                for p in range(3):\n",
    "                    for q in range(3):\n",
    "                        sum=sum+image[i+p][j+q][k]*f[p][q][k]\n",
    "                        \n",
    "            out.append(sum)\n",
    "        \n",
    "    print len(out)/225\n",
    "    return (out)\n"
   ]
  },
  {
   "cell_type": "code",
   "execution_count": 6,
   "metadata": {},
   "outputs": [],
   "source": [
    "def convert(sum,out,image):\n",
    "    print \"image shape is \",image.shape\n",
    "    k=0\n",
    "    for i in range(image.shape[0]):\n",
    "        for j in range(image.shape[1]):\n",
    "            out[i][j]=sum[k]\n",
    "            k=k+1\n",
    "    return out    "
   ]
  },
  {
   "cell_type": "code",
   "execution_count": 7,
   "metadata": {},
   "outputs": [],
   "source": [
    "def sigmoid(image):\n",
    "    out=1/(1+np.exp(-1*image))\n",
    "    return out"
   ]
  },
  {
   "cell_type": "code",
   "execution_count": 8,
   "metadata": {},
   "outputs": [],
   "source": [
    "\n",
    "def maxpool(image):\n",
    "    s=2\n",
    "    f=2\n",
    "    out=[]\n",
    "    for i in range(image.shape[0]-1):\n",
    "        for j in range(image.shape[1]-1):\n",
    "            maximum=0\n",
    "            for p in range(2):\n",
    "                for q in range(2):\n",
    "                    if(image[i+p][j+q]>maximum):\n",
    "                        maximum=image[i+p][j+q]\n",
    "            out.append(maximum)\n",
    "            j=j+1\n",
    "        i=i+1\n",
    "    return out"
   ]
  },
  {
   "cell_type": "code",
   "execution_count": 9,
   "metadata": {},
   "outputs": [],
   "source": [
    "\n",
    "def convertmaxpool(maxpool_list,image):\n",
    "    out=np.zeros(shape=( (image.shape[0]-1), (image.shape[1]-1) ))\n",
    "    \n",
    "    k=0\n",
    "    for i in range(out.shape[0]):\n",
    "        for j in range(out.shape[1]):\n",
    "            out[i][j]=maxpool_list[k]\n",
    "            k=k+1\n",
    "    return out"
   ]
  },
  {
   "cell_type": "code",
   "execution_count": null,
   "metadata": {},
   "outputs": [],
   "source": [
    "def forwardlayer1(a,f,image):\n",
    "    output_list=convolve(a,f)\n",
    "    out=np.zeros(shape=(image.shape[0],image.shape[1]))  \n",
    "    out=convert(output_list,out,image)\n",
    "    sigmoid_output=sigmoid(out)\n",
    "    maxpool_list=[]\n",
    "    maxpool_list=maxpool(sigmoid_output)\n",
    "    maxpool_out=convertmaxpool(maxpool_list,sigmoid_output)\n",
    "    return maxpool_out\n",
    "\n"
   ]
  },
  {
   "cell_type": "code",
   "execution_count": null,
   "metadata": {},
   "outputs": [
    {
     "name": "stdout",
     "output_type": "stream",
     "text": [
      "(227, 227, 3)\n",
      "a shape is (227, 227, 3)\n",
      "l is 225\n",
      "225\n",
      "image shape is  (225, 225, 3)\n",
      "(224, 224)\n"
     ]
    },
    {
     "name": "stderr",
     "output_type": "stream",
     "text": [
      "/home/jash/anaconda3/envs/py27/lib/python2.7/site-packages/ipykernel_launcher.py:2: RuntimeWarning: overflow encountered in exp\n",
      "  \n"
     ]
    }
   ],
   "source": [
    "maxpool_out=forwardlayer1(a,f,image)\n",
    "print maxpool_out.shape\n",
    "cv2.imshow(\"maxpooled output\",maxpool_out)\n",
    "cv2.waitKey(0)\n",
    "cv2.destroyAllWindows()\n"
   ]
  },
  {
   "cell_type": "code",
   "execution_count": null,
   "metadata": {},
   "outputs": [],
   "source": []
  },
  {
   "cell_type": "code",
   "execution_count": null,
   "metadata": {},
   "outputs": [],
   "source": []
  }
 ],
 "metadata": {
  "kernelspec": {
   "display_name": "Python 2",
   "language": "python",
   "name": "python2"
  },
  "language_info": {
   "codemirror_mode": {
    "name": "ipython",
    "version": 2
   },
   "file_extension": ".py",
   "mimetype": "text/x-python",
   "name": "python",
   "nbconvert_exporter": "python",
   "pygments_lexer": "ipython2",
   "version": "2.7.14"
  }
 },
 "nbformat": 4,
 "nbformat_minor": 2
}
