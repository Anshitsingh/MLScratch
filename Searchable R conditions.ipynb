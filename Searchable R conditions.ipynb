{
 "cells": [
  {
   "cell_type": "code",
   "execution_count": 10,
   "metadata": {
    "scrolled": true
   },
   "outputs": [
    {
     "name": "stdout",
     "output_type": "stream",
     "text": [
      "[\"((df$Severity=='None'))\"\n",
      " \"((df$Severity=='Curable')&(df$claimdurationInception60=='No'))\"\n",
      " \"((df$Severity=='Non-Curable')&(df$claimdurationInception60=='No'))\"\n",
      " \"((df$Severity%in% c( 'Curable','Non-Curable'))&(df$claimdurationInception60=='Yes')&(df$LR1<4.1)&(df$PetType=='Dog'))\"\n",
      " \"((df$Severity%in% c( 'Curable','Non-Curable'))&(df$claimdurationInception60=='Yes')&(df$LR1>=4.1)&(df$Age<6.0))\"\n",
      " \"((df$Severity%in% c( 'Curable','Non-Curable'))&(df$claimdurationInception60=='Yes')&(df$LR1<4.1)&(df$PetType=='Cat'))\"\n",
      " \"((df$Severity%in% c( 'Curable','Non-Curable'))&(df$claimdurationInception60=='Yes')&(df$LR1>=4.1)&(df$Age>=6.0))\"]\n"
     ]
    },
    {
     "name": "stderr",
     "output_type": "stream",
     "text": [
      "c:\\program files (x86)\\python27\\lib\\site-packages\\ipykernel_launcher.py:8: DeprecationWarning: \n",
      ".ix is deprecated. Please use\n",
      ".loc for label based indexing or\n",
      ".iloc for positional indexing\n",
      "\n",
      "See the documentation here:\n",
      "http://pandas.pydata.org/pandas-docs/stable/indexing.html#ix-indexer-is-deprecated\n",
      "  \n",
      "c:\\program files (x86)\\python27\\lib\\site-packages\\ipykernel_launcher.py:9: DeprecationWarning: \n",
      ".ix is deprecated. Please use\n",
      ".loc for label based indexing or\n",
      ".iloc for positional indexing\n",
      "\n",
      "See the documentation here:\n",
      "http://pandas.pydata.org/pandas-docs/stable/indexing.html#ix-indexer-is-deprecated\n",
      "  if __name__ == '__main__':\n"
     ]
    }
   ],
   "source": [
    "import pandas as pd\n",
    "import numpy as np\n",
    "a=pd.read_csv(\"E:/Petplan/rules.csv\")\n",
    "b=[]\n",
    "for i in range(len(a)):\n",
    "    x=''\n",
    "    for j in range(1,len(a.columns)):\n",
    "        if (((str(a.ix[i][j]))!='nan')and (str(a.ix[i][j])!='when')):\n",
    "            x=x+str(a.ix[i][j]).replace(' ','')\n",
    "    b.append(x)\n",
    "\n",
    "a=[]\n",
    "for i in range(len(b)):\n",
    "    a.append(np.asarray(b[i].split('&')))\n",
    "a=np.asarray(a)\n",
    "\n",
    "for i in range(len(a)):\n",
    "    for k in range(len(a[i])):\n",
    "        a[i][k].replace(' ','')\n",
    "\n",
    "b=np.array(len(a))\n",
    "conditions=[]\n",
    "for i in range(len(a)):\n",
    "    f='('\n",
    "    for k in range(len(a[i])):\n",
    "        m=a[i][k].split('is')\n",
    "        m[0]='df$'+str(m[0])\n",
    "        if(len(m)>1):\n",
    "            t='('\n",
    "            k=m[1].split('or')\n",
    "            if(len(k)>1):\n",
    "                t=t+m[0]+'%in% c( '\n",
    "                for p in range(len(k)):\n",
    "                    if(p!=len(k)-1):\n",
    "                        t=t+'\\''+str(k[p])+'\\''+','\n",
    "                    else:\n",
    "                        t=t+'\\''+str(k[p])+'\\''+')'+')'\n",
    "            else:\n",
    "                t=t+m[0]+'==\\''+str(m[1]) +'\\')'\n",
    "            m[1]=t\n",
    "            f=f+t+'&'\n",
    "        else:\n",
    "            f=f+'('+m[0]+')'+'&'\n",
    "    f=f[:-1]\n",
    "    f=f+')'\n",
    "    conditions.append(f)\n",
    "    \n",
    "conditions=np.asarray(conditions)\n",
    "print conditions\n",
    "condition=pd.DataFrame(conditions)\n",
    "condition.to_csv(\"E:/Petplan/conditions.csv\")    \n",
    "    "
   ]
  },
  {
   "cell_type": "code",
   "execution_count": null,
   "metadata": {},
   "outputs": [],
   "source": []
  }
 ],
 "metadata": {
  "kernelspec": {
   "display_name": "Python 2",
   "language": "python",
   "name": "python2"
  },
  "language_info": {
   "codemirror_mode": {
    "name": "ipython",
    "version": 2
   },
   "file_extension": ".py",
   "mimetype": "text/x-python",
   "name": "python",
   "nbconvert_exporter": "python",
   "pygments_lexer": "ipython2",
   "version": "2.7.13"
  }
 },
 "nbformat": 4,
 "nbformat_minor": 2
}
