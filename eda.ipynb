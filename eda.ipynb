{
 "cells": [
  {
   "cell_type": "code",
   "execution_count": 1,
   "metadata": {},
   "outputs": [
    {
     "name": "stderr",
     "output_type": "stream",
     "text": [
      "c:\\program files (x86)\\python27\\lib\\site-packages\\pandas\\_libs\\__init__.py:4: RuntimeWarning: numpy.dtype size changed, may indicate binary incompatibility. Expected zd, got zd\n",
      "  from .tslib import iNaT, NaT, Timestamp, Timedelta, OutOfBoundsDatetime\n",
      "c:\\program files (x86)\\python27\\lib\\site-packages\\pandas\\__init__.py:26: RuntimeWarning: numpy.dtype size changed, may indicate binary incompatibility. Expected zd, got zd\n",
      "  from pandas._libs import (hashtable as _hashtable,\n",
      "c:\\program files (x86)\\python27\\lib\\site-packages\\pandas\\core\\dtypes\\common.py:6: RuntimeWarning: numpy.dtype size changed, may indicate binary incompatibility. Expected zd, got zd\n",
      "  from pandas._libs import algos, lib\n",
      "c:\\program files (x86)\\python27\\lib\\site-packages\\pandas\\core\\util\\hashing.py:7: RuntimeWarning: numpy.dtype size changed, may indicate binary incompatibility. Expected zd, got zd\n",
      "  from pandas._libs import hashing, tslib\n",
      "c:\\program files (x86)\\python27\\lib\\site-packages\\pandas\\core\\indexes\\base.py:7: RuntimeWarning: numpy.dtype size changed, may indicate binary incompatibility. Expected zd, got zd\n",
      "  from pandas._libs import (lib, index as libindex, tslib as libts,\n",
      "c:\\program files (x86)\\python27\\lib\\site-packages\\pandas\\tseries\\offsets.py:21: RuntimeWarning: numpy.dtype size changed, may indicate binary incompatibility. Expected zd, got zd\n",
      "  import pandas._libs.tslibs.offsets as liboffsets\n",
      "c:\\program files (x86)\\python27\\lib\\site-packages\\pandas\\core\\ops.py:16: RuntimeWarning: numpy.dtype size changed, may indicate binary incompatibility. Expected zd, got zd\n",
      "  from pandas._libs import algos as libalgos, ops as libops\n",
      "c:\\program files (x86)\\python27\\lib\\site-packages\\pandas\\core\\indexes\\interval.py:32: RuntimeWarning: numpy.dtype size changed, may indicate binary incompatibility. Expected zd, got zd\n",
      "  from pandas._libs.interval import (\n",
      "c:\\program files (x86)\\python27\\lib\\site-packages\\pandas\\core\\internals.py:14: RuntimeWarning: numpy.dtype size changed, may indicate binary incompatibility. Expected zd, got zd\n",
      "  from pandas._libs import internals as libinternals\n",
      "c:\\program files (x86)\\python27\\lib\\site-packages\\pandas\\core\\sparse\\array.py:33: RuntimeWarning: numpy.dtype size changed, may indicate binary incompatibility. Expected zd, got zd\n",
      "  import pandas._libs.sparse as splib\n",
      "c:\\program files (x86)\\python27\\lib\\site-packages\\pandas\\core\\window.py:36: RuntimeWarning: numpy.dtype size changed, may indicate binary incompatibility. Expected zd, got zd\n",
      "  import pandas._libs.window as _window\n",
      "c:\\program files (x86)\\python27\\lib\\site-packages\\pandas\\core\\groupby\\groupby.py:68: RuntimeWarning: numpy.dtype size changed, may indicate binary incompatibility. Expected zd, got zd\n",
      "  from pandas._libs import (lib, reduction,\n",
      "c:\\program files (x86)\\python27\\lib\\site-packages\\pandas\\core\\reshape\\reshape.py:30: RuntimeWarning: numpy.dtype size changed, may indicate binary incompatibility. Expected zd, got zd\n",
      "  from pandas._libs import algos as _algos, reshape as _reshape\n",
      "c:\\program files (x86)\\python27\\lib\\site-packages\\pandas\\io\\parsers.py:45: RuntimeWarning: numpy.dtype size changed, may indicate binary incompatibility. Expected zd, got zd\n",
      "  import pandas._libs.parsers as parsers\n",
      "c:\\program files (x86)\\python27\\lib\\site-packages\\pandas\\io\\pytables.py:50: RuntimeWarning: numpy.dtype size changed, may indicate binary incompatibility. Expected zd, got zd\n",
      "  from pandas._libs import algos, lib, writers as libwriters\n"
     ]
    }
   ],
   "source": [
    "import matplotlib.pyplot as plt\n",
    "import pandas as pd\n",
    "import numpy\n",
    "a=pd.read_csv(\"E:/Petplan/dfforeda.csv\")"
   ]
  },
  {
   "cell_type": "code",
   "execution_count": 2,
   "metadata": {},
   "outputs": [
    {
     "data": {
      "text/html": [
       "<div>\n",
       "<style scoped>\n",
       "    .dataframe tbody tr th:only-of-type {\n",
       "        vertical-align: middle;\n",
       "    }\n",
       "\n",
       "    .dataframe tbody tr th {\n",
       "        vertical-align: top;\n",
       "    }\n",
       "\n",
       "    .dataframe thead th {\n",
       "        text-align: right;\n",
       "    }\n",
       "</style>\n",
       "<table border=\"1\" class=\"dataframe\">\n",
       "  <thead>\n",
       "    <tr style=\"text-align: right;\">\n",
       "      <th></th>\n",
       "      <th>Age</th>\n",
       "      <th>AnnualDedInd</th>\n",
       "      <th>CarrierCd</th>\n",
       "      <th>CopayPct</th>\n",
       "      <th>Country</th>\n",
       "      <th>Deductible</th>\n",
       "      <th>PetType</th>\n",
       "      <th>PolicyForm</th>\n",
       "      <th>Introductory_Upgrade</th>\n",
       "      <th>TransactionCdRenewal</th>\n",
       "      <th>...</th>\n",
       "      <th>LR1</th>\n",
       "      <th>Claimin30_1</th>\n",
       "      <th>Claimin60_1</th>\n",
       "      <th>Claimin90_1</th>\n",
       "      <th>Claimin730_1</th>\n",
       "      <th>ClaimCur_1</th>\n",
       "      <th>ClaimNonCur_1</th>\n",
       "      <th>CouponUsed</th>\n",
       "      <th>claimdurationInception60</th>\n",
       "      <th>Prediction</th>\n",
       "    </tr>\n",
       "  </thead>\n",
       "  <tbody>\n",
       "    <tr>\n",
       "      <th>0</th>\n",
       "      <td>8</td>\n",
       "      <td>PerCondition</td>\n",
       "      <td>CAN</td>\n",
       "      <td>0.7</td>\n",
       "      <td>CAN</td>\n",
       "      <td>500</td>\n",
       "      <td>Dog</td>\n",
       "      <td>15000</td>\n",
       "      <td>No</td>\n",
       "      <td>2</td>\n",
       "      <td>...</td>\n",
       "      <td>0.000000</td>\n",
       "      <td>NaN</td>\n",
       "      <td>NaN</td>\n",
       "      <td>NaN</td>\n",
       "      <td>NaN</td>\n",
       "      <td>NaN</td>\n",
       "      <td>NaN</td>\n",
       "      <td>1</td>\n",
       "      <td>NaN</td>\n",
       "      <td>0.138687</td>\n",
       "    </tr>\n",
       "    <tr>\n",
       "      <th>1</th>\n",
       "      <td>5</td>\n",
       "      <td>PerCondition</td>\n",
       "      <td>CAN</td>\n",
       "      <td>0.8</td>\n",
       "      <td>CAN</td>\n",
       "      <td>400</td>\n",
       "      <td>Dog</td>\n",
       "      <td>Unlimited</td>\n",
       "      <td>No</td>\n",
       "      <td>2</td>\n",
       "      <td>...</td>\n",
       "      <td>0.000000</td>\n",
       "      <td>NaN</td>\n",
       "      <td>NaN</td>\n",
       "      <td>NaN</td>\n",
       "      <td>NaN</td>\n",
       "      <td>NaN</td>\n",
       "      <td>NaN</td>\n",
       "      <td>1</td>\n",
       "      <td>NaN</td>\n",
       "      <td>0.138687</td>\n",
       "    </tr>\n",
       "    <tr>\n",
       "      <th>2</th>\n",
       "      <td>3</td>\n",
       "      <td>PerCondition</td>\n",
       "      <td>CAN</td>\n",
       "      <td>0.9</td>\n",
       "      <td>CAN</td>\n",
       "      <td>350</td>\n",
       "      <td>Dog</td>\n",
       "      <td>20000</td>\n",
       "      <td>No</td>\n",
       "      <td>3</td>\n",
       "      <td>...</td>\n",
       "      <td>5.746735</td>\n",
       "      <td>NaN</td>\n",
       "      <td>NaN</td>\n",
       "      <td>NaN</td>\n",
       "      <td>NaN</td>\n",
       "      <td>NaN</td>\n",
       "      <td>NaN</td>\n",
       "      <td>1</td>\n",
       "      <td>NaN</td>\n",
       "      <td>0.138687</td>\n",
       "    </tr>\n",
       "    <tr>\n",
       "      <th>3</th>\n",
       "      <td>3</td>\n",
       "      <td>PerCondition</td>\n",
       "      <td>CAN</td>\n",
       "      <td>0.7</td>\n",
       "      <td>CAN</td>\n",
       "      <td>500</td>\n",
       "      <td>Cat</td>\n",
       "      <td>Unlimited</td>\n",
       "      <td>No</td>\n",
       "      <td>3</td>\n",
       "      <td>...</td>\n",
       "      <td>0.000000</td>\n",
       "      <td>NaN</td>\n",
       "      <td>NaN</td>\n",
       "      <td>NaN</td>\n",
       "      <td>NaN</td>\n",
       "      <td>NaN</td>\n",
       "      <td>NaN</td>\n",
       "      <td>1</td>\n",
       "      <td>NaN</td>\n",
       "      <td>0.138687</td>\n",
       "    </tr>\n",
       "    <tr>\n",
       "      <th>4</th>\n",
       "      <td>8</td>\n",
       "      <td>PerCondition</td>\n",
       "      <td>CAN</td>\n",
       "      <td>0.8</td>\n",
       "      <td>CAN</td>\n",
       "      <td>500</td>\n",
       "      <td>Cat</td>\n",
       "      <td>Unlimited</td>\n",
       "      <td>No</td>\n",
       "      <td>1</td>\n",
       "      <td>...</td>\n",
       "      <td>0.000000</td>\n",
       "      <td>NaN</td>\n",
       "      <td>NaN</td>\n",
       "      <td>NaN</td>\n",
       "      <td>NaN</td>\n",
       "      <td>NaN</td>\n",
       "      <td>NaN</td>\n",
       "      <td>1</td>\n",
       "      <td>NaN</td>\n",
       "      <td>0.138687</td>\n",
       "    </tr>\n",
       "  </tbody>\n",
       "</table>\n",
       "<p>5 rows × 25 columns</p>\n",
       "</div>"
      ],
      "text/plain": [
       "   Age  AnnualDedInd CarrierCd  CopayPct Country  Deductible PetType  \\\n",
       "0    8  PerCondition       CAN       0.7     CAN         500     Dog   \n",
       "1    5  PerCondition       CAN       0.8     CAN         400     Dog   \n",
       "2    3  PerCondition       CAN       0.9     CAN         350     Dog   \n",
       "3    3  PerCondition       CAN       0.7     CAN         500     Cat   \n",
       "4    8  PerCondition       CAN       0.8     CAN         500     Cat   \n",
       "\n",
       "  PolicyForm Introductory_Upgrade  TransactionCdRenewal    ...           LR1  \\\n",
       "0      15000                   No                     2    ...      0.000000   \n",
       "1  Unlimited                   No                     2    ...      0.000000   \n",
       "2      20000                   No                     3    ...      5.746735   \n",
       "3  Unlimited                   No                     3    ...      0.000000   \n",
       "4  Unlimited                   No                     1    ...      0.000000   \n",
       "\n",
       "  Claimin30_1 Claimin60_1 Claimin90_1 Claimin730_1  ClaimCur_1 ClaimNonCur_1  \\\n",
       "0         NaN         NaN         NaN          NaN         NaN           NaN   \n",
       "1         NaN         NaN         NaN          NaN         NaN           NaN   \n",
       "2         NaN         NaN         NaN          NaN         NaN           NaN   \n",
       "3         NaN         NaN         NaN          NaN         NaN           NaN   \n",
       "4         NaN         NaN         NaN          NaN         NaN           NaN   \n",
       "\n",
       "  CouponUsed claimdurationInception60 Prediction  \n",
       "0          1                      NaN   0.138687  \n",
       "1          1                      NaN   0.138687  \n",
       "2          1                      NaN   0.138687  \n",
       "3          1                      NaN   0.138687  \n",
       "4          1                      NaN   0.138687  \n",
       "\n",
       "[5 rows x 25 columns]"
      ]
     },
     "execution_count": 2,
     "metadata": {},
     "output_type": "execute_result"
    }
   ],
   "source": [
    "a.head()"
   ]
  },
  {
   "cell_type": "code",
   "execution_count": 3,
   "metadata": {
    "scrolled": true
   },
   "outputs": [
    {
     "data": {
      "text/plain": [
       "Index([u'Age', u'AnnualDedInd', u'CarrierCd', u'CopayPct', u'Country',\n",
       "       u'Deductible', u'PetType', u'PolicyForm', u'Introductory_Upgrade',\n",
       "       u'TransactionCdRenewal', u'LossRatio', u'Mixed_Breed', u'Region',\n",
       "       u'Severity', u'Claimcodecategory', u'LR1', u'Claimin30_1',\n",
       "       u'Claimin60_1', u'Claimin90_1', u'Claimin730_1', u'ClaimCur_1',\n",
       "       u'ClaimNonCur_1', u'CouponUsed', u'claimdurationInception60',\n",
       "       u'Prediction'],\n",
       "      dtype='object')"
      ]
     },
     "execution_count": 3,
     "metadata": {},
     "output_type": "execute_result"
    }
   ],
   "source": [
    "a.columns"
   ]
  },
  {
   "cell_type": "code",
   "execution_count": 4,
   "metadata": {
    "scrolled": false
   },
   "outputs": [
    {
     "data": {
      "text/html": [
       "<div>\n",
       "<style scoped>\n",
       "    .dataframe tbody tr th:only-of-type {\n",
       "        vertical-align: middle;\n",
       "    }\n",
       "\n",
       "    .dataframe tbody tr th {\n",
       "        vertical-align: top;\n",
       "    }\n",
       "\n",
       "    .dataframe thead th {\n",
       "        text-align: right;\n",
       "    }\n",
       "</style>\n",
       "<table border=\"1\" class=\"dataframe\">\n",
       "  <thead>\n",
       "    <tr style=\"text-align: right;\">\n",
       "      <th></th>\n",
       "      <th>Age</th>\n",
       "      <th>AnnualDedInd</th>\n",
       "      <th>CarrierCd</th>\n",
       "      <th>CopayPct</th>\n",
       "      <th>Country</th>\n",
       "      <th>Deductible</th>\n",
       "      <th>PetType</th>\n",
       "      <th>PolicyForm</th>\n",
       "      <th>Introductory_Upgrade</th>\n",
       "      <th>TransactionCdRenewal</th>\n",
       "      <th>...</th>\n",
       "      <th>LR1</th>\n",
       "      <th>Claimin30_1</th>\n",
       "      <th>Claimin60_1</th>\n",
       "      <th>Claimin90_1</th>\n",
       "      <th>Claimin730_1</th>\n",
       "      <th>ClaimCur_1</th>\n",
       "      <th>ClaimNonCur_1</th>\n",
       "      <th>CouponUsed</th>\n",
       "      <th>claimdurationInception60</th>\n",
       "      <th>Prediction</th>\n",
       "    </tr>\n",
       "  </thead>\n",
       "  <tbody>\n",
       "    <tr>\n",
       "      <th>count</th>\n",
       "      <td>193408.000000</td>\n",
       "      <td>193408</td>\n",
       "      <td>193408</td>\n",
       "      <td>193408.000000</td>\n",
       "      <td>193408</td>\n",
       "      <td>193408.000000</td>\n",
       "      <td>193408</td>\n",
       "      <td>193408</td>\n",
       "      <td>193408</td>\n",
       "      <td>193408.000000</td>\n",
       "      <td>...</td>\n",
       "      <td>193408.000000</td>\n",
       "      <td>58381</td>\n",
       "      <td>58381</td>\n",
       "      <td>58381</td>\n",
       "      <td>58381</td>\n",
       "      <td>58381</td>\n",
       "      <td>58381</td>\n",
       "      <td>193408.000000</td>\n",
       "      <td>58381</td>\n",
       "      <td>193408.000000</td>\n",
       "    </tr>\n",
       "    <tr>\n",
       "      <th>unique</th>\n",
       "      <td>NaN</td>\n",
       "      <td>2</td>\n",
       "      <td>6</td>\n",
       "      <td>NaN</td>\n",
       "      <td>2</td>\n",
       "      <td>NaN</td>\n",
       "      <td>2</td>\n",
       "      <td>10</td>\n",
       "      <td>2</td>\n",
       "      <td>NaN</td>\n",
       "      <td>...</td>\n",
       "      <td>NaN</td>\n",
       "      <td>2</td>\n",
       "      <td>2</td>\n",
       "      <td>2</td>\n",
       "      <td>2</td>\n",
       "      <td>2</td>\n",
       "      <td>2</td>\n",
       "      <td>NaN</td>\n",
       "      <td>2</td>\n",
       "      <td>NaN</td>\n",
       "    </tr>\n",
       "    <tr>\n",
       "      <th>top</th>\n",
       "      <td>NaN</td>\n",
       "      <td>PerCondition</td>\n",
       "      <td>ALZ</td>\n",
       "      <td>NaN</td>\n",
       "      <td>US</td>\n",
       "      <td>NaN</td>\n",
       "      <td>Dog</td>\n",
       "      <td>Bronze</td>\n",
       "      <td>No</td>\n",
       "      <td>NaN</td>\n",
       "      <td>...</td>\n",
       "      <td>NaN</td>\n",
       "      <td>No</td>\n",
       "      <td>No</td>\n",
       "      <td>No</td>\n",
       "      <td>Yes</td>\n",
       "      <td>No</td>\n",
       "      <td>No</td>\n",
       "      <td>NaN</td>\n",
       "      <td>No</td>\n",
       "      <td>NaN</td>\n",
       "    </tr>\n",
       "    <tr>\n",
       "      <th>freq</th>\n",
       "      <td>NaN</td>\n",
       "      <td>185253</td>\n",
       "      <td>104487</td>\n",
       "      <td>NaN</td>\n",
       "      <td>183634</td>\n",
       "      <td>NaN</td>\n",
       "      <td>157313</td>\n",
       "      <td>51574</td>\n",
       "      <td>193400</td>\n",
       "      <td>NaN</td>\n",
       "      <td>...</td>\n",
       "      <td>NaN</td>\n",
       "      <td>56660</td>\n",
       "      <td>54583</td>\n",
       "      <td>52672</td>\n",
       "      <td>29670</td>\n",
       "      <td>32466</td>\n",
       "      <td>48020</td>\n",
       "      <td>NaN</td>\n",
       "      <td>47874</td>\n",
       "      <td>NaN</td>\n",
       "    </tr>\n",
       "    <tr>\n",
       "      <th>mean</th>\n",
       "      <td>4.883867</td>\n",
       "      <td>NaN</td>\n",
       "      <td>NaN</td>\n",
       "      <td>0.867383</td>\n",
       "      <td>NaN</td>\n",
       "      <td>257.484179</td>\n",
       "      <td>NaN</td>\n",
       "      <td>NaN</td>\n",
       "      <td>NaN</td>\n",
       "      <td>1.143722</td>\n",
       "      <td>...</td>\n",
       "      <td>0.562770</td>\n",
       "      <td>NaN</td>\n",
       "      <td>NaN</td>\n",
       "      <td>NaN</td>\n",
       "      <td>NaN</td>\n",
       "      <td>NaN</td>\n",
       "      <td>NaN</td>\n",
       "      <td>0.634922</td>\n",
       "      <td>NaN</td>\n",
       "      <td>0.637298</td>\n",
       "    </tr>\n",
       "    <tr>\n",
       "      <th>std</th>\n",
       "      <td>2.781543</td>\n",
       "      <td>NaN</td>\n",
       "      <td>NaN</td>\n",
       "      <td>0.083668</td>\n",
       "      <td>NaN</td>\n",
       "      <td>136.975385</td>\n",
       "      <td>NaN</td>\n",
       "      <td>NaN</td>\n",
       "      <td>NaN</td>\n",
       "      <td>1.334847</td>\n",
       "      <td>...</td>\n",
       "      <td>2.018385</td>\n",
       "      <td>NaN</td>\n",
       "      <td>NaN</td>\n",
       "      <td>NaN</td>\n",
       "      <td>NaN</td>\n",
       "      <td>NaN</td>\n",
       "      <td>NaN</td>\n",
       "      <td>0.481453</td>\n",
       "      <td>NaN</td>\n",
       "      <td>0.931116</td>\n",
       "    </tr>\n",
       "    <tr>\n",
       "      <th>min</th>\n",
       "      <td>0.000000</td>\n",
       "      <td>NaN</td>\n",
       "      <td>NaN</td>\n",
       "      <td>0.700000</td>\n",
       "      <td>NaN</td>\n",
       "      <td>0.000000</td>\n",
       "      <td>NaN</td>\n",
       "      <td>NaN</td>\n",
       "      <td>NaN</td>\n",
       "      <td>0.000000</td>\n",
       "      <td>...</td>\n",
       "      <td>0.000000</td>\n",
       "      <td>NaN</td>\n",
       "      <td>NaN</td>\n",
       "      <td>NaN</td>\n",
       "      <td>NaN</td>\n",
       "      <td>NaN</td>\n",
       "      <td>NaN</td>\n",
       "      <td>0.000000</td>\n",
       "      <td>NaN</td>\n",
       "      <td>0.138687</td>\n",
       "    </tr>\n",
       "    <tr>\n",
       "      <th>25%</th>\n",
       "      <td>3.000000</td>\n",
       "      <td>NaN</td>\n",
       "      <td>NaN</td>\n",
       "      <td>0.800000</td>\n",
       "      <td>NaN</td>\n",
       "      <td>200.000000</td>\n",
       "      <td>NaN</td>\n",
       "      <td>NaN</td>\n",
       "      <td>NaN</td>\n",
       "      <td>0.000000</td>\n",
       "      <td>...</td>\n",
       "      <td>0.000000</td>\n",
       "      <td>NaN</td>\n",
       "      <td>NaN</td>\n",
       "      <td>NaN</td>\n",
       "      <td>NaN</td>\n",
       "      <td>NaN</td>\n",
       "      <td>NaN</td>\n",
       "      <td>0.000000</td>\n",
       "      <td>NaN</td>\n",
       "      <td>0.138687</td>\n",
       "    </tr>\n",
       "    <tr>\n",
       "      <th>50%</th>\n",
       "      <td>4.000000</td>\n",
       "      <td>NaN</td>\n",
       "      <td>NaN</td>\n",
       "      <td>0.900000</td>\n",
       "      <td>NaN</td>\n",
       "      <td>200.000000</td>\n",
       "      <td>NaN</td>\n",
       "      <td>NaN</td>\n",
       "      <td>NaN</td>\n",
       "      <td>0.000000</td>\n",
       "      <td>...</td>\n",
       "      <td>0.000000</td>\n",
       "      <td>NaN</td>\n",
       "      <td>NaN</td>\n",
       "      <td>NaN</td>\n",
       "      <td>NaN</td>\n",
       "      <td>NaN</td>\n",
       "      <td>NaN</td>\n",
       "      <td>1.000000</td>\n",
       "      <td>NaN</td>\n",
       "      <td>0.138687</td>\n",
       "    </tr>\n",
       "    <tr>\n",
       "      <th>75%</th>\n",
       "      <td>6.000000</td>\n",
       "      <td>NaN</td>\n",
       "      <td>NaN</td>\n",
       "      <td>0.900000</td>\n",
       "      <td>NaN</td>\n",
       "      <td>300.000000</td>\n",
       "      <td>NaN</td>\n",
       "      <td>NaN</td>\n",
       "      <td>NaN</td>\n",
       "      <td>2.000000</td>\n",
       "      <td>...</td>\n",
       "      <td>0.095205</td>\n",
       "      <td>NaN</td>\n",
       "      <td>NaN</td>\n",
       "      <td>NaN</td>\n",
       "      <td>NaN</td>\n",
       "      <td>NaN</td>\n",
       "      <td>NaN</td>\n",
       "      <td>1.000000</td>\n",
       "      <td>NaN</td>\n",
       "      <td>1.270030</td>\n",
       "    </tr>\n",
       "    <tr>\n",
       "      <th>max</th>\n",
       "      <td>25.000000</td>\n",
       "      <td>NaN</td>\n",
       "      <td>NaN</td>\n",
       "      <td>1.000000</td>\n",
       "      <td>NaN</td>\n",
       "      <td>2500.000000</td>\n",
       "      <td>NaN</td>\n",
       "      <td>NaN</td>\n",
       "      <td>NaN</td>\n",
       "      <td>7.000000</td>\n",
       "      <td>...</td>\n",
       "      <td>63.042180</td>\n",
       "      <td>NaN</td>\n",
       "      <td>NaN</td>\n",
       "      <td>NaN</td>\n",
       "      <td>NaN</td>\n",
       "      <td>NaN</td>\n",
       "      <td>NaN</td>\n",
       "      <td>1.000000</td>\n",
       "      <td>NaN</td>\n",
       "      <td>8.149842</td>\n",
       "    </tr>\n",
       "  </tbody>\n",
       "</table>\n",
       "<p>11 rows × 25 columns</p>\n",
       "</div>"
      ],
      "text/plain": [
       "                  Age  AnnualDedInd CarrierCd       CopayPct Country  \\\n",
       "count   193408.000000        193408    193408  193408.000000  193408   \n",
       "unique            NaN             2         6            NaN       2   \n",
       "top               NaN  PerCondition       ALZ            NaN      US   \n",
       "freq              NaN        185253    104487            NaN  183634   \n",
       "mean         4.883867           NaN       NaN       0.867383     NaN   \n",
       "std          2.781543           NaN       NaN       0.083668     NaN   \n",
       "min          0.000000           NaN       NaN       0.700000     NaN   \n",
       "25%          3.000000           NaN       NaN       0.800000     NaN   \n",
       "50%          4.000000           NaN       NaN       0.900000     NaN   \n",
       "75%          6.000000           NaN       NaN       0.900000     NaN   \n",
       "max         25.000000           NaN       NaN       1.000000     NaN   \n",
       "\n",
       "           Deductible PetType PolicyForm Introductory_Upgrade  \\\n",
       "count   193408.000000  193408     193408               193408   \n",
       "unique            NaN       2         10                    2   \n",
       "top               NaN     Dog     Bronze                   No   \n",
       "freq              NaN  157313      51574               193400   \n",
       "mean       257.484179     NaN        NaN                  NaN   \n",
       "std        136.975385     NaN        NaN                  NaN   \n",
       "min          0.000000     NaN        NaN                  NaN   \n",
       "25%        200.000000     NaN        NaN                  NaN   \n",
       "50%        200.000000     NaN        NaN                  NaN   \n",
       "75%        300.000000     NaN        NaN                  NaN   \n",
       "max       2500.000000     NaN        NaN                  NaN   \n",
       "\n",
       "        TransactionCdRenewal      ...                  LR1 Claimin30_1  \\\n",
       "count          193408.000000      ...        193408.000000       58381   \n",
       "unique                   NaN      ...                  NaN           2   \n",
       "top                      NaN      ...                  NaN          No   \n",
       "freq                     NaN      ...                  NaN       56660   \n",
       "mean                1.143722      ...             0.562770         NaN   \n",
       "std                 1.334847      ...             2.018385         NaN   \n",
       "min                 0.000000      ...             0.000000         NaN   \n",
       "25%                 0.000000      ...             0.000000         NaN   \n",
       "50%                 0.000000      ...             0.000000         NaN   \n",
       "75%                 2.000000      ...             0.095205         NaN   \n",
       "max                 7.000000      ...            63.042180         NaN   \n",
       "\n",
       "       Claimin60_1 Claimin90_1 Claimin730_1  ClaimCur_1 ClaimNonCur_1  \\\n",
       "count        58381       58381        58381       58381         58381   \n",
       "unique           2           2            2           2             2   \n",
       "top             No          No          Yes          No            No   \n",
       "freq         54583       52672        29670       32466         48020   \n",
       "mean           NaN         NaN          NaN         NaN           NaN   \n",
       "std            NaN         NaN          NaN         NaN           NaN   \n",
       "min            NaN         NaN          NaN         NaN           NaN   \n",
       "25%            NaN         NaN          NaN         NaN           NaN   \n",
       "50%            NaN         NaN          NaN         NaN           NaN   \n",
       "75%            NaN         NaN          NaN         NaN           NaN   \n",
       "max            NaN         NaN          NaN         NaN           NaN   \n",
       "\n",
       "           CouponUsed claimdurationInception60     Prediction  \n",
       "count   193408.000000                    58381  193408.000000  \n",
       "unique            NaN                        2            NaN  \n",
       "top               NaN                       No            NaN  \n",
       "freq              NaN                    47874            NaN  \n",
       "mean         0.634922                      NaN       0.637298  \n",
       "std          0.481453                      NaN       0.931116  \n",
       "min          0.000000                      NaN       0.138687  \n",
       "25%          0.000000                      NaN       0.138687  \n",
       "50%          1.000000                      NaN       0.138687  \n",
       "75%          1.000000                      NaN       1.270030  \n",
       "max          1.000000                      NaN       8.149842  \n",
       "\n",
       "[11 rows x 25 columns]"
      ]
     },
     "execution_count": 4,
     "metadata": {},
     "output_type": "execute_result"
    }
   ],
   "source": [
    "a.describe(include='all')"
   ]
  },
  {
   "cell_type": "code",
   "execution_count": 5,
   "metadata": {},
   "outputs": [
    {
     "data": {
      "text/plain": [
       "Index([u'Age', u'AnnualDedInd', u'CarrierCd', u'CopayPct', u'Country',\n",
       "       u'Deductible', u'PetType', u'PolicyForm', u'Introductory_Upgrade',\n",
       "       u'TransactionCdRenewal', u'LossRatio', u'Mixed_Breed', u'Region',\n",
       "       u'Severity', u'Claimcodecategory', u'LR1', u'Claimin30_1',\n",
       "       u'Claimin60_1', u'Claimin90_1', u'Claimin730_1', u'ClaimCur_1',\n",
       "       u'ClaimNonCur_1', u'CouponUsed', u'claimdurationInception60',\n",
       "       u'Prediction'],\n",
       "      dtype='object')"
      ]
     },
     "execution_count": 5,
     "metadata": {},
     "output_type": "execute_result"
    }
   ],
   "source": [
    "a.columns"
   ]
  },
  {
   "cell_type": "code",
   "execution_count": 6,
   "metadata": {},
   "outputs": [
    {
     "data": {
      "text/plain": [
       "array([nan, 'No', 'Yes'], dtype=object)"
      ]
     },
     "execution_count": 6,
     "metadata": {},
     "output_type": "execute_result"
    }
   ],
   "source": [
    "a['Claimin60_1'].unique()"
   ]
  },
  {
   "cell_type": "code",
   "execution_count": 7,
   "metadata": {
    "scrolled": false
   },
   "outputs": [
    {
     "name": "stdout",
     "output_type": "stream",
     "text": [
      "             LossRatio\n",
      "Claimin60_1           \n",
      "Yes           1.884975\n",
      "No            1.803409\n"
     ]
    }
   ],
   "source": [
    "dir=a.groupby(['Claimin60_1'],sort=False)[['LossRatio']].mean()\n",
    "p=pd.DataFrame(dir)\n",
    "\n",
    "c60=p.sort_values(by=['LossRatio'],ascending=False)[:][:]\n",
    "print c60"
   ]
  },
  {
   "cell_type": "code",
   "execution_count": 8,
   "metadata": {
    "scrolled": false
   },
   "outputs": [
    {
     "data": {
      "text/plain": [
       "array([nan, 'No', 'Yes'], dtype=object)"
      ]
     },
     "execution_count": 8,
     "metadata": {},
     "output_type": "execute_result"
    }
   ],
   "source": [
    "a['claimdurationInception60'].unique()"
   ]
  },
  {
   "cell_type": "code",
   "execution_count": 9,
   "metadata": {
    "scrolled": false
   },
   "outputs": [
    {
     "name": "stdout",
     "output_type": "stream",
     "text": [
      "                          LossRatio\n",
      "claimdurationInception60           \n",
      "Yes                        3.476586\n",
      "No                         1.442664\n"
     ]
    }
   ],
   "source": [
    "dir=a.groupby(['claimdurationInception60'],sort=False)[['LossRatio']].mean()\n",
    "p=pd.DataFrame(dir)\n",
    "\n",
    "cl=p.sort_values(by=['LossRatio'],ascending=False)[:][:]\n",
    "print cl"
   ]
  },
  {
   "cell_type": "code",
   "execution_count": 10,
   "metadata": {},
   "outputs": [
    {
     "data": {
      "image/png": "[encoded data removed]",
      "text/plain": [
       "<Figure size 216x288 with 1 Axes>"
      ]
     },
     "metadata": {},
     "output_type": "display_data"
    }
   ],
   "source": [
    "plt.figure(figsize=(3,4))\n",
    "plt.bar(cl.index, cl['LossRatio'], color=\"red\")\n",
    "plt.xlabel('claimdurationinception60')\n",
    "plt.ylabel('LossRatio')\n",
    "plt.savefig('E:/Petplan/eda/claimdurationinception60.png')"
   ]
  },
  {
   "cell_type": "code",
   "execution_count": 11,
   "metadata": {
    "scrolled": true
   },
   "outputs": [
    {
     "data": {
      "text/plain": [
       "array(['None', 'Curable', 'Non-Curable'], dtype=object)"
      ]
     },
     "execution_count": 11,
     "metadata": {},
     "output_type": "execute_result"
    }
   ],
   "source": [
    "a['Severity'].unique()"
   ]
  },
  {
   "cell_type": "code",
   "execution_count": 12,
   "metadata": {
    "scrolled": false
   },
   "outputs": [
    {
     "name": "stdout",
     "output_type": "stream",
     "text": [
      "             LossRatio\n",
      "Severity              \n",
      "Non-Curable   2.562049\n",
      "Curable       1.540247\n",
      "None          0.137310\n"
     ]
    }
   ],
   "source": [
    "dir=a.groupby(['Severity'],sort=False)[['LossRatio']].mean()\n",
    "p=pd.DataFrame(dir)\n",
    "\n",
    "sev=p.sort_values(by=['LossRatio'],ascending=False)[:][:]\n",
    "print sev"
   ]
  },
  {
   "cell_type": "code",
   "execution_count": 13,
   "metadata": {
    "scrolled": false
   },
   "outputs": [
    {
     "data": {
      "image/png": "[encoded data removed]",
      "text/plain": [
       "<Figure size 288x288 with 1 Axes>"
      ]
     },
     "metadata": {},
     "output_type": "display_data"
    }
   ],
   "source": [
    "plt.figure(figsize=(4,4))\n",
    "plt.bar(sev.index, sev['LossRatio'], color=\"red\")\n",
    "plt.xlabel('Severity')\n",
    "plt.ylabel('LossRatio')\n",
    "plt.savefig('E:/Petplan/eda/Severity.png')"
   ]
  },
  {
   "cell_type": "code",
   "execution_count": 14,
   "metadata": {
    "scrolled": false
   },
   "outputs": [
    {
     "data": {
      "text/plain": [
       "array(['None', 'Curable', 'Non-Curable'], dtype=object)"
      ]
     },
     "execution_count": 14,
     "metadata": {},
     "output_type": "execute_result"
    }
   ],
   "source": [
    "a['Severity'].unique()"
   ]
  },
  {
   "cell_type": "code",
   "execution_count": 15,
   "metadata": {
    "scrolled": false
   },
   "outputs": [
    {
     "name": "stdout",
     "output_type": "stream",
     "text": [
      "     LossRatio\n",
      "Age           \n",
      "18    2.526897\n",
      "16    2.081461\n",
      "14    1.565905\n",
      "20    1.523874\n",
      "0     1.507075\n",
      "15    1.439832\n",
      "13    1.396328\n",
      "19    1.271389\n",
      "11    1.246113\n",
      "12    1.188217\n",
      "21    1.077506\n",
      "10    1.064058\n",
      "17    1.044895\n",
      "9     0.998366\n",
      "8     0.990019\n",
      "7     0.729228\n",
      "6     0.643198\n",
      "5     0.577559\n",
      "4     0.550001\n",
      "3     0.541742\n",
      "2     0.418502\n",
      "1     0.163448\n",
      "25    0.000000\n"
     ]
    }
   ],
   "source": [
    "dir=a.groupby(['Age'],sort=False)[['LossRatio']].mean()\n",
    "p=pd.DataFrame(dir)\n",
    "\n",
    "age=p.sort_values(by=['LossRatio'],ascending=False)[:][:]\n",
    "print age"
   ]
  },
  {
   "cell_type": "code",
   "execution_count": 16,
   "metadata": {
    "scrolled": true
   },
   "outputs": [
    {
     "data": {
      "image/png": "[encoded data removed]",
      "text/plain": [
       "<Figure size 720x288 with 1 Axes>"
      ]
     },
     "metadata": {},
     "output_type": "display_data"
    }
   ],
   "source": [
    "plt.figure(figsize=(10,4))\n",
    "plt.bar(age.index, age['LossRatio'], color=\"red\")\n",
    "plt.xlabel('Age')\n",
    "plt.ylabel('LossRatio')\n",
    "plt.savefig('E:/Petplan/eda/age.png')"
   ]
  },
  {
   "cell_type": "code",
   "execution_count": 17,
   "metadata": {
    "scrolled": true
   },
   "outputs": [
    {
     "name": "stdout",
     "output_type": "stream",
     "text": [
      "            LossRatio\n",
      "PolicyForm           \n",
      "Gold         0.853425\n",
      "Silver       0.803695\n",
      "Bronze       0.724954\n",
      "25000        0.714796\n",
      "10000        0.588878\n",
      "2500         0.489889\n",
      "Unlimited    0.486404\n",
      "20000        0.468292\n",
      "5000         0.452037\n",
      "15000        0.449462\n"
     ]
    }
   ],
   "source": [
    "dir=a.groupby(['PolicyForm'],sort=False)[['LossRatio']].mean()\n",
    "p=pd.DataFrame(dir)\n",
    "\n",
    "q=p.sort_values(by=['LossRatio'],ascending=False)[:][:]\n",
    "print q"
   ]
  },
  {
   "cell_type": "code",
   "execution_count": 18,
   "metadata": {},
   "outputs": [
    {
     "data": {
      "image/png": "[encoded data removed]",
      "text/plain": [
       "<Figure size 720x288 with 1 Axes>"
      ]
     },
     "metadata": {},
     "output_type": "display_data"
    }
   ],
   "source": [
    "plt.figure(figsize=(10,4))\n",
    "plt.bar(q.index, q['LossRatio'], color=\"red\")\n",
    "plt.xlabel('PolicyForm')\n",
    "plt.ylabel('LossRatio')\n",
    "plt.savefig('E:/Petplan/eda/PolcyForm.png')"
   ]
  },
  {
   "cell_type": "code",
   "execution_count": 19,
   "metadata": {},
   "outputs": [
    {
     "data": {
      "text/plain": [
       "array([2, 3, 1, 0, 4, 5, 6, 7], dtype=int64)"
      ]
     },
     "execution_count": 19,
     "metadata": {},
     "output_type": "execute_result"
    }
   ],
   "source": [
    "a['TransactionCdRenewal'].unique()"
   ]
  },
  {
   "cell_type": "code",
   "execution_count": 20,
   "metadata": {
    "scrolled": true
   },
   "outputs": [
    {
     "name": "stdout",
     "output_type": "stream",
     "text": [
      "                      LossRatio\n",
      "TransactionCdRenewal           \n",
      "7                      2.185163\n",
      "6                      0.839262\n",
      "0                      0.807404\n",
      "5                      0.703928\n",
      "4                      0.586379\n",
      "3                      0.496396\n",
      "2                      0.478508\n",
      "1                      0.386356\n"
     ]
    }
   ],
   "source": [
    "dir=a.groupby(['TransactionCdRenewal'],sort=False)[['LossRatio']].mean()\n",
    "p=pd.DataFrame(dir)\n",
    "\n",
    "t=p.sort_values(by=['LossRatio'],ascending=False)[:][:]\n",
    "print t"
   ]
  },
  {
   "cell_type": "code",
   "execution_count": 21,
   "metadata": {},
   "outputs": [
    {
     "data": {
      "image/png": "[encoded data removed]",
      "text/plain": [
       "<Figure size 576x288 with 1 Axes>"
      ]
     },
     "metadata": {},
     "output_type": "display_data"
    }
   ],
   "source": [
    "plt.figure(figsize=(8,4))\n",
    "plt.bar(t.index, t['LossRatio'], color=\"red\")\n",
    "plt.xlabel('TransactionCdRenewal')\n",
    "plt.ylabel('LossRatio')\n",
    "plt.savefig('E:/Petplan/eda/TransactionCdRenewal.png')"
   ]
  },
  {
   "cell_type": "code",
   "execution_count": 22,
   "metadata": {},
   "outputs": [
    {
     "name": "stdout",
     "output_type": "stream",
     "text": [
      "                 LossRatio\n",
      "Region                    \n",
      "Northern Canada   0.953412\n",
      "West              0.683851\n",
      "Northeast         0.659412\n",
      "South             0.632387\n",
      "Midwest           0.587585\n",
      "Western Canada    0.440614\n",
      "Eastern Canada    0.414212\n"
     ]
    }
   ],
   "source": [
    "dir=a.groupby(['Region'],sort=False)[['LossRatio']].mean()\n",
    "p=pd.DataFrame(dir)\n",
    "\n",
    "r=p.sort_values(by=['LossRatio'],ascending=False)[:][:]\n",
    "print r"
   ]
  },
  {
   "cell_type": "code",
   "execution_count": 23,
   "metadata": {},
   "outputs": [
    {
     "data": {
      "image/png": "[encoded data removed]",
      "text/plain": [
       "<Figure size 576x288 with 1 Axes>"
      ]
     },
     "metadata": {},
     "output_type": "display_data"
    }
   ],
   "source": [
    "plt.figure(figsize=(8,4))\n",
    "plt.bar(r.index, r['LossRatio'], color=\"red\")\n",
    "plt.xlabel('Region')\n",
    "plt.ylabel('LossRatio')\n",
    "plt.savefig('E:/Petplan/eda/Region.png')"
   ]
  },
  {
   "cell_type": "code",
   "execution_count": 24,
   "metadata": {},
   "outputs": [
    {
     "data": {
      "text/plain": [
       "<matplotlib.legend.Legend at 0xc82d8f0>"
      ]
     },
     "execution_count": 24,
     "metadata": {},
     "output_type": "execute_result"
    },
    {
     "data": {
      "image/png": "[encoded data removed]",
      "text/plain": [
       "<Figure size 1080x720 with 1 Axes>"
      ]
     },
     "metadata": {},
     "output_type": "display_data"
    }
   ],
   "source": [
    "plt.figure(figsize=(15,10))\n",
    "plt.ylim(0,300)\n",
    "plt.plot( a.index,a['LossRatio'], marker='.', markerfacecolor='blue', markersize=12, color='skyblue', linewidth=4)\n",
    "plt.plot( a.index,a['Prediction'], marker='o', color='green', linewidth=2)\n",
    "plt.legend()\n"
   ]
  }
 ],
 "metadata": {
  "kernelspec": {
   "display_name": "Python 2",
   "language": "python",
   "name": "python2"
  },
  "language_info": {
   "codemirror_mode": {
    "name": "ipython",
    "version": 2
   },
   "file_extension": ".py",
   "mimetype": "text/x-python",
   "name": "python",
   "nbconvert_exporter": "python",
   "pygments_lexer": "ipython2",
   "version": "2.7.13"
  }
 },
 "nbformat": 4,
 "nbformat_minor": 2
}
