{
 "cells": [
  {
   "cell_type": "code",
   "execution_count": 1,
   "metadata": {},
   "outputs": [],
   "source": [
    "import pandas as pd\n",
    "import numpy as np\n",
    "import os\n",
    "from os import listdir\n",
    "a=pd.read_csv(\"/home/jash/Desktop/capstone/labels_new.csv\")"
   ]
  },
  {
   "cell_type": "code",
   "execution_count": 2,
   "metadata": {},
   "outputs": [
    {
     "name": "stdout",
     "output_type": "stream",
     "text": [
      "Done miniature_poodle\n",
      "Done eskimo_dog\n",
      "Done italian_greyhound\n",
      "Done newfoundland\n",
      "Done otterhound\n",
      "Done norfolk_terrier\n",
      "Done basenji\n",
      "Done black-and-tan_coonhound\n",
      "Done irish_wolfhound\n",
      "Done miniature_schnauzer\n",
      "Done german_short-haired_pointer\n",
      "Done groenendael\n",
      "Done english_setter\n",
      "Done chesapeake_bay_retriever\n",
      "Done collie\n",
      "Done leonberg\n",
      "Done west_highland_white_terrier\n",
      "Done toy_terrier\n",
      "Done japanese_spaniel\n",
      "Done affenpinscher\n",
      "Done scottish_deerhound\n",
      "Done borzoi\n",
      "Done curly-coated_retriever\n",
      "Done shih-tzu\n",
      "Done yorkshire_terrier\n",
      "Done malinois\n",
      "Done shetland_sheepdog\n",
      "Done weimaraner\n",
      "Done bouvier_des_flandres\n",
      "Done cairn\n",
      "Done maltese_dog\n",
      "Done ibizan_hound\n",
      "Done chihuahua\n",
      "Done kerry_blue_terrier\n",
      "Done standard_schnauzer\n",
      "Done standard_poodle\n",
      "Done vizsla\n",
      "Done miniature_pinscher\n",
      "Done great_dane\n",
      "Done wire-haired_fox_terrier\n",
      "Done great_pyrenees\n",
      "Done samoyed\n",
      "Done staffordshire_bullterrier\n",
      "Done cocker_spaniel\n",
      "Done airedale\n",
      "Done french_bulldog\n",
      "Done irish_water_spaniel\n",
      "Done doberman\n",
      "Done norwegian_elkhound\n",
      "Done bull_mastiff\n",
      "Done cardigan\n",
      "Done boston_bull\n",
      "Done pembroke\n",
      "Done bedlington_terrier\n",
      "Done clumber\n",
      "Done blenheim_spaniel\n",
      "Done border_collie\n",
      "Done brabancon_griffon\n",
      "Done sussex_spaniel\n",
      "Done bloodhound\n",
      "Done old_english_sheepdog\n",
      "Done german_shepherd\n",
      "Done giant_schnauzer\n",
      "Done dingo\n",
      "Done afghan_hound\n",
      "Done walker_hound\n",
      "Done irish_terrier\n",
      "Done toy_poodle\n",
      "Done dandie_dinmont\n",
      "Done labrador_retriever\n",
      "Done briard\n",
      "Done soft-coated_wheaten_terrier\n",
      "Done bernese_mountain_dog\n",
      "Done dhole\n",
      "Done siberian_husky\n",
      "Done rhodesian_ridgeback\n",
      "Done rottweiler\n",
      "Done gordon_setter\n",
      "Done appenzeller\n",
      "Done redbone\n",
      "Done papillon\n",
      "Done tibetan_terrier\n",
      "Done welsh_springer_spaniel\n",
      "Done english_springer\n",
      "Done schipperke\n",
      "Done african_hunting_dog\n",
      "Done malamute\n",
      "Done lakeland_terrier\n",
      "Done tibetan_mastiff\n",
      "Done english_foxhound\n",
      "Done irish_setter\n",
      "Done saint_bernard\n",
      "Done norwich_terrier\n",
      "Done kelpie\n",
      "Done scotch_terrier\n",
      "Done lhasa\n",
      "Done saluki\n",
      "Done american_staffordshire_terrier\n",
      "Done sealyham_terrier\n",
      "Done boxer\n",
      "Done pomeranian\n",
      "Done brittany_spaniel\n",
      "Done australian_terrier\n",
      "Done keeshond\n",
      "Done golden_retriever\n",
      "Done kuvasz\n",
      "Done bluetick\n",
      "Done beagle\n",
      "Done entlebucher\n",
      "Done silky_terrier\n",
      "Done chow\n",
      "Done border_terrier\n",
      "Done greater_swiss_mountain_dog\n",
      "Done flat-coated_retriever\n",
      "Done komondor\n",
      "Done pekinese\n",
      "Done whippet\n",
      "Done basset\n",
      "Done mexican_hairless\n",
      "Done pug\n"
     ]
    }
   ],
   "source": [
    "\n",
    "result_array = np.empty((0, 2049))\n",
    "location = '/home/jash/Desktop/capstone/bottleneck'\n",
    "folder_list = listdir(location)\n",
    "for folder in folder_list:\n",
    "   folder_loc = location+'/'+folder\n",
    "   file_list = os.listdir(folder_loc)\n",
    "   \n",
    "   for i in file_list:\n",
    "      \n",
    "       \n",
    "       file_list_loc = folder_loc+'/'+i\n",
    "       data1 = pd.read_csv(file_list_loc, header= None )\n",
    "       data1['labels']=str(folder)\n",
    "       result_array = np.append(result_array,data1,axis= 0)\n",
    "        \n",
    "       \n",
    "       \n",
    "   print('Done '+str(folder))\n",
    "\n",
    "\n",
    "\n"
   ]
  },
  {
   "cell_type": "code",
   "execution_count": 4,
   "metadata": {},
   "outputs": [],
   "source": [
    "\n",
    "from sklearn.ensemble import RandomForestClassifier\n",
    "from sklearn.datasets import make_classification\n",
    "from sklearn.cross_validation import train_test_split\n"
   ]
  },
  {
   "cell_type": "code",
   "execution_count": 11,
   "metadata": {},
   "outputs": [],
   "source": [
    "a=pd.DataFrame(data=result_array,index=None)\n"
   ]
  },
  {
   "cell_type": "code",
   "execution_count": 6,
   "metadata": {},
   "outputs": [],
   "source": [
    "data=a\n",
    "df_x=data.iloc[:,0:-1]\n",
    "df_y=data.iloc[:,2048]\n",
    "\n"
   ]
  },
  {
   "cell_type": "code",
   "execution_count": 7,
   "metadata": {},
   "outputs": [],
   "source": [
    "data.to_csv(\"/home/jash/Desktop/capstone/data_after_inception.csv\")"
   ]
  },
  {
   "cell_type": "code",
   "execution_count": 8,
   "metadata": {},
   "outputs": [],
   "source": [
    "\n",
    "x_train, x_test, y_train, y_test = train_test_split(df_x, df_y, test_size=0.2, random_state=4)\n",
    "y_train.head()\n",
    "\n",
    "rf=RandomForestClassifier(n_estimators=100)\n",
    "rf.fit(x_train,y_train)\n",
    "\n",
    "\n",
    "pred=rf.predict(x_test)"
   ]
  },
  {
   "cell_type": "code",
   "execution_count": 9,
   "metadata": {},
   "outputs": [
    {
     "name": "stdout",
     "output_type": "stream",
     "text": [
      "('count:', 4869.0)\n",
      "('Total', 8178)\n",
      "('Accuracy:', 0.5953778429933969)\n"
     ]
    }
   ],
   "source": [
    "s=y_test.values\n",
    "count=0\n",
    "for i in range(len(pred)):\n",
    "    if pred[i]==s[i]:\n",
    "        count=count+1.0\n",
    "print(\"count:\",count)\n",
    "print(\"Total\",len(pred))\n",
    "print(\"Accuracy:\",float(count/len(pred)))\n"
   ]
  },
  {
   "cell_type": "code",
   "execution_count": 10,
   "metadata": {},
   "outputs": [
    {
     "data": {
      "text/plain": [
       "0.9999082849281565"
      ]
     },
     "execution_count": 10,
     "metadata": {},
     "output_type": "execute_result"
    }
   ],
   "source": [
    "rf.score(x_train.values,y_train.values)\n"
   ]
  }
 ],
 "metadata": {
  "kernelspec": {
   "display_name": "Python 2",
   "language": "python",
   "name": "python2"
  },
  "language_info": {
   "codemirror_mode": {
    "name": "ipython",
    "version": 2
   },
   "file_extension": ".py",
   "mimetype": "text/x-python",
   "name": "python",
   "nbconvert_exporter": "python",
   "pygments_lexer": "ipython2",
   "version": "2.7.14"
  }
 },
 "nbformat": 4,
 "nbformat_minor": 2
}
