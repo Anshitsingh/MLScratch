{
 "cells": [
  {
   "cell_type": "code",
   "execution_count": 1,
   "metadata": {
    "scrolled": true
   },
   "outputs": [
    {
     "name": "stderr",
     "output_type": "stream",
     "text": [
      "Skipping line 9943: expected 44 fields, saw 45\n",
      "\n",
      "Skipping line 1494988: expected 44 fields, saw 45\n",
      "\n",
      "/home/jash/anaconda3/envs/py27/lib/python2.7/site-packages/IPython/core/interactiveshell.py:2718: DtypeWarning: Columns (24,34) have mixed types. Specify dtype option on import or set low_memory=False.\n",
      "  interactivity=interactivity, compiler=compiler, result=result)\n"
     ]
    }
   ],
   "source": [
    "import pandas as pd\n",
    "a=pd.read_csv('/home/jash/Desktop/petplan/profit/ProfitabilityData_V2.csv', sep='|', error_bad_lines=False)"
   ]
  },
  {
   "cell_type": "code",
   "execution_count": 2,
   "metadata": {},
   "outputs": [
    {
     "data": {
      "text/plain": [
       "1580073"
      ]
     },
     "execution_count": 2,
     "metadata": {},
     "output_type": "execute_result"
    }
   ],
   "source": [
    "len(a)"
   ]
  },
  {
   "cell_type": "code",
   "execution_count": 3,
   "metadata": {
    "scrolled": false
   },
   "outputs": [
    {
     "data": {
      "text/html": [
       "<div>\n",
       "<style scoped>\n",
       "    .dataframe tbody tr th:only-of-type {\n",
       "        vertical-align: middle;\n",
       "    }\n",
       "\n",
       "    .dataframe tbody tr th {\n",
       "        vertical-align: top;\n",
       "    }\n",
       "\n",
       "    .dataframe thead th {\n",
       "        text-align: right;\n",
       "    }\n",
       "</style>\n",
       "<table border=\"1\" class=\"dataframe\">\n",
       "  <thead>\n",
       "    <tr style=\"text-align: right;\">\n",
       "      <th></th>\n",
       "      <th>Age</th>\n",
       "      <th>AnnualDedInd</th>\n",
       "      <th>BreedName</th>\n",
       "      <th>CampaignCd</th>\n",
       "      <th>CancelDt</th>\n",
       "      <th>CarrierCd</th>\n",
       "      <th>ControllingStateCd</th>\n",
       "      <th>CopayPct</th>\n",
       "      <th>CrtdDateTime</th>\n",
       "      <th>CrtdUser</th>\n",
       "      <th>...</th>\n",
       "      <th>RenewedFromPolicyRef</th>\n",
       "      <th>RptSalesExecutive</th>\n",
       "      <th>SourceSystem</th>\n",
       "      <th>StatusCd</th>\n",
       "      <th>TransactionCd</th>\n",
       "      <th>TransactionDt</th>\n",
       "      <th>TransactionNumber</th>\n",
       "      <th>UpdateTimestamp</th>\n",
       "      <th>ClaimCount</th>\n",
       "      <th>ClaimAmount</th>\n",
       "    </tr>\n",
       "  </thead>\n",
       "  <tbody>\n",
       "    <tr>\n",
       "      <th>0</th>\n",
       "      <td>0.0</td>\n",
       "      <td>PerCondition</td>\n",
       "      <td>Domestic Longhair</td>\n",
       "      <td>0</td>\n",
       "      <td>1899-12-30</td>\n",
       "      <td>AGR</td>\n",
       "      <td>Bc</td>\n",
       "      <td>10.0</td>\n",
       "      <td>2018-08-08 11:12:00</td>\n",
       "      <td>FETCH\\sqlrepserviceaccount</td>\n",
       "      <td>...</td>\n",
       "      <td>NaN</td>\n",
       "      <td>1</td>\n",
       "      <td>TCAS</td>\n",
       "      <td>Lapsed</td>\n",
       "      <td>Policy</td>\n",
       "      <td>2013-11-19 12:13:00</td>\n",
       "      <td>NaN</td>\n",
       "      <td>2017-12-31 00:00:00.0000000</td>\n",
       "      <td>0</td>\n",
       "      <td>NaN</td>\n",
       "    </tr>\n",
       "    <tr>\n",
       "      <th>1</th>\n",
       "      <td>2.0</td>\n",
       "      <td>PerCondition</td>\n",
       "      <td>Colorpoint</td>\n",
       "      <td>0</td>\n",
       "      <td>2012-08-28</td>\n",
       "      <td>AGR</td>\n",
       "      <td>X</td>\n",
       "      <td>0.0</td>\n",
       "      <td>2018-08-08 11:12:00</td>\n",
       "      <td>FETCH\\sqlrepserviceaccount</td>\n",
       "      <td>...</td>\n",
       "      <td>NaN</td>\n",
       "      <td>1</td>\n",
       "      <td>TCAS</td>\n",
       "      <td>Cancelled</td>\n",
       "      <td>Policy</td>\n",
       "      <td>2012-08-29 11:20:00</td>\n",
       "      <td>NaN</td>\n",
       "      <td>2017-12-31 00:00:00.0000000</td>\n",
       "      <td>0</td>\n",
       "      <td>NaN</td>\n",
       "    </tr>\n",
       "    <tr>\n",
       "      <th>2</th>\n",
       "      <td>2.0</td>\n",
       "      <td>PerCondition</td>\n",
       "      <td>Poodle Mix</td>\n",
       "      <td>0</td>\n",
       "      <td>1899-12-30</td>\n",
       "      <td>AGR</td>\n",
       "      <td>AB</td>\n",
       "      <td>10.0</td>\n",
       "      <td>2018-08-08 11:12:00</td>\n",
       "      <td>FETCH\\sqlrepserviceaccount</td>\n",
       "      <td>...</td>\n",
       "      <td>NaN</td>\n",
       "      <td>4</td>\n",
       "      <td>TCAS</td>\n",
       "      <td>Lapsed</td>\n",
       "      <td>Policy</td>\n",
       "      <td>2015-08-20 07:06:00</td>\n",
       "      <td>NaN</td>\n",
       "      <td>2017-12-31 00:00:00.0000000</td>\n",
       "      <td>0</td>\n",
       "      <td>NaN</td>\n",
       "    </tr>\n",
       "    <tr>\n",
       "      <th>3</th>\n",
       "      <td>2.0</td>\n",
       "      <td>PerCondition</td>\n",
       "      <td>English Springer Spaniel</td>\n",
       "      <td>0</td>\n",
       "      <td>1899-12-30</td>\n",
       "      <td>AGR</td>\n",
       "      <td>On</td>\n",
       "      <td>0.0</td>\n",
       "      <td>2018-08-08 11:12:00</td>\n",
       "      <td>FETCH\\sqlrepserviceaccount</td>\n",
       "      <td>...</td>\n",
       "      <td>NaN</td>\n",
       "      <td>4</td>\n",
       "      <td>TCAS</td>\n",
       "      <td>Renewed to SPI</td>\n",
       "      <td>Policy</td>\n",
       "      <td>2016-09-30 17:43:00</td>\n",
       "      <td>NaN</td>\n",
       "      <td>2017-12-31 00:00:00.0000000</td>\n",
       "      <td>0</td>\n",
       "      <td>NaN</td>\n",
       "    </tr>\n",
       "    <tr>\n",
       "      <th>4</th>\n",
       "      <td>0.0</td>\n",
       "      <td>PerCondition</td>\n",
       "      <td>Domestic Mediumhair</td>\n",
       "      <td>0</td>\n",
       "      <td>1899-12-30</td>\n",
       "      <td>AGR</td>\n",
       "      <td>AB</td>\n",
       "      <td>0.0</td>\n",
       "      <td>2018-08-08 11:12:00</td>\n",
       "      <td>FETCH\\sqlrepserviceaccount</td>\n",
       "      <td>...</td>\n",
       "      <td>NaN</td>\n",
       "      <td>1</td>\n",
       "      <td>TCAS</td>\n",
       "      <td>Lapsed</td>\n",
       "      <td>Policy</td>\n",
       "      <td>2014-05-21 14:37:00</td>\n",
       "      <td>NaN</td>\n",
       "      <td>2017-12-31 00:00:00.0000000</td>\n",
       "      <td>1</td>\n",
       "      <td>510.74</td>\n",
       "    </tr>\n",
       "  </tbody>\n",
       "</table>\n",
       "<p>5 rows × 44 columns</p>\n",
       "</div>"
      ],
      "text/plain": [
       "   Age  AnnualDedInd                 BreedName CampaignCd    CancelDt  \\\n",
       "0  0.0  PerCondition         Domestic Longhair   0         1899-12-30   \n",
       "1  2.0  PerCondition                Colorpoint          0  2012-08-28   \n",
       "2  2.0  PerCondition                Poodle Mix          0  1899-12-30   \n",
       "3  2.0  PerCondition  English Springer Spaniel          0  1899-12-30   \n",
       "4  0.0  PerCondition       Domestic Mediumhair   0         1899-12-30   \n",
       "\n",
       "  CarrierCd ControllingStateCd  CopayPct         CrtdDateTime  \\\n",
       "0       AGR                 Bc      10.0  2018-08-08 11:12:00   \n",
       "1       AGR                  X       0.0  2018-08-08 11:12:00   \n",
       "2       AGR                 AB      10.0  2018-08-08 11:12:00   \n",
       "3       AGR                 On       0.0  2018-08-08 11:12:00   \n",
       "4       AGR                 AB       0.0  2018-08-08 11:12:00   \n",
       "\n",
       "                     CrtdUser     ...     RenewedFromPolicyRef  \\\n",
       "0  FETCH\\sqlrepserviceaccount     ...                      NaN   \n",
       "1  FETCH\\sqlrepserviceaccount     ...                      NaN   \n",
       "2  FETCH\\sqlrepserviceaccount     ...                      NaN   \n",
       "3  FETCH\\sqlrepserviceaccount     ...                      NaN   \n",
       "4  FETCH\\sqlrepserviceaccount     ...                      NaN   \n",
       "\n",
       "  RptSalesExecutive  SourceSystem        StatusCd  TransactionCd  \\\n",
       "0                 1          TCAS          Lapsed         Policy   \n",
       "1                 1          TCAS       Cancelled         Policy   \n",
       "2                 4          TCAS          Lapsed         Policy   \n",
       "3                 4          TCAS  Renewed to SPI         Policy   \n",
       "4                 1          TCAS          Lapsed         Policy   \n",
       "\n",
       "         TransactionDt TransactionNumber              UpdateTimestamp  \\\n",
       "0  2013-11-19 12:13:00               NaN  2017-12-31 00:00:00.0000000   \n",
       "1  2012-08-29 11:20:00               NaN  2017-12-31 00:00:00.0000000   \n",
       "2  2015-08-20 07:06:00               NaN  2017-12-31 00:00:00.0000000   \n",
       "3  2016-09-30 17:43:00               NaN  2017-12-31 00:00:00.0000000   \n",
       "4  2014-05-21 14:37:00               NaN  2017-12-31 00:00:00.0000000   \n",
       "\n",
       "   ClaimCount ClaimAmount  \n",
       "0           0         NaN  \n",
       "1           0         NaN  \n",
       "2           0         NaN  \n",
       "3           0         NaN  \n",
       "4           1      510.74  \n",
       "\n",
       "[5 rows x 44 columns]"
      ]
     },
     "execution_count": 3,
     "metadata": {},
     "output_type": "execute_result"
    }
   ],
   "source": [
    "a.head()"
   ]
  },
  {
   "cell_type": "code",
   "execution_count": 4,
   "metadata": {},
   "outputs": [
    {
     "data": {
      "text/plain": [
       "Age                                  350\n",
       "AnnualDedInd                           0\n",
       "BreedName                            152\n",
       "CampaignCd                        411792\n",
       "CancelDt                          503130\n",
       "CarrierCd                              0\n",
       "ControllingStateCd                    10\n",
       "CopayPct                               0\n",
       "CrtdDateTime                           0\n",
       "CrtdUser                               0\n",
       "Country                                0\n",
       "CustomerNumber                         0\n",
       "Deductible                             0\n",
       "Duration                               0\n",
       "EarnedPremiumAmt                       0\n",
       "EarnedPremiumAmtLocal            1580073\n",
       "Effectivedt                            0\n",
       "EmailAddr                           4970\n",
       "ExchangeRate                        8791\n",
       "ExpirationDt                           0\n",
       "InitialWrittenPremiumAmt               0\n",
       "InitialWrittenPremiumAmtLocal    1580073\n",
       "LastAnnualPremiumAmt                   0\n",
       "LastAnnualPremiumAmtLocal        1580073\n",
       "PayplanCd                         779172\n",
       "PetId                                  0\n",
       "PetName                              697\n",
       "PetType                                0\n",
       "PolicyDisplayNumber                    0\n",
       "PolicyEndDate                          0\n",
       "PolicyForm                             0\n",
       "PolicyRef                              0\n",
       "PolicyVersion                          0\n",
       "Processed                              0\n",
       "RenewedFromPolicyRef             1169633\n",
       "RptSalesExecutive                      0\n",
       "SourceSystem                           0\n",
       "StatusCd                               0\n",
       "TransactionCd                          0\n",
       "TransactionDt                        465\n",
       "TransactionNumber                 778832\n",
       "UpdateTimestamp                        0\n",
       "ClaimCount                             0\n",
       "ClaimAmount                      1333067\n",
       "dtype: int64"
      ]
     },
     "execution_count": 4,
     "metadata": {},
     "output_type": "execute_result"
    }
   ],
   "source": [
    "a.isnull().sum()"
   ]
  },
  {
   "cell_type": "code",
   "execution_count": 5,
   "metadata": {},
   "outputs": [],
   "source": [
    "g=a.columns"
   ]
  },
  {
   "cell_type": "code",
   "execution_count": 6,
   "metadata": {},
   "outputs": [
    {
     "name": "stdout",
     "output_type": "stream",
     "text": [
      "44\n"
     ]
    },
    {
     "name": "stderr",
     "output_type": "stream",
     "text": [
      "/home/jash/anaconda3/envs/py27/lib/python2.7/site-packages/ipykernel_launcher.py:6: FutureWarning: set_value is deprecated and will be removed in a future release. Please use .at[] or .iat[] accessors instead\n",
      "  \n"
     ]
    }
   ],
   "source": [
    "col=pd.DataFrame(index=range(len(a.columns)),columns=['Columns'])\n",
    "print len(g)\n",
    "i=0\n",
    "for i in range(len(g)):\n",
    "    \n",
    "    col.set_value(i,'Columns',str(g[i]))\n",
    "    \n",
    "    "
   ]
  },
  {
   "cell_type": "code",
   "execution_count": 7,
   "metadata": {},
   "outputs": [],
   "source": [
    "col.to_csv('/home/jash/Desktop/petplan/profit/columns.csv')"
   ]
  },
  {
   "cell_type": "code",
   "execution_count": 8,
   "metadata": {},
   "outputs": [],
   "source": [
    "a['Mix'] = pd.np.where( a['BreedName'].str.contains(\"Mix\"), 1, 0)"
   ]
  },
  {
   "cell_type": "code",
   "execution_count": 9,
   "metadata": {},
   "outputs": [
    {
     "data": {
      "text/plain": [
       "60"
      ]
     },
     "execution_count": 9,
     "metadata": {},
     "output_type": "execute_result"
    }
   ],
   "source": [
    "len(a['TransactionNumber'].unique())"
   ]
  },
  {
   "cell_type": "code",
   "execution_count": 10,
   "metadata": {
    "scrolled": true
   },
   "outputs": [
    {
     "data": {
      "text/plain": [
       "2"
      ]
     },
     "execution_count": 10,
     "metadata": {},
     "output_type": "execute_result"
    }
   ],
   "source": [
    "len(a['AnnualDedInd'].unique())"
   ]
  },
  {
   "cell_type": "code",
   "execution_count": 11,
   "metadata": {},
   "outputs": [
    {
     "data": {
      "text/plain": [
       "580"
      ]
     },
     "execution_count": 11,
     "metadata": {},
     "output_type": "execute_result"
    }
   ],
   "source": [
    "len(a['BreedName'].unique())"
   ]
  },
  {
   "cell_type": "code",
   "execution_count": 12,
   "metadata": {},
   "outputs": [
    {
     "data": {
      "text/plain": [
       "670643"
      ]
     },
     "execution_count": 12,
     "metadata": {},
     "output_type": "execute_result"
    }
   ],
   "source": [
    "len(a['PetId'].unique())"
   ]
  },
  {
   "cell_type": "code",
   "execution_count": 13,
   "metadata": {},
   "outputs": [
    {
     "data": {
      "text/plain": [
       "2"
      ]
     },
     "execution_count": 13,
     "metadata": {},
     "output_type": "execute_result"
    }
   ],
   "source": [
    "len(a['Country'].unique())"
   ]
  },
  {
   "cell_type": "code",
   "execution_count": 14,
   "metadata": {},
   "outputs": [
    {
     "data": {
      "text/plain": [
       "183"
      ]
     },
     "execution_count": 14,
     "metadata": {},
     "output_type": "execute_result"
    }
   ],
   "source": [
    "len(a['ControllingStateCd'].unique())"
   ]
  },
  {
   "cell_type": "code",
   "execution_count": 15,
   "metadata": {},
   "outputs": [
    {
     "data": {
      "text/plain": [
       "183"
      ]
     },
     "execution_count": 15,
     "metadata": {},
     "output_type": "execute_result"
    }
   ],
   "source": [
    "len(a['ControllingStateCd'].unique())"
   ]
  },
  {
   "cell_type": "code",
   "execution_count": 16,
   "metadata": {},
   "outputs": [
    {
     "data": {
      "text/plain": [
       "array(['Bc', 'X', 'AB', 'On', 'MB', 'Wa', 'BC', 'ON', 'Mb', 'SK', 'PE',\n",
       "       'Ab', 'Sk', 'Ns', 'NS', 'OR', 'QC', 'Nl', 'Ca', 'NT', 'Or', 'NL',\n",
       "       'NU', 'YT', 'NB', 'NJ', 'Nt', 'On ', 'Saskatuwan', 'Nu',\n",
       "       'Manatoba', 'Nb', 'NY', 'Qc', 'Alberta', 'CA', 'Al', 'www', 'Ne',\n",
       "       'MA', 'TX', 'PA', 'Nj', 'Me', 'Pa', 'FL', 'NE', 'Md', 'Sc', 'MI',\n",
       "       'Tx', 'Ga', 'Ma', 'WA', 'De', 'Va', 'MN', 'MD', 'RI', 'UT', 'Az',\n",
       "       'Ny', 'Oh', 'Fl', 'La', 'CT', 'CO', 'Mn', 'AK', 'Nc', 'Ri', 'TN',\n",
       "       'NC', 'Co', 'SC', 'IL', 'OH', 'IN', 'Mo', 'Ct', 'WI', 'VA', 'Ks',\n",
       "       'OK', 'MO', 'NV', 'Wi', 'In', 'Il', 'Mi', 'Dc', 'Vt', 'VT', 'Nv',\n",
       "       'Nd', 'GA', 'AR', 'KY', 'Alabama', 'Ok', 'ID', 'NH', 'Ky', 'AZ',\n",
       "       'WV', 'Nm', 'ME', 'Ar', 'Ak', 'Nh', 'LA', 'Ia', 'NM', 'Ut', 'Hi',\n",
       "       'AL', 'IA', 'Tn', 'Id', 'ND', 'WY', 'DE', 'Mt', 'DC', 'HI', 'Ms',\n",
       "       'Wy', 'MT', 'SD', 'Wv', 'KS', 'Sd', 'Ny ', 'Te', 'Rhode Island',\n",
       "       'Pa ', 'Or ', 'MS', 'Monmouth', 'Fl ', 'Wa ', 'Il ', 'Tx ', 'Nv ',\n",
       "       'Az ', 'Co ', 'ny', 'Ca ', 'Ct ', 'Va ', 'Ky ', 'Tn ', 'md', 'Nj ',\n",
       "       'Ma ', 'New York', 'Texas', 'Gresham', 'Ia ', '75214', '--', 'Sc ',\n",
       "       'Oregon', '11596', nan, 'Oh ', 'Ne 68127', 'Ak ', 'Hawaii', 'Md ',\n",
       "       'Nm ', 'Ok ', 'Dc ', 'Ne ', 'Vt ', 'No', 'Nc ', '-', 'Pe',\n",
       "       'Tx75211', 'T', 'Ge', '11545'], dtype=object)"
      ]
     },
     "execution_count": 16,
     "metadata": {},
     "output_type": "execute_result"
    }
   ],
   "source": [
    "a['ControllingStateCd'].unique()"
   ]
  },
  {
   "cell_type": "code",
   "execution_count": 17,
   "metadata": {},
   "outputs": [
    {
     "data": {
      "text/plain": [
       "183"
      ]
     },
     "execution_count": 17,
     "metadata": {},
     "output_type": "execute_result"
    }
   ],
   "source": [
    "len(a['ControllingStateCd'].unique())"
   ]
  },
  {
   "cell_type": "code",
   "execution_count": 18,
   "metadata": {},
   "outputs": [
    {
     "data": {
      "text/plain": [
       "Index([u'Age', u'AnnualDedInd', u'BreedName', u'CampaignCd', u'CancelDt',\n",
       "       u'CarrierCd', u'ControllingStateCd', u'CopayPct', u'CrtdDateTime',\n",
       "       u'CrtdUser', u'Country', u'CustomerNumber', u'Deductible', u'Duration',\n",
       "       u'EarnedPremiumAmt', u'EarnedPremiumAmtLocal', u'Effectivedt',\n",
       "       u'EmailAddr', u'ExchangeRate', u'ExpirationDt',\n",
       "       u'InitialWrittenPremiumAmt', u'InitialWrittenPremiumAmtLocal',\n",
       "       u'LastAnnualPremiumAmt', u'LastAnnualPremiumAmtLocal', u'PayplanCd',\n",
       "       u'PetId', u'PetName', u'PetType', u'PolicyDisplayNumber',\n",
       "       u'PolicyEndDate', u'PolicyForm', u'PolicyRef', u'PolicyVersion',\n",
       "       u'Processed', u'RenewedFromPolicyRef', u'RptSalesExecutive',\n",
       "       u'SourceSystem', u'StatusCd', u'TransactionCd', u'TransactionDt',\n",
       "       u'TransactionNumber', u'UpdateTimestamp', u'ClaimCount', u'ClaimAmount',\n",
       "       u'Mix'],\n",
       "      dtype='object')"
      ]
     },
     "execution_count": 18,
     "metadata": {},
     "output_type": "execute_result"
    }
   ],
   "source": [
    "a.columns"
   ]
  },
  {
   "cell_type": "code",
   "execution_count": 19,
   "metadata": {},
   "outputs": [],
   "source": [
    "a.drop(['CancelDt','CrtdDateTime','CrtdUser','Effectivedt','EmailAddr','PetId','PetName','PolicyEndDate','PolicyDisplayNumber','PolicyRef','RenewedFromPolicyRef','UpdateTimestamp','TransactionNumber','EarnedPremiumAmtLocal','LastAnnualPremiumAmtLocal','InitialWrittenPremiumAmtLocal','TransactionDt','ExpirationDt','SourceSystem','PayplanCd','CampaignCd','Processed'],axis=1,inplace=True)"
   ]
  },
  {
   "cell_type": "code",
   "execution_count": 20,
   "metadata": {},
   "outputs": [],
   "source": [
    "a.drop(['TransactionCd','InitialWrittenPremiumAmt','LastAnnualPremiumAmt','BreedName'],axis=1,inplace=True)"
   ]
  },
  {
   "cell_type": "code",
   "execution_count": 21,
   "metadata": {},
   "outputs": [
    {
     "data": {
      "text/plain": [
       "Age                       350\n",
       "AnnualDedInd                0\n",
       "CarrierCd                   0\n",
       "ControllingStateCd         10\n",
       "CopayPct                    0\n",
       "Country                     0\n",
       "CustomerNumber              0\n",
       "Deductible                  0\n",
       "Duration                    0\n",
       "EarnedPremiumAmt            0\n",
       "ExchangeRate             8791\n",
       "PetType                     0\n",
       "PolicyForm                  0\n",
       "PolicyVersion               0\n",
       "RptSalesExecutive           0\n",
       "StatusCd                    0\n",
       "ClaimCount                  0\n",
       "ClaimAmount           1333067\n",
       "Mix                         0\n",
       "dtype: int64"
      ]
     },
     "execution_count": 21,
     "metadata": {},
     "output_type": "execute_result"
    }
   ],
   "source": [
    "a.isnull().sum()"
   ]
  },
  {
   "cell_type": "code",
   "execution_count": 22,
   "metadata": {},
   "outputs": [
    {
     "data": {
      "text/plain": [
       "172852"
      ]
     },
     "execution_count": 22,
     "metadata": {},
     "output_type": "execute_result"
    }
   ],
   "source": [
    "m=a.loc[a['PolicyForm']=='Introductory']\n",
    "len(m)"
   ]
  },
  {
   "cell_type": "code",
   "execution_count": 23,
   "metadata": {},
   "outputs": [
    {
     "data": {
      "text/plain": [
       "Age                       350\n",
       "AnnualDedInd                0\n",
       "CarrierCd                   0\n",
       "ControllingStateCd         10\n",
       "CopayPct                    0\n",
       "Country                     0\n",
       "CustomerNumber              0\n",
       "Deductible                  0\n",
       "Duration                    0\n",
       "EarnedPremiumAmt            0\n",
       "ExchangeRate             8791\n",
       "PetType                     0\n",
       "PolicyForm                  0\n",
       "PolicyVersion               0\n",
       "RptSalesExecutive           0\n",
       "StatusCd                    0\n",
       "ClaimCount                  0\n",
       "ClaimAmount           1333067\n",
       "Mix                         0\n",
       "dtype: int64"
      ]
     },
     "execution_count": 23,
     "metadata": {},
     "output_type": "execute_result"
    }
   ],
   "source": [
    "a.isnull().sum()"
   ]
  },
  {
   "cell_type": "code",
   "execution_count": 24,
   "metadata": {},
   "outputs": [
    {
     "data": {
      "text/plain": [
       "Age                       350\n",
       "AnnualDedInd                0\n",
       "CarrierCd                   0\n",
       "ControllingStateCd         10\n",
       "CopayPct                    0\n",
       "Country                     0\n",
       "CustomerNumber              0\n",
       "Deductible                  0\n",
       "Duration                    0\n",
       "EarnedPremiumAmt            0\n",
       "ExchangeRate             8791\n",
       "PetType                     0\n",
       "PolicyForm                  0\n",
       "PolicyVersion               0\n",
       "RptSalesExecutive           0\n",
       "StatusCd                    0\n",
       "ClaimCount                  0\n",
       "ClaimAmount           1333067\n",
       "Mix                         0\n",
       "dtype: int64"
      ]
     },
     "execution_count": 24,
     "metadata": {},
     "output_type": "execute_result"
    }
   ],
   "source": [
    "a.isnull().sum()"
   ]
  },
  {
   "cell_type": "code",
   "execution_count": 25,
   "metadata": {},
   "outputs": [
    {
     "data": {
      "text/plain": [
       "Age                       350\n",
       "AnnualDedInd                0\n",
       "CarrierCd                   0\n",
       "ControllingStateCd         10\n",
       "CopayPct                    0\n",
       "Country                     0\n",
       "CustomerNumber              0\n",
       "Deductible                  0\n",
       "Duration                    0\n",
       "EarnedPremiumAmt            0\n",
       "ExchangeRate             8791\n",
       "PetType                     0\n",
       "PolicyForm                  0\n",
       "PolicyVersion               0\n",
       "RptSalesExecutive           0\n",
       "StatusCd                    0\n",
       "ClaimCount                  0\n",
       "ClaimAmount           1333067\n",
       "Mix                         0\n",
       "dtype: int64"
      ]
     },
     "execution_count": 25,
     "metadata": {},
     "output_type": "execute_result"
    }
   ],
   "source": [
    "a.isnull().sum()"
   ]
  },
  {
   "cell_type": "code",
   "execution_count": 26,
   "metadata": {},
   "outputs": [
    {
     "data": {
      "text/plain": [
       "2"
      ]
     },
     "execution_count": 26,
     "metadata": {},
     "output_type": "execute_result"
    }
   ],
   "source": [
    "len(a['AnnualDedInd'].unique())"
   ]
  },
  {
   "cell_type": "code",
   "execution_count": 27,
   "metadata": {},
   "outputs": [],
   "source": [
    "a['LossRatio']=a['ClaimAmount']/a['EarnedPremiumAmt']"
   ]
  },
  {
   "cell_type": "code",
   "execution_count": 28,
   "metadata": {},
   "outputs": [],
   "source": [
    "k=len(a)"
   ]
  },
  {
   "cell_type": "code",
   "execution_count": 29,
   "metadata": {},
   "outputs": [],
   "source": [
    "import numpy as np\n",
    "a = a[np.isfinite(a['LossRatio'])]"
   ]
  },
  {
   "cell_type": "code",
   "execution_count": 30,
   "metadata": {},
   "outputs": [
    {
     "name": "stdout",
     "output_type": "stream",
     "text": [
      "244325\n"
     ]
    }
   ],
   "source": [
    "u=len(a)\n",
    "print u"
   ]
  },
  {
   "cell_type": "code",
   "execution_count": 31,
   "metadata": {},
   "outputs": [],
   "source": [
    "\n",
    "x=a[:10000]\n",
    "d=pd.DataFrame(x)\n",
    "d.to_csv('/home/jash/Desktop/petplan/profit/mod.xlsx')"
   ]
  },
  {
   "cell_type": "code",
   "execution_count": 32,
   "metadata": {
    "scrolled": false
   },
   "outputs": [
    {
     "data": {
      "text/html": [
       "<div>\n",
       "<style scoped>\n",
       "    .dataframe tbody tr th:only-of-type {\n",
       "        vertical-align: middle;\n",
       "    }\n",
       "\n",
       "    .dataframe tbody tr th {\n",
       "        vertical-align: top;\n",
       "    }\n",
       "\n",
       "    .dataframe thead th {\n",
       "        text-align: right;\n",
       "    }\n",
       "</style>\n",
       "<table border=\"1\" class=\"dataframe\">\n",
       "  <thead>\n",
       "    <tr style=\"text-align: right;\">\n",
       "      <th></th>\n",
       "      <th>Age</th>\n",
       "      <th>AnnualDedInd</th>\n",
       "      <th>CarrierCd</th>\n",
       "      <th>ControllingStateCd</th>\n",
       "      <th>CopayPct</th>\n",
       "      <th>Country</th>\n",
       "      <th>CustomerNumber</th>\n",
       "      <th>Deductible</th>\n",
       "      <th>Duration</th>\n",
       "      <th>EarnedPremiumAmt</th>\n",
       "      <th>ExchangeRate</th>\n",
       "      <th>PetType</th>\n",
       "      <th>PolicyForm</th>\n",
       "      <th>PolicyVersion</th>\n",
       "      <th>RptSalesExecutive</th>\n",
       "      <th>StatusCd</th>\n",
       "      <th>ClaimCount</th>\n",
       "      <th>ClaimAmount</th>\n",
       "      <th>Mix</th>\n",
       "      <th>LossRatio</th>\n",
       "    </tr>\n",
       "  </thead>\n",
       "  <tbody>\n",
       "  </tbody>\n",
       "</table>\n",
       "</div>"
      ],
      "text/plain": [
       "Empty DataFrame\n",
       "Columns: [Age, AnnualDedInd, CarrierCd, ControllingStateCd, CopayPct, Country, CustomerNumber, Deductible, Duration, EarnedPremiumAmt, ExchangeRate, PetType, PolicyForm, PolicyVersion, RptSalesExecutive, StatusCd, ClaimCount, ClaimAmount, Mix, LossRatio]\n",
       "Index: []"
      ]
     },
     "execution_count": 32,
     "metadata": {},
     "output_type": "execute_result"
    }
   ],
   "source": [
    "a.loc[a['CustomerNumber']=='EF41FAED66C44631910A92E41FAA7F78']"
   ]
  },
  {
   "cell_type": "code",
   "execution_count": 33,
   "metadata": {},
   "outputs": [
    {
     "data": {
      "text/plain": [
       "102445"
      ]
     },
     "execution_count": 33,
     "metadata": {},
     "output_type": "execute_result"
    }
   ],
   "source": [
    "len(a['CustomerNumber'].unique())"
   ]
  },
  {
   "cell_type": "code",
   "execution_count": 34,
   "metadata": {},
   "outputs": [],
   "source": [
    "r=a.loc[a['CustomerNumber'].duplicated()==True]\n",
    "rep=pd.DataFrame(r)"
   ]
  },
  {
   "cell_type": "code",
   "execution_count": 35,
   "metadata": {},
   "outputs": [
    {
     "data": {
      "text/plain": [
       "141880"
      ]
     },
     "execution_count": 35,
     "metadata": {},
     "output_type": "execute_result"
    }
   ],
   "source": [
    "len(rep)"
   ]
  },
  {
   "cell_type": "code",
   "execution_count": 36,
   "metadata": {},
   "outputs": [
    {
     "data": {
      "text/html": [
       "<div>\n",
       "<style scoped>\n",
       "    .dataframe tbody tr th:only-of-type {\n",
       "        vertical-align: middle;\n",
       "    }\n",
       "\n",
       "    .dataframe tbody tr th {\n",
       "        vertical-align: top;\n",
       "    }\n",
       "\n",
       "    .dataframe thead th {\n",
       "        text-align: right;\n",
       "    }\n",
       "</style>\n",
       "<table border=\"1\" class=\"dataframe\">\n",
       "  <thead>\n",
       "    <tr style=\"text-align: right;\">\n",
       "      <th></th>\n",
       "      <th>Age</th>\n",
       "      <th>AnnualDedInd</th>\n",
       "      <th>CarrierCd</th>\n",
       "      <th>ControllingStateCd</th>\n",
       "      <th>CopayPct</th>\n",
       "      <th>Country</th>\n",
       "      <th>CustomerNumber</th>\n",
       "      <th>Deductible</th>\n",
       "      <th>Duration</th>\n",
       "      <th>EarnedPremiumAmt</th>\n",
       "      <th>ExchangeRate</th>\n",
       "      <th>PetType</th>\n",
       "      <th>PolicyForm</th>\n",
       "      <th>PolicyVersion</th>\n",
       "      <th>RptSalesExecutive</th>\n",
       "      <th>StatusCd</th>\n",
       "      <th>ClaimCount</th>\n",
       "      <th>ClaimAmount</th>\n",
       "      <th>Mix</th>\n",
       "      <th>LossRatio</th>\n",
       "    </tr>\n",
       "  </thead>\n",
       "  <tbody>\n",
       "    <tr>\n",
       "      <th>504</th>\n",
       "      <td>0.0</td>\n",
       "      <td>PerCondition</td>\n",
       "      <td>AGR</td>\n",
       "      <td>BC</td>\n",
       "      <td>0.0</td>\n",
       "      <td>CAN</td>\n",
       "      <td>238391</td>\n",
       "      <td>100</td>\n",
       "      <td>365</td>\n",
       "      <td>662.530000</td>\n",
       "      <td>0.904496</td>\n",
       "      <td>PPDOG001</td>\n",
       "      <td>Gold</td>\n",
       "      <td>0</td>\n",
       "      <td>1</td>\n",
       "      <td>Lapsed</td>\n",
       "      <td>4</td>\n",
       "      <td>8.92</td>\n",
       "      <td>0</td>\n",
       "      <td>0.013464</td>\n",
       "    </tr>\n",
       "    <tr>\n",
       "      <th>521</th>\n",
       "      <td>8.0</td>\n",
       "      <td>PerCondition</td>\n",
       "      <td>AGR</td>\n",
       "      <td>Bc</td>\n",
       "      <td>20.0</td>\n",
       "      <td>CAN</td>\n",
       "      <td>222808</td>\n",
       "      <td>200</td>\n",
       "      <td>173</td>\n",
       "      <td>439.552712</td>\n",
       "      <td>0.915571</td>\n",
       "      <td>PPDOG001</td>\n",
       "      <td>Bronze</td>\n",
       "      <td>1</td>\n",
       "      <td>4</td>\n",
       "      <td>Cancelled</td>\n",
       "      <td>2</td>\n",
       "      <td>3721.23</td>\n",
       "      <td>1</td>\n",
       "      <td>8.465947</td>\n",
       "    </tr>\n",
       "    <tr>\n",
       "      <th>583</th>\n",
       "      <td>1.0</td>\n",
       "      <td>PerCondition</td>\n",
       "      <td>AGR</td>\n",
       "      <td>AB</td>\n",
       "      <td>10.0</td>\n",
       "      <td>CAN</td>\n",
       "      <td>235271</td>\n",
       "      <td>100</td>\n",
       "      <td>365</td>\n",
       "      <td>508.360000</td>\n",
       "      <td>0.939928</td>\n",
       "      <td>PPDOG001</td>\n",
       "      <td>Silver</td>\n",
       "      <td>1</td>\n",
       "      <td>4</td>\n",
       "      <td>Lapsed</td>\n",
       "      <td>2</td>\n",
       "      <td>113.28</td>\n",
       "      <td>1</td>\n",
       "      <td>0.222834</td>\n",
       "    </tr>\n",
       "    <tr>\n",
       "      <th>689</th>\n",
       "      <td>1.0</td>\n",
       "      <td>PerCondition</td>\n",
       "      <td>AGR</td>\n",
       "      <td>AB</td>\n",
       "      <td>0.0</td>\n",
       "      <td>CAN</td>\n",
       "      <td>236048</td>\n",
       "      <td>200</td>\n",
       "      <td>365</td>\n",
       "      <td>596.420000</td>\n",
       "      <td>0.866507</td>\n",
       "      <td>PPDOG001</td>\n",
       "      <td>Gold</td>\n",
       "      <td>1</td>\n",
       "      <td>4</td>\n",
       "      <td>Lapsed</td>\n",
       "      <td>2</td>\n",
       "      <td>191.94</td>\n",
       "      <td>0</td>\n",
       "      <td>0.321820</td>\n",
       "    </tr>\n",
       "    <tr>\n",
       "      <th>726</th>\n",
       "      <td>1.0</td>\n",
       "      <td>PerCondition</td>\n",
       "      <td>AGR</td>\n",
       "      <td>BC</td>\n",
       "      <td>0.0</td>\n",
       "      <td>CAN</td>\n",
       "      <td>237631</td>\n",
       "      <td>200</td>\n",
       "      <td>365</td>\n",
       "      <td>857.630000</td>\n",
       "      <td>0.917320</td>\n",
       "      <td>PPDOG001</td>\n",
       "      <td>Gold</td>\n",
       "      <td>1</td>\n",
       "      <td>4</td>\n",
       "      <td>Lapsed</td>\n",
       "      <td>6</td>\n",
       "      <td>3079.05</td>\n",
       "      <td>0</td>\n",
       "      <td>3.590185</td>\n",
       "    </tr>\n",
       "  </tbody>\n",
       "</table>\n",
       "</div>"
      ],
      "text/plain": [
       "     Age  AnnualDedInd CarrierCd ControllingStateCd  CopayPct Country  \\\n",
       "504  0.0  PerCondition       AGR                 BC       0.0     CAN   \n",
       "521  8.0  PerCondition       AGR                 Bc      20.0     CAN   \n",
       "583  1.0  PerCondition       AGR                 AB      10.0     CAN   \n",
       "689  1.0  PerCondition       AGR                 AB       0.0     CAN   \n",
       "726  1.0  PerCondition       AGR                 BC       0.0     CAN   \n",
       "\n",
       "    CustomerNumber  Deductible  Duration  EarnedPremiumAmt  ExchangeRate  \\\n",
       "504         238391         100       365        662.530000      0.904496   \n",
       "521         222808         200       173        439.552712      0.915571   \n",
       "583         235271         100       365        508.360000      0.939928   \n",
       "689         236048         200       365        596.420000      0.866507   \n",
       "726         237631         200       365        857.630000      0.917320   \n",
       "\n",
       "      PetType PolicyForm  PolicyVersion  RptSalesExecutive   StatusCd  \\\n",
       "504  PPDOG001       Gold              0                  1     Lapsed   \n",
       "521  PPDOG001     Bronze              1                  4  Cancelled   \n",
       "583  PPDOG001     Silver              1                  4     Lapsed   \n",
       "689  PPDOG001       Gold              1                  4     Lapsed   \n",
       "726  PPDOG001       Gold              1                  4     Lapsed   \n",
       "\n",
       "     ClaimCount  ClaimAmount  Mix  LossRatio  \n",
       "504           4         8.92    0   0.013464  \n",
       "521           2      3721.23    1   8.465947  \n",
       "583           2       113.28    1   0.222834  \n",
       "689           2       191.94    0   0.321820  \n",
       "726           6      3079.05    0   3.590185  "
      ]
     },
     "execution_count": 36,
     "metadata": {},
     "output_type": "execute_result"
    }
   ],
   "source": [
    "rep.head()"
   ]
  },
  {
   "cell_type": "code",
   "execution_count": 37,
   "metadata": {
    "scrolled": true
   },
   "outputs": [],
   "source": [
    "f=rep.loc[rep['CustomerNumber']=='41720']"
   ]
  },
  {
   "cell_type": "code",
   "execution_count": 38,
   "metadata": {},
   "outputs": [],
   "source": [
    "fe=pd.DataFrame(f)"
   ]
  },
  {
   "cell_type": "code",
   "execution_count": 39,
   "metadata": {},
   "outputs": [],
   "source": [
    "fe.to_csv('/home/jash/Desktop/petplan/profit/yo.xlsx')"
   ]
  },
  {
   "cell_type": "code",
   "execution_count": 40,
   "metadata": {
    "scrolled": true
   },
   "outputs": [
    {
     "data": {
      "text/html": [
       "<div>\n",
       "<style scoped>\n",
       "    .dataframe tbody tr th:only-of-type {\n",
       "        vertical-align: middle;\n",
       "    }\n",
       "\n",
       "    .dataframe tbody tr th {\n",
       "        vertical-align: top;\n",
       "    }\n",
       "\n",
       "    .dataframe thead th {\n",
       "        text-align: right;\n",
       "    }\n",
       "</style>\n",
       "<table border=\"1\" class=\"dataframe\">\n",
       "  <thead>\n",
       "    <tr style=\"text-align: right;\">\n",
       "      <th></th>\n",
       "      <th>Age</th>\n",
       "      <th>AnnualDedInd</th>\n",
       "      <th>CarrierCd</th>\n",
       "      <th>ControllingStateCd</th>\n",
       "      <th>CopayPct</th>\n",
       "      <th>Country</th>\n",
       "      <th>CustomerNumber</th>\n",
       "      <th>Deductible</th>\n",
       "      <th>Duration</th>\n",
       "      <th>EarnedPremiumAmt</th>\n",
       "      <th>ExchangeRate</th>\n",
       "      <th>PetType</th>\n",
       "      <th>PolicyForm</th>\n",
       "      <th>PolicyVersion</th>\n",
       "      <th>RptSalesExecutive</th>\n",
       "      <th>StatusCd</th>\n",
       "      <th>ClaimCount</th>\n",
       "      <th>ClaimAmount</th>\n",
       "      <th>Mix</th>\n",
       "      <th>LossRatio</th>\n",
       "    </tr>\n",
       "  </thead>\n",
       "  <tbody>\n",
       "    <tr>\n",
       "      <th>4</th>\n",
       "      <td>0.0</td>\n",
       "      <td>PerCondition</td>\n",
       "      <td>AGR</td>\n",
       "      <td>AB</td>\n",
       "      <td>0.0</td>\n",
       "      <td>CAN</td>\n",
       "      <td>D62F3336F33749E7B3C32383D2302CD6</td>\n",
       "      <td>200</td>\n",
       "      <td>365</td>\n",
       "      <td>288.330000</td>\n",
       "      <td>0.917847</td>\n",
       "      <td>PPCAT001</td>\n",
       "      <td>Gold</td>\n",
       "      <td>0</td>\n",
       "      <td>1</td>\n",
       "      <td>Lapsed</td>\n",
       "      <td>1</td>\n",
       "      <td>510.74</td>\n",
       "      <td>0</td>\n",
       "      <td>1.771373</td>\n",
       "    </tr>\n",
       "    <tr>\n",
       "      <th>11</th>\n",
       "      <td>0.0</td>\n",
       "      <td>PerCondition</td>\n",
       "      <td>AGR</td>\n",
       "      <td>MB</td>\n",
       "      <td>20.0</td>\n",
       "      <td>CAN</td>\n",
       "      <td>00F6E73206734211BDF89AA2CDAA0295</td>\n",
       "      <td>100</td>\n",
       "      <td>30</td>\n",
       "      <td>18.690411</td>\n",
       "      <td>0.932271</td>\n",
       "      <td>PPCAT001</td>\n",
       "      <td>Intro</td>\n",
       "      <td>0</td>\n",
       "      <td>6</td>\n",
       "      <td>Cancelled</td>\n",
       "      <td>1</td>\n",
       "      <td>205.94</td>\n",
       "      <td>0</td>\n",
       "      <td>11.018484</td>\n",
       "    </tr>\n",
       "    <tr>\n",
       "      <th>30</th>\n",
       "      <td>4.0</td>\n",
       "      <td>PerCondition</td>\n",
       "      <td>AGR</td>\n",
       "      <td>BC</td>\n",
       "      <td>10.0</td>\n",
       "      <td>CAN</td>\n",
       "      <td>222806</td>\n",
       "      <td>200</td>\n",
       "      <td>365</td>\n",
       "      <td>385.960000</td>\n",
       "      <td>0.965728</td>\n",
       "      <td>PPDOG001</td>\n",
       "      <td>Bronze</td>\n",
       "      <td>1</td>\n",
       "      <td>4</td>\n",
       "      <td>Lapsed</td>\n",
       "      <td>5</td>\n",
       "      <td>635.88</td>\n",
       "      <td>1</td>\n",
       "      <td>1.647528</td>\n",
       "    </tr>\n",
       "    <tr>\n",
       "      <th>39</th>\n",
       "      <td>2.0</td>\n",
       "      <td>PerCondition</td>\n",
       "      <td>AGR</td>\n",
       "      <td>ON</td>\n",
       "      <td>0.0</td>\n",
       "      <td>CAN</td>\n",
       "      <td>237797</td>\n",
       "      <td>200</td>\n",
       "      <td>366</td>\n",
       "      <td>347.510000</td>\n",
       "      <td>0.724475</td>\n",
       "      <td>PPDOG001</td>\n",
       "      <td>Bronze</td>\n",
       "      <td>2</td>\n",
       "      <td>4</td>\n",
       "      <td>Renewed to SPI</td>\n",
       "      <td>1</td>\n",
       "      <td>321.89</td>\n",
       "      <td>0</td>\n",
       "      <td>0.926276</td>\n",
       "    </tr>\n",
       "    <tr>\n",
       "      <th>44</th>\n",
       "      <td>1.0</td>\n",
       "      <td>PerCondition</td>\n",
       "      <td>AGR</td>\n",
       "      <td>BC</td>\n",
       "      <td>0.0</td>\n",
       "      <td>CAN</td>\n",
       "      <td>177407</td>\n",
       "      <td>100</td>\n",
       "      <td>366</td>\n",
       "      <td>706.140000</td>\n",
       "      <td>0.821336</td>\n",
       "      <td>PPDOG001</td>\n",
       "      <td>Silver</td>\n",
       "      <td>1</td>\n",
       "      <td>4</td>\n",
       "      <td>Lapsed</td>\n",
       "      <td>2</td>\n",
       "      <td>520.68</td>\n",
       "      <td>0</td>\n",
       "      <td>0.737361</td>\n",
       "    </tr>\n",
       "  </tbody>\n",
       "</table>\n",
       "</div>"
      ],
      "text/plain": [
       "    Age  AnnualDedInd CarrierCd ControllingStateCd  CopayPct Country  \\\n",
       "4   0.0  PerCondition       AGR                 AB       0.0     CAN   \n",
       "11  0.0  PerCondition       AGR                 MB      20.0     CAN   \n",
       "30  4.0  PerCondition       AGR                 BC      10.0     CAN   \n",
       "39  2.0  PerCondition       AGR                 ON       0.0     CAN   \n",
       "44  1.0  PerCondition       AGR                 BC       0.0     CAN   \n",
       "\n",
       "                      CustomerNumber  Deductible  Duration  EarnedPremiumAmt  \\\n",
       "4   D62F3336F33749E7B3C32383D2302CD6         200       365        288.330000   \n",
       "11  00F6E73206734211BDF89AA2CDAA0295         100        30         18.690411   \n",
       "30                            222806         200       365        385.960000   \n",
       "39                            237797         200       366        347.510000   \n",
       "44                            177407         100       366        706.140000   \n",
       "\n",
       "    ExchangeRate   PetType PolicyForm  PolicyVersion  RptSalesExecutive  \\\n",
       "4       0.917847  PPCAT001       Gold              0                  1   \n",
       "11      0.932271  PPCAT001      Intro              0                  6   \n",
       "30      0.965728  PPDOG001     Bronze              1                  4   \n",
       "39      0.724475  PPDOG001     Bronze              2                  4   \n",
       "44      0.821336  PPDOG001     Silver              1                  4   \n",
       "\n",
       "          StatusCd  ClaimCount  ClaimAmount  Mix  LossRatio  \n",
       "4           Lapsed           1       510.74    0   1.771373  \n",
       "11       Cancelled           1       205.94    0  11.018484  \n",
       "30          Lapsed           5       635.88    1   1.647528  \n",
       "39  Renewed to SPI           1       321.89    0   0.926276  \n",
       "44          Lapsed           2       520.68    0   0.737361  "
      ]
     },
     "execution_count": 40,
     "metadata": {},
     "output_type": "execute_result"
    }
   ],
   "source": [
    "a.head()"
   ]
  },
  {
   "cell_type": "code",
   "execution_count": 41,
   "metadata": {},
   "outputs": [
    {
     "data": {
      "text/plain": [
       "Index([u'Age', u'AnnualDedInd', u'CarrierCd', u'ControllingStateCd',\n",
       "       u'CopayPct', u'Country', u'CustomerNumber', u'Deductible', u'Duration',\n",
       "       u'EarnedPremiumAmt', u'ExchangeRate', u'PetType', u'PolicyForm',\n",
       "       u'PolicyVersion', u'RptSalesExecutive', u'StatusCd', u'ClaimCount',\n",
       "       u'ClaimAmount', u'Mix', u'LossRatio'],\n",
       "      dtype='object')"
      ]
     },
     "execution_count": 41,
     "metadata": {},
     "output_type": "execute_result"
    }
   ],
   "source": [
    "a.columns"
   ]
  },
  {
   "cell_type": "code",
   "execution_count": 42,
   "metadata": {
    "scrolled": false
   },
   "outputs": [
    {
     "data": {
      "text/plain": [
       "Age                   0\n",
       "AnnualDedInd          0\n",
       "CarrierCd             0\n",
       "ControllingStateCd    0\n",
       "CopayPct              0\n",
       "Country               0\n",
       "CustomerNumber        0\n",
       "Deductible            0\n",
       "Duration              0\n",
       "EarnedPremiumAmt      0\n",
       "ExchangeRate          0\n",
       "PetType               0\n",
       "PolicyForm            0\n",
       "PolicyVersion         0\n",
       "RptSalesExecutive     0\n",
       "StatusCd              0\n",
       "ClaimCount            0\n",
       "ClaimAmount           0\n",
       "Mix                   0\n",
       "LossRatio             0\n",
       "dtype: int64"
      ]
     },
     "execution_count": 42,
     "metadata": {},
     "output_type": "execute_result"
    }
   ],
   "source": [
    "a.isnull().sum()"
   ]
  },
  {
   "cell_type": "code",
   "execution_count": null,
   "metadata": {},
   "outputs": [],
   "source": []
  },
  {
   "cell_type": "code",
   "execution_count": 43,
   "metadata": {},
   "outputs": [],
   "source": [
    "a.drop(['StatusCd','ControllingStateCd'],axis=1,inplace=True)"
   ]
  },
  {
   "cell_type": "code",
   "execution_count": 44,
   "metadata": {
    "scrolled": true
   },
   "outputs": [
    {
     "data": {
      "text/plain": [
       "244325"
      ]
     },
     "execution_count": 44,
     "metadata": {},
     "output_type": "execute_result"
    }
   ],
   "source": [
    "len(a)"
   ]
  },
  {
   "cell_type": "code",
   "execution_count": 45,
   "metadata": {
    "scrolled": true
   },
   "outputs": [
    {
     "data": {
      "text/plain": [
       "Index([u'Age', u'AnnualDedInd', u'CarrierCd', u'CopayPct', u'Country',\n",
       "       u'CustomerNumber', u'Deductible', u'Duration', u'EarnedPremiumAmt',\n",
       "       u'ExchangeRate', u'PetType', u'PolicyForm', u'PolicyVersion',\n",
       "       u'RptSalesExecutive', u'ClaimCount', u'ClaimAmount', u'Mix',\n",
       "       u'LossRatio'],\n",
       "      dtype='object')"
      ]
     },
     "execution_count": 45,
     "metadata": {},
     "output_type": "execute_result"
    }
   ],
   "source": [
    "a.columns"
   ]
  },
  {
   "cell_type": "code",
   "execution_count": 46,
   "metadata": {},
   "outputs": [
    {
     "data": {
      "text/plain": [
       "array(['PPCAT001', 'PPDOG001', 'Dog', 'Cat'], dtype=object)"
      ]
     },
     "execution_count": 46,
     "metadata": {},
     "output_type": "execute_result"
    }
   ],
   "source": [
    "a['PetType'].unique()"
   ]
  },
  {
   "cell_type": "code",
   "execution_count": null,
   "metadata": {},
   "outputs": [],
   "source": []
  },
  {
   "cell_type": "code",
   "execution_count": 47,
   "metadata": {},
   "outputs": [],
   "source": [
    "a['PetType'].replace({'PPCAT001': 'Cat','PPDOG001': 'Dog'},inplace=True)"
   ]
  },
  {
   "cell_type": "code",
   "execution_count": 48,
   "metadata": {},
   "outputs": [
    {
     "data": {
      "text/plain": [
       "array(['Cat', 'Dog'], dtype=object)"
      ]
     },
     "execution_count": 48,
     "metadata": {},
     "output_type": "execute_result"
    }
   ],
   "source": [
    "a['PetType'].unique()"
   ]
  },
  {
   "cell_type": "code",
   "execution_count": 49,
   "metadata": {},
   "outputs": [],
   "source": [
    "a['CopayPct'].replace({10:.9,20:.8,30:.7,0:1},inplace=True)"
   ]
  },
  {
   "cell_type": "code",
   "execution_count": 50,
   "metadata": {},
   "outputs": [
    {
     "data": {
      "text/plain": [
       "array([1. , 0.8, 0.9, 0.7])"
      ]
     },
     "execution_count": 50,
     "metadata": {},
     "output_type": "execute_result"
    }
   ],
   "source": [
    "a['CopayPct'].unique()"
   ]
  },
  {
   "cell_type": "code",
   "execution_count": 51,
   "metadata": {},
   "outputs": [
    {
     "data": {
      "text/plain": [
       "244325"
      ]
     },
     "execution_count": 51,
     "metadata": {},
     "output_type": "execute_result"
    }
   ],
   "source": [
    "len(a)"
   ]
  },
  {
   "cell_type": "code",
   "execution_count": 52,
   "metadata": {},
   "outputs": [
    {
     "data": {
      "text/plain": [
       "Index([u'Age', u'AnnualDedInd', u'CarrierCd', u'CopayPct', u'Country',\n",
       "       u'CustomerNumber', u'Deductible', u'Duration', u'EarnedPremiumAmt',\n",
       "       u'ExchangeRate', u'PetType', u'PolicyForm', u'PolicyVersion',\n",
       "       u'RptSalesExecutive', u'ClaimCount', u'ClaimAmount', u'Mix',\n",
       "       u'LossRatio'],\n",
       "      dtype='object')"
      ]
     },
     "execution_count": 52,
     "metadata": {},
     "output_type": "execute_result"
    }
   ],
   "source": [
    "a.columns"
   ]
  },
  {
   "cell_type": "code",
   "execution_count": 53,
   "metadata": {},
   "outputs": [
    {
     "name": "stdout",
     "output_type": "stream",
     "text": [
      "   Age  AnnualDedInd CarrierCd  CopayPct Country  \\\n",
      "0  0.0  PerCondition       AGR       1.0     CAN   \n",
      "1  0.0  PerCondition       AGR       0.8     CAN   \n",
      "2  4.0  PerCondition       AGR       0.9     CAN   \n",
      "3  2.0  PerCondition       AGR       1.0     CAN   \n",
      "4  1.0  PerCondition       AGR       1.0     CAN   \n",
      "\n",
      "                     CustomerNumber  Deductible  Duration  EarnedPremiumAmt  \\\n",
      "0  D62F3336F33749E7B3C32383D2302CD6         200       365        288.330000   \n",
      "1  00F6E73206734211BDF89AA2CDAA0295         100        30         18.690411   \n",
      "2                            222806         200       365        385.960000   \n",
      "3                            237797         200       366        347.510000   \n",
      "4                            177407         100       366        706.140000   \n",
      "\n",
      "   ExchangeRate PetType PolicyForm  PolicyVersion  RptSalesExecutive  \\\n",
      "0      0.917847     Cat       Gold              0                  1   \n",
      "1      0.932271     Cat      Intro              0                  6   \n",
      "2      0.965728     Dog     Bronze              1                  4   \n",
      "3      0.724475     Dog     Bronze              2                  4   \n",
      "4      0.821336     Dog     Silver              1                  4   \n",
      "\n",
      "   ClaimCount  ClaimAmount  Mix  LossRatio  \n",
      "0           1       510.74    0   1.771373  \n",
      "1           1       205.94    0  11.018484  \n",
      "2           5       635.88    1   1.647528  \n",
      "3           1       321.89    0   0.926276  \n",
      "4           2       520.68    0   0.737361  \n"
     ]
    }
   ],
   "source": [
    "new_index=np.array((range(len(a))))\n",
    "\n",
    "a = a.reset_index(drop=True)\n",
    "print a.head()"
   ]
  },
  {
   "cell_type": "code",
   "execution_count": 54,
   "metadata": {
    "scrolled": true
   },
   "outputs": [
    {
     "data": {
      "text/html": [
       "<div>\n",
       "<style scoped>\n",
       "    .dataframe tbody tr th:only-of-type {\n",
       "        vertical-align: middle;\n",
       "    }\n",
       "\n",
       "    .dataframe tbody tr th {\n",
       "        vertical-align: top;\n",
       "    }\n",
       "\n",
       "    .dataframe thead th {\n",
       "        text-align: right;\n",
       "    }\n",
       "</style>\n",
       "<table border=\"1\" class=\"dataframe\">\n",
       "  <thead>\n",
       "    <tr style=\"text-align: right;\">\n",
       "      <th></th>\n",
       "      <th>Age</th>\n",
       "      <th>AnnualDedInd</th>\n",
       "      <th>CarrierCd</th>\n",
       "      <th>CopayPct</th>\n",
       "      <th>Country</th>\n",
       "      <th>CustomerNumber</th>\n",
       "      <th>Deductible</th>\n",
       "      <th>Duration</th>\n",
       "      <th>EarnedPremiumAmt</th>\n",
       "      <th>ExchangeRate</th>\n",
       "      <th>PetType</th>\n",
       "      <th>PolicyForm</th>\n",
       "      <th>PolicyVersion</th>\n",
       "      <th>RptSalesExecutive</th>\n",
       "      <th>ClaimCount</th>\n",
       "      <th>ClaimAmount</th>\n",
       "      <th>Mix</th>\n",
       "      <th>LossRatio</th>\n",
       "    </tr>\n",
       "  </thead>\n",
       "  <tbody>\n",
       "    <tr>\n",
       "      <th>0</th>\n",
       "      <td>0.0</td>\n",
       "      <td>PerCondition</td>\n",
       "      <td>AGR</td>\n",
       "      <td>1.0</td>\n",
       "      <td>CAN</td>\n",
       "      <td>D62F3336F33749E7B3C32383D2302CD6</td>\n",
       "      <td>200</td>\n",
       "      <td>365</td>\n",
       "      <td>288.330000</td>\n",
       "      <td>0.917847</td>\n",
       "      <td>Cat</td>\n",
       "      <td>Gold</td>\n",
       "      <td>0</td>\n",
       "      <td>1</td>\n",
       "      <td>1</td>\n",
       "      <td>510.74</td>\n",
       "      <td>0</td>\n",
       "      <td>1.771373</td>\n",
       "    </tr>\n",
       "    <tr>\n",
       "      <th>1</th>\n",
       "      <td>0.0</td>\n",
       "      <td>PerCondition</td>\n",
       "      <td>AGR</td>\n",
       "      <td>0.8</td>\n",
       "      <td>CAN</td>\n",
       "      <td>00F6E73206734211BDF89AA2CDAA0295</td>\n",
       "      <td>100</td>\n",
       "      <td>30</td>\n",
       "      <td>18.690411</td>\n",
       "      <td>0.932271</td>\n",
       "      <td>Cat</td>\n",
       "      <td>Intro</td>\n",
       "      <td>0</td>\n",
       "      <td>6</td>\n",
       "      <td>1</td>\n",
       "      <td>205.94</td>\n",
       "      <td>0</td>\n",
       "      <td>11.018484</td>\n",
       "    </tr>\n",
       "    <tr>\n",
       "      <th>2</th>\n",
       "      <td>4.0</td>\n",
       "      <td>PerCondition</td>\n",
       "      <td>AGR</td>\n",
       "      <td>0.9</td>\n",
       "      <td>CAN</td>\n",
       "      <td>222806</td>\n",
       "      <td>200</td>\n",
       "      <td>365</td>\n",
       "      <td>385.960000</td>\n",
       "      <td>0.965728</td>\n",
       "      <td>Dog</td>\n",
       "      <td>Bronze</td>\n",
       "      <td>1</td>\n",
       "      <td>4</td>\n",
       "      <td>5</td>\n",
       "      <td>635.88</td>\n",
       "      <td>1</td>\n",
       "      <td>1.647528</td>\n",
       "    </tr>\n",
       "    <tr>\n",
       "      <th>3</th>\n",
       "      <td>2.0</td>\n",
       "      <td>PerCondition</td>\n",
       "      <td>AGR</td>\n",
       "      <td>1.0</td>\n",
       "      <td>CAN</td>\n",
       "      <td>237797</td>\n",
       "      <td>200</td>\n",
       "      <td>366</td>\n",
       "      <td>347.510000</td>\n",
       "      <td>0.724475</td>\n",
       "      <td>Dog</td>\n",
       "      <td>Bronze</td>\n",
       "      <td>2</td>\n",
       "      <td>4</td>\n",
       "      <td>1</td>\n",
       "      <td>321.89</td>\n",
       "      <td>0</td>\n",
       "      <td>0.926276</td>\n",
       "    </tr>\n",
       "    <tr>\n",
       "      <th>4</th>\n",
       "      <td>1.0</td>\n",
       "      <td>PerCondition</td>\n",
       "      <td>AGR</td>\n",
       "      <td>1.0</td>\n",
       "      <td>CAN</td>\n",
       "      <td>177407</td>\n",
       "      <td>100</td>\n",
       "      <td>366</td>\n",
       "      <td>706.140000</td>\n",
       "      <td>0.821336</td>\n",
       "      <td>Dog</td>\n",
       "      <td>Silver</td>\n",
       "      <td>1</td>\n",
       "      <td>4</td>\n",
       "      <td>2</td>\n",
       "      <td>520.68</td>\n",
       "      <td>0</td>\n",
       "      <td>0.737361</td>\n",
       "    </tr>\n",
       "  </tbody>\n",
       "</table>\n",
       "</div>"
      ],
      "text/plain": [
       "   Age  AnnualDedInd CarrierCd  CopayPct Country  \\\n",
       "0  0.0  PerCondition       AGR       1.0     CAN   \n",
       "1  0.0  PerCondition       AGR       0.8     CAN   \n",
       "2  4.0  PerCondition       AGR       0.9     CAN   \n",
       "3  2.0  PerCondition       AGR       1.0     CAN   \n",
       "4  1.0  PerCondition       AGR       1.0     CAN   \n",
       "\n",
       "                     CustomerNumber  Deductible  Duration  EarnedPremiumAmt  \\\n",
       "0  D62F3336F33749E7B3C32383D2302CD6         200       365        288.330000   \n",
       "1  00F6E73206734211BDF89AA2CDAA0295         100        30         18.690411   \n",
       "2                            222806         200       365        385.960000   \n",
       "3                            237797         200       366        347.510000   \n",
       "4                            177407         100       366        706.140000   \n",
       "\n",
       "   ExchangeRate PetType PolicyForm  PolicyVersion  RptSalesExecutive  \\\n",
       "0      0.917847     Cat       Gold              0                  1   \n",
       "1      0.932271     Cat      Intro              0                  6   \n",
       "2      0.965728     Dog     Bronze              1                  4   \n",
       "3      0.724475     Dog     Bronze              2                  4   \n",
       "4      0.821336     Dog     Silver              1                  4   \n",
       "\n",
       "   ClaimCount  ClaimAmount  Mix  LossRatio  \n",
       "0           1       510.74    0   1.771373  \n",
       "1           1       205.94    0  11.018484  \n",
       "2           5       635.88    1   1.647528  \n",
       "3           1       321.89    0   0.926276  \n",
       "4           2       520.68    0   0.737361  "
      ]
     },
     "execution_count": 54,
     "metadata": {},
     "output_type": "execute_result"
    }
   ],
   "source": [
    "a.head()"
   ]
  },
  {
   "cell_type": "code",
   "execution_count": 55,
   "metadata": {},
   "outputs": [
    {
     "data": {
      "text/plain": [
       "array(['AGR', 'CAN', 'ALZ', 'EMN', 'ANP', 'XLC'], dtype=object)"
      ]
     },
     "execution_count": 55,
     "metadata": {},
     "output_type": "execute_result"
    }
   ],
   "source": [
    "a['CarrierCd'].unique()"
   ]
  },
  {
   "cell_type": "code",
   "execution_count": 56,
   "metadata": {},
   "outputs": [
    {
     "data": {
      "text/plain": [
       "6"
      ]
     },
     "execution_count": 56,
     "metadata": {},
     "output_type": "execute_result"
    }
   ],
   "source": [
    "len(a['CarrierCd'].unique())"
   ]
  },
  {
   "cell_type": "code",
   "execution_count": 57,
   "metadata": {},
   "outputs": [
    {
     "data": {
      "text/plain": [
       "0        0.917847\n",
       "1        0.932271\n",
       "2        0.965728\n",
       "3        0.724475\n",
       "4        0.821336\n",
       "5        0.705400\n",
       "6        0.900359\n",
       "7        0.809299\n",
       "8        0.923538\n",
       "9        0.779029\n",
       "10       0.724475\n",
       "11       0.767398\n",
       "12       0.765173\n",
       "13       0.809299\n",
       "14       0.775202\n",
       "15       0.826967\n",
       "16       0.773476\n",
       "17       0.705400\n",
       "18       0.917847\n",
       "19       0.809024\n",
       "20       0.883602\n",
       "21       0.775202\n",
       "22       0.964801\n",
       "23       0.923538\n",
       "24       0.909310\n",
       "25       0.760954\n",
       "26       0.883602\n",
       "27       0.965728\n",
       "28       0.779869\n",
       "29       0.705400\n",
       "           ...   \n",
       "10286    0.763109\n",
       "10287    0.909310\n",
       "10288    0.917847\n",
       "10289    0.773476\n",
       "10290    0.904496\n",
       "10291    0.809299\n",
       "10292    0.904496\n",
       "10293    0.763109\n",
       "10294    0.992140\n",
       "10295    0.915571\n",
       "10296    0.799001\n",
       "10297    0.752988\n",
       "10298    0.883602\n",
       "10299    0.923538\n",
       "10300    0.809024\n",
       "10301    0.909360\n",
       "10302    0.960236\n",
       "10303    0.809024\n",
       "10304    0.773476\n",
       "10305    0.866507\n",
       "10306    0.760954\n",
       "10307    0.775202\n",
       "10308    0.981178\n",
       "10309    0.792770\n",
       "10310    0.915571\n",
       "10311    0.779869\n",
       "10312    0.821336\n",
       "10313    0.917320\n",
       "10314    0.900359\n",
       "10315    0.891234\n",
       "Name: ExchangeRate, Length: 10316, dtype: float64"
      ]
     },
     "execution_count": 57,
     "metadata": {},
     "output_type": "execute_result"
    }
   ],
   "source": [
    "a.loc[a['Country']=='CAN']['ExchangeRate']"
   ]
  },
  {
   "cell_type": "code",
   "execution_count": 58,
   "metadata": {},
   "outputs": [
    {
     "data": {
      "text/plain": [
       "11"
      ]
     },
     "execution_count": 58,
     "metadata": {},
     "output_type": "execute_result"
    }
   ],
   "source": [
    "len(a['PolicyForm'].unique())"
   ]
  },
  {
   "cell_type": "code",
   "execution_count": 59,
   "metadata": {},
   "outputs": [
    {
     "data": {
      "text/plain": [
       "2"
      ]
     },
     "execution_count": 59,
     "metadata": {},
     "output_type": "execute_result"
    }
   ],
   "source": [
    "len(a['AnnualDedInd'].unique())"
   ]
  },
  {
   "cell_type": "code",
   "execution_count": 60,
   "metadata": {
    "scrolled": true
   },
   "outputs": [
    {
     "data": {
      "text/plain": [
       "Index([u'Age', u'AnnualDedInd', u'CarrierCd', u'CopayPct', u'Country',\n",
       "       u'CustomerNumber', u'Deductible', u'Duration', u'EarnedPremiumAmt',\n",
       "       u'ExchangeRate', u'PetType', u'PolicyForm', u'PolicyVersion',\n",
       "       u'RptSalesExecutive', u'ClaimCount', u'ClaimAmount', u'Mix',\n",
       "       u'LossRatio'],\n",
       "      dtype='object')"
      ]
     },
     "execution_count": 60,
     "metadata": {},
     "output_type": "execute_result"
    }
   ],
   "source": [
    "a.columns"
   ]
  },
  {
   "cell_type": "code",
   "execution_count": 61,
   "metadata": {},
   "outputs": [],
   "source": [
    "a.drop(['EarnedPremiumAmt','CustomerNumber','ExchangeRate'],axis=1,inplace=True)"
   ]
  },
  {
   "cell_type": "code",
   "execution_count": 62,
   "metadata": {},
   "outputs": [],
   "source": [
    "cols_to_transform = ['AnnualDedInd','CarrierCd','ControllingStateCd','Country','PetType','PolicyForm']\n",
    "df = pd.get_dummies(d)"
   ]
  },
  {
   "cell_type": "code",
   "execution_count": 63,
   "metadata": {},
   "outputs": [
    {
     "data": {
      "text/html": [
       "<div>\n",
       "<style scoped>\n",
       "    .dataframe tbody tr th:only-of-type {\n",
       "        vertical-align: middle;\n",
       "    }\n",
       "\n",
       "    .dataframe tbody tr th {\n",
       "        vertical-align: top;\n",
       "    }\n",
       "\n",
       "    .dataframe thead th {\n",
       "        text-align: right;\n",
       "    }\n",
       "</style>\n",
       "<table border=\"1\" class=\"dataframe\">\n",
       "  <thead>\n",
       "    <tr style=\"text-align: right;\">\n",
       "      <th></th>\n",
       "      <th>Age</th>\n",
       "      <th>CopayPct</th>\n",
       "      <th>Deductible</th>\n",
       "      <th>Duration</th>\n",
       "      <th>EarnedPremiumAmt</th>\n",
       "      <th>ExchangeRate</th>\n",
       "      <th>PolicyVersion</th>\n",
       "      <th>RptSalesExecutive</th>\n",
       "      <th>ClaimCount</th>\n",
       "      <th>ClaimAmount</th>\n",
       "      <th>...</th>\n",
       "      <th>PolicyForm_Gold</th>\n",
       "      <th>PolicyForm_Intro</th>\n",
       "      <th>PolicyForm_Silver</th>\n",
       "      <th>PolicyForm_Unlimited</th>\n",
       "      <th>StatusCd_Active</th>\n",
       "      <th>StatusCd_Cancel Notice</th>\n",
       "      <th>StatusCd_Cancelled</th>\n",
       "      <th>StatusCd_Lapsed</th>\n",
       "      <th>StatusCd_Renewed</th>\n",
       "      <th>StatusCd_Renewed to SPI</th>\n",
       "    </tr>\n",
       "  </thead>\n",
       "  <tbody>\n",
       "    <tr>\n",
       "      <th>4</th>\n",
       "      <td>0.0</td>\n",
       "      <td>0.0</td>\n",
       "      <td>200</td>\n",
       "      <td>365</td>\n",
       "      <td>288.330000</td>\n",
       "      <td>0.917847</td>\n",
       "      <td>0</td>\n",
       "      <td>1</td>\n",
       "      <td>1</td>\n",
       "      <td>510.74</td>\n",
       "      <td>...</td>\n",
       "      <td>1</td>\n",
       "      <td>0</td>\n",
       "      <td>0</td>\n",
       "      <td>0</td>\n",
       "      <td>0</td>\n",
       "      <td>0</td>\n",
       "      <td>0</td>\n",
       "      <td>1</td>\n",
       "      <td>0</td>\n",
       "      <td>0</td>\n",
       "    </tr>\n",
       "    <tr>\n",
       "      <th>11</th>\n",
       "      <td>0.0</td>\n",
       "      <td>20.0</td>\n",
       "      <td>100</td>\n",
       "      <td>30</td>\n",
       "      <td>18.690411</td>\n",
       "      <td>0.932271</td>\n",
       "      <td>0</td>\n",
       "      <td>6</td>\n",
       "      <td>1</td>\n",
       "      <td>205.94</td>\n",
       "      <td>...</td>\n",
       "      <td>0</td>\n",
       "      <td>1</td>\n",
       "      <td>0</td>\n",
       "      <td>0</td>\n",
       "      <td>0</td>\n",
       "      <td>0</td>\n",
       "      <td>1</td>\n",
       "      <td>0</td>\n",
       "      <td>0</td>\n",
       "      <td>0</td>\n",
       "    </tr>\n",
       "    <tr>\n",
       "      <th>30</th>\n",
       "      <td>4.0</td>\n",
       "      <td>10.0</td>\n",
       "      <td>200</td>\n",
       "      <td>365</td>\n",
       "      <td>385.960000</td>\n",
       "      <td>0.965728</td>\n",
       "      <td>1</td>\n",
       "      <td>4</td>\n",
       "      <td>5</td>\n",
       "      <td>635.88</td>\n",
       "      <td>...</td>\n",
       "      <td>0</td>\n",
       "      <td>0</td>\n",
       "      <td>0</td>\n",
       "      <td>0</td>\n",
       "      <td>0</td>\n",
       "      <td>0</td>\n",
       "      <td>0</td>\n",
       "      <td>1</td>\n",
       "      <td>0</td>\n",
       "      <td>0</td>\n",
       "    </tr>\n",
       "    <tr>\n",
       "      <th>39</th>\n",
       "      <td>2.0</td>\n",
       "      <td>0.0</td>\n",
       "      <td>200</td>\n",
       "      <td>366</td>\n",
       "      <td>347.510000</td>\n",
       "      <td>0.724475</td>\n",
       "      <td>2</td>\n",
       "      <td>4</td>\n",
       "      <td>1</td>\n",
       "      <td>321.89</td>\n",
       "      <td>...</td>\n",
       "      <td>0</td>\n",
       "      <td>0</td>\n",
       "      <td>0</td>\n",
       "      <td>0</td>\n",
       "      <td>0</td>\n",
       "      <td>0</td>\n",
       "      <td>0</td>\n",
       "      <td>0</td>\n",
       "      <td>0</td>\n",
       "      <td>1</td>\n",
       "    </tr>\n",
       "    <tr>\n",
       "      <th>44</th>\n",
       "      <td>1.0</td>\n",
       "      <td>0.0</td>\n",
       "      <td>100</td>\n",
       "      <td>366</td>\n",
       "      <td>706.140000</td>\n",
       "      <td>0.821336</td>\n",
       "      <td>1</td>\n",
       "      <td>4</td>\n",
       "      <td>2</td>\n",
       "      <td>520.68</td>\n",
       "      <td>...</td>\n",
       "      <td>0</td>\n",
       "      <td>0</td>\n",
       "      <td>1</td>\n",
       "      <td>0</td>\n",
       "      <td>0</td>\n",
       "      <td>0</td>\n",
       "      <td>0</td>\n",
       "      <td>1</td>\n",
       "      <td>0</td>\n",
       "      <td>0</td>\n",
       "    </tr>\n",
       "  </tbody>\n",
       "</table>\n",
       "<p>5 rows × 7122 columns</p>\n",
       "</div>"
      ],
      "text/plain": [
       "    Age  CopayPct  Deductible  Duration  EarnedPremiumAmt  ExchangeRate  \\\n",
       "4   0.0       0.0         200       365        288.330000      0.917847   \n",
       "11  0.0      20.0         100        30         18.690411      0.932271   \n",
       "30  4.0      10.0         200       365        385.960000      0.965728   \n",
       "39  2.0       0.0         200       366        347.510000      0.724475   \n",
       "44  1.0       0.0         100       366        706.140000      0.821336   \n",
       "\n",
       "    PolicyVersion  RptSalesExecutive  ClaimCount  ClaimAmount  \\\n",
       "4               0                  1           1       510.74   \n",
       "11              0                  6           1       205.94   \n",
       "30              1                  4           5       635.88   \n",
       "39              2                  4           1       321.89   \n",
       "44              1                  4           2       520.68   \n",
       "\n",
       "             ...             PolicyForm_Gold  PolicyForm_Intro  \\\n",
       "4            ...                           1                 0   \n",
       "11           ...                           0                 1   \n",
       "30           ...                           0                 0   \n",
       "39           ...                           0                 0   \n",
       "44           ...                           0                 0   \n",
       "\n",
       "    PolicyForm_Silver  PolicyForm_Unlimited  StatusCd_Active  \\\n",
       "4                   0                     0                0   \n",
       "11                  0                     0                0   \n",
       "30                  0                     0                0   \n",
       "39                  0                     0                0   \n",
       "44                  1                     0                0   \n",
       "\n",
       "    StatusCd_Cancel Notice  StatusCd_Cancelled  StatusCd_Lapsed  \\\n",
       "4                        0                   0                1   \n",
       "11                       0                   1                0   \n",
       "30                       0                   0                1   \n",
       "39                       0                   0                0   \n",
       "44                       0                   0                1   \n",
       "\n",
       "    StatusCd_Renewed  StatusCd_Renewed to SPI  \n",
       "4                  0                        0  \n",
       "11                 0                        0  \n",
       "30                 0                        0  \n",
       "39                 0                        1  \n",
       "44                 0                        0  \n",
       "\n",
       "[5 rows x 7122 columns]"
      ]
     },
     "execution_count": 63,
     "metadata": {},
     "output_type": "execute_result"
    }
   ],
   "source": [
    "df.head()"
   ]
  },
  {
   "cell_type": "code",
   "execution_count": null,
   "metadata": {},
   "outputs": [],
   "source": []
  },
  {
   "cell_type": "code",
   "execution_count": null,
   "metadata": {},
   "outputs": [],
   "source": []
  },
  {
   "cell_type": "code",
   "execution_count": null,
   "metadata": {},
   "outputs": [],
   "source": []
  }
 ],
 "metadata": {
  "kernelspec": {
   "display_name": "Python 2",
   "language": "python",
   "name": "python2"
  },
  "language_info": {
   "codemirror_mode": {
    "name": "ipython",
    "version": 2
   },
   "file_extension": ".py",
   "mimetype": "text/x-python",
   "name": "python",
   "nbconvert_exporter": "python",
   "pygments_lexer": "ipython2",
   "version": "2.7.14"
  }
 },
 "nbformat": 4,
 "nbformat_minor": 2
}
