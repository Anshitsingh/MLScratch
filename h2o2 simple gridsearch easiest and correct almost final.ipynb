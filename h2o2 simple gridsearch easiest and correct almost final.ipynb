{
 "cells": [
  {
   "cell_type": "code",
   "execution_count": 1,
   "metadata": {},
   "outputs": [
    {
     "name": "stderr",
     "output_type": "stream",
     "text": [
      "Skipping line 267909: expected 33 fields, saw 34\n",
      "\n",
      "Skipping line 299539: expected 33 fields, saw 34\n",
      "\n",
      "/home/jash/anaconda3/envs/py27/lib/python2.7/site-packages/IPython/core/interactiveshell.py:2718: DtypeWarning: Columns (5,17,18,19,20) have mixed types. Specify dtype option on import or set low_memory=False.\n",
      "  interactivity=interactivity, compiler=compiler, result=result)\n"
     ]
    }
   ],
   "source": [
    "import pandas as pd\n",
    "a=pd.read_table(\"/home/jash/Desktop/petplan/Profitability1.txt\", sep='|', lineterminator='\\n', error_bad_lines=False)"
   ]
  },
  {
   "cell_type": "code",
   "execution_count": 2,
   "metadata": {
    "scrolled": false
   },
   "outputs": [
    {
     "name": "stdout",
     "output_type": "stream",
     "text": [
      "     LossRatio  Duration            PetId   StartDate     EndDate  \\\n",
      "43   30.476581       289    US1248409Abby  2017-10-12  2018-10-11   \n",
      "95    1.163478       361  US2050569paulie  2017-08-01  2018-07-31   \n",
      "122   0.963040       273      US1757740Bo  2016-08-05  2017-05-04   \n",
      "123   0.579940       366   US1430949Ollie  2015-10-01  2016-09-30   \n",
      "129   1.398240       220     US2188064Uno  2017-12-20  2018-12-19   \n",
      "\n",
      "    LastPolicyRef  TotalClaimsAmtPaid  TotalEarnedPremium  \\\n",
      "43         533793           13482.104          442.375863   \n",
      "95         496221            1261.358         1084.127507   \n",
      "122        280992             386.665          401.504466   \n",
      "123        288652             196.420          338.690000   \n",
      "129        573833             169.600          121.295342   \n",
      "\n",
      "                            BreedName  Currentage ...   Surname  GivenName  \\\n",
      "43   Mixed Breed Small ( up to 22lb )         4.0 ...  Corbelle     Ileana   \n",
      "95                    English Bulldog         0.0 ...   fabisch      staci   \n",
      "122        Mixed Breed Large (71lb +)         0.0 ...    Cooper    Katrina   \n",
      "123                       Maltese Mix         4.0 ...    McCool      Lydia   \n",
      "129                Domestic Shorthair         0.0 ...       Kim      Renee   \n",
      "\n",
      "    CustomerMailingAddr_Addr1 CustomerMailingAddr_City  \\\n",
      "43     601 W 113th St Apt 10A                 New York   \n",
      "95                 23 Ross Rd               Livingston   \n",
      "122         3802 Hutchison Rd               Wilmington   \n",
      "123          360 Sherwood Way               Menlo Park   \n",
      "129        270 1st Ave Apt 7G                 New York   \n",
      "\n",
      "    CustomerMailingAddr_StateProvCd  CustomerMailingAddr_PostalCode  \\\n",
      "43                               NY                      10025-9715   \n",
      "95                               NJ                      07039-6219   \n",
      "122                              DE                      19808-4624   \n",
      "123                              CA                      94025-3512   \n",
      "129                              NY                      10009-2622   \n",
      "\n",
      "             Quadrant claimdurationInception churn\\r  L  \n",
      "43   LowTenure-HighLR                  240.0       0  1  \n",
      "95   LowTenure-HighLR                  178.0       0  0  \n",
      "122  LowTenure-HighLR                   66.0       1  0  \n",
      "123  LowTenure-HighLR                   29.0       1  0  \n",
      "129  LowTenure-HighLR                   80.0       0  0  \n",
      "\n",
      "[5 rows x 34 columns]\n"
     ]
    }
   ],
   "source": [
    "data=pd.DataFrame(data=a,index=None)\n",
    "data = data.sample(frac=1).reset_index(drop=True)\n",
    "import math\n",
    "import numpy as np\n",
    "data['LossRatio'].fillna(0, inplace=True)\n",
    "data['L']=0\n",
    "data.loc[data['LossRatio'] >8.451531 ,'L'] = 1\n",
    "data.to_csv(\"/home/jash/Desktop/petplan/Profitability.csv\")\n",
    "Y=data['L']\n",
    "y=pd.DataFrame(Y)\n",
    "x=pd.DataFrame(data)\n",
    "\n",
    "m=x.loc[x['PolicyForm']!='Introductory']\n",
    "q=pd.DataFrame(m)\n",
    "m2=q.loc[q['PolicyForm']!='Intro']\n",
    "m3=pd.DataFrame(m2)\n",
    "m4=m3.loc[m3['Quadrant']=='LowTenure-HighLR']\n",
    "x=pd.DataFrame(m4)\n",
    "\n",
    "print x.head()\n"
   ]
  },
  {
   "cell_type": "code",
   "execution_count": 3,
   "metadata": {},
   "outputs": [
    {
     "data": {
      "text/plain": [
       "526.2746201058766"
      ]
     },
     "execution_count": 3,
     "metadata": {},
     "output_type": "execute_result"
    }
   ],
   "source": [
    "x['LossRatio'].max()"
   ]
  },
  {
   "cell_type": "code",
   "execution_count": 4,
   "metadata": {
    "scrolled": true
   },
   "outputs": [
    {
     "data": {
      "text/plain": [
       "4189"
      ]
     },
     "execution_count": 4,
     "metadata": {},
     "output_type": "execute_result"
    }
   ],
   "source": [
    "len(x.loc[x['L']==1])"
   ]
  },
  {
   "cell_type": "code",
   "execution_count": 5,
   "metadata": {
    "scrolled": false
   },
   "outputs": [
    {
     "data": {
      "text/plain": [
       "16161"
      ]
     },
     "execution_count": 5,
     "metadata": {},
     "output_type": "execute_result"
    }
   ],
   "source": [
    "len(x)"
   ]
  },
  {
   "cell_type": "code",
   "execution_count": 6,
   "metadata": {},
   "outputs": [
    {
     "data": {
      "text/plain": [
       "LossRatio                           0\n",
       "Duration                            0\n",
       "PetId                               0\n",
       "StartDate                           0\n",
       "EndDate                             0\n",
       "LastPolicyRef                       0\n",
       "TotalClaimsAmtPaid                  0\n",
       "TotalEarnedPremium                  0\n",
       "BreedName                           0\n",
       "Currentage                          0\n",
       "CopayPct                            0\n",
       "Deductible                          0\n",
       "PetType                             0\n",
       "PolicyForm                          0\n",
       "CarrierCd                           0\n",
       "ClaimNumber                         0\n",
       "ClaimAmount                         0\n",
       "ClaimDetails                        0\n",
       "ConditionGrp                        0\n",
       "Claimcodecategory                   0\n",
       "Severity                           46\n",
       "CustomerNumber                     61\n",
       "Country                            61\n",
       "PhoneNumber                        92\n",
       "Surname                            63\n",
       "GivenName                          67\n",
       "CustomerMailingAddr_Addr1          61\n",
       "CustomerMailingAddr_City           61\n",
       "CustomerMailingAddr_StateProvCd    61\n",
       "CustomerMailingAddr_PostalCode     61\n",
       "Quadrant                            0\n",
       "claimdurationInception              0\n",
       "churn\\r                             0\n",
       "L                                   0\n",
       "dtype: int64"
      ]
     },
     "execution_count": 6,
     "metadata": {},
     "output_type": "execute_result"
    }
   ],
   "source": [
    "\n",
    "x.isnull().sum()"
   ]
  },
  {
   "cell_type": "code",
   "execution_count": 7,
   "metadata": {
    "scrolled": true
   },
   "outputs": [],
   "source": [
    "x.drop(['LossRatio'],axis=1,inplace=True)\n",
    "x.drop(['CustomerNumber','PhoneNumber','Surname','GivenName','CustomerMailingAddr_Addr1','CustomerMailingAddr_City','CustomerMailingAddr_StateProvCd',\n",
    "       'CustomerMailingAddr_PostalCode','PetId','StartDate','EndDate','LastPolicyRef'],axis=1,inplace=True)\n",
    "\n"
   ]
  },
  {
   "cell_type": "code",
   "execution_count": 8,
   "metadata": {},
   "outputs": [],
   "source": [
    "p=pd.DataFrame(x)"
   ]
  },
  {
   "cell_type": "code",
   "execution_count": 9,
   "metadata": {},
   "outputs": [],
   "source": [
    "p.drop(['ClaimNumber','ClaimAmount','Severity','ClaimDetails','ConditionGrp','Claimcodecategory','claimdurationInception'],axis=1,inplace=True)"
   ]
  },
  {
   "cell_type": "code",
   "execution_count": 10,
   "metadata": {},
   "outputs": [
    {
     "data": {
      "text/plain": [
       "Duration               0\n",
       "TotalClaimsAmtPaid     0\n",
       "TotalEarnedPremium     0\n",
       "BreedName              0\n",
       "Currentage             0\n",
       "CopayPct               0\n",
       "Deductible             0\n",
       "PetType                0\n",
       "PolicyForm             0\n",
       "CarrierCd              0\n",
       "Country               61\n",
       "Quadrant               0\n",
       "churn\\r                0\n",
       "L                      0\n",
       "dtype: int64"
      ]
     },
     "execution_count": 10,
     "metadata": {},
     "output_type": "execute_result"
    }
   ],
   "source": [
    "p.isnull().sum()"
   ]
  },
  {
   "cell_type": "code",
   "execution_count": 11,
   "metadata": {},
   "outputs": [],
   "source": [
    "\n",
    "\n",
    "p['TotalClaimsAmtPaid'].fillna(0, inplace=True)"
   ]
  },
  {
   "cell_type": "code",
   "execution_count": 12,
   "metadata": {},
   "outputs": [
    {
     "data": {
      "text/plain": [
       "Duration               0\n",
       "TotalClaimsAmtPaid     0\n",
       "TotalEarnedPremium     0\n",
       "BreedName              0\n",
       "Currentage             0\n",
       "CopayPct               0\n",
       "Deductible             0\n",
       "PetType                0\n",
       "PolicyForm             0\n",
       "CarrierCd              0\n",
       "Country               61\n",
       "Quadrant               0\n",
       "churn\\r                0\n",
       "L                      0\n",
       "dtype: int64"
      ]
     },
     "execution_count": 12,
     "metadata": {},
     "output_type": "execute_result"
    }
   ],
   "source": [
    "p.isnull().sum()"
   ]
  },
  {
   "cell_type": "code",
   "execution_count": 13,
   "metadata": {},
   "outputs": [],
   "source": [
    "p.dropna(how='any',inplace=True)"
   ]
  },
  {
   "cell_type": "code",
   "execution_count": 14,
   "metadata": {
    "scrolled": false
   },
   "outputs": [
    {
     "data": {
      "text/plain": [
       "Duration              0\n",
       "TotalClaimsAmtPaid    0\n",
       "TotalEarnedPremium    0\n",
       "BreedName             0\n",
       "Currentage            0\n",
       "CopayPct              0\n",
       "Deductible            0\n",
       "PetType               0\n",
       "PolicyForm            0\n",
       "CarrierCd             0\n",
       "Country               0\n",
       "Quadrant              0\n",
       "churn\\r               0\n",
       "L                     0\n",
       "dtype: int64"
      ]
     },
     "execution_count": 14,
     "metadata": {},
     "output_type": "execute_result"
    }
   ],
   "source": [
    "p.isnull().sum()"
   ]
  },
  {
   "cell_type": "code",
   "execution_count": 15,
   "metadata": {},
   "outputs": [],
   "source": [
    "p.drop(['Quadrant','TotalClaimsAmtPaid','TotalEarnedPremium'],axis=1,inplace=True)"
   ]
  },
  {
   "cell_type": "code",
   "execution_count": 16,
   "metadata": {},
   "outputs": [
    {
     "name": "stdout",
     "output_type": "stream",
     "text": [
      "(16100, 11)\n"
     ]
    }
   ],
   "source": [
    "print p.shape"
   ]
  },
  {
   "cell_type": "code",
   "execution_count": 17,
   "metadata": {
    "scrolled": false
   },
   "outputs": [
    {
     "name": "stdout",
     "output_type": "stream",
     "text": [
      "Checking whether there is an H2O instance running at http://localhost:54321..... not found.\n",
      "Attempting to start a local H2O server...\n",
      "  Java Version: openjdk version \"1.8.0_121\"; OpenJDK Runtime Environment (Zulu 8.20.0.5-linux64) (build 1.8.0_121-b15); OpenJDK 64-Bit Server VM (Zulu 8.20.0.5-linux64) (build 25.121-b15, mixed mode)\n",
      "  Starting server from /home/jash/anaconda3/envs/py27/h2o_jar/h2o.jar\n",
      "  Ice root: /tmp/tmpaWDm89\n",
      "  JVM stdout: /tmp/tmpaWDm89/h2o_jash_started_from_python.out\n",
      "  JVM stderr: /tmp/tmpaWDm89/h2o_jash_started_from_python.err\n",
      "  Server is running at http://127.0.0.1:54321\n",
      "Connecting to H2O server at http://127.0.0.1:54321... successful.\n",
      "Warning: Your H2O cluster version is too old (5 months)! Please download and install the latest version from http://h2o.ai/download/\n"
     ]
    },
    {
     "data": {
      "text/html": [
       "<div style=\"overflow:auto\"><table style=\"width:50%\"><tr><td>H2O cluster uptime:</td>\n",
       "<td>02 secs</td></tr>\n",
       "<tr><td>H2O cluster timezone:</td>\n",
       "<td>Asia/Kolkata</td></tr>\n",
       "<tr><td>H2O data parsing timezone:</td>\n",
       "<td>UTC</td></tr>\n",
       "<tr><td>H2O cluster version:</td>\n",
       "<td>3.18.0.2</td></tr>\n",
       "<tr><td>H2O cluster version age:</td>\n",
       "<td>5 months !!!</td></tr>\n",
       "<tr><td>H2O cluster name:</td>\n",
       "<td>H2O_from_python_jash_pc7tuz</td></tr>\n",
       "<tr><td>H2O cluster total nodes:</td>\n",
       "<td>1</td></tr>\n",
       "<tr><td>H2O cluster free memory:</td>\n",
       "<td>1.714 Gb</td></tr>\n",
       "<tr><td>H2O cluster total cores:</td>\n",
       "<td>4</td></tr>\n",
       "<tr><td>H2O cluster allowed cores:</td>\n",
       "<td>4</td></tr>\n",
       "<tr><td>H2O cluster status:</td>\n",
       "<td>accepting new members, healthy</td></tr>\n",
       "<tr><td>H2O connection url:</td>\n",
       "<td>http://127.0.0.1:54321</td></tr>\n",
       "<tr><td>H2O connection proxy:</td>\n",
       "<td>None</td></tr>\n",
       "<tr><td>H2O internal security:</td>\n",
       "<td>False</td></tr>\n",
       "<tr><td>H2O API Extensions:</td>\n",
       "<td>XGBoost, Algos, AutoML, Core V3, Core V4</td></tr>\n",
       "<tr><td>Python version:</td>\n",
       "<td>2.7.14 final</td></tr></table></div>"
      ],
      "text/plain": [
       "--------------------------  ----------------------------------------\n",
       "H2O cluster uptime:         02 secs\n",
       "H2O cluster timezone:       Asia/Kolkata\n",
       "H2O data parsing timezone:  UTC\n",
       "H2O cluster version:        3.18.0.2\n",
       "H2O cluster version age:    5 months !!!\n",
       "H2O cluster name:           H2O_from_python_jash_pc7tuz\n",
       "H2O cluster total nodes:    1\n",
       "H2O cluster free memory:    1.714 Gb\n",
       "H2O cluster total cores:    4\n",
       "H2O cluster allowed cores:  4\n",
       "H2O cluster status:         accepting new members, healthy\n",
       "H2O connection url:         http://127.0.0.1:54321\n",
       "H2O connection proxy:\n",
       "H2O internal security:      False\n",
       "H2O API Extensions:         XGBoost, Algos, AutoML, Core V3, Core V4\n",
       "Python version:             2.7.14 final\n",
       "--------------------------  ----------------------------------------"
      ]
     },
     "metadata": {},
     "output_type": "display_data"
    },
    {
     "name": "stderr",
     "output_type": "stream",
     "text": [
      "/home/jash/anaconda3/envs/py27/lib/python2.7/site-packages/h2o/h2o.py:562: UserWarning: [Lwater.parser.ParseWriter$ParseErr;@74bd9a62\n",
      "  warnings.warn(w)\n"
     ]
    },
    {
     "name": "stdout",
     "output_type": "stream",
     "text": [
      "Parse progress: |█████████████████████████████████████████████████████████| 100%\n"
     ]
    },
    {
     "name": "stderr",
     "output_type": "stream",
     "text": [
      "/home/jash/anaconda3/envs/py27/lib/python2.7/site-packages/h2o/job.py:69: UserWarning: ParseError at file upload_8f592080e4c54c474649fb3f71b04114 at line 0 ( destination line 0 )  at byte offset 111; error = 'Unmatched quote char \"'\n",
      "  warnings.warn(w)\n",
      "/home/jash/anaconda3/envs/py27/lib/python2.7/site-packages/h2o/job.py:69: UserWarning: ParseError at file upload_8f592080e4c54c474649fb3f71b04114 at line 2 ( destination line 2 )  at byte offset 117; error = 'Unmatched quote char \"'\n",
      "  warnings.warn(w)\n"
     ]
    },
    {
     "data": {
      "text/html": [
       "<table>\n",
       "<thead>\n",
       "<tr><th style=\"text-align: right;\">  Duration</th><th>BreedName                       </th><th style=\"text-align: right;\">  Currentage</th><th style=\"text-align: right;\">  CopayPct</th><th style=\"text-align: right;\">  Deductible</th><th>PetType  </th><th style=\"text-align: right;\">  PolicyForm</th><th>CarrierCd  </th><th>Country  </th><th style=\"text-align: right;\">    churn\r",
       "</th><th style=\"text-align: right;\">  L</th></tr>\n",
       "</thead>\n",
       "<tbody>\n",
       "<tr><td style=\"text-align: right;\">       nan</td><td>BreedName                       </td><td style=\"text-align: right;\">         nan</td><td style=\"text-align: right;\">     nan  </td><td style=\"text-align: right;\">         nan</td><td>PetType  </td><td style=\"text-align: right;\">         nan</td><td>CarrierCd  </td><td>Country  </td><td style=\"text-align: right;\">nan</td><td style=\"text-align: right;\">nan</td></tr>\n",
       "<tr><td style=\"text-align: right;\">       nan</td><td>                                </td><td style=\"text-align: right;\">         nan</td><td style=\"text-align: right;\">     nan  </td><td style=\"text-align: right;\">         nan</td><td>         </td><td style=\"text-align: right;\">         nan</td><td>           </td><td>         </td><td style=\"text-align: right;\">nan</td><td style=\"text-align: right;\">nan</td></tr>\n",
       "<tr><td style=\"text-align: right;\">       289</td><td>Mixed Breed Small ( up to 22lb )</td><td style=\"text-align: right;\">           4</td><td style=\"text-align: right;\">       0.8</td><td style=\"text-align: right;\">         250</td><td>Dog      </td><td style=\"text-align: right;\">       15000</td><td>XLC        </td><td>US       </td><td style=\"text-align: right;\">  0</td><td style=\"text-align: right;\">  1</td></tr>\n",
       "<tr><td style=\"text-align: right;\">       361</td><td>English Bulldog                 </td><td style=\"text-align: right;\">           0</td><td style=\"text-align: right;\">       0.8</td><td style=\"text-align: right;\">         250</td><td>Dog      </td><td style=\"text-align: right;\">       15000</td><td>XLC        </td><td>US       </td><td style=\"text-align: right;\">  0</td><td style=\"text-align: right;\">  0</td></tr>\n",
       "<tr><td style=\"text-align: right;\">       273</td><td>Mixed Breed Large (71lb +)      </td><td style=\"text-align: right;\">           0</td><td style=\"text-align: right;\">       0.9</td><td style=\"text-align: right;\">         250</td><td>Dog      </td><td style=\"text-align: right;\">       15000</td><td>XLC        </td><td>US       </td><td style=\"text-align: right;\">  1</td><td style=\"text-align: right;\">  0</td></tr>\n",
       "<tr><td style=\"text-align: right;\">       366</td><td>Maltese Mix                     </td><td style=\"text-align: right;\">           4</td><td style=\"text-align: right;\">       0.8</td><td style=\"text-align: right;\">         400</td><td>Dog      </td><td style=\"text-align: right;\">       15000</td><td>XLC        </td><td>US       </td><td style=\"text-align: right;\">  1</td><td style=\"text-align: right;\">  0</td></tr>\n",
       "<tr><td style=\"text-align: right;\">       220</td><td>Domestic Shorthair              </td><td style=\"text-align: right;\">           0</td><td style=\"text-align: right;\">       0.8</td><td style=\"text-align: right;\">         300</td><td>Cat      </td><td style=\"text-align: right;\">       15000</td><td>XLC        </td><td>US       </td><td style=\"text-align: right;\">  0</td><td style=\"text-align: right;\">  0</td></tr>\n",
       "<tr><td style=\"text-align: right;\">       246</td><td>Irish Setter                    </td><td style=\"text-align: right;\">           9</td><td style=\"text-align: right;\">       0.8</td><td style=\"text-align: right;\">        1000</td><td>Dog      </td><td style=\"text-align: right;\">        5000</td><td>XLC        </td><td>US       </td><td style=\"text-align: right;\">  1</td><td style=\"text-align: right;\">  0</td></tr>\n",
       "<tr><td style=\"text-align: right;\">       239</td><td>Doberman Pinscher               </td><td style=\"text-align: right;\">           0</td><td style=\"text-align: right;\">       0.8</td><td style=\"text-align: right;\">         250</td><td>Dog      </td><td style=\"text-align: right;\">       15000</td><td>XLC        </td><td>US       </td><td style=\"text-align: right;\">  0</td><td style=\"text-align: right;\">  0</td></tr>\n",
       "<tr><td style=\"text-align: right;\">       147</td><td>Jack Russell Terrier Mix        </td><td style=\"text-align: right;\">           5</td><td style=\"text-align: right;\">       1  </td><td style=\"text-align: right;\">         200</td><td>Dog      </td><td style=\"text-align: right;\">         nan</td><td>ALZ        </td><td>US       </td><td style=\"text-align: right;\">  1</td><td style=\"text-align: right;\">  0</td></tr>\n",
       "</tbody>\n",
       "</table>"
      ]
     },
     "metadata": {},
     "output_type": "display_data"
    },
    {
     "name": "stdout",
     "output_type": "stream",
     "text": [
      "\n",
      "gbm Model Build progress: |███████████████████████████████████████████████| 100%\n",
      "Total cross validation models: 3\n"
     ]
    }
   ],
   "source": [
    "\n",
    "import h2o\n",
    "from h2o.estimators import H2ORandomForestEstimator\n",
    "h2o.init()\n",
    "df = h2o.H2OFrame(p)\n",
    "y = 'L'\n",
    "x=df.col_names\n",
    "print df\n",
    "x.remove(y)\n",
    "df[y] = df[y].asfactor()\n",
    "train, valid, test = df.split_frame(ratios=[.8,.1])\n",
    "from h2o.estimators.gbm import H2OGradientBoostingEstimator\n",
    "from h2o.grid.grid_search import H2OGridSearch\n",
    "gbm_cv3 = H2OGradientBoostingEstimator(nfolds=3,max_depth=4,ntrees=130)\n",
    "gbm_cv3.train(x=x, y=y, training_frame=train)\n",
    "## Getting all cross validated models \n",
    "all_models = gbm_cv3.cross_validation_models()\n",
    "print(\"Total cross validation models: \" + str(len(all_models)))"
   ]
  },
  {
   "cell_type": "code",
   "execution_count": 18,
   "metadata": {},
   "outputs": [
    {
     "name": "stdout",
     "output_type": "stream",
     "text": [
      "gbm Grid Build progress: |████████████████████████████████████████████████| 100%\n"
     ]
    },
    {
     "data": {
      "text/plain": [
       "0.8404395499618612"
      ]
     },
     "execution_count": 18,
     "metadata": {},
     "output_type": "execute_result"
    }
   ],
   "source": [
    "# Use same data as above\n",
    "\n",
    "# GBM hyperparameters\n",
    "gbm_params2 = {'learn_rate': [i * 0.01 for i in range(1, 11)],\n",
    "                'max_depth': range(1,10),\n",
    "                'sample_rate': [i * 0.1 for i in range(5, 11)],\n",
    "                'col_sample_rate': [i * 0.1 for i in range(1, 11)],\n",
    "                 'min_rows':1000}\n",
    "\n",
    "# Search criteria\n",
    "search_criteria = {'strategy': 'RandomDiscrete', 'max_models': 36, 'seed': 1}\n",
    "\n",
    "# Train and validate a random grid of GBMs\n",
    "gbm_grid2 = H2OGridSearch(model=H2OGradientBoostingEstimator,\n",
    "                          grid_id='gbm_grid2',\n",
    "                          hyper_params=gbm_params2,\n",
    "                          search_criteria=search_criteria)\n",
    "gbm_grid2.train(x=x, y=y,\n",
    "                training_frame=train,\n",
    "                validation_frame=valid,\n",
    "                ntrees=100,\n",
    "                seed=1)\n",
    "\n",
    "# Get the grid results, sorted by validation AUC\n",
    "gbm_gridperf2 = gbm_grid2.get_grid(sort_by='auc', decreasing=True)\n",
    "gbm_gridperf2\n",
    "\n",
    "# Grab the top GBM model, chosen by validation AUC\n",
    "best_gbm2 = gbm_gridperf2.models[0]\n",
    "\n",
    "# Now let's evaluate the model performance on a test set\n",
    "# so we get an honest estimate of top model performance\n",
    "best_gbm_perf2 = best_gbm2.model_performance(test)\n",
    "\n",
    "best_gbm_perf2.auc()  #0.7811331652127048"
   ]
  },
  {
   "cell_type": "code",
   "execution_count": 33,
   "metadata": {
    "scrolled": false
   },
   "outputs": [
    {
     "data": {
      "text/plain": [
       "['learn_rate = 0.1',\n",
       " 'fold_column = None',\n",
       " 'col_sample_rate_per_tree = 1.0',\n",
       " 'learn_rate_annealing = 1.0',\n",
       " 'score_tree_interval = 0',\n",
       " 'sample_rate_per_class = None',\n",
       " 'seed = 1',\n",
       " 'keep_cross_validation_predictions = False',\n",
       " \"model_id = {u'URL': u'/3/Models/gbm_grid2_model_8', u'type': u'Key<Model>', u'name': u'gbm_grid2_model_8', u'__meta': {u'schema_name': u'ModelKeyV3', u'schema_version': 3, u'schema_type': u'Key<Model>'}}\",\n",
       " 'nfolds = 0',\n",
       " 'max_abs_leafnode_pred = 1.79769313486e+308',\n",
       " 'offset_column = None',\n",
       " 'categorical_encoding = AUTO',\n",
       " 'pred_noise_bandwidth = 0.0',\n",
       " 'stopping_tolerance = 0.001',\n",
       " 'fold_assignment = AUTO',\n",
       " \"training_frame = {u'URL': u'/3/Frames/py_4_sid_b108', u'type': u'Key<Frame>', u'name': u'py_4_sid_b108', u'__meta': {u'schema_name': u'FrameKeyV3', u'schema_version': 3, u'schema_type': u'Key<Frame>'}}\",\n",
       " 'max_runtime_secs = 0.0',\n",
       " 'calibrate_model = False',\n",
       " 'checkpoint = None',\n",
       " 'balance_classes = False',\n",
       " 'r2_stopping = 1.79769313486e+308',\n",
       " \"validation_frame = {u'URL': u'/3/Frames/py_5_sid_b108', u'type': u'Key<Frame>', u'name': u'py_5_sid_b108', u'__meta': {u'schema_name': u'FrameKeyV3', u'schema_version': 3, u'schema_type': u'Key<Frame>'}}\",\n",
       " 'max_depth = 7',\n",
       " 'custom_metric_func = None',\n",
       " \"response_column = {u'is_member_of_frames': None, u'column_name': u'L', u'__meta': {u'schema_name': u'ColSpecifierV3', u'schema_version': 3, u'schema_type': u'VecSpecifier'}}\",\n",
       " 'build_tree_one_node = False',\n",
       " 'ntrees = 100',\n",
       " 'min_split_improvement = 1e-05',\n",
       " 'ignored_columns = None',\n",
       " 'tweedie_power = 1.5',\n",
       " 'min_rows = 1000.0',\n",
       " 'max_confusion_matrix_size = 20',\n",
       " 'score_each_iteration = False',\n",
       " 'nbins_top_level = 1024',\n",
       " 'max_after_balance_size = 5.0',\n",
       " 'quantile_alpha = 0.5',\n",
       " 'nbins = 20',\n",
       " 'histogram_type = AUTO',\n",
       " 'huber_alpha = 0.9',\n",
       " 'col_sample_rate = 0.5',\n",
       " 'stopping_metric = AUTO',\n",
       " 'weights_column = None',\n",
       " 'stopping_rounds = 0',\n",
       " 'col_sample_rate_change_per_level = 1.0',\n",
       " 'max_hit_ratio_k = 0',\n",
       " 'nbins_cats = 1024',\n",
       " 'sample_rate = 0.9',\n",
       " 'calibration_frame = None',\n",
       " 'distribution = bernoulli',\n",
       " 'class_sampling_factors = None',\n",
       " 'ignore_const_cols = True',\n",
       " 'keep_cross_validation_fold_assignment = False']"
      ]
     },
     "execution_count": 33,
     "metadata": {},
     "output_type": "execute_result"
    }
   ],
   "source": [
    "params_list = []\n",
    "for key, value in best_gbm2.params.iteritems():\n",
    "    params_list.append(str(key)+\" = \"+str(value['actual']))\n",
    "params_list"
   ]
  },
  {
   "cell_type": "code",
   "execution_count": 35,
   "metadata": {
    "scrolled": true
   },
   "outputs": [
    {
     "name": "stdout",
     "output_type": "stream",
     "text": [
      "gbm Model Build progress: |███████████████████████████████████████████████| 100%\n"
     ]
    }
   ],
   "source": [
    "best_gbm2.train(x=x, y=y, training_frame=df)"
   ]
  },
  {
   "cell_type": "code",
   "execution_count": 37,
   "metadata": {},
   "outputs": [
    {
     "name": "stdout",
     "output_type": "stream",
     "text": [
      "\n",
      "ModelMetricsBinomial: gbm\n",
      "** Reported on test data. **\n",
      "\n",
      "MSE: 0.0976027067171\n",
      "RMSE: 0.312414319001\n",
      "LogLoss: 0.323875448539\n",
      "Mean Per-Class Error: 0.157806165452\n",
      "AUC: 0.92176767619\n",
      "Gini: 0.84353535238\n",
      "Confusion Matrix (Act/Pred) for max f1 @ threshold = 0.351653836381: \n"
     ]
    },
    {
     "data": {
      "text/html": [
       "<div style=\"overflow:auto\"><table style=\"width:50%\"><tr><td><b></b></td>\n",
       "<td><b>0</b></td>\n",
       "<td><b>1</b></td>\n",
       "<td><b>Error</b></td>\n",
       "<td><b>Rate</b></td></tr>\n",
       "<tr><td>0</td>\n",
       "<td>1141.0</td>\n",
       "<td>90.0</td>\n",
       "<td>0.0731</td>\n",
       "<td> (90.0/1231.0)</td></tr>\n",
       "<tr><td>1</td>\n",
       "<td>108.0</td>\n",
       "<td>318.0</td>\n",
       "<td>0.2535</td>\n",
       "<td> (108.0/426.0)</td></tr>\n",
       "<tr><td>Total</td>\n",
       "<td>1249.0</td>\n",
       "<td>408.0</td>\n",
       "<td>0.1195</td>\n",
       "<td> (198.0/1657.0)</td></tr></table></div>"
      ],
      "text/plain": [
       "       0     1    Error    Rate\n",
       "-----  ----  ---  -------  --------------\n",
       "0      1141  90   0.0731   (90.0/1231.0)\n",
       "1      108   318  0.2535   (108.0/426.0)\n",
       "Total  1249  408  0.1195   (198.0/1657.0)"
      ]
     },
     "metadata": {},
     "output_type": "display_data"
    },
    {
     "name": "stdout",
     "output_type": "stream",
     "text": [
      "Maximum Metrics: Maximum metrics at their respective thresholds\n",
      "\n"
     ]
    },
    {
     "data": {
      "text/html": [
       "<div style=\"overflow:auto\"><table style=\"width:50%\"><tr><td><b>metric</b></td>\n",
       "<td><b>threshold</b></td>\n",
       "<td><b>value</b></td>\n",
       "<td><b>idx</b></td></tr>\n",
       "<tr><td>max f1</td>\n",
       "<td>0.3516538</td>\n",
       "<td>0.7625899</td>\n",
       "<td>170.0</td></tr>\n",
       "<tr><td>max f2</td>\n",
       "<td>0.2182342</td>\n",
       "<td>0.7890400</td>\n",
       "<td>246.0</td></tr>\n",
       "<tr><td>max f0point5</td>\n",
       "<td>0.4847441</td>\n",
       "<td>0.8138781</td>\n",
       "<td>118.0</td></tr>\n",
       "<tr><td>max accuracy</td>\n",
       "<td>0.3634764</td>\n",
       "<td>0.8811104</td>\n",
       "<td>165.0</td></tr>\n",
       "<tr><td>max precision</td>\n",
       "<td>0.9389237</td>\n",
       "<td>1.0</td>\n",
       "<td>0.0</td></tr>\n",
       "<tr><td>max recall</td>\n",
       "<td>0.0647939</td>\n",
       "<td>1.0</td>\n",
       "<td>349.0</td></tr>\n",
       "<tr><td>max specificity</td>\n",
       "<td>0.9389237</td>\n",
       "<td>1.0</td>\n",
       "<td>0.0</td></tr>\n",
       "<tr><td>max absolute_mcc</td>\n",
       "<td>0.3516538</td>\n",
       "<td>0.6830850</td>\n",
       "<td>170.0</td></tr>\n",
       "<tr><td>max min_per_class_accuracy</td>\n",
       "<td>0.2748820</td>\n",
       "<td>0.8286385</td>\n",
       "<td>210.0</td></tr>\n",
       "<tr><td>max mean_per_class_accuracy</td>\n",
       "<td>0.3319647</td>\n",
       "<td>0.8421938</td>\n",
       "<td>182.0</td></tr></table></div>"
      ],
      "text/plain": [
       "metric                       threshold    value     idx\n",
       "---------------------------  -----------  --------  -----\n",
       "max f1                       0.351654     0.76259   170\n",
       "max f2                       0.218234     0.78904   246\n",
       "max f0point5                 0.484744     0.813878  118\n",
       "max accuracy                 0.363476     0.88111   165\n",
       "max precision                0.938924     1         0\n",
       "max recall                   0.0647939    1         349\n",
       "max specificity              0.938924     1         0\n",
       "max absolute_mcc             0.351654     0.683085  170\n",
       "max min_per_class_accuracy   0.274882     0.828638  210\n",
       "max mean_per_class_accuracy  0.331965     0.842194  182"
      ]
     },
     "metadata": {},
     "output_type": "display_data"
    },
    {
     "name": "stdout",
     "output_type": "stream",
     "text": [
      "Gains/Lift Table: Avg response rate: 25.71 %\n",
      "\n"
     ]
    },
    {
     "data": {
      "text/html": [
       "<div style=\"overflow:auto\"><table style=\"width:50%\"><tr><td><b></b></td>\n",
       "<td><b>group</b></td>\n",
       "<td><b>cumulative_data_fraction</b></td>\n",
       "<td><b>lower_threshold</b></td>\n",
       "<td><b>lift</b></td>\n",
       "<td><b>cumulative_lift</b></td>\n",
       "<td><b>response_rate</b></td>\n",
       "<td><b>cumulative_response_rate</b></td>\n",
       "<td><b>capture_rate</b></td>\n",
       "<td><b>cumulative_capture_rate</b></td>\n",
       "<td><b>gain</b></td>\n",
       "<td><b>cumulative_gain</b></td></tr>\n",
       "<tr><td></td>\n",
       "<td>1</td>\n",
       "<td>0.0102595</td>\n",
       "<td>0.9141897</td>\n",
       "<td>3.8896714</td>\n",
       "<td>3.8896714</td>\n",
       "<td>1.0</td>\n",
       "<td>1.0</td>\n",
       "<td>0.0399061</td>\n",
       "<td>0.0399061</td>\n",
       "<td>288.9671361</td>\n",
       "<td>288.9671361</td></tr>\n",
       "<tr><td></td>\n",
       "<td>2</td>\n",
       "<td>0.0205190</td>\n",
       "<td>0.8869539</td>\n",
       "<td>3.8896714</td>\n",
       "<td>3.8896714</td>\n",
       "<td>1.0</td>\n",
       "<td>1.0</td>\n",
       "<td>0.0399061</td>\n",
       "<td>0.0798122</td>\n",
       "<td>288.9671361</td>\n",
       "<td>288.9671361</td></tr>\n",
       "<tr><td></td>\n",
       "<td>3</td>\n",
       "<td>0.0313820</td>\n",
       "<td>0.8754075</td>\n",
       "<td>3.8896714</td>\n",
       "<td>3.8896714</td>\n",
       "<td>1.0</td>\n",
       "<td>1.0</td>\n",
       "<td>0.0422535</td>\n",
       "<td>0.1220657</td>\n",
       "<td>288.9671361</td>\n",
       "<td>288.9671361</td></tr>\n",
       "<tr><td></td>\n",
       "<td>4</td>\n",
       "<td>0.0404345</td>\n",
       "<td>0.8552373</td>\n",
       "<td>3.6303599</td>\n",
       "<td>3.8316166</td>\n",
       "<td>0.9333333</td>\n",
       "<td>0.9850746</td>\n",
       "<td>0.0328638</td>\n",
       "<td>0.1549296</td>\n",
       "<td>263.0359937</td>\n",
       "<td>283.1616565</td></tr>\n",
       "<tr><td></td>\n",
       "<td>5</td>\n",
       "<td>0.0506940</td>\n",
       "<td>0.8278329</td>\n",
       "<td>3.8896714</td>\n",
       "<td>3.8433658</td>\n",
       "<td>1.0</td>\n",
       "<td>0.9880952</td>\n",
       "<td>0.0399061</td>\n",
       "<td>0.1948357</td>\n",
       "<td>288.9671361</td>\n",
       "<td>284.3365750</td></tr>\n",
       "<tr><td></td>\n",
       "<td>6</td>\n",
       "<td>0.1001811</td>\n",
       "<td>0.6680169</td>\n",
       "<td>3.6050613</td>\n",
       "<td>3.7256491</td>\n",
       "<td>0.9268293</td>\n",
       "<td>0.9578313</td>\n",
       "<td>0.1784038</td>\n",
       "<td>0.3732394</td>\n",
       "<td>260.5061262</td>\n",
       "<td>272.5649075</td></tr>\n",
       "<tr><td></td>\n",
       "<td>7</td>\n",
       "<td>0.1502716</td>\n",
       "<td>0.5333145</td>\n",
       "<td>3.2804457</td>\n",
       "<td>3.5772480</td>\n",
       "<td>0.8433735</td>\n",
       "<td>0.9196787</td>\n",
       "<td>0.1643192</td>\n",
       "<td>0.5375587</td>\n",
       "<td>228.0445727</td>\n",
       "<td>257.7247959</td></tr>\n",
       "<tr><td></td>\n",
       "<td>8</td>\n",
       "<td>0.2003621</td>\n",
       "<td>0.4286522</td>\n",
       "<td>2.2025850</td>\n",
       "<td>3.2335822</td>\n",
       "<td>0.5662651</td>\n",
       "<td>0.8313253</td>\n",
       "<td>0.1103286</td>\n",
       "<td>0.6478873</td>\n",
       "<td>120.2584988</td>\n",
       "<td>223.3582216</td></tr>\n",
       "<tr><td></td>\n",
       "<td>9</td>\n",
       "<td>0.2999396</td>\n",
       "<td>0.2997497</td>\n",
       "<td>1.5087210</td>\n",
       "<td>2.6609422</td>\n",
       "<td>0.3878788</td>\n",
       "<td>0.6841046</td>\n",
       "<td>0.1502347</td>\n",
       "<td>0.7981221</td>\n",
       "<td>50.8721013</td>\n",
       "<td>166.0942179</td></tr>\n",
       "<tr><td></td>\n",
       "<td>10</td>\n",
       "<td>0.4001207</td>\n",
       "<td>0.2364536</td>\n",
       "<td>0.6795209</td>\n",
       "<td>2.1648397</td>\n",
       "<td>0.1746988</td>\n",
       "<td>0.5565611</td>\n",
       "<td>0.0680751</td>\n",
       "<td>0.8661972</td>\n",
       "<td>-32.0479099</td>\n",
       "<td>116.4839717</td></tr>\n",
       "<tr><td></td>\n",
       "<td>11</td>\n",
       "<td>0.5003018</td>\n",
       "<td>0.1919637</td>\n",
       "<td>0.6326574</td>\n",
       "<td>1.8580336</td>\n",
       "<td>0.1626506</td>\n",
       "<td>0.4776840</td>\n",
       "<td>0.0633803</td>\n",
       "<td>0.9295775</td>\n",
       "<td>-36.7342610</td>\n",
       "<td>85.8033606</td></tr>\n",
       "<tr><td></td>\n",
       "<td>12</td>\n",
       "<td>0.5998793</td>\n",
       "<td>0.1309290</td>\n",
       "<td>0.5186228</td>\n",
       "<td>1.6356968</td>\n",
       "<td>0.1333333</td>\n",
       "<td>0.4205231</td>\n",
       "<td>0.0516432</td>\n",
       "<td>0.9812207</td>\n",
       "<td>-48.1377152</td>\n",
       "<td>63.5696810</td></tr>\n",
       "<tr><td></td>\n",
       "<td>13</td>\n",
       "<td>0.7000604</td>\n",
       "<td>0.0940338</td>\n",
       "<td>0.0937270</td>\n",
       "<td>1.4150356</td>\n",
       "<td>0.0240964</td>\n",
       "<td>0.3637931</td>\n",
       "<td>0.0093897</td>\n",
       "<td>0.9906103</td>\n",
       "<td>-90.6272979</td>\n",
       "<td>41.5035616</td></tr>\n",
       "<tr><td></td>\n",
       "<td>14</td>\n",
       "<td>0.7996379</td>\n",
       "<td>0.0619870</td>\n",
       "<td>0.0942951</td>\n",
       "<td>1.2505660</td>\n",
       "<td>0.0242424</td>\n",
       "<td>0.3215094</td>\n",
       "<td>0.0093897</td>\n",
       "<td>1.0</td>\n",
       "<td>-90.5704937</td>\n",
       "<td>25.0566038</td></tr>\n",
       "<tr><td></td>\n",
       "<td>15</td>\n",
       "<td>0.9016295</td>\n",
       "<td>0.0261943</td>\n",
       "<td>0.0</td>\n",
       "<td>1.1091031</td>\n",
       "<td>0.0</td>\n",
       "<td>0.2851406</td>\n",
       "<td>0.0</td>\n",
       "<td>1.0</td>\n",
       "<td>-100.0</td>\n",
       "<td>10.9103079</td></tr>\n",
       "<tr><td></td>\n",
       "<td>16</td>\n",
       "<td>1.0</td>\n",
       "<td>0.0114837</td>\n",
       "<td>0.0</td>\n",
       "<td>1.0</td>\n",
       "<td>0.0</td>\n",
       "<td>0.2570911</td>\n",
       "<td>0.0</td>\n",
       "<td>1.0</td>\n",
       "<td>-100.0</td>\n",
       "<td>0.0</td></tr></table></div>"
      ],
      "text/plain": [
       "    group    cumulative_data_fraction    lower_threshold    lift       cumulative_lift    response_rate    cumulative_response_rate    capture_rate    cumulative_capture_rate    gain      cumulative_gain\n",
       "--  -------  --------------------------  -----------------  ---------  -----------------  ---------------  --------------------------  --------------  -------------------------  --------  -----------------\n",
       "    1        0.0102595                   0.91419            3.88967    3.88967            1                1                           0.0399061       0.0399061                  288.967   288.967\n",
       "    2        0.020519                    0.886954           3.88967    3.88967            1                1                           0.0399061       0.0798122                  288.967   288.967\n",
       "    3        0.031382                    0.875407           3.88967    3.88967            1                1                           0.0422535       0.122066                   288.967   288.967\n",
       "    4        0.0404345                   0.855237           3.63036    3.83162            0.933333         0.985075                    0.0328638       0.15493                    263.036   283.162\n",
       "    5        0.050694                    0.827833           3.88967    3.84337            1                0.988095                    0.0399061       0.194836                   288.967   284.337\n",
       "    6        0.100181                    0.668017           3.60506    3.72565            0.926829         0.957831                    0.178404        0.373239                   260.506   272.565\n",
       "    7        0.150272                    0.533314           3.28045    3.57725            0.843373         0.919679                    0.164319        0.537559                   228.045   257.725\n",
       "    8        0.200362                    0.428652           2.20258    3.23358            0.566265         0.831325                    0.110329        0.647887                   120.258   223.358\n",
       "    9        0.29994                     0.29975            1.50872    2.66094            0.387879         0.684105                    0.150235        0.798122                   50.8721   166.094\n",
       "    10       0.400121                    0.236454           0.679521   2.16484            0.174699         0.556561                    0.0680751       0.866197                   -32.0479  116.484\n",
       "    11       0.500302                    0.191964           0.632657   1.85803            0.162651         0.477684                    0.0633803       0.929577                   -36.7343  85.8034\n",
       "    12       0.599879                    0.130929           0.518623   1.6357             0.133333         0.420523                    0.0516432       0.981221                   -48.1377  63.5697\n",
       "    13       0.70006                     0.0940338          0.093727   1.41504            0.0240964        0.363793                    0.00938967      0.99061                    -90.6273  41.5036\n",
       "    14       0.799638                    0.061987           0.0942951  1.25057            0.0242424        0.321509                    0.00938967      1                          -90.5705  25.0566\n",
       "    15       0.901629                    0.0261943          0          1.1091             0                0.285141                    0               1                          -100      10.9103\n",
       "    16       1                           0.0114837          0          1                  0                0.257091                    0               1                          -100      0"
      ]
     },
     "metadata": {},
     "output_type": "display_data"
    },
    {
     "name": "stdout",
     "output_type": "stream",
     "text": [
      "\n"
     ]
    },
    {
     "data": {
      "text/plain": []
     },
     "execution_count": 37,
     "metadata": {},
     "output_type": "execute_result"
    }
   ],
   "source": [
    "best_gbm2.model_performance(valid)"
   ]
  },
  {
   "cell_type": "code",
   "execution_count": 36,
   "metadata": {},
   "outputs": [
    {
     "name": "stdout",
     "output_type": "stream",
     "text": [
      "No cross-validation metrics summary for this model\n",
      "None\n"
     ]
    }
   ],
   "source": [
    "print best_gbm2.cross_validation_metrics_summary()"
   ]
  },
  {
   "cell_type": "code",
   "execution_count": 20,
   "metadata": {
    "scrolled": false
   },
   "outputs": [
    {
     "name": "stdout",
     "output_type": "stream",
     "text": [
      "\n",
      "ModelMetricsBinomial: gbm\n",
      "** Reported on test data. **\n",
      "\n",
      "MSE: 0.139921279016\n",
      "RMSE: 0.374060528545\n",
      "LogLoss: 0.432222649529\n",
      "Mean Per-Class Error: 0.238234172387\n",
      "AUC: 0.840439549962\n",
      "Gini: 0.680879099924\n",
      "Confusion Matrix (Act/Pred) for max f1 @ threshold = 0.316346871394: \n"
     ]
    },
    {
     "data": {
      "text/html": [
       "<div style=\"overflow:auto\"><table style=\"width:50%\"><tr><td><b></b></td>\n",
       "<td><b>0</b></td>\n",
       "<td><b>1</b></td>\n",
       "<td><b>Error</b></td>\n",
       "<td><b>Rate</b></td></tr>\n",
       "<tr><td>0</td>\n",
       "<td>940.0</td>\n",
       "<td>210.0</td>\n",
       "<td>0.1826</td>\n",
       "<td> (210.0/1150.0)</td></tr>\n",
       "<tr><td>1</td>\n",
       "<td>134.0</td>\n",
       "<td>322.0</td>\n",
       "<td>0.2939</td>\n",
       "<td> (134.0/456.0)</td></tr>\n",
       "<tr><td>Total</td>\n",
       "<td>1074.0</td>\n",
       "<td>532.0</td>\n",
       "<td>0.2142</td>\n",
       "<td> (344.0/1606.0)</td></tr></table></div>"
      ],
      "text/plain": [
       "       0     1    Error    Rate\n",
       "-----  ----  ---  -------  --------------\n",
       "0      940   210  0.1826   (210.0/1150.0)\n",
       "1      134   322  0.2939   (134.0/456.0)\n",
       "Total  1074  532  0.2142   (344.0/1606.0)"
      ]
     },
     "metadata": {},
     "output_type": "display_data"
    },
    {
     "name": "stdout",
     "output_type": "stream",
     "text": [
      "Maximum Metrics: Maximum metrics at their respective thresholds\n",
      "\n"
     ]
    },
    {
     "data": {
      "text/html": [
       "<div style=\"overflow:auto\"><table style=\"width:50%\"><tr><td><b>metric</b></td>\n",
       "<td><b>threshold</b></td>\n",
       "<td><b>value</b></td>\n",
       "<td><b>idx</b></td></tr>\n",
       "<tr><td>max f1</td>\n",
       "<td>0.3163469</td>\n",
       "<td>0.6518219</td>\n",
       "<td>184.0</td></tr>\n",
       "<tr><td>max f2</td>\n",
       "<td>0.2072202</td>\n",
       "<td>0.7566654</td>\n",
       "<td>251.0</td></tr>\n",
       "<tr><td>max f0point5</td>\n",
       "<td>0.5164587</td>\n",
       "<td>0.6773952</td>\n",
       "<td>91.0</td></tr>\n",
       "<tr><td>max accuracy</td>\n",
       "<td>0.3874028</td>\n",
       "<td>0.8094645</td>\n",
       "<td>148.0</td></tr>\n",
       "<tr><td>max precision</td>\n",
       "<td>0.9400116</td>\n",
       "<td>1.0</td>\n",
       "<td>0.0</td></tr>\n",
       "<tr><td>max recall</td>\n",
       "<td>0.0605315</td>\n",
       "<td>1.0</td>\n",
       "<td>355.0</td></tr>\n",
       "<tr><td>max specificity</td>\n",
       "<td>0.9400116</td>\n",
       "<td>1.0</td>\n",
       "<td>0.0</td></tr>\n",
       "<tr><td>max absolute_mcc</td>\n",
       "<td>0.3874028</td>\n",
       "<td>0.5144175</td>\n",
       "<td>148.0</td></tr>\n",
       "<tr><td>max min_per_class_accuracy</td>\n",
       "<td>0.2766848</td>\n",
       "<td>0.75</td>\n",
       "<td>205.0</td></tr>\n",
       "<tr><td>max mean_per_class_accuracy</td>\n",
       "<td>0.3163469</td>\n",
       "<td>0.7617658</td>\n",
       "<td>184.0</td></tr></table></div>"
      ],
      "text/plain": [
       "metric                       threshold    value     idx\n",
       "---------------------------  -----------  --------  -----\n",
       "max f1                       0.316347     0.651822  184\n",
       "max f2                       0.20722      0.756665  251\n",
       "max f0point5                 0.516459     0.677395  91\n",
       "max accuracy                 0.387403     0.809465  148\n",
       "max precision                0.940012     1         0\n",
       "max recall                   0.0605315    1         355\n",
       "max specificity              0.940012     1         0\n",
       "max absolute_mcc             0.387403     0.514417  148\n",
       "max min_per_class_accuracy   0.276685     0.75      205\n",
       "max mean_per_class_accuracy  0.316347     0.761766  184"
      ]
     },
     "metadata": {},
     "output_type": "display_data"
    },
    {
     "name": "stdout",
     "output_type": "stream",
     "text": [
      "Gains/Lift Table: Avg response rate: 28.39 %\n",
      "\n"
     ]
    },
    {
     "data": {
      "text/html": [
       "<div style=\"overflow:auto\"><table style=\"width:50%\"><tr><td><b></b></td>\n",
       "<td><b>group</b></td>\n",
       "<td><b>cumulative_data_fraction</b></td>\n",
       "<td><b>lower_threshold</b></td>\n",
       "<td><b>lift</b></td>\n",
       "<td><b>cumulative_lift</b></td>\n",
       "<td><b>response_rate</b></td>\n",
       "<td><b>cumulative_response_rate</b></td>\n",
       "<td><b>capture_rate</b></td>\n",
       "<td><b>cumulative_capture_rate</b></td>\n",
       "<td><b>gain</b></td>\n",
       "<td><b>cumulative_gain</b></td></tr>\n",
       "<tr><td></td>\n",
       "<td>1</td>\n",
       "<td>0.0112080</td>\n",
       "<td>0.8449802</td>\n",
       "<td>3.3262671</td>\n",
       "<td>3.3262671</td>\n",
       "<td>0.9444444</td>\n",
       "<td>0.9444444</td>\n",
       "<td>0.0372807</td>\n",
       "<td>0.0372807</td>\n",
       "<td>232.6267057</td>\n",
       "<td>232.6267057</td></tr>\n",
       "<tr><td></td>\n",
       "<td>2</td>\n",
       "<td>0.0211706</td>\n",
       "<td>0.8211356</td>\n",
       "<td>3.5219298</td>\n",
       "<td>3.4183437</td>\n",
       "<td>1.0</td>\n",
       "<td>0.9705882</td>\n",
       "<td>0.0350877</td>\n",
       "<td>0.0723684</td>\n",
       "<td>252.1929825</td>\n",
       "<td>241.8343653</td></tr>\n",
       "<tr><td></td>\n",
       "<td>3</td>\n",
       "<td>0.0311333</td>\n",
       "<td>0.7559939</td>\n",
       "<td>3.5219298</td>\n",
       "<td>3.4514912</td>\n",
       "<td>1.0</td>\n",
       "<td>0.98</td>\n",
       "<td>0.0350877</td>\n",
       "<td>0.1074561</td>\n",
       "<td>252.1929825</td>\n",
       "<td>245.1491228</td></tr>\n",
       "<tr><td></td>\n",
       "<td>4</td>\n",
       "<td>0.0417186</td>\n",
       "<td>0.7214363</td>\n",
       "<td>2.4860681</td>\n",
       "<td>3.2065331</td>\n",
       "<td>0.7058824</td>\n",
       "<td>0.9104478</td>\n",
       "<td>0.0263158</td>\n",
       "<td>0.1337719</td>\n",
       "<td>148.6068111</td>\n",
       "<td>220.6533124</td></tr>\n",
       "<tr><td></td>\n",
       "<td>5</td>\n",
       "<td>0.0504359</td>\n",
       "<td>0.6893997</td>\n",
       "<td>3.0187970</td>\n",
       "<td>3.1740849</td>\n",
       "<td>0.8571429</td>\n",
       "<td>0.9012346</td>\n",
       "<td>0.0263158</td>\n",
       "<td>0.1600877</td>\n",
       "<td>201.8796992</td>\n",
       "<td>217.4084904</td></tr>\n",
       "<tr><td></td>\n",
       "<td>6</td>\n",
       "<td>0.1002491</td>\n",
       "<td>0.5822635</td>\n",
       "<td>2.9936404</td>\n",
       "<td>3.0844230</td>\n",
       "<td>0.85</td>\n",
       "<td>0.8757764</td>\n",
       "<td>0.1491228</td>\n",
       "<td>0.3092105</td>\n",
       "<td>199.3640351</td>\n",
       "<td>208.4423014</td></tr>\n",
       "<tr><td></td>\n",
       "<td>7</td>\n",
       "<td>0.1500623</td>\n",
       "<td>0.4955369</td>\n",
       "<td>2.0251096</td>\n",
       "<td>2.7327837</td>\n",
       "<td>0.575</td>\n",
       "<td>0.7759336</td>\n",
       "<td>0.1008772</td>\n",
       "<td>0.4100877</td>\n",
       "<td>102.5109649</td>\n",
       "<td>173.2783723</td></tr>\n",
       "<tr><td></td>\n",
       "<td>8</td>\n",
       "<td>0.2004981</td>\n",
       "<td>0.4271303</td>\n",
       "<td>1.9566277</td>\n",
       "<td>2.5375395</td>\n",
       "<td>0.5555556</td>\n",
       "<td>0.7204969</td>\n",
       "<td>0.0986842</td>\n",
       "<td>0.5087719</td>\n",
       "<td>95.6627680</td>\n",
       "<td>153.7539501</td></tr>\n",
       "<tr><td></td>\n",
       "<td>9</td>\n",
       "<td>0.3001245</td>\n",
       "<td>0.3322345</td>\n",
       "<td>1.5188322</td>\n",
       "<td>2.1993794</td>\n",
       "<td>0.43125</td>\n",
       "<td>0.6244813</td>\n",
       "<td>0.1513158</td>\n",
       "<td>0.6600877</td>\n",
       "<td>51.8832237</td>\n",
       "<td>119.9379413</td></tr>\n",
       "<tr><td></td>\n",
       "<td>10</td>\n",
       "<td>0.4022416</td>\n",
       "<td>0.2663756</td>\n",
       "<td>1.0308087</td>\n",
       "<td>1.9027144</td>\n",
       "<td>0.2926829</td>\n",
       "<td>0.5402477</td>\n",
       "<td>0.1052632</td>\n",
       "<td>0.7653509</td>\n",
       "<td>3.0808729</td>\n",
       "<td>90.2714410</td></tr>\n",
       "<tr><td></td>\n",
       "<td>11</td>\n",
       "<td>0.5</td>\n",
       "<td>0.2181332</td>\n",
       "<td>0.8748743</td>\n",
       "<td>1.7017544</td>\n",
       "<td>0.2484076</td>\n",
       "<td>0.4831880</td>\n",
       "<td>0.0855263</td>\n",
       "<td>0.8508772</td>\n",
       "<td>-12.5125712</td>\n",
       "<td>70.1754386</td></tr>\n",
       "<tr><td></td>\n",
       "<td>12</td>\n",
       "<td>0.6002491</td>\n",
       "<td>0.1670758</td>\n",
       "<td>0.4156315</td>\n",
       "<td>1.4869558</td>\n",
       "<td>0.1180124</td>\n",
       "<td>0.4221992</td>\n",
       "<td>0.0416667</td>\n",
       "<td>0.8925439</td>\n",
       "<td>-58.4368530</td>\n",
       "<td>48.6955849</td></tr>\n",
       "<tr><td></td>\n",
       "<td>13</td>\n",
       "<td>0.6998755</td>\n",
       "<td>0.1318414</td>\n",
       "<td>0.5062774</td>\n",
       "<td>1.3473575</td>\n",
       "<td>0.14375</td>\n",
       "<td>0.3825623</td>\n",
       "<td>0.0504386</td>\n",
       "<td>0.9429825</td>\n",
       "<td>-49.3722588</td>\n",
       "<td>34.7357495</td></tr>\n",
       "<tr><td></td>\n",
       "<td>14</td>\n",
       "<td>0.8001245</td>\n",
       "<td>0.0836535</td>\n",
       "<td>0.4156315</td>\n",
       "<td>1.2306198</td>\n",
       "<td>0.1180124</td>\n",
       "<td>0.3494163</td>\n",
       "<td>0.0416667</td>\n",
       "<td>0.9846491</td>\n",
       "<td>-58.4368530</td>\n",
       "<td>23.0619838</td></tr>\n",
       "<tr><td></td>\n",
       "<td>15</td>\n",
       "<td>0.8997509</td>\n",
       "<td>0.0333344</td>\n",
       "<td>0.1540844</td>\n",
       "<td>1.1114187</td>\n",
       "<td>0.04375</td>\n",
       "<td>0.3155709</td>\n",
       "<td>0.0153509</td>\n",
       "<td>1.0</td>\n",
       "<td>-84.5915570</td>\n",
       "<td>11.1418685</td></tr>\n",
       "<tr><td></td>\n",
       "<td>16</td>\n",
       "<td>1.0</td>\n",
       "<td>0.0052363</td>\n",
       "<td>0.0</td>\n",
       "<td>1.0</td>\n",
       "<td>0.0</td>\n",
       "<td>0.2839352</td>\n",
       "<td>0.0</td>\n",
       "<td>1.0</td>\n",
       "<td>-100.0</td>\n",
       "<td>0.0</td></tr></table></div>"
      ],
      "text/plain": [
       "    group    cumulative_data_fraction    lower_threshold    lift      cumulative_lift    response_rate    cumulative_response_rate    capture_rate    cumulative_capture_rate    gain      cumulative_gain\n",
       "--  -------  --------------------------  -----------------  --------  -----------------  ---------------  --------------------------  --------------  -------------------------  --------  -----------------\n",
       "    1        0.011208                    0.84498            3.32627   3.32627            0.944444         0.944444                    0.0372807       0.0372807                  232.627   232.627\n",
       "    2        0.0211706                   0.821136           3.52193   3.41834            1                0.970588                    0.0350877       0.0723684                  252.193   241.834\n",
       "    3        0.0311333                   0.755994           3.52193   3.45149            1                0.98                        0.0350877       0.107456                   252.193   245.149\n",
       "    4        0.0417186                   0.721436           2.48607   3.20653            0.705882         0.910448                    0.0263158       0.133772                   148.607   220.653\n",
       "    5        0.0504359                   0.6894             3.0188    3.17408            0.857143         0.901235                    0.0263158       0.160088                   201.88    217.408\n",
       "    6        0.100249                    0.582263           2.99364   3.08442            0.85             0.875776                    0.149123        0.309211                   199.364   208.442\n",
       "    7        0.150062                    0.495537           2.02511   2.73278            0.575            0.775934                    0.100877        0.410088                   102.511   173.278\n",
       "    8        0.200498                    0.42713            1.95663   2.53754            0.555556         0.720497                    0.0986842       0.508772                   95.6628   153.754\n",
       "    9        0.300125                    0.332234           1.51883   2.19938            0.43125          0.624481                    0.151316        0.660088                   51.8832   119.938\n",
       "    10       0.402242                    0.266376           1.03081   1.90271            0.292683         0.540248                    0.105263        0.765351                   3.08087   90.2714\n",
       "    11       0.5                         0.218133           0.874874  1.70175            0.248408         0.483188                    0.0855263       0.850877                   -12.5126  70.1754\n",
       "    12       0.600249                    0.167076           0.415631  1.48696            0.118012         0.422199                    0.0416667       0.892544                   -58.4369  48.6956\n",
       "    13       0.699875                    0.131841           0.506277  1.34736            0.14375          0.382562                    0.0504386       0.942982                   -49.3723  34.7357\n",
       "    14       0.800125                    0.0836535          0.415631  1.23062            0.118012         0.349416                    0.0416667       0.984649                   -58.4369  23.062\n",
       "    15       0.899751                    0.0333344          0.154084  1.11142            0.04375          0.315571                    0.0153509       1                          -84.5916  11.1419\n",
       "    16       1                           0.00523633         0         1                  0                0.283935                    0               1                          -100      0"
      ]
     },
     "metadata": {},
     "output_type": "display_data"
    },
    {
     "name": "stdout",
     "output_type": "stream",
     "text": [
      "\n",
      "\n"
     ]
    }
   ],
   "source": [
    "best_gbm2.confusion_matrix()\n",
    "performance = best_gbm2.model_performance(test_data=test)\n",
    "print performance\n"
   ]
  },
  {
   "cell_type": "code",
   "execution_count": 31,
   "metadata": {},
   "outputs": [
    {
     "data": {
      "image/png": "[encoded data removed]",
      "text/plain": [
       "<Figure size 1008x720 with 1 Axes>"
      ]
     },
     "metadata": {},
     "output_type": "display_data"
    },
    {
     "data": {
      "text/plain": [
       "[(u'BreedName', 3001.515869140625, 1.0, 0.6954392509567462),\n",
       " (u'Duration', 714.5468139648438, 0.23806198105140397, 0.16555764578366747),\n",
       " (u'Deductible', 145.5462646484375, 0.04849091958661188, 0.033722488795517175),\n",
       " (u'Currentage',\n",
       "  132.99461364746094,\n",
       "  0.04430914892531923,\n",
       "  0.030814321339154918),\n",
       " (u'churn\\r', 116.32158660888672, 0.03875428006389024, 0.02695124749899979),\n",
       " (u'CarrierCd', 81.49369049072266, 0.027150844454490727, 0.018881762930274156),\n",
       " (u'PolicyForm', 65.9045181274414, 0.02195707802348244, 0.015269813893849458),\n",
       " (u'CopayPct', 32.75590896606445, 0.010913122033715222, 0.007589413412726477),\n",
       " (u'Country', 18.750301361083984, 0.006246943937182132, 0.0043443700124427284),\n",
       " (u'PetType', 6.170522212982178, 0.00205580196207621, 0.0014296853766216885)]"
      ]
     },
     "execution_count": 31,
     "metadata": {},
     "output_type": "execute_result"
    }
   ],
   "source": [
    "import matplotlib.pyplot as plt\n",
    "best_gbm2.varimp_plot()\n",
    "best_gbm2.varimp()"
   ]
  },
  {
   "cell_type": "code",
   "execution_count": 22,
   "metadata": {},
   "outputs": [],
   "source": [
    "import subprocess\n",
    "from IPython.display import Image"
   ]
  },
  {
   "cell_type": "code",
   "execution_count": 23,
   "metadata": {},
   "outputs": [],
   "source": [
    "mojo_file_name = \"/home/jash/Desktop/petplan/treeshyper/my_gbm_mojo.zip\"\n",
    "h2o_jar_path= '/home/jash/Desktop/petplan/trees/h2o-3.20.0.4/h2o.jar'\n",
    "mojo_full_path = mojo_file_name\n",
    "gv_file_path = \"/home/jash/Desktop/petplan/treeshyper/my_gbm_graph.gv\""
   ]
  },
  {
   "cell_type": "code",
   "execution_count": 24,
   "metadata": {},
   "outputs": [],
   "source": [
    "image_file_name = \"/home/jash/Desktop/petplan/treeshyper/my_gbm_tree_bestall_minrows1000\""
   ]
  },
  {
   "cell_type": "code",
   "execution_count": 25,
   "metadata": {},
   "outputs": [
    {
     "data": {
      "text/plain": [
       "'/home/jash/Desktop/petplan/treeshyper/my_gbm_mojo.zip'"
      ]
     },
     "execution_count": 25,
     "metadata": {},
     "output_type": "execute_result"
    }
   ],
   "source": [
    "best_gbm2.download_mojo(mojo_file_name)"
   ]
  },
  {
   "cell_type": "code",
   "execution_count": 26,
   "metadata": {},
   "outputs": [],
   "source": [
    "\n",
    "def generateTree(h2o_jar_path, mojo_full_path, gv_file_path, image_file_path, tree_id = 0):\n",
    "    image_file_path = image_file_path + \"_\" + str(tree_id) + \".png\"\n",
    "    result = subprocess.call([\"java\", \"-cp\", h2o_jar_path, \"hex.genmodel.tools.PrintMojo\", \"--tree\", str(tree_id), \"-i\", mojo_full_path , \"-o\", gv_file_path ], shell=False)\n",
    "    result = subprocess.call([\"ls\",gv_file_path], shell = False)\n",
    "    if result is 0:\n",
    "        print(\"Success: Graphviz file \" + gv_file_path + \" is generated.\")\n",
    "    else: \n",
    "        print(\"Error: Graphviz file \" + gv_file_path + \" could not be generated.\")"
   ]
  },
  {
   "cell_type": "code",
   "execution_count": 27,
   "metadata": {},
   "outputs": [],
   "source": [
    "def generateTreeImage(gv_file_path, image_file_path, tree_id):\n",
    "    image_file_path = image_file_path + \"_\" + str(tree_id) + \".png\"\n",
    "    result = subprocess.call([\"dot\", \"-Tpng\", gv_file_path, \"-o\", image_file_path], shell=False)\n",
    "    result = subprocess.call([\"ls\",image_file_path], shell = False)\n",
    "    if result is 0:\n",
    "        print(\"Success: Image File \" + image_file_path + \" is generated.\")\n",
    "        print(\"Now you can execute the follow line as-it-is to see the tree graph:\") \n",
    "        print(\"Image(filename='\" + image_file_path + \"\\')\")\n",
    "    else:\n",
    "        print(\"Error: Image file \" + image_file_path + \" could not be generated.\")"
   ]
  },
  {
   "cell_type": "code",
   "execution_count": 28,
   "metadata": {},
   "outputs": [
    {
     "name": "stdout",
     "output_type": "stream",
     "text": [
      "Success: Graphviz file /home/jash/Desktop/petplan/treeshyper/my_gbm_graph.gv is generated.\n"
     ]
    }
   ],
   "source": [
    "\n",
    "generateTree(h2o_jar_path, mojo_full_path, gv_file_path, image_file_name, 0)"
   ]
  },
  {
   "cell_type": "code",
   "execution_count": 29,
   "metadata": {},
   "outputs": [
    {
     "name": "stdout",
     "output_type": "stream",
     "text": [
      "Success: Image File /home/jash/Desktop/petplan/treeshyper/my_gbm_tree_bestall_minrows1000_0.png is generated.\n",
      "Now you can execute the follow line as-it-is to see the tree graph:\n",
      "Image(filename='/home/jash/Desktop/petplan/treeshyper/my_gbm_tree_bestall_minrows1000_0.png')\n"
     ]
    }
   ],
   "source": [
    "generateTreeImage(gv_file_path, image_file_name, 0)"
   ]
  },
  {
   "cell_type": "code",
   "execution_count": 30,
   "metadata": {},
   "outputs": [
    {
     "data": {
      "image/png": "[encoded data removed]",
      "text/plain": [
       "<IPython.core.display.Image object>"
      ]
     },
     "execution_count": 30,
     "metadata": {},
     "output_type": "execute_result"
    }
   ],
   "source": [
    "Image(filename='/home/jash/Desktop/petplan/treeshyper/my_gbm_tree_bestall_minrows1000_0.png')"
   ]
  },
  {
   "cell_type": "code",
   "execution_count": null,
   "metadata": {},
   "outputs": [],
   "source": []
  }
 ],
 "metadata": {
  "kernelspec": {
   "display_name": "Python 2",
   "language": "python",
   "name": "python2"
  },
  "language_info": {
   "codemirror_mode": {
    "name": "ipython",
    "version": 2
   },
   "file_extension": ".py",
   "mimetype": "text/x-python",
   "name": "python",
   "nbconvert_exporter": "python",
   "pygments_lexer": "ipython2",
   "version": "2.7.14"
  }
 },
 "nbformat": 4,
 "nbformat_minor": 2
}
