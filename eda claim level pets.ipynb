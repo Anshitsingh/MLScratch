{
 "cells": [
  {
   "cell_type": "code",
   "execution_count": 1,
   "metadata": {},
   "outputs": [
    {
     "name": "stderr",
     "output_type": "stream",
     "text": [
      "Skipping line 267909: expected 33 fields, saw 34\n",
      "\n",
      "Skipping line 299539: expected 33 fields, saw 34\n",
      "\n",
      "/home/jash/anaconda3/envs/py27/lib/python2.7/site-packages/IPython/core/interactiveshell.py:2718: DtypeWarning: Columns (5,17,18,19,20) have mixed types. Specify dtype option on import or set low_memory=False.\n",
      "  interactivity=interactivity, compiler=compiler, result=result)\n"
     ]
    }
   ],
   "source": [
    "import pandas as pd\n",
    "a=pd.read_table(\"/home/jash/Desktop/petplan/Profitability1.txt\", sep='|', lineterminator='\\n', error_bad_lines=False)"
   ]
  },
  {
   "cell_type": "code",
   "execution_count": 2,
   "metadata": {},
   "outputs": [],
   "source": [
    "data=pd.DataFrame(data=a,index=None)\n",
    "data = data.sample(frac=1).reset_index(drop=True)\n",
    "import math\n",
    "import numpy as np\n",
    "data['LossRatio'].fillna(0, inplace=True)\n",
    "data['L']=0\n",
    "data.loc[data['LossRatio'] >.57, 'L'] = 1\n",
    "data.to_csv(\"/home/jash/Desktop/petplan/Profitability.csv\")\n",
    "Y=data['L']\n",
    "y=pd.DataFrame(Y)\n",
    "x=pd.DataFrame(data)"
   ]
  },
  {
   "cell_type": "code",
   "execution_count": 3,
   "metadata": {},
   "outputs": [],
   "source": [
    "x = x[pd.notnull(x['BreedName'])]"
   ]
  },
  {
   "cell_type": "code",
   "execution_count": 4,
   "metadata": {},
   "outputs": [
    {
     "data": {
      "text/plain": [
       "LossRatio                               0\n",
       "Duration                                0\n",
       "PetId                                   0\n",
       "StartDate                               0\n",
       "EndDate                                 0\n",
       "LastPolicyRef                           0\n",
       "TotalClaimsAmtPaid                 260380\n",
       "TotalEarnedPremium                      0\n",
       "BreedName                               0\n",
       "Currentage                              1\n",
       "CopayPct                                0\n",
       "Deductible                              0\n",
       "PetType                                 0\n",
       "PolicyForm                              0\n",
       "CarrierCd                               0\n",
       "ClaimNumber                        296270\n",
       "ClaimAmount                        296270\n",
       "ClaimDetails                       296270\n",
       "ConditionGrp                       296270\n",
       "Claimcodecategory                  296270\n",
       "Severity                           296568\n",
       "CustomerNumber                        387\n",
       "Country                               387\n",
       "PhoneNumber                           749\n",
       "Surname                               428\n",
       "GivenName                             435\n",
       "CustomerMailingAddr_Addr1             387\n",
       "CustomerMailingAddr_City              387\n",
       "CustomerMailingAddr_StateProvCd       395\n",
       "CustomerMailingAddr_PostalCode        387\n",
       "Quadrant                                0\n",
       "claimdurationInception             296270\n",
       "churn\\r                                 0\n",
       "L                                       0\n",
       "dtype: int64"
      ]
     },
     "execution_count": 4,
     "metadata": {},
     "output_type": "execute_result"
    }
   ],
   "source": [
    "x.isnull().sum()"
   ]
  },
  {
   "cell_type": "code",
   "execution_count": 5,
   "metadata": {
    "scrolled": true
   },
   "outputs": [
    {
     "data": {
      "text/plain": [
       "0"
      ]
     },
     "execution_count": 5,
     "metadata": {},
     "output_type": "execute_result"
    }
   ],
   "source": [
    "x['Duration'].min()"
   ]
  },
  {
   "cell_type": "code",
   "execution_count": 13,
   "metadata": {},
   "outputs": [
    {
     "data": {
      "text/plain": [
       "Quadrant\n",
       "LowTenure-HighLR     8.451197\n",
       "HighTenure-HighLR    3.970562\n",
       "HighTenure-LowLR     0.085223\n",
       "LowTenure-LowLR      0.004030\n",
       "Name: LossRatio, dtype: float64"
      ]
     },
     "execution_count": 13,
     "metadata": {},
     "output_type": "execute_result"
    }
   ],
   "source": [
    "#QUADRANT\n",
    "q = x.groupby(['Quadrant']).mean()\n",
    "quad=pd.DataFrame(q)\n",
    "topquad=quad['LossRatio'].sort_values(ascending=False)\n",
    "topquad"
   ]
  },
  {
   "cell_type": "code",
   "execution_count": 35,
   "metadata": {},
   "outputs": [],
   "source": [
    "x['Dseg']=0"
   ]
  },
  {
   "cell_type": "code",
   "execution_count": 44,
   "metadata": {},
   "outputs": [],
   "source": [
    "x.loc[x['Duration'] <200, 'Dseg'] = 1\n",
    "x.loc[(x['Duration']>200) & (x['Duration'] <400),'Dseg']=2\n",
    "x.loc[(x['Duration']>400) & (x['Duration'] <600),'Dseg']=3\n",
    "x.loc[(x['Duration']>600) & (x['Duration'] <800),'Dseg']=4\n",
    "x.loc[(x['Duration']>800 ),'Dseg']=5"
   ]
  },
  {
   "cell_type": "code",
   "execution_count": 45,
   "metadata": {
    "scrolled": true
   },
   "outputs": [
    {
     "data": {
      "text/plain": [
       "array([1, 2, 4, 3, 5])"
      ]
     },
     "execution_count": 45,
     "metadata": {},
     "output_type": "execute_result"
    }
   ],
   "source": [
    "#OVERALL\n",
    "x['Dseg'].unique()"
   ]
  },
  {
   "cell_type": "code",
   "execution_count": 46,
   "metadata": {},
   "outputs": [
    {
     "data": {
      "text/plain": [
       "Dseg\n",
       "5    2.132015\n",
       "4    2.098594\n",
       "3    2.037221\n",
       "2    1.401727\n",
       "1    0.279243\n",
       "Name: LossRatio, dtype: float64"
      ]
     },
     "execution_count": 46,
     "metadata": {},
     "output_type": "execute_result"
    }
   ],
   "source": [
    "#DURATION\n",
    "dur = x.groupby(['Dseg']).mean()\n",
    "dse=pd.DataFrame(dur)\n",
    "dse.head()\n",
    "topdse=dse['LossRatio'].sort_values(ascending=False)\n",
    "topdse"
   ]
  },
  {
   "cell_type": "code",
   "execution_count": 10,
   "metadata": {},
   "outputs": [
    {
     "data": {
      "text/plain": [
       "BreedName\n",
       "Belgian Shepherd Laekenois    83.768052\n",
       "Hungarian Vizsla              18.578355\n",
       "Bergamasco                    12.483211\n",
       "Welsh Springer Spaniel        10.163153\n",
       "Mexican Hairless Crested       9.630875\n",
       "Ori Pei                        7.946571\n",
       "Peterbald                      7.328575\n",
       "Australian Kelpie              7.017018\n",
       "Ocicat                         6.065461\n",
       "Belgian Shepherd Tervuren      5.930694\n",
       "Spinone italiano               5.703638\n",
       "Havana Brown                   5.272087\n",
       "Abyssinian                     3.988526\n",
       "Lagotto Romagnolo              3.910956\n",
       "British Shorthair              3.668581\n",
       "Pekingese                      3.453745\n",
       "American Eskimo Dog            3.383061\n",
       "Poodle - Teacup                3.343335\n",
       "Spanish Mastiff                3.313444\n",
       "Shar-pei Mix                   3.266819\n",
       "Name: LossRatio, dtype: float64"
      ]
     },
     "execution_count": 10,
     "metadata": {},
     "output_type": "execute_result"
    }
   ],
   "source": [
    "#BREEDS\n",
    "df_agg = x.groupby(['BreedName']).mean()\n",
    "breed=pd.DataFrame(df_agg)\n",
    "breed.head()\n",
    "topbreeds=breed['LossRatio'].sort_values(ascending=False)\n",
    "topbreeds.head(20)\n"
   ]
  },
  {
   "cell_type": "code",
   "execution_count": 11,
   "metadata": {
    "scrolled": true
   },
   "outputs": [
    {
     "data": {
      "text/plain": [
       "PolicyForm\n",
       "25000           2.985784\n",
       "Gold            2.368515\n",
       "Unlimited       2.337165\n",
       "Silver          2.016216\n",
       "10000           1.886515\n",
       "20000           1.724543\n",
       "Bronze          1.675097\n",
       "15000           1.568882\n",
       "2500            0.909969\n",
       "5000            0.716967\n",
       "Intro           0.056419\n",
       "Introductory    0.000000\n",
       "Name: LossRatio, dtype: float64"
      ]
     },
     "execution_count": 11,
     "metadata": {},
     "output_type": "execute_result"
    }
   ],
   "source": [
    "#POLICYFORM\n",
    "p = x.groupby(['PolicyForm']).mean()\n",
    "pf=pd.DataFrame(p)\n",
    "toppf=pf['LossRatio'].sort_values(ascending=False)\n",
    "toppf"
   ]
  },
  {
   "cell_type": "code",
   "execution_count": 48,
   "metadata": {},
   "outputs": [
    {
     "data": {
      "text/plain": [
       "churn\\r\n",
       "0    1.717630\n",
       "1    0.624074\n",
       "Name: LossRatio, dtype: float64"
      ]
     },
     "execution_count": 48,
     "metadata": {},
     "output_type": "execute_result"
    }
   ],
   "source": [
    "#CHURN\n",
    "c = x.groupby(['churn\\r']).mean()\n",
    "ch=pd.DataFrame(c)\n",
    "churn=ch['LossRatio'].sort_values(ascending=False)\n",
    "churn"
   ]
  },
  {
   "cell_type": "code",
   "execution_count": 12,
   "metadata": {},
   "outputs": [
    {
     "data": {
      "text/plain": [
       "Deductible\n",
       "700    3.567858\n",
       "150    2.356685\n",
       "200    2.133599\n",
       "350    1.911898\n",
       "450    1.782146\n",
       "400    1.623339\n",
       "250    1.619697\n",
       "500    1.610637\n",
       "750    1.573437\n",
       "300    1.540114\n",
       "Name: LossRatio, dtype: float64"
      ]
     },
     "execution_count": 12,
     "metadata": {},
     "output_type": "execute_result"
    }
   ],
   "source": [
    "#DEDUCTIBLE\n",
    "d=x.groupby(['Deductible']).mean()\n",
    "ded=pd.DataFrame(d)\n",
    "ded.head()\n",
    "topded=ded['LossRatio'].sort_values(ascending=False)\n",
    "topded.head(10)\n"
   ]
  },
  {
   "cell_type": "code",
   "execution_count": 14,
   "metadata": {},
   "outputs": [
    {
     "data": {
      "text/plain": [
       "BreedName\n",
       "Belgian Shepherd Laekenois     125.652078\n",
       "Hungarian Vizsla                63.111927\n",
       "Old English Sheepdog Mix        40.887401\n",
       "Dachshund  Mix                  38.050346\n",
       "Cavachon                        31.910259\n",
       "Welsh Springer Spaniel          30.063784\n",
       "Wirehaired Pointing Griffon     26.987992\n",
       "British Shorthair               25.282525\n",
       "Alaskan Husky                   25.069811\n",
       "Pekingese                       23.709540\n",
       "Name: LossRatio, dtype: float64"
      ]
     },
     "execution_count": 14,
     "metadata": {},
     "output_type": "execute_result"
    }
   ],
   "source": [
    "#LowTenure-HighLR\n",
    "m=x.loc[x['Quadrant']=='LowTenure-HighLR']\n",
    "m=pd.DataFrame(m)\n",
    "df_agg = m.groupby(['BreedName']).mean()\n",
    "breed=pd.DataFrame(df_agg)\n",
    "topbreeds=breed['LossRatio'].sort_values(ascending=False)\n",
    "topbreeds.head(10)\n"
   ]
  },
  {
   "cell_type": "code",
   "execution_count": 15,
   "metadata": {
    "scrolled": true
   },
   "outputs": [
    {
     "data": {
      "text/plain": [
       "PolicyForm\n",
       "25000        14.028019\n",
       "Gold         13.810261\n",
       "Silver       11.920519\n",
       "Bronze       11.100278\n",
       "10000         8.249554\n",
       "5000          7.218593\n",
       "15000         7.102255\n",
       "Unlimited     6.984005\n",
       "2500          6.322560\n",
       "20000         5.086990\n",
       "Intro         3.046625\n",
       "Name: LossRatio, dtype: float64"
      ]
     },
     "execution_count": 15,
     "metadata": {},
     "output_type": "execute_result"
    }
   ],
   "source": [
    "#POLICYFORM\n",
    "p = m.groupby(['PolicyForm']).mean()\n",
    "pf=pd.DataFrame(p)\n",
    "toppf=pf['LossRatio'].sort_values(ascending=False)\n",
    "toppf"
   ]
  },
  {
   "cell_type": "code",
   "execution_count": 16,
   "metadata": {},
   "outputs": [
    {
     "data": {
      "text/plain": [
       "Deductible\n",
       "200    11.892194\n",
       "450    10.986221\n",
       "550    10.331367\n",
       "350     9.513058\n",
       "150     7.733556\n",
       "300     7.427311\n",
       "100     7.051254\n",
       "250     6.978451\n",
       "400     6.965824\n",
       "600     6.920881\n",
       "Name: LossRatio, dtype: float64"
      ]
     },
     "execution_count": 16,
     "metadata": {},
     "output_type": "execute_result"
    }
   ],
   "source": [
    "#DEDUCTIBLE\n",
    "d=m.groupby(['Deductible']).mean()\n",
    "ded=pd.DataFrame(d)\n",
    "ded.head()\n",
    "topded=ded['LossRatio'].sort_values(ascending=False)\n",
    "topded.head(10)"
   ]
  },
  {
   "cell_type": "code",
   "execution_count": 17,
   "metadata": {
    "scrolled": false
   },
   "outputs": [
    {
     "data": {
      "text/plain": [
       "BreedName\n",
       "Hungarian Vizsla                 28.703798\n",
       "Bergamasco                       14.096788\n",
       "Chinchilla                       13.862887\n",
       "American Shorthair (purebred)    13.526001\n",
       "Australian Kelpie                11.054120\n",
       "Peterbald                        10.024182\n",
       "Ocicat                            9.864092\n",
       "Chinese Crested Dog               9.201733\n",
       "American Longhair                 9.155301\n",
       "Spinone italiano                  8.312577\n",
       "Name: LossRatio, dtype: float64"
      ]
     },
     "execution_count": 17,
     "metadata": {},
     "output_type": "execute_result"
    }
   ],
   "source": [
    "#HighTenure-HighLR\n",
    "m=x.loc[x['Quadrant']=='HighTenure-HighLR']\n",
    "m2=pd.DataFrame(m)\n",
    "df_agg = m2.groupby(['BreedName']).mean()\n",
    "breed=pd.DataFrame(df_agg)\n",
    "topbreeds=breed['LossRatio'].sort_values(ascending=False)\n",
    "topbreeds.head(10)"
   ]
  },
  {
   "cell_type": "code",
   "execution_count": 18,
   "metadata": {
    "scrolled": true
   },
   "outputs": [
    {
     "data": {
      "text/plain": [
       "PolicyForm\n",
       "Unlimited    4.939650\n",
       "Gold         4.746805\n",
       "Silver       4.537496\n",
       "25000        4.398995\n",
       "Bronze       4.058590\n",
       "15000        3.816310\n",
       "10000        3.718120\n",
       "20000        3.343812\n",
       "5000         2.942196\n",
       "2500         2.344554\n",
       "Name: LossRatio, dtype: float64"
      ]
     },
     "execution_count": 18,
     "metadata": {},
     "output_type": "execute_result"
    }
   ],
   "source": [
    "#POLICYFORM\n",
    "p = m2.groupby(['PolicyForm']).mean()\n",
    "pf=pd.DataFrame(p)\n",
    "toppf=pf['LossRatio'].sort_values(ascending=False)\n",
    "toppf"
   ]
  },
  {
   "cell_type": "code",
   "execution_count": 19,
   "metadata": {
    "scrolled": true
   },
   "outputs": [
    {
     "data": {
      "text/plain": [
       "Deductible\n",
       "700     8.017604\n",
       "750     7.870444\n",
       "2000    4.907971\n",
       "1000    4.698667\n",
       "250     4.215926\n",
       "600     4.078488\n",
       "200     4.076747\n",
       "300     3.996895\n",
       "500     3.930765\n",
       "350     3.860617\n",
       "Name: LossRatio, dtype: float64"
      ]
     },
     "execution_count": 19,
     "metadata": {},
     "output_type": "execute_result"
    }
   ],
   "source": [
    "#DEDUCTIBLE\n",
    "d=m2.groupby(['Deductible']).mean()\n",
    "ded=pd.DataFrame(d)\n",
    "ded.head()\n",
    "topded=ded['LossRatio'].sort_values(ascending=False)\n",
    "topded.head(10)"
   ]
  },
  {
   "cell_type": "code",
   "execution_count": 20,
   "metadata": {},
   "outputs": [
    {
     "data": {
      "text/plain": [
       "BreedName\n",
       "Ainu Dog                    0.446607\n",
       "Peruvian Inca Orchid        0.407744\n",
       "Treeing Walker Coonhound    0.389824\n",
       "Old English Mastiff         0.383630\n",
       "Javanese                    0.380819\n",
       "Blue Lacy                   0.361425\n",
       "Bolognese                   0.338096\n",
       "Llewellin Setter            0.313717\n",
       "Chinese Crested Hairless    0.286064\n",
       "Bouvier Des Flandres Mix    0.280674\n",
       "Name: LossRatio, dtype: float64"
      ]
     },
     "execution_count": 20,
     "metadata": {},
     "output_type": "execute_result"
    }
   ],
   "source": [
    "#HighTenure-LowLR\n",
    "m=x.loc[x['Quadrant']=='HighTenure-LowLR']\n",
    "m3=pd.DataFrame(m)\n",
    "df_agg = m3.groupby(['BreedName']).mean()\n",
    "breed=pd.DataFrame(df_agg)\n",
    "topbreeds=breed['LossRatio'].sort_values(ascending=False)\n",
    "topbreeds.head(10)"
   ]
  },
  {
   "cell_type": "code",
   "execution_count": 21,
   "metadata": {
    "scrolled": true
   },
   "outputs": [
    {
     "data": {
      "text/plain": [
       "PolicyForm\n",
       "25000           0.116489\n",
       "Silver          0.099318\n",
       "Gold            0.096626\n",
       "Unlimited       0.094028\n",
       "20000           0.092559\n",
       "2500            0.085816\n",
       "15000           0.083513\n",
       "10000           0.082453\n",
       "Bronze          0.081850\n",
       "5000            0.048098\n",
       "Introductory    0.000000\n",
       "Name: LossRatio, dtype: float64"
      ]
     },
     "execution_count": 21,
     "metadata": {},
     "output_type": "execute_result"
    }
   ],
   "source": [
    "#POLICYFORM\n",
    "p = m3.groupby(['PolicyForm']).mean()\n",
    "pf=pd.DataFrame(p)\n",
    "toppf=pf['LossRatio'].sort_values(ascending=False)\n",
    "toppf"
   ]
  },
  {
   "cell_type": "code",
   "execution_count": 22,
   "metadata": {},
   "outputs": [
    {
     "data": {
      "text/plain": [
       "Deductible\n",
       "100    0.181996\n",
       "150    0.174081\n",
       "50     0.153869\n",
       "200    0.102684\n",
       "350    0.087480\n",
       "300    0.085825\n",
       "400    0.084676\n",
       "450    0.081108\n",
       "500    0.075320\n",
       "250    0.068192\n",
       "Name: LossRatio, dtype: float64"
      ]
     },
     "execution_count": 22,
     "metadata": {},
     "output_type": "execute_result"
    }
   ],
   "source": [
    "#DEDUCTIBLE\n",
    "d=m3.groupby(['Deductible']).mean()\n",
    "ded=pd.DataFrame(d)\n",
    "ded.head()\n",
    "topded=ded['LossRatio'].sort_values(ascending=False)\n",
    "topded.head(10)"
   ]
  }
 ],
 "metadata": {
  "kernelspec": {
   "display_name": "Python 2",
   "language": "python",
   "name": "python2"
  },
  "language_info": {
   "codemirror_mode": {
    "name": "ipython",
    "version": 2
   },
   "file_extension": ".py",
   "mimetype": "text/x-python",
   "name": "python",
   "nbconvert_exporter": "python",
   "pygments_lexer": "ipython2",
   "version": "2.7.14"
  }
 },
 "nbformat": 4,
 "nbformat_minor": 2
}
