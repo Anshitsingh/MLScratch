{
 "cells": [
  {
   "cell_type": "code",
   "execution_count": 1,
   "metadata": {},
   "outputs": [
    {
     "name": "stderr",
     "output_type": "stream",
     "text": [
      "Skipping line 267909: expected 33 fields, saw 34\n",
      "\n",
      "Skipping line 299539: expected 33 fields, saw 34\n",
      "\n",
      "/home/jash/anaconda3/envs/py27/lib/python2.7/site-packages/IPython/core/interactiveshell.py:2718: DtypeWarning: Columns (5,17,18,19,20) have mixed types. Specify dtype option on import or set low_memory=False.\n",
      "  interactivity=interactivity, compiler=compiler, result=result)\n"
     ]
    }
   ],
   "source": [
    "import pandas as pd\n",
    "a=pd.read_table(\"/home/jash/Desktop/petplan/Profitability1.txt\", sep='|', lineterminator='\\n', error_bad_lines=False)"
   ]
  },
  {
   "cell_type": "code",
   "execution_count": 2,
   "metadata": {},
   "outputs": [
    {
     "name": "stdout",
     "output_type": "stream",
     "text": [
      "['Unlimited' '15000' '20000' 'Bronze' '10000' 'Gold' 'Silver' '5000'\n",
      " '25000' '2500']\n"
     ]
    }
   ],
   "source": [
    "data=pd.DataFrame(data=a,index=None)\n",
    "data = data.sample(frac=1).reset_index(drop=True)\n",
    "import math\n",
    "import numpy as np\n",
    "data['LossRatio'].fillna(0, inplace=True)\n",
    "data['L']=0\n",
    "data.loc[data['LossRatio'] >.57, 'L'] = 1\n",
    "data.to_csv(\"/home/jash/Desktop/petplan/Profitabilitynew.csv\")\n",
    "Y=data['L']\n",
    "y=pd.DataFrame(Y)\n",
    "x=pd.DataFrame(data)\n",
    "\n",
    "m=x.loc[x['PolicyForm']!='Introductory']\n",
    "q=pd.DataFrame(m)\n",
    "m2=q.loc[q['PolicyForm']!='Intro']\n",
    "x=pd.DataFrame(m2)\n",
    "print x['PolicyForm'].unique()"
   ]
  },
  {
   "cell_type": "code",
   "execution_count": 3,
   "metadata": {},
   "outputs": [],
   "source": [
    "\n",
    "x.drop(['LossRatio'],axis=1,inplace=True)\n",
    "x.drop(['CustomerNumber','PhoneNumber','Surname','GivenName','CustomerMailingAddr_Addr1','CustomerMailingAddr_City','CustomerMailingAddr_StateProvCd',\n",
    "       'CustomerMailingAddr_PostalCode','PetId','StartDate','EndDate','LastPolicyRef'],axis=1,inplace=True)\n",
    "\n",
    "p=pd.DataFrame(x)\n",
    "\n",
    "p['TotalClaimsAmtPaid'].fillna(0, inplace=True)"
   ]
  },
  {
   "cell_type": "code",
   "execution_count": 4,
   "metadata": {},
   "outputs": [
    {
     "data": {
      "text/plain": [
       "Duration                       0\n",
       "TotalClaimsAmtPaid             0\n",
       "TotalEarnedPremium             0\n",
       "BreedName                     24\n",
       "Currentage                     0\n",
       "CopayPct                       0\n",
       "Deductible                     0\n",
       "PetType                        0\n",
       "PolicyForm                     0\n",
       "CarrierCd                      0\n",
       "ClaimNumber               149283\n",
       "ClaimAmount               149283\n",
       "ClaimDetails              149283\n",
       "ConditionGrp              149283\n",
       "Claimcodecategory         149283\n",
       "Severity                  149581\n",
       "Country                      336\n",
       "Quadrant                       0\n",
       "claimdurationInception    149283\n",
       "churn\\r                        0\n",
       "L                              0\n",
       "dtype: int64"
      ]
     },
     "execution_count": 4,
     "metadata": {},
     "output_type": "execute_result"
    }
   ],
   "source": [
    "p.isnull().sum()"
   ]
  },
  {
   "cell_type": "code",
   "execution_count": 5,
   "metadata": {},
   "outputs": [],
   "source": [
    "p.drop(['ClaimNumber','ClaimAmount','Severity','ClaimDetails','ConditionGrp','Claimcodecategory','claimdurationInception'],axis=1,inplace=True)"
   ]
  },
  {
   "cell_type": "code",
   "execution_count": 6,
   "metadata": {
    "scrolled": false
   },
   "outputs": [
    {
     "data": {
      "text/plain": [
       "Duration                0\n",
       "TotalClaimsAmtPaid      0\n",
       "TotalEarnedPremium      0\n",
       "BreedName              24\n",
       "Currentage              0\n",
       "CopayPct                0\n",
       "Deductible              0\n",
       "PetType                 0\n",
       "PolicyForm              0\n",
       "CarrierCd               0\n",
       "Country               336\n",
       "Quadrant                0\n",
       "churn\\r                 0\n",
       "L                       0\n",
       "dtype: int64"
      ]
     },
     "execution_count": 6,
     "metadata": {},
     "output_type": "execute_result"
    }
   ],
   "source": [
    "p.isnull().sum()"
   ]
  },
  {
   "cell_type": "code",
   "execution_count": 7,
   "metadata": {},
   "outputs": [],
   "source": [
    "p.dropna(how='any',inplace=True)"
   ]
  },
  {
   "cell_type": "code",
   "execution_count": 8,
   "metadata": {},
   "outputs": [
    {
     "name": "stdout",
     "output_type": "stream",
     "text": [
      "(276915, 14)\n"
     ]
    }
   ],
   "source": [
    "print p.shape"
   ]
  },
  {
   "cell_type": "code",
   "execution_count": 9,
   "metadata": {
    "scrolled": false
   },
   "outputs": [
    {
     "name": "stdout",
     "output_type": "stream",
     "text": [
      "Checking whether there is an H2O instance running at http://localhost:54321..... not found.\n",
      "Attempting to start a local H2O server...\n",
      "  Java Version: openjdk version \"1.8.0_121\"; OpenJDK Runtime Environment (Zulu 8.20.0.5-linux64) (build 1.8.0_121-b15); OpenJDK 64-Bit Server VM (Zulu 8.20.0.5-linux64) (build 25.121-b15, mixed mode)\n",
      "  Starting server from /home/jash/anaconda3/envs/py27/h2o_jar/h2o.jar\n",
      "  Ice root: /tmp/tmpJy470k\n",
      "  JVM stdout: /tmp/tmpJy470k/h2o_jash_started_from_python.out\n",
      "  JVM stderr: /tmp/tmpJy470k/h2o_jash_started_from_python.err\n",
      "  Server is running at http://127.0.0.1:54321\n",
      "Connecting to H2O server at http://127.0.0.1:54321... successful.\n",
      "Warning: Your H2O cluster version is too old (4 months and 27 days)! Please download and install the latest version from http://h2o.ai/download/\n"
     ]
    },
    {
     "data": {
      "text/html": [
       "<div style=\"overflow:auto\"><table style=\"width:50%\"><tr><td>H2O cluster uptime:</td>\n",
       "<td>02 secs</td></tr>\n",
       "<tr><td>H2O cluster timezone:</td>\n",
       "<td>Asia/Kolkata</td></tr>\n",
       "<tr><td>H2O data parsing timezone:</td>\n",
       "<td>UTC</td></tr>\n",
       "<tr><td>H2O cluster version:</td>\n",
       "<td>3.18.0.2</td></tr>\n",
       "<tr><td>H2O cluster version age:</td>\n",
       "<td>4 months and 27 days !!!</td></tr>\n",
       "<tr><td>H2O cluster name:</td>\n",
       "<td>H2O_from_python_jash_22lox8</td></tr>\n",
       "<tr><td>H2O cluster total nodes:</td>\n",
       "<td>1</td></tr>\n",
       "<tr><td>H2O cluster free memory:</td>\n",
       "<td>1.714 Gb</td></tr>\n",
       "<tr><td>H2O cluster total cores:</td>\n",
       "<td>4</td></tr>\n",
       "<tr><td>H2O cluster allowed cores:</td>\n",
       "<td>4</td></tr>\n",
       "<tr><td>H2O cluster status:</td>\n",
       "<td>accepting new members, healthy</td></tr>\n",
       "<tr><td>H2O connection url:</td>\n",
       "<td>http://127.0.0.1:54321</td></tr>\n",
       "<tr><td>H2O connection proxy:</td>\n",
       "<td>None</td></tr>\n",
       "<tr><td>H2O internal security:</td>\n",
       "<td>False</td></tr>\n",
       "<tr><td>H2O API Extensions:</td>\n",
       "<td>XGBoost, Algos, AutoML, Core V3, Core V4</td></tr>\n",
       "<tr><td>Python version:</td>\n",
       "<td>2.7.14 final</td></tr></table></div>"
      ],
      "text/plain": [
       "--------------------------  ----------------------------------------\n",
       "H2O cluster uptime:         02 secs\n",
       "H2O cluster timezone:       Asia/Kolkata\n",
       "H2O data parsing timezone:  UTC\n",
       "H2O cluster version:        3.18.0.2\n",
       "H2O cluster version age:    4 months and 27 days !!!\n",
       "H2O cluster name:           H2O_from_python_jash_22lox8\n",
       "H2O cluster total nodes:    1\n",
       "H2O cluster free memory:    1.714 Gb\n",
       "H2O cluster total cores:    4\n",
       "H2O cluster allowed cores:  4\n",
       "H2O cluster status:         accepting new members, healthy\n",
       "H2O connection url:         http://127.0.0.1:54321\n",
       "H2O connection proxy:\n",
       "H2O internal security:      False\n",
       "H2O API Extensions:         XGBoost, Algos, AutoML, Core V3, Core V4\n",
       "Python version:             2.7.14 final\n",
       "--------------------------  ----------------------------------------"
      ]
     },
     "metadata": {},
     "output_type": "display_data"
    },
    {
     "name": "stderr",
     "output_type": "stream",
     "text": [
      "/home/jash/anaconda3/envs/py27/lib/python2.7/site-packages/h2o/h2o.py:562: UserWarning: [Lwater.parser.ParseWriter$ParseErr;@7057c4c0\n",
      "  warnings.warn(w)\n"
     ]
    },
    {
     "name": "stdout",
     "output_type": "stream",
     "text": [
      "Parse progress: |█████████████████████████████████████████████████████████| 100%\n"
     ]
    },
    {
     "name": "stderr",
     "output_type": "stream",
     "text": [
      "/home/jash/anaconda3/envs/py27/lib/python2.7/site-packages/h2o/job.py:69: UserWarning: ParseError at file upload_a22cac8a73031c7b95a9809feca6405f at line 0 ( destination line 0 )  at byte offset 164; error = 'Unmatched quote char \"'\n",
      "  warnings.warn(w)\n",
      "/home/jash/anaconda3/envs/py27/lib/python2.7/site-packages/h2o/job.py:69: UserWarning: ParseError at file upload_a22cac8a73031c7b95a9809feca6405f at line 2 ( destination line 2 )  at byte offset 170; error = 'Unmatched quote char \"'\n",
      "  warnings.warn(w)\n"
     ]
    },
    {
     "data": {
      "text/html": [
       "<table>\n",
       "<thead>\n",
       "<tr><th style=\"text-align: right;\">  Duration</th><th style=\"text-align: right;\">  TotalClaimsAmtPaid</th><th style=\"text-align: right;\">  TotalEarnedPremium</th><th>BreedName                     </th><th style=\"text-align: right;\">  Currentage</th><th style=\"text-align: right;\">  CopayPct</th><th style=\"text-align: right;\">  Deductible</th><th>PetType  </th><th style=\"text-align: right;\">  PolicyForm</th><th>CarrierCd  </th><th>Country  </th><th>Quadrant        </th><th style=\"text-align: right;\">    churn\r",
       "</th><th style=\"text-align: right;\">  L</th></tr>\n",
       "</thead>\n",
       "<tbody>\n",
       "<tr><td style=\"text-align: right;\">       nan</td><td style=\"text-align: right;\">             nan    </td><td style=\"text-align: right;\">            nan     </td><td>BreedName                     </td><td style=\"text-align: right;\">         nan</td><td style=\"text-align: right;\">     nan  </td><td style=\"text-align: right;\">         nan</td><td>PetType  </td><td style=\"text-align: right;\">         nan</td><td>CarrierCd  </td><td>Country  </td><td>Quadrant        </td><td style=\"text-align: right;\">nan</td><td style=\"text-align: right;\">nan</td></tr>\n",
       "<tr><td style=\"text-align: right;\">       nan</td><td style=\"text-align: right;\">             nan    </td><td style=\"text-align: right;\">            nan     </td><td>                              </td><td style=\"text-align: right;\">         nan</td><td style=\"text-align: right;\">     nan  </td><td style=\"text-align: right;\">         nan</td><td>         </td><td style=\"text-align: right;\">         nan</td><td>           </td><td>         </td><td>                </td><td style=\"text-align: right;\">nan</td><td style=\"text-align: right;\">nan</td></tr>\n",
       "<tr><td style=\"text-align: right;\">      1179</td><td style=\"text-align: right;\">              63.14 </td><td style=\"text-align: right;\">            989.372 </td><td>Cockapoo                      </td><td style=\"text-align: right;\">           4</td><td style=\"text-align: right;\">       0.9</td><td style=\"text-align: right;\">         200</td><td>Dog      </td><td style=\"text-align: right;\">         nan</td><td>XLC        </td><td>US       </td><td>HighTenure-LowLR</td><td style=\"text-align: right;\">  0</td><td style=\"text-align: right;\">  0</td></tr>\n",
       "<tr><td style=\"text-align: right;\">      1241</td><td style=\"text-align: right;\">             574.637</td><td style=\"text-align: right;\">           1907.27  </td><td>Chihuahua long-haired         </td><td style=\"text-align: right;\">           7</td><td style=\"text-align: right;\">       0.9</td><td style=\"text-align: right;\">         300</td><td>Dog      </td><td style=\"text-align: right;\">       15000</td><td>CAN        </td><td>CAN      </td><td>HighTenure-LowLR</td><td style=\"text-align: right;\">  0</td><td style=\"text-align: right;\">  0</td></tr>\n",
       "<tr><td style=\"text-align: right;\">       409</td><td style=\"text-align: right;\">               0    </td><td style=\"text-align: right;\">            530.933 </td><td>Beagle Mix                    </td><td style=\"text-align: right;\">           5</td><td style=\"text-align: right;\">       0.9</td><td style=\"text-align: right;\">         300</td><td>Dog      </td><td style=\"text-align: right;\">         nan</td><td>XLC        </td><td>US       </td><td>LowTenure-LowLR </td><td style=\"text-align: right;\">  1</td><td style=\"text-align: right;\">  0</td></tr>\n",
       "<tr><td style=\"text-align: right;\">       731</td><td style=\"text-align: right;\">               0    </td><td style=\"text-align: right;\">           1531.59  </td><td>German Shepherd               </td><td style=\"text-align: right;\">           6</td><td style=\"text-align: right;\">       0.8</td><td style=\"text-align: right;\">         500</td><td>Dog      </td><td style=\"text-align: right;\">       20000</td><td>XLC        </td><td>US       </td><td>HighTenure-LowLR</td><td style=\"text-align: right;\">  1</td><td style=\"text-align: right;\">  0</td></tr>\n",
       "<tr><td style=\"text-align: right;\">       601</td><td style=\"text-align: right;\">               0    </td><td style=\"text-align: right;\">           1052.02  </td><td>Mixed Breed Medium (23 - 70lb)</td><td style=\"text-align: right;\">           6</td><td style=\"text-align: right;\">       0.9</td><td style=\"text-align: right;\">         500</td><td>Dog      </td><td style=\"text-align: right;\">       15000</td><td>XLC        </td><td>US       </td><td>HighTenure-LowLR</td><td style=\"text-align: right;\">  0</td><td style=\"text-align: right;\">  0</td></tr>\n",
       "<tr><td style=\"text-align: right;\">        56</td><td style=\"text-align: right;\">               0    </td><td style=\"text-align: right;\">             31.2388</td><td>Domestic Mediumhair           </td><td style=\"text-align: right;\">           0</td><td style=\"text-align: right;\">       0.9</td><td style=\"text-align: right;\">         250</td><td>Cat      </td><td style=\"text-align: right;\">       15000</td><td>XLC        </td><td>US       </td><td>LowTenure-LowLR </td><td style=\"text-align: right;\">  0</td><td style=\"text-align: right;\">  0</td></tr>\n",
       "<tr><td style=\"text-align: right;\">       365</td><td style=\"text-align: right;\">               0    </td><td style=\"text-align: right;\">            286.29  </td><td>Golden Retriever              </td><td style=\"text-align: right;\">           0</td><td style=\"text-align: right;\">       0.9</td><td style=\"text-align: right;\">         200</td><td>Dog      </td><td style=\"text-align: right;\">         nan</td><td>ALZ        </td><td>US       </td><td>LowTenure-LowLR </td><td style=\"text-align: right;\">  1</td><td style=\"text-align: right;\">  0</td></tr>\n",
       "<tr><td style=\"text-align: right;\">       381</td><td style=\"text-align: right;\">             231.2  </td><td style=\"text-align: right;\">            463.83  </td><td>German Shepherd               </td><td style=\"text-align: right;\">           1</td><td style=\"text-align: right;\">       0.8</td><td style=\"text-align: right;\">         400</td><td>Dog      </td><td style=\"text-align: right;\">       20000</td><td>XLC        </td><td>US       </td><td>LowTenure-LowLR </td><td style=\"text-align: right;\">  1</td><td style=\"text-align: right;\">  0</td></tr>\n",
       "</tbody>\n",
       "</table>"
      ]
     },
     "metadata": {},
     "output_type": "display_data"
    },
    {
     "name": "stdout",
     "output_type": "stream",
     "text": [
      "\n",
      "gbm Model Build progress: |███████████████████████████████████████████████| 100%\n",
      "Total cross validation models: 3\n"
     ]
    }
   ],
   "source": [
    "\n",
    "import h2o\n",
    "from h2o.estimators import H2ORandomForestEstimator\n",
    "h2o.init()\n",
    "df = h2o.H2OFrame(p)\n",
    "y = 'L'\n",
    "x=df.col_names\n",
    "print df\n",
    "x.remove(y)\n",
    "df[y] = df[y].asfactor()\n",
    "train, valid, test = df.split_frame(ratios=[.8,.1])\n",
    "from h2o.estimators.gbm import H2OGradientBoostingEstimator\n",
    "gbm_cv3 = H2OGradientBoostingEstimator(nfolds=3)\n",
    "gbm_cv3.train(x=x, y=y, training_frame=train)\n",
    "## Getting all cross validated models \n",
    "all_models = gbm_cv3.cross_validation_models()\n",
    "print(\"Total cross validation models: \" + str(len(all_models)))"
   ]
  },
  {
   "cell_type": "code",
   "execution_count": 10,
   "metadata": {},
   "outputs": [
    {
     "name": "stdout",
     "output_type": "stream",
     "text": [
      "\n",
      "ModelMetricsBinomial: gbm\n",
      "** Reported on test data. **\n",
      "\n",
      "MSE: 9.65225288921e-06\n",
      "RMSE: 0.00310680750759\n",
      "LogLoss: 0.0030029341425\n",
      "Mean Per-Class Error: 0.0\n",
      "AUC: 1.0\n",
      "Gini: 1.0\n",
      "Confusion Matrix (Act/Pred) for max f1 @ threshold = 0.995922193525: \n"
     ]
    },
    {
     "data": {
      "text/html": [
       "<div style=\"overflow:auto\"><table style=\"width:50%\"><tr><td><b></b></td>\n",
       "<td><b>0</b></td>\n",
       "<td><b>1</b></td>\n",
       "<td><b>Error</b></td>\n",
       "<td><b>Rate</b></td></tr>\n",
       "<tr><td>0</td>\n",
       "<td>17671.0</td>\n",
       "<td>0.0</td>\n",
       "<td>0.0</td>\n",
       "<td> (0.0/17671.0)</td></tr>\n",
       "<tr><td>1</td>\n",
       "<td>0.0</td>\n",
       "<td>10060.0</td>\n",
       "<td>0.0</td>\n",
       "<td> (0.0/10060.0)</td></tr>\n",
       "<tr><td>Total</td>\n",
       "<td>17671.0</td>\n",
       "<td>10060.0</td>\n",
       "<td>0.0</td>\n",
       "<td> (0.0/27731.0)</td></tr></table></div>"
      ],
      "text/plain": [
       "       0      1      Error    Rate\n",
       "-----  -----  -----  -------  -------------\n",
       "0      17671  0      0        (0.0/17671.0)\n",
       "1      0      10060  0        (0.0/10060.0)\n",
       "Total  17671  10060  0        (0.0/27731.0)"
      ]
     },
     "metadata": {},
     "output_type": "display_data"
    },
    {
     "name": "stdout",
     "output_type": "stream",
     "text": [
      "Maximum Metrics: Maximum metrics at their respective thresholds\n",
      "\n"
     ]
    },
    {
     "data": {
      "text/html": [
       "<div style=\"overflow:auto\"><table style=\"width:50%\"><tr><td><b>metric</b></td>\n",
       "<td><b>threshold</b></td>\n",
       "<td><b>value</b></td>\n",
       "<td><b>idx</b></td></tr>\n",
       "<tr><td>max f1</td>\n",
       "<td>0.9959222</td>\n",
       "<td>1.0</td>\n",
       "<td>0.0</td></tr>\n",
       "<tr><td>max f2</td>\n",
       "<td>0.9959222</td>\n",
       "<td>1.0</td>\n",
       "<td>0.0</td></tr>\n",
       "<tr><td>max f0point5</td>\n",
       "<td>0.9959222</td>\n",
       "<td>1.0</td>\n",
       "<td>0.0</td></tr>\n",
       "<tr><td>max accuracy</td>\n",
       "<td>0.9959222</td>\n",
       "<td>1.0</td>\n",
       "<td>0.0</td></tr>\n",
       "<tr><td>max precision</td>\n",
       "<td>0.9959222</td>\n",
       "<td>1.0</td>\n",
       "<td>0.0</td></tr>\n",
       "<tr><td>max recall</td>\n",
       "<td>0.9959222</td>\n",
       "<td>1.0</td>\n",
       "<td>0.0</td></tr>\n",
       "<tr><td>max specificity</td>\n",
       "<td>0.9959222</td>\n",
       "<td>1.0</td>\n",
       "<td>0.0</td></tr>\n",
       "<tr><td>max absolute_mcc</td>\n",
       "<td>0.9959222</td>\n",
       "<td>1.0</td>\n",
       "<td>0.0</td></tr>\n",
       "<tr><td>max min_per_class_accuracy</td>\n",
       "<td>0.9959222</td>\n",
       "<td>1.0</td>\n",
       "<td>0.0</td></tr>\n",
       "<tr><td>max mean_per_class_accuracy</td>\n",
       "<td>0.9959222</td>\n",
       "<td>1.0</td>\n",
       "<td>0.0</td></tr></table></div>"
      ],
      "text/plain": [
       "metric                       threshold    value    idx\n",
       "---------------------------  -----------  -------  -----\n",
       "max f1                       0.995922     1        0\n",
       "max f2                       0.995922     1        0\n",
       "max f0point5                 0.995922     1        0\n",
       "max accuracy                 0.995922     1        0\n",
       "max precision                0.995922     1        0\n",
       "max recall                   0.995922     1        0\n",
       "max specificity              0.995922     1        0\n",
       "max absolute_mcc             0.995922     1        0\n",
       "max min_per_class_accuracy   0.995922     1        0\n",
       "max mean_per_class_accuracy  0.995922     1        0"
      ]
     },
     "metadata": {},
     "output_type": "display_data"
    },
    {
     "name": "stdout",
     "output_type": "stream",
     "text": [
      "Gains/Lift Table: Avg response rate: 36.28 %\n",
      "\n"
     ]
    },
    {
     "data": {
      "text/html": [
       "<div style=\"overflow:auto\"><table style=\"width:50%\"><tr><td><b></b></td>\n",
       "<td><b>group</b></td>\n",
       "<td><b>cumulative_data_fraction</b></td>\n",
       "<td><b>lower_threshold</b></td>\n",
       "<td><b>lift</b></td>\n",
       "<td><b>cumulative_lift</b></td>\n",
       "<td><b>response_rate</b></td>\n",
       "<td><b>cumulative_response_rate</b></td>\n",
       "<td><b>capture_rate</b></td>\n",
       "<td><b>cumulative_capture_rate</b></td>\n",
       "<td><b>gain</b></td>\n",
       "<td><b>cumulative_gain</b></td></tr>\n",
       "<tr><td></td>\n",
       "<td>1</td>\n",
       "<td>0.3627709</td>\n",
       "<td>0.9959222</td>\n",
       "<td>2.7565606</td>\n",
       "<td>2.7565606</td>\n",
       "<td>1.0</td>\n",
       "<td>1.0</td>\n",
       "<td>1.0</td>\n",
       "<td>1.0</td>\n",
       "<td>175.6560636</td>\n",
       "<td>175.6560636</td></tr>\n",
       "<tr><td></td>\n",
       "<td>2</td>\n",
       "<td>1.0</td>\n",
       "<td>0.0023834</td>\n",
       "<td>0.0</td>\n",
       "<td>1.0</td>\n",
       "<td>0.0</td>\n",
       "<td>0.3627709</td>\n",
       "<td>0.0</td>\n",
       "<td>1.0</td>\n",
       "<td>-100.0</td>\n",
       "<td>0.0</td></tr></table></div>"
      ],
      "text/plain": [
       "    group    cumulative_data_fraction    lower_threshold    lift     cumulative_lift    response_rate    cumulative_response_rate    capture_rate    cumulative_capture_rate    gain     cumulative_gain\n",
       "--  -------  --------------------------  -----------------  -------  -----------------  ---------------  --------------------------  --------------  -------------------------  -------  -----------------\n",
       "    1        0.362771                    0.995922           2.75656  2.75656            1                1                           1               1                          175.656  175.656\n",
       "    2        1                           0.00238342         0        1                  0                0.362771                    0               1                          -100     0"
      ]
     },
     "metadata": {},
     "output_type": "display_data"
    },
    {
     "name": "stdout",
     "output_type": "stream",
     "text": [
      "\n",
      "\n"
     ]
    }
   ],
   "source": [
    "gbm_cv3.confusion_matrix()\n",
    "performance = gbm_cv3.model_performance(test_data=test)\n",
    "print performance"
   ]
  },
  {
   "cell_type": "code",
   "execution_count": 12,
   "metadata": {},
   "outputs": [
    {
     "data": {
      "image/png": "[encoded data removed]",
      "text/plain": [
       "<Figure size 1008x720 with 1 Axes>"
      ]
     },
     "metadata": {},
     "output_type": "display_data"
    }
   ],
   "source": [
    "import matplotlib.pyplot as plt\n",
    "gbm_cv3.varimp_plot()"
   ]
  }
 ],
 "metadata": {
  "kernelspec": {
   "display_name": "Python 2",
   "language": "python",
   "name": "python2"
  },
  "language_info": {
   "codemirror_mode": {
    "name": "ipython",
    "version": 2
   },
   "file_extension": ".py",
   "mimetype": "text/x-python",
   "name": "python",
   "nbconvert_exporter": "python",
   "pygments_lexer": "ipython2",
   "version": "2.7.14"
  }
 },
 "nbformat": 4,
 "nbformat_minor": 2
}
