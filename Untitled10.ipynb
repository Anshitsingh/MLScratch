{
 "cells": [
  {
   "cell_type": "code",
   "execution_count": 1,
   "metadata": {},
   "outputs": [
    {
     "data": {
      "text/plain": [
       "(1599, 12)"
      ]
     },
     "execution_count": 1,
     "metadata": {},
     "output_type": "execute_result"
    }
   ],
   "source": [
    "import pandas as pd\n",
    "import numpy as np\n",
    "import math \n",
    "from sklearn import datasets\n",
    "\n",
    "d=pd.read_csv(\"/home/jash/Desktop/ASS1/winequality-red.csv\",delimiter=';')\n",
    "da=pd.DataFrame(d)\n",
    "da.shape\n",
    "x=da.iloc[:,:-1]\n",
    "data=pd.DataFrame(x)\n",
    "q=da.iloc[:,-1:]\n",
    "target=pd.DataFrame(q)\n",
    "i=(len(da))\n",
    "x.loc[:]['b_values']=np.ones((i,1))\n",
    "x.shape"
   ]
  },
  {
   "cell_type": "code",
   "execution_count": 2,
   "metadata": {
    "collapsed": true
   },
   "outputs": [],
   "source": [
    "def train_test_split(data,target,train_fraction):\n",
    "    x=math.ceil(train_fraction*len(target))\n",
    "    train_data=pd.DataFrame(data.iloc[:x,:])\n",
    "    train_target=pd.DataFrame(target.iloc[:x,:])\n",
    "    test_data=pd.DataFrame(data.iloc[x:,:])\n",
    "    test_target=pd.DataFrame(target.iloc[x:,:])\n",
    "    return train_data,train_target,test_data,test_target\n",
    "    "
   ]
  },
  {
   "cell_type": "code",
   "execution_count": 3,
   "metadata": {
    "collapsed": true
   },
   "outputs": [],
   "source": [
    "train_data,train_target,test_data,test_target=train_test_split(data,target,.8)"
   ]
  },
  {
   "cell_type": "code",
   "execution_count": 32,
   "metadata": {},
   "outputs": [
    {
     "data": {
      "text/plain": [
       "(1, 12)"
      ]
     },
     "execution_count": 32,
     "metadata": {},
     "output_type": "execute_result"
    }
   ],
   "source": [
    "features=len(train_data.columns)\n",
    "weights=np.ones((1,features))\n",
    "weights.shape"
   ]
  },
  {
   "cell_type": "code",
   "execution_count": 43,
   "metadata": {},
   "outputs": [],
   "source": [
    "def stochastic_grad_descent_linear(data,target,weights,alpha,numiterations):\n",
    "    m=len(target)\n",
    "    \n",
    "    for k in range(numiterations):\n",
    "        f=weights.T\n",
    "        predicted=(data.dot(f))\n",
    "        diff=np.subtract(target,predicted)\n",
    "        mse=np.sum((diff)**2)/(2*m)\n",
    "        delta=1e-1\n",
    "        \n",
    "        \n",
    "        \n",
    "        if(mse>delta):\n",
    "            for i in range(m):            \n",
    "                for j in range(features):\n",
    "                    gradient=(data.iloc[i][j])*(np.subtract(target.iloc[i],predicted.iloc[i]))/m\n",
    "                    weights[0][j]=weights[0][j]+alpha*gradient\n",
    "                gradient_b=(target.iloc[i]-predicted.iloc[i])/m\n",
    "                weights[0][features]=weights[0][features]+alpha*gradient_b\n",
    "                    \n",
    "                predicted=(data.dot((weights).T))\n",
    "                \n",
    "                print(data.iloc[i][j])\n",
    "                diff=np.subtract(target,predicted)\n",
    "                mse=np.sum((diff)**2)/(2*m)\n",
    "        alpha=alpha/2\n",
    "        print(k)\n",
    "        \n",
    "        \n",
    "        \n",
    "     \n",
    "    return weights"
   ]
  },
  {
   "cell_type": "code",
   "execution_count": 44,
   "metadata": {},
   "outputs": [],
   "source": [
    "def batch_gradient_descent_linear(data,target,weights,alpha,numiterations):\n",
    "    m=len(target)\n",
    "    \n",
    "    for i in range(numiterations):\n",
    "        predicted=(data.dot(np.transpose(weights)))\n",
    "        \n",
    "        diff=np.subtract(target,predicted)\n",
    "        mse=np.sum((diff)**2)/(2*m)\n",
    "        \n",
    "        delta=1e-3\n",
    "        if(mse>delta):\n",
    "            x=np.subtract(target,predicted)\n",
    "            gradient=np.sum((np.transpose(data)).dot(x))\n",
    "            trans=np.transpose(weights)\n",
    "            trans=trans-alpha*gradient/m\n",
    "            weights=np.transpose(trans)\n",
    "            predicted=(data.dot(np.transpose(weights)))\n",
    "            diff=target-predicted\n",
    "            mse=np.sum((diff)**2)/(2*m)\n",
    "        \n",
    "        alpha=alpha/2\n",
    "        \n",
    "            \n",
    "    return weights"
   ]
  },
  {
   "cell_type": "code",
   "execution_count": 45,
   "metadata": {},
   "outputs": [
    {
     "name": "stdout",
     "output_type": "stream",
     "text": [
      "              0\n",
      "0      70.54380\n",
      "1     119.05480\n",
      "2      95.69900\n",
      "3     106.55300\n",
      "4      70.54380\n",
      "5      78.40280\n",
      "6      99.38540\n",
      "7      61.06960\n",
      "8      52.89980\n",
      "9     150.17880\n",
      "10    104.27290\n",
      "11    150.17880\n",
      "12     98.89830\n",
      "13     64.33140\n",
      "14    225.91460\n",
      "15    228.07860\n",
      "16    165.77890\n",
      "17     98.69480\n",
      "18     62.43340\n",
      "19     99.18790\n",
      "20    115.79380\n",
      "21    120.55020\n",
      "22     72.82260\n",
      "23    102.58080\n",
      "24     86.68180\n",
      "25     57.52550\n",
      "26     40.49620\n",
      "27     72.82260\n",
      "28     74.20720\n",
      "29     50.29340\n",
      "...         ...\n",
      "1250   87.99414\n",
      "1251  113.16330\n",
      "1252   45.56927\n",
      "1253   44.56169\n",
      "1254   82.52528\n",
      "1255   98.14258\n",
      "1256  127.90699\n",
      "1257  110.76133\n",
      "1258   75.62838\n",
      "1259   75.62838\n",
      "1260  102.58432\n",
      "1261   67.73737\n",
      "1262  128.73826\n",
      "1263   65.69680\n",
      "1264  105.95056\n",
      "1265   78.47664\n",
      "1266   78.47664\n",
      "1267   63.06400\n",
      "1268   97.21568\n",
      "1269  143.17480\n",
      "1270  113.47884\n",
      "1271  115.23250\n",
      "1272   94.56085\n",
      "1273  103.17794\n",
      "1274   80.67640\n",
      "1275  120.58688\n",
      "1276   46.48566\n",
      "1277   38.35036\n",
      "1278  120.58688\n",
      "1279   41.45680\n",
      "\n",
      "[1280 rows x 1 columns]\n"
     ]
    },
    {
     "ename": "ValueError",
     "evalue": "The truth value of a Series is ambiguous. Use a.empty, a.bool(), a.item(), a.any() or a.all().",
     "output_type": "error",
     "traceback": [
      "\u001b[0;31m---------------------------------------------------------------------------\u001b[0m",
      "\u001b[0;31mValueError\u001b[0m                                Traceback (most recent call last)",
      "\u001b[0;32m<ipython-input-45-0479ecae798a>\u001b[0m in \u001b[0;36m<module>\u001b[0;34m()\u001b[0m\n\u001b[1;32m     26\u001b[0m     \u001b[0;32mreturn\u001b[0m \u001b[0mpredicted\u001b[0m\u001b[0;34m,\u001b[0m\u001b[0mmse\u001b[0m\u001b[0;34m\u001b[0m\u001b[0m\n\u001b[1;32m     27\u001b[0m \u001b[0;34m\u001b[0m\u001b[0m\n\u001b[0;32m---> 28\u001b[0;31m \u001b[0mmse\u001b[0m\u001b[0;34m,\u001b[0m\u001b[0mweights\u001b[0m\u001b[0;34m=\u001b[0m\u001b[0mlinear_regression_fit\u001b[0m\u001b[0;34m(\u001b[0m\u001b[0mtrain_data\u001b[0m\u001b[0;34m,\u001b[0m\u001b[0mtrain_target\u001b[0m\u001b[0;34m)\u001b[0m\u001b[0;34m\u001b[0m\u001b[0m\n\u001b[0m\u001b[1;32m     29\u001b[0m \u001b[0;34m\u001b[0m\u001b[0m\n\u001b[1;32m     30\u001b[0m \u001b[0;34m\u001b[0m\u001b[0m\n",
      "\u001b[0;32m<ipython-input-45-0479ecae798a>\u001b[0m in \u001b[0;36mlinear_regression_fit\u001b[0;34m(data_train, target_train)\u001b[0m\n\u001b[1;32m     11\u001b[0m \u001b[0;34m\u001b[0m\u001b[0m\n\u001b[1;32m     12\u001b[0m \u001b[0;34m\u001b[0m\u001b[0m\n\u001b[0;32m---> 13\u001b[0;31m     \u001b[0mweights\u001b[0m\u001b[0;34m=\u001b[0m\u001b[0mstochastic_grad_descent_linear\u001b[0m\u001b[0;34m(\u001b[0m\u001b[0mdata\u001b[0m\u001b[0;34m,\u001b[0m\u001b[0mtarget\u001b[0m\u001b[0;34m,\u001b[0m\u001b[0mweights\u001b[0m\u001b[0;34m,\u001b[0m\u001b[0malpha\u001b[0m\u001b[0;34m,\u001b[0m\u001b[0mnumiterations\u001b[0m\u001b[0;34m)\u001b[0m\u001b[0;34m\u001b[0m\u001b[0m\n\u001b[0m\u001b[1;32m     14\u001b[0m     \u001b[0mpredicted\u001b[0m\u001b[0;34m=\u001b[0m\u001b[0;34m(\u001b[0m\u001b[0mdata_train\u001b[0m\u001b[0;34m.\u001b[0m\u001b[0mdot\u001b[0m\u001b[0;34m(\u001b[0m\u001b[0mnp\u001b[0m\u001b[0;34m.\u001b[0m\u001b[0mtranspose\u001b[0m\u001b[0;34m(\u001b[0m\u001b[0mweights\u001b[0m\u001b[0;34m)\u001b[0m\u001b[0;34m)\u001b[0m\u001b[0;34m)\u001b[0m\u001b[0;34m\u001b[0m\u001b[0m\n\u001b[1;32m     15\u001b[0m     \u001b[0mm\u001b[0m\u001b[0;34m=\u001b[0m\u001b[0mlen\u001b[0m\u001b[0;34m(\u001b[0m\u001b[0mtarget\u001b[0m\u001b[0;34m)\u001b[0m\u001b[0;34m\u001b[0m\u001b[0m\n",
      "\u001b[0;32m<ipython-input-43-b3f9b07d0ac1>\u001b[0m in \u001b[0;36mstochastic_grad_descent_linear\u001b[0;34m(data, target, weights, alpha, numiterations)\u001b[0m\n\u001b[1;32m     12\u001b[0m \u001b[0;34m\u001b[0m\u001b[0m\n\u001b[1;32m     13\u001b[0m \u001b[0;34m\u001b[0m\u001b[0m\n\u001b[0;32m---> 14\u001b[0;31m         \u001b[0;32mif\u001b[0m\u001b[0;34m(\u001b[0m\u001b[0mmse\u001b[0m\u001b[0;34m>\u001b[0m\u001b[0mdelta\u001b[0m\u001b[0;34m)\u001b[0m\u001b[0;34m:\u001b[0m\u001b[0;34m\u001b[0m\u001b[0m\n\u001b[0m\u001b[1;32m     15\u001b[0m             \u001b[0;32mfor\u001b[0m \u001b[0mi\u001b[0m \u001b[0;32min\u001b[0m \u001b[0mrange\u001b[0m\u001b[0;34m(\u001b[0m\u001b[0mm\u001b[0m\u001b[0;34m)\u001b[0m\u001b[0;34m:\u001b[0m\u001b[0;34m\u001b[0m\u001b[0m\n\u001b[1;32m     16\u001b[0m                 \u001b[0;32mfor\u001b[0m \u001b[0mj\u001b[0m \u001b[0;32min\u001b[0m \u001b[0mrange\u001b[0m\u001b[0;34m(\u001b[0m\u001b[0mfeatures\u001b[0m\u001b[0;34m)\u001b[0m\u001b[0;34m:\u001b[0m\u001b[0;34m\u001b[0m\u001b[0m\n",
      "\u001b[0;32m~/anaconda3/lib/python3.6/site-packages/pandas/core/generic.py\u001b[0m in \u001b[0;36m__nonzero__\u001b[0;34m(self)\u001b[0m\n\u001b[1;32m    953\u001b[0m         raise ValueError(\"The truth value of a {0} is ambiguous. \"\n\u001b[1;32m    954\u001b[0m                          \u001b[0;34m\"Use a.empty, a.bool(), a.item(), a.any() or a.all().\"\u001b[0m\u001b[0;34m\u001b[0m\u001b[0m\n\u001b[0;32m--> 955\u001b[0;31m                          .format(self.__class__.__name__))\n\u001b[0m\u001b[1;32m    956\u001b[0m \u001b[0;34m\u001b[0m\u001b[0m\n\u001b[1;32m    957\u001b[0m     \u001b[0m__bool__\u001b[0m \u001b[0;34m=\u001b[0m \u001b[0m__nonzero__\u001b[0m\u001b[0;34m\u001b[0m\u001b[0m\n",
      "\u001b[0;31mValueError\u001b[0m: The truth value of a Series is ambiguous. Use a.empty, a.bool(), a.item(), a.any() or a.all()."
     ]
    }
   ],
   "source": [
    "def linear_regression_fit(data_train,target_train):\n",
    "    data=data_train\n",
    "    target=target_train\n",
    "    \n",
    "    x=len(data.columns)\n",
    "    weights=np.ones((1,x))\n",
    "    alpha=1\n",
    "    numiterations=10\n",
    "    m=weights.T\n",
    "    predicted=(data_train.dot(m))\n",
    "    \n",
    "    \n",
    "    weights=stochastic_grad_descent_linear(data,target,weights,alpha,numiterations)\n",
    "    predicted=(data_train.dot(np.transpose(weights)))\n",
    "    m=len(target)\n",
    "    diff=np.subtract(target,predicted)\n",
    "    mse=np.sum((diff)**2)/(2*m)\n",
    "    return mse,weights\n",
    "\n",
    "\n",
    "\n",
    "def linear_regression_predict(data_test,target_test,weights):\n",
    "    predicted=(data_test.dot(np.transpose(weights)))\n",
    "    diff=np.subtract(target_test,predicted)\n",
    "    mse=np.sum((diff)**2)/(2*m)\n",
    "    return predicted,mse\n",
    "\n",
    "mse,weights=linear_regression_fit(train_data,train_target)\n",
    "\n",
    "   \n",
    "        "
   ]
  },
  {
   "cell_type": "code",
   "execution_count": null,
   "metadata": {
    "collapsed": true
   },
   "outputs": [],
   "source": []
  }
 ],
 "metadata": {
  "kernelspec": {
   "display_name": "Python 3",
   "language": "python",
   "name": "python3"
  },
  "language_info": {
   "codemirror_mode": {
    "name": "ipython",
    "version": 3
   },
   "file_extension": ".py",
   "mimetype": "text/x-python",
   "name": "python",
   "nbconvert_exporter": "python",
   "pygments_lexer": "ipython3",
   "version": "3.6.3"
  }
 },
 "nbformat": 4,
 "nbformat_minor": 2
}
