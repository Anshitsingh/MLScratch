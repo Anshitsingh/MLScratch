{
 "cells": [
  {
   "cell_type": "code",
   "execution_count": 3,
   "metadata": {},
   "outputs": [],
   "source": [
    "import pandas as pd\n",
    "import numpy as np\n",
    "import os\n",
    "from os import listdir\n",
    "a=pd.read_csv(\"/home/jash/Desktop/capstone/data_after_inception.csv\")\n",
    "a=pd.DataFrame(data=a,index=None)\n"
   ]
  },
  {
   "cell_type": "code",
   "execution_count": 4,
   "metadata": {},
   "outputs": [
    {
     "name": "stderr",
     "output_type": "stream",
     "text": [
      "/home/jash/anaconda3/envs/py27/lib/python2.7/site-packages/sklearn/cross_validation.py:41: DeprecationWarning: This module was deprecated in version 0.18 in favor of the model_selection module into which all the refactored classes and functions are moved. Also note that the interface of the new CV iterators are different from that of this module. This module will be removed in 0.20.\n",
      "  \"This module will be removed in 0.20.\", DeprecationWarning)\n"
     ]
    }
   ],
   "source": [
    "from sklearn.ensemble import RandomForestClassifier\n",
    "from sklearn.datasets import make_classification\n",
    "from sklearn.cross_validation import train_test_split"
   ]
  },
  {
   "cell_type": "code",
   "execution_count": 5,
   "metadata": {
    "scrolled": true
   },
   "outputs": [
    {
     "name": "stdout",
     "output_type": "stream",
     "text": [
      "0    miniature_poodle\n",
      "1    miniature_poodle\n",
      "2    miniature_poodle\n",
      "3    miniature_poodle\n",
      "4    miniature_poodle\n",
      "Name: 2048, dtype: object\n"
     ]
    }
   ],
   "source": [
    "\n",
    "df_x=a.iloc[:,1:-1]\n",
    "df_y=a.iloc[:,2049]\n",
    "print df_y.head()"
   ]
  },
  {
   "cell_type": "code",
   "execution_count": 9,
   "metadata": {
    "scrolled": true
   },
   "outputs": [
    {
     "name": "stdout",
     "output_type": "stream",
     "text": [
      "Accuracy 50   is: 0.568476400098\n",
      "Accuracy 100   is: 0.594399608706\n",
      "Accuracy 150   is: 0.602836879433\n",
      "Accuracy 200   is: 0.607483492296\n",
      "Accuracy 250   is: 0.614453411592\n",
      "Accuracy 300   is: 0.615431645879\n",
      "Accuracy 350   is: 0.620078258743\n",
      "Accuracy 400   is: 0.62521398875\n",
      "Accuracy 450   is: 0.625091709464\n"
     ]
    }
   ],
   "source": [
    "\n",
    "x_train, x_test, y_train, y_test = train_test_split(df_x, df_y, test_size=0.2, random_state=5)\n",
    "Accuracy=[]\n",
    "k=50\n",
    "while (k<500):\n",
    "    \n",
    "    rf=RandomForestClassifier(n_estimators=k)\n",
    "    rf.fit(x_train,y_train)\n",
    "    pred=rf.predict(x_test)\n",
    "    p=len(pred)\n",
    "    s=y_test.values\n",
    "    count=0\n",
    "    for i in range(p):\n",
    "        if pred[i]==s[i]:\n",
    "            count=count+1.0\n",
    "    m=(float(count/p))\n",
    "    Accuracy.append(m)\n",
    "                 \n",
    "    print \"Accuracy\",k,\"  is:\", m\n",
    "    k=k+50"
   ]
  }
 ],
 "metadata": {
  "kernelspec": {
   "display_name": "Python 2",
   "language": "python",
   "name": "python2"
  },
  "language_info": {
   "codemirror_mode": {
    "name": "ipython",
    "version": 2
   },
   "file_extension": ".py",
   "mimetype": "text/x-python",
   "name": "python",
   "nbconvert_exporter": "python",
   "pygments_lexer": "ipython2",
   "version": "2.7.14"
  }
 },
 "nbformat": 4,
 "nbformat_minor": 2
}
