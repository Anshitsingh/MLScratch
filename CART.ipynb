{
 "cells": [
  {
   "cell_type": "code",
   "execution_count": 1,
   "metadata": {},
   "outputs": [
    {
     "name": "stderr",
     "output_type": "stream",
     "text": [
      "Skipping line 267909: expected 33 fields, saw 34\n",
      "\n",
      "Skipping line 299539: expected 33 fields, saw 34\n",
      "\n",
      "/home/jash/anaconda3/envs/py27/lib/python2.7/site-packages/IPython/core/interactiveshell.py:2718: DtypeWarning: Columns (5,17,18,19,20) have mixed types. Specify dtype option on import or set low_memory=False.\n",
      "  interactivity=interactivity, compiler=compiler, result=result)\n"
     ]
    }
   ],
   "source": [
    "import pandas as pd\n",
    "a=pd.read_table(\"/home/jash/Desktop/petplan/Profitability1.txt\", sep='|', lineterminator='\\n', error_bad_lines=False)"
   ]
  },
  {
   "cell_type": "code",
   "execution_count": 2,
   "metadata": {},
   "outputs": [
    {
     "name": "stdout",
     "output_type": "stream",
     "text": [
      "   LossRatio  Duration            PetId   StartDate     EndDate LastPolicyRef  \\\n",
      "0   2.394985       830   US1673042Louie  2016-04-19  2019-04-18        620205   \n",
      "1   0.000000      1171   US275863PeeWee  2015-05-14  2019-05-13        635214   \n",
      "2   0.000000       347  CAN288664Stella  2017-08-15  2018-08-14        109286   \n",
      "3   0.673642      1297   US117714Fozzie  2015-01-08  2019-01-07        558292   \n",
      "4   0.000000        61    CAN131026Nala  2015-06-26  2015-08-25         19599   \n",
      "\n",
      "   TotalClaimsAmtPaid  TotalEarnedPremium                BreedName  \\\n",
      "0            3408.032         1422.986575  American Cocker Spaniel   \n",
      "1                 NaN          715.954795    Yorkshire Terrier Mix   \n",
      "2               0.000          282.125260       Domestic Shorthair   \n",
      "3            1183.796         1757.306521              Selkirk Rex   \n",
      "4                 NaN           63.553333      Domestic Mediumhair   \n",
      "\n",
      "   Currentage ...    Surname  GivenName CustomerMailingAddr_Addr1  \\\n",
      "0         2.0 ...       Cook      Linda             5 Lakeview Rd   \n",
      "1         5.0 ...  Heuberger        Pat             25 Harvest St   \n",
      "2         0.0 ...        Roi     Carrie    202-398 Eglinton Ave E   \n",
      "3         9.0 ...       Winn   Kimberly   7141 Wilderness Pack Ct   \n",
      "4         5.0 ...    Johnson      Tylor         27 Rafferty court   \n",
      "\n",
      "  CustomerMailingAddr_City CustomerMailingAddr_StateProvCd  \\\n",
      "0             Lambertville                              NJ   \n",
      "1                Bradenton                              FL   \n",
      "2                  Toronto                              ON   \n",
      "3          North Las Vegas                              NV   \n",
      "4              Sylvan Lake                              AB   \n",
      "\n",
      "   CustomerMailingAddr_PostalCode           Quadrant claimdurationInception  \\\n",
      "0                      08530-3102  HighTenure-HighLR                  587.0   \n",
      "1                      34207-4905   HighTenure-LowLR                    NaN   \n",
      "2                         M4P 3H8    LowTenure-LowLR                    NaN   \n",
      "3                      89084-5214  HighTenure-HighLR                  615.0   \n",
      "4                         t4s 0k3    LowTenure-LowLR                    NaN   \n",
      "\n",
      "  churn\\r  L  \n",
      "0       0  1  \n",
      "1       0  0  \n",
      "2       0  0  \n",
      "3       0  1  \n",
      "4       1  0  \n",
      "\n",
      "[5 rows x 34 columns]\n"
     ]
    }
   ],
   "source": [
    "data=pd.DataFrame(data=a,index=None)\n",
    "data = data.sample(frac=1).reset_index(drop=True)\n",
    "import math\n",
    "import numpy as np\n",
    "data['LossRatio'].fillna(0, inplace=True)\n",
    "data['L']=0\n",
    "data.loc[data['LossRatio'] >.57 ,'L'] = 1\n",
    "data.to_csv(\"/home/jash/Desktop/petplan/Profitability.csv\")\n",
    "Y=data['L']\n",
    "y=pd.DataFrame(Y)\n",
    "x=pd.DataFrame(data)\n",
    "\n",
    "m=x.loc[x['PolicyForm']!='Introductory']\n",
    "q=pd.DataFrame(m)\n",
    "m2=q.loc[q['PolicyForm']!='Intro']\n",
    "x=pd.DataFrame(m2)\n",
    "\n",
    "print x.head()"
   ]
  },
  {
   "cell_type": "code",
   "execution_count": 3,
   "metadata": {},
   "outputs": [
    {
     "data": {
      "text/plain": [
       "277273"
      ]
     },
     "execution_count": 3,
     "metadata": {},
     "output_type": "execute_result"
    }
   ],
   "source": [
    "len(x)"
   ]
  },
  {
   "cell_type": "code",
   "execution_count": 4,
   "metadata": {},
   "outputs": [
    {
     "data": {
      "text/plain": [
       "Index([u'LossRatio', u'Duration', u'PetId', u'StartDate', u'EndDate',\n",
       "       u'LastPolicyRef', u'TotalClaimsAmtPaid', u'TotalEarnedPremium',\n",
       "       u'BreedName', u'Currentage', u'CopayPct', u'Deductible', u'PetType',\n",
       "       u'PolicyForm', u'CarrierCd', u'ClaimNumber', u'ClaimAmount',\n",
       "       u'ClaimDetails', u'ConditionGrp', u'Claimcodecategory', u'Severity',\n",
       "       u'CustomerNumber', u'Country', u'PhoneNumber', u'Surname', u'GivenName',\n",
       "       u'CustomerMailingAddr_Addr1', u'CustomerMailingAddr_City',\n",
       "       u'CustomerMailingAddr_StateProvCd', u'CustomerMailingAddr_PostalCode',\n",
       "       u'Quadrant', u'claimdurationInception', u'churn\\r', u'L'],\n",
       "      dtype='object')"
      ]
     },
     "execution_count": 4,
     "metadata": {},
     "output_type": "execute_result"
    }
   ],
   "source": [
    "x.columns"
   ]
  },
  {
   "cell_type": "code",
   "execution_count": 5,
   "metadata": {},
   "outputs": [
    {
     "data": {
      "text/plain": [
       "LossRatio                               0\n",
       "Duration                                0\n",
       "PetId                                   0\n",
       "StartDate                               0\n",
       "EndDate                                 0\n",
       "LastPolicyRef                           0\n",
       "TotalClaimsAmtPaid                 115246\n",
       "TotalEarnedPremium                      0\n",
       "BreedName                              24\n",
       "Currentage                              0\n",
       "CopayPct                                0\n",
       "Deductible                              0\n",
       "PetType                                 0\n",
       "PolicyForm                              0\n",
       "CarrierCd                               0\n",
       "ClaimNumber                        149283\n",
       "ClaimAmount                        149283\n",
       "ClaimDetails                       149283\n",
       "ConditionGrp                       149283\n",
       "Claimcodecategory                  149283\n",
       "Severity                           149581\n",
       "CustomerNumber                        336\n",
       "Country                               336\n",
       "PhoneNumber                           671\n",
       "Surname                               377\n",
       "GivenName                             384\n",
       "CustomerMailingAddr_Addr1             336\n",
       "CustomerMailingAddr_City              336\n",
       "CustomerMailingAddr_StateProvCd       344\n",
       "CustomerMailingAddr_PostalCode        336\n",
       "Quadrant                                0\n",
       "claimdurationInception             149283\n",
       "churn\\r                                 0\n",
       "L                                       0\n",
       "dtype: int64"
      ]
     },
     "execution_count": 5,
     "metadata": {},
     "output_type": "execute_result"
    }
   ],
   "source": [
    "x.isnull().sum()"
   ]
  },
  {
   "cell_type": "code",
   "execution_count": 6,
   "metadata": {},
   "outputs": [],
   "source": [
    "x.drop(['LossRatio'],axis=1,inplace=True)\n",
    "x.drop(['CustomerNumber','PhoneNumber','Surname','GivenName','CustomerMailingAddr_Addr1','CustomerMailingAddr_City','CustomerMailingAddr_StateProvCd',\n",
    "       'CustomerMailingAddr_PostalCode','PetId','StartDate','EndDate','LastPolicyRef'],axis=1,inplace=True)"
   ]
  },
  {
   "cell_type": "code",
   "execution_count": 7,
   "metadata": {},
   "outputs": [],
   "source": [
    "p=pd.DataFrame(x)"
   ]
  },
  {
   "cell_type": "code",
   "execution_count": 8,
   "metadata": {},
   "outputs": [
    {
     "data": {
      "text/plain": [
       "533"
      ]
     },
     "execution_count": 8,
     "metadata": {},
     "output_type": "execute_result"
    }
   ],
   "source": [
    "len(p['BreedName'].unique())"
   ]
  },
  {
   "cell_type": "code",
   "execution_count": 9,
   "metadata": {
    "scrolled": false
   },
   "outputs": [
    {
     "data": {
      "text/plain": [
       "Duration                       0\n",
       "TotalClaimsAmtPaid        115246\n",
       "TotalEarnedPremium             0\n",
       "BreedName                     24\n",
       "Currentage                     0\n",
       "CopayPct                       0\n",
       "Deductible                     0\n",
       "PetType                        0\n",
       "PolicyForm                     0\n",
       "CarrierCd                      0\n",
       "ClaimNumber               149283\n",
       "ClaimAmount               149283\n",
       "ClaimDetails              149283\n",
       "ConditionGrp              149283\n",
       "Claimcodecategory         149283\n",
       "Severity                  149581\n",
       "Country                      336\n",
       "Quadrant                       0\n",
       "claimdurationInception    149283\n",
       "churn\\r                        0\n",
       "L                              0\n",
       "dtype: int64"
      ]
     },
     "execution_count": 9,
     "metadata": {},
     "output_type": "execute_result"
    }
   ],
   "source": [
    "p.isnull().sum()"
   ]
  },
  {
   "cell_type": "code",
   "execution_count": 10,
   "metadata": {},
   "outputs": [],
   "source": [
    "p.drop(['ClaimNumber','ClaimAmount','Severity','ClaimDetails','ConditionGrp','Claimcodecategory','claimdurationInception'],axis=1,inplace=True)"
   ]
  },
  {
   "cell_type": "code",
   "execution_count": 11,
   "metadata": {},
   "outputs": [
    {
     "data": {
      "text/plain": [
       "Duration                   0\n",
       "TotalClaimsAmtPaid    115246\n",
       "TotalEarnedPremium         0\n",
       "BreedName                 24\n",
       "Currentage                 0\n",
       "CopayPct                   0\n",
       "Deductible                 0\n",
       "PetType                    0\n",
       "PolicyForm                 0\n",
       "CarrierCd                  0\n",
       "Country                  336\n",
       "Quadrant                   0\n",
       "churn\\r                    0\n",
       "L                          0\n",
       "dtype: int64"
      ]
     },
     "execution_count": 11,
     "metadata": {},
     "output_type": "execute_result"
    }
   ],
   "source": [
    "p.isnull().sum()"
   ]
  },
  {
   "cell_type": "code",
   "execution_count": 12,
   "metadata": {},
   "outputs": [],
   "source": [
    "p.drop(['TotalClaimsAmtPaid'],axis=1,inplace=True)"
   ]
  },
  {
   "cell_type": "code",
   "execution_count": 13,
   "metadata": {},
   "outputs": [
    {
     "data": {
      "text/plain": [
       "Duration                0\n",
       "TotalEarnedPremium      0\n",
       "BreedName              24\n",
       "Currentage              0\n",
       "CopayPct                0\n",
       "Deductible              0\n",
       "PetType                 0\n",
       "PolicyForm              0\n",
       "CarrierCd               0\n",
       "Country               336\n",
       "Quadrant                0\n",
       "churn\\r                 0\n",
       "L                       0\n",
       "dtype: int64"
      ]
     },
     "execution_count": 13,
     "metadata": {},
     "output_type": "execute_result"
    }
   ],
   "source": [
    "p.isnull().sum()"
   ]
  },
  {
   "cell_type": "code",
   "execution_count": 14,
   "metadata": {},
   "outputs": [
    {
     "data": {
      "text/plain": [
       "277273"
      ]
     },
     "execution_count": 14,
     "metadata": {},
     "output_type": "execute_result"
    }
   ],
   "source": [
    "len(p)"
   ]
  },
  {
   "cell_type": "code",
   "execution_count": 15,
   "metadata": {},
   "outputs": [],
   "source": [
    "p.dropna(how='any',inplace=True)"
   ]
  },
  {
   "cell_type": "code",
   "execution_count": 16,
   "metadata": {},
   "outputs": [],
   "source": [
    "p.drop(['churn\\r'],axis=1,inplace=True)"
   ]
  },
  {
   "cell_type": "code",
   "execution_count": 17,
   "metadata": {},
   "outputs": [
    {
     "data": {
      "text/plain": [
       "Duration              0\n",
       "TotalEarnedPremium    0\n",
       "BreedName             0\n",
       "Currentage            0\n",
       "CopayPct              0\n",
       "Deductible            0\n",
       "PetType               0\n",
       "PolicyForm            0\n",
       "CarrierCd             0\n",
       "Country               0\n",
       "Quadrant              0\n",
       "L                     0\n",
       "dtype: int64"
      ]
     },
     "execution_count": 17,
     "metadata": {},
     "output_type": "execute_result"
    }
   ],
   "source": [
    "p.isnull().sum()"
   ]
  },
  {
   "cell_type": "code",
   "execution_count": 18,
   "metadata": {
    "scrolled": true
   },
   "outputs": [
    {
     "data": {
      "text/plain": [
       "531"
      ]
     },
     "execution_count": 18,
     "metadata": {},
     "output_type": "execute_result"
    }
   ],
   "source": [
    "len(p['BreedName'].unique())"
   ]
  },
  {
   "cell_type": "code",
   "execution_count": 19,
   "metadata": {},
   "outputs": [
    {
     "data": {
      "text/plain": [
       "4"
      ]
     },
     "execution_count": 19,
     "metadata": {},
     "output_type": "execute_result"
    }
   ],
   "source": [
    "len(p['PetType'].unique())"
   ]
  },
  {
   "cell_type": "code",
   "execution_count": 20,
   "metadata": {
    "scrolled": true
   },
   "outputs": [
    {
     "data": {
      "text/plain": [
       "10"
      ]
     },
     "execution_count": 20,
     "metadata": {},
     "output_type": "execute_result"
    }
   ],
   "source": [
    "len(p['PolicyForm'].unique())"
   ]
  },
  {
   "cell_type": "code",
   "execution_count": 21,
   "metadata": {},
   "outputs": [
    {
     "data": {
      "text/plain": [
       "10"
      ]
     },
     "execution_count": 21,
     "metadata": {},
     "output_type": "execute_result"
    }
   ],
   "source": [
    "len(p['PolicyForm'].unique())"
   ]
  },
  {
   "cell_type": "code",
   "execution_count": 22,
   "metadata": {},
   "outputs": [],
   "source": [
    "p.drop(['BreedName'],axis=1,inplace=True)"
   ]
  },
  {
   "cell_type": "code",
   "execution_count": 23,
   "metadata": {},
   "outputs": [
    {
     "data": {
      "text/plain": [
       "Duration              0\n",
       "TotalEarnedPremium    0\n",
       "Currentage            0\n",
       "CopayPct              0\n",
       "Deductible            0\n",
       "PetType               0\n",
       "PolicyForm            0\n",
       "CarrierCd             0\n",
       "Country               0\n",
       "Quadrant              0\n",
       "L                     0\n",
       "dtype: int64"
      ]
     },
     "execution_count": 23,
     "metadata": {},
     "output_type": "execute_result"
    }
   ],
   "source": [
    "p.isnull().sum()"
   ]
  },
  {
   "cell_type": "code",
   "execution_count": 24,
   "metadata": {},
   "outputs": [
    {
     "data": {
      "text/plain": [
       "Index([u'Duration', u'TotalEarnedPremium', u'Currentage', u'CopayPct',\n",
       "       u'Deductible', u'PetType', u'PolicyForm', u'CarrierCd', u'Country',\n",
       "       u'Quadrant', u'L'],\n",
       "      dtype='object')"
      ]
     },
     "execution_count": 24,
     "metadata": {},
     "output_type": "execute_result"
    }
   ],
   "source": [
    "p.columns"
   ]
  },
  {
   "cell_type": "code",
   "execution_count": 25,
   "metadata": {},
   "outputs": [],
   "source": [
    "cols_to_transform = ['PetType','PolicyForm','Country','Quadrant']\n",
    "df = pd.get_dummies(p)"
   ]
  },
  {
   "cell_type": "code",
   "execution_count": 26,
   "metadata": {},
   "outputs": [
    {
     "data": {
      "text/html": [
       "<div>\n",
       "<style scoped>\n",
       "    .dataframe tbody tr th:only-of-type {\n",
       "        vertical-align: middle;\n",
       "    }\n",
       "\n",
       "    .dataframe tbody tr th {\n",
       "        vertical-align: top;\n",
       "    }\n",
       "\n",
       "    .dataframe thead th {\n",
       "        text-align: right;\n",
       "    }\n",
       "</style>\n",
       "<table border=\"1\" class=\"dataframe\">\n",
       "  <thead>\n",
       "    <tr style=\"text-align: right;\">\n",
       "      <th></th>\n",
       "      <th>Duration</th>\n",
       "      <th>TotalEarnedPremium</th>\n",
       "      <th>Currentage</th>\n",
       "      <th>CopayPct</th>\n",
       "      <th>Deductible</th>\n",
       "      <th>L</th>\n",
       "      <th>PetType_Cat</th>\n",
       "      <th>PetType_Dog</th>\n",
       "      <th>PetType_PPCAT001</th>\n",
       "      <th>PetType_PPDOG001</th>\n",
       "      <th>...</th>\n",
       "      <th>CarrierCd_AGR</th>\n",
       "      <th>CarrierCd_ALZ</th>\n",
       "      <th>CarrierCd_CAN</th>\n",
       "      <th>CarrierCd_XLC</th>\n",
       "      <th>Country_CAN</th>\n",
       "      <th>Country_US</th>\n",
       "      <th>Quadrant_HighTenure-HighLR</th>\n",
       "      <th>Quadrant_HighTenure-LowLR</th>\n",
       "      <th>Quadrant_LowTenure-HighLR</th>\n",
       "      <th>Quadrant_LowTenure-LowLR</th>\n",
       "    </tr>\n",
       "  </thead>\n",
       "  <tbody>\n",
       "    <tr>\n",
       "      <th>0</th>\n",
       "      <td>830</td>\n",
       "      <td>1422.986575</td>\n",
       "      <td>2.0</td>\n",
       "      <td>0.9</td>\n",
       "      <td>350</td>\n",
       "      <td>1</td>\n",
       "      <td>0</td>\n",
       "      <td>1</td>\n",
       "      <td>0</td>\n",
       "      <td>0</td>\n",
       "      <td>...</td>\n",
       "      <td>0</td>\n",
       "      <td>0</td>\n",
       "      <td>0</td>\n",
       "      <td>1</td>\n",
       "      <td>0</td>\n",
       "      <td>1</td>\n",
       "      <td>1</td>\n",
       "      <td>0</td>\n",
       "      <td>0</td>\n",
       "      <td>0</td>\n",
       "    </tr>\n",
       "    <tr>\n",
       "      <th>1</th>\n",
       "      <td>1171</td>\n",
       "      <td>715.954795</td>\n",
       "      <td>5.0</td>\n",
       "      <td>0.8</td>\n",
       "      <td>300</td>\n",
       "      <td>0</td>\n",
       "      <td>0</td>\n",
       "      <td>1</td>\n",
       "      <td>0</td>\n",
       "      <td>0</td>\n",
       "      <td>...</td>\n",
       "      <td>0</td>\n",
       "      <td>0</td>\n",
       "      <td>0</td>\n",
       "      <td>1</td>\n",
       "      <td>0</td>\n",
       "      <td>1</td>\n",
       "      <td>0</td>\n",
       "      <td>1</td>\n",
       "      <td>0</td>\n",
       "      <td>0</td>\n",
       "    </tr>\n",
       "    <tr>\n",
       "      <th>2</th>\n",
       "      <td>347</td>\n",
       "      <td>282.125260</td>\n",
       "      <td>0.0</td>\n",
       "      <td>0.9</td>\n",
       "      <td>300</td>\n",
       "      <td>0</td>\n",
       "      <td>1</td>\n",
       "      <td>0</td>\n",
       "      <td>0</td>\n",
       "      <td>0</td>\n",
       "      <td>...</td>\n",
       "      <td>0</td>\n",
       "      <td>0</td>\n",
       "      <td>1</td>\n",
       "      <td>0</td>\n",
       "      <td>1</td>\n",
       "      <td>0</td>\n",
       "      <td>0</td>\n",
       "      <td>0</td>\n",
       "      <td>0</td>\n",
       "      <td>1</td>\n",
       "    </tr>\n",
       "    <tr>\n",
       "      <th>3</th>\n",
       "      <td>1297</td>\n",
       "      <td>1757.306521</td>\n",
       "      <td>9.0</td>\n",
       "      <td>0.9</td>\n",
       "      <td>200</td>\n",
       "      <td>1</td>\n",
       "      <td>1</td>\n",
       "      <td>0</td>\n",
       "      <td>0</td>\n",
       "      <td>0</td>\n",
       "      <td>...</td>\n",
       "      <td>0</td>\n",
       "      <td>0</td>\n",
       "      <td>0</td>\n",
       "      <td>1</td>\n",
       "      <td>0</td>\n",
       "      <td>1</td>\n",
       "      <td>1</td>\n",
       "      <td>0</td>\n",
       "      <td>0</td>\n",
       "      <td>0</td>\n",
       "    </tr>\n",
       "    <tr>\n",
       "      <th>4</th>\n",
       "      <td>61</td>\n",
       "      <td>63.553333</td>\n",
       "      <td>5.0</td>\n",
       "      <td>1.0</td>\n",
       "      <td>200</td>\n",
       "      <td>0</td>\n",
       "      <td>1</td>\n",
       "      <td>0</td>\n",
       "      <td>0</td>\n",
       "      <td>0</td>\n",
       "      <td>...</td>\n",
       "      <td>1</td>\n",
       "      <td>0</td>\n",
       "      <td>0</td>\n",
       "      <td>0</td>\n",
       "      <td>1</td>\n",
       "      <td>0</td>\n",
       "      <td>0</td>\n",
       "      <td>0</td>\n",
       "      <td>0</td>\n",
       "      <td>1</td>\n",
       "    </tr>\n",
       "  </tbody>\n",
       "</table>\n",
       "<p>5 rows × 30 columns</p>\n",
       "</div>"
      ],
      "text/plain": [
       "   Duration  TotalEarnedPremium  Currentage  CopayPct  Deductible  L  \\\n",
       "0       830         1422.986575         2.0       0.9         350  1   \n",
       "1      1171          715.954795         5.0       0.8         300  0   \n",
       "2       347          282.125260         0.0       0.9         300  0   \n",
       "3      1297         1757.306521         9.0       0.9         200  1   \n",
       "4        61           63.553333         5.0       1.0         200  0   \n",
       "\n",
       "   PetType_Cat  PetType_Dog  PetType_PPCAT001  PetType_PPDOG001  \\\n",
       "0            0            1                 0                 0   \n",
       "1            0            1                 0                 0   \n",
       "2            1            0                 0                 0   \n",
       "3            1            0                 0                 0   \n",
       "4            1            0                 0                 0   \n",
       "\n",
       "             ...             CarrierCd_AGR  CarrierCd_ALZ  CarrierCd_CAN  \\\n",
       "0            ...                         0              0              0   \n",
       "1            ...                         0              0              0   \n",
       "2            ...                         0              0              1   \n",
       "3            ...                         0              0              0   \n",
       "4            ...                         1              0              0   \n",
       "\n",
       "   CarrierCd_XLC  Country_CAN  Country_US  Quadrant_HighTenure-HighLR  \\\n",
       "0              1            0           1                           1   \n",
       "1              1            0           1                           0   \n",
       "2              0            1           0                           0   \n",
       "3              1            0           1                           1   \n",
       "4              0            1           0                           0   \n",
       "\n",
       "   Quadrant_HighTenure-LowLR  Quadrant_LowTenure-HighLR  \\\n",
       "0                          0                          0   \n",
       "1                          1                          0   \n",
       "2                          0                          0   \n",
       "3                          0                          0   \n",
       "4                          0                          0   \n",
       "\n",
       "   Quadrant_LowTenure-LowLR  \n",
       "0                         0  \n",
       "1                         0  \n",
       "2                         1  \n",
       "3                         0  \n",
       "4                         1  \n",
       "\n",
       "[5 rows x 30 columns]"
      ]
     },
     "execution_count": 26,
     "metadata": {},
     "output_type": "execute_result"
    }
   ],
   "source": [
    "df.head()"
   ]
  },
  {
   "cell_type": "code",
   "execution_count": 27,
   "metadata": {},
   "outputs": [
    {
     "data": {
      "text/plain": [
       "DecisionTreeClassifier(class_weight=None, criterion='gini', max_depth=None,\n",
       "            max_features=None, max_leaf_nodes=None,\n",
       "            min_impurity_decrease=0.0, min_impurity_split=None,\n",
       "            min_samples_leaf=1, min_samples_split=2,\n",
       "            min_weight_fraction_leaf=0.0, presort=False, random_state=0,\n",
       "            splitter='best')"
      ]
     },
     "execution_count": 27,
     "metadata": {},
     "output_type": "execute_result"
    }
   ],
   "source": [
    "from sklearn.tree import DecisionTreeClassifier\n",
    "dtree=DecisionTreeClassifier(random_state=0)\n",
    "y=df['L']\n",
    "df.drop(['L'],axis=1,inplace=True)\n",
    "import numpy as np\n",
    "from sklearn.model_selection import train_test_split\n",
    "X_train, X_test, y_train, y_test = train_test_split(df, y, test_size=0.33, random_state=42)\n",
    "from sklearn.metrics import roc_auc_score\n",
    "\n",
    "param_grid = {'max_depth': np.arange(5, 10)}\n",
    "from sklearn.model_selection import GridSearchCV\n",
    "tree = GridSearchCV(DecisionTreeClassifier(), param_grid)\n",
    "dtree.fit(X_train,y_train)"
   ]
  },
  {
   "cell_type": "code",
   "execution_count": 28,
   "metadata": {},
   "outputs": [
    {
     "data": {
      "text/plain": [
       "<bound method DecisionTreeClassifier.get_params of DecisionTreeClassifier(class_weight=None, criterion='gini', max_depth=None,\n",
       "            max_features=None, max_leaf_nodes=None,\n",
       "            min_impurity_decrease=0.0, min_impurity_split=None,\n",
       "            min_samples_leaf=1, min_samples_split=2,\n",
       "            min_weight_fraction_leaf=0.0, presort=False, random_state=0,\n",
       "            splitter='best')>"
      ]
     },
     "execution_count": 28,
     "metadata": {},
     "output_type": "execute_result"
    }
   ],
   "source": [
    "dtree.get_params"
   ]
  },
  {
   "cell_type": "code",
   "execution_count": 29,
   "metadata": {},
   "outputs": [
    {
     "data": {
      "image/png": "[encoded data removed]",
      "text/plain": [
       "<IPython.core.display.Image object>"
      ]
     },
     "execution_count": 29,
     "metadata": {},
     "output_type": "execute_result"
    }
   ],
   "source": [
    "from sklearn.externals.six import StringIO  \n",
    "from IPython.display import Image  \n",
    "from sklearn.tree import export_graphviz\n",
    "import pydotplus\n",
    "dot_data = StringIO()\n",
    "export_graphviz(dtree, out_file=dot_data,  \n",
    "                filled=True, rounded=True,\n",
    "                special_characters=True)\n",
    "graph = pydotplus.graph_from_dot_data(dot_data.getvalue())  \n",
    "Image(graph.create_png())"
   ]
  },
  {
   "cell_type": "code",
   "execution_count": 30,
   "metadata": {},
   "outputs": [],
   "source": [
    "y_predict = dtree.predict(X_test)"
   ]
  },
  {
   "cell_type": "code",
   "execution_count": 31,
   "metadata": {},
   "outputs": [
    {
     "data": {
      "text/plain": [
       "1.0"
      ]
     },
     "execution_count": 31,
     "metadata": {},
     "output_type": "execute_result"
    }
   ],
   "source": [
    "from sklearn.metrics import accuracy_score\n",
    "\n",
    "accuracy_score(y_test, y_predict)"
   ]
  },
  {
   "cell_type": "code",
   "execution_count": 32,
   "metadata": {},
   "outputs": [
    {
     "data": {
      "text/html": [
       "<div>\n",
       "<style scoped>\n",
       "    .dataframe tbody tr th:only-of-type {\n",
       "        vertical-align: middle;\n",
       "    }\n",
       "\n",
       "    .dataframe tbody tr th {\n",
       "        vertical-align: top;\n",
       "    }\n",
       "\n",
       "    .dataframe thead th {\n",
       "        text-align: right;\n",
       "    }\n",
       "</style>\n",
       "<table border=\"1\" class=\"dataframe\">\n",
       "  <thead>\n",
       "    <tr style=\"text-align: right;\">\n",
       "      <th></th>\n",
       "      <th>Predicted High Loss</th>\n",
       "      <th>Predicted Low Loss</th>\n",
       "    </tr>\n",
       "  </thead>\n",
       "  <tbody>\n",
       "    <tr>\n",
       "      <th>True High Loss</th>\n",
       "      <td>58220</td>\n",
       "      <td>0</td>\n",
       "    </tr>\n",
       "    <tr>\n",
       "      <th>True Low Loss</th>\n",
       "      <td>0</td>\n",
       "      <td>33162</td>\n",
       "    </tr>\n",
       "  </tbody>\n",
       "</table>\n",
       "</div>"
      ],
      "text/plain": [
       "                Predicted High Loss  Predicted Low Loss\n",
       "True High Loss                58220                   0\n",
       "True Low Loss                     0               33162"
      ]
     },
     "execution_count": 32,
     "metadata": {},
     "output_type": "execute_result"
    }
   ],
   "source": [
    "from sklearn.metrics import confusion_matrix\n",
    "\n",
    "pd.DataFrame(\n",
    "    confusion_matrix(y_test, y_predict),\n",
    "    columns=['Predicted High Loss', 'Predicted Low Loss'],\n",
    "    index=['True High Loss', 'True Low Loss']\n",
    ")"
   ]
  }
 ],
 "metadata": {
  "kernelspec": {
   "display_name": "Python 2",
   "language": "python",
   "name": "python2"
  },
  "language_info": {
   "codemirror_mode": {
    "name": "ipython",
    "version": 2
   },
   "file_extension": ".py",
   "mimetype": "text/x-python",
   "name": "python",
   "nbconvert_exporter": "python",
   "pygments_lexer": "ipython2",
   "version": "2.7.14"
  }
 },
 "nbformat": 4,
 "nbformat_minor": 2
}
