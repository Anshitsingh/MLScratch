{
 "cells": [
  {
   "cell_type": "code",
   "execution_count": 1,
   "metadata": {},
   "outputs": [
    {
     "data": {
      "text/plain": [
       "6"
      ]
     },
     "execution_count": 1,
     "metadata": {},
     "output_type": "execute_result"
    }
   ],
   "source": [
    "import pandas as pd\n",
    "import numpy as np\n",
    "import math \n",
    "from sklearn import datasets\n",
    "\n",
    "train = pd.read_csv(\"~/Desktop/ASS1//train.csv\")\n",
    "\n",
    "data=pd.DataFrame(train,columns=['Pclass','Age','Fare','SibSp','Parch','Survived'])\n",
    "data['Age'].fillna(data['Age'].mean(),inplace=True)\n",
    "target=pd.DataFrame(train,columns=['Survived'])\n",
    "\n",
    "def train_test_split(data,target,train_fraction):\n",
    "    x=int(math.ceil(train_fraction*len(target)))\n",
    "    train_data=pd.DataFrame(data.iloc[:x][:])\n",
    "    train_target=pd.DataFrame(target.iloc[:x][:])\n",
    "    test_data=pd.DataFrame(data.iloc[x:][:])\n",
    "    test_target=pd.DataFrame(target.iloc[x:][:])\n",
    "    return train_data,train_target,test_data,test_target\n",
    "\n",
    "\n",
    "data_train,target_train,data_test,target_test=train_test_split(data,target,.8)\n",
    "features=len(data_train.columns)\n",
    "weights=np.ones((1,features))\n",
    "features\n",
    "\n",
    "\n",
    "\n"
   ]
  },
  {
   "cell_type": "code",
   "execution_count": 2,
   "metadata": {
    "scrolled": true
   },
   "outputs": [
    {
     "data": {
      "text/plain": [
       "Pclass      0\n",
       "Age         0\n",
       "Fare        0\n",
       "SibSp       0\n",
       "Parch       0\n",
       "Survived    0\n",
       "dtype: int64"
      ]
     },
     "execution_count": 2,
     "metadata": {},
     "output_type": "execute_result"
    }
   ],
   "source": [
    "data_train.isnull().sum()"
   ]
  },
  {
   "cell_type": "code",
   "execution_count": 3,
   "metadata": {
    "scrolled": true
   },
   "outputs": [
    {
     "data": {
      "text/plain": [
       "Survived    0\n",
       "dtype: int64"
      ]
     },
     "execution_count": 3,
     "metadata": {},
     "output_type": "execute_result"
    }
   ],
   "source": [
    "target_train.isnull().sum()"
   ]
  },
  {
   "cell_type": "code",
   "execution_count": 4,
   "metadata": {},
   "outputs": [
    {
     "data": {
      "text/html": [
       "<div>\n",
       "<style scoped>\n",
       "    .dataframe tbody tr th:only-of-type {\n",
       "        vertical-align: middle;\n",
       "    }\n",
       "\n",
       "    .dataframe tbody tr th {\n",
       "        vertical-align: top;\n",
       "    }\n",
       "\n",
       "    .dataframe thead th {\n",
       "        text-align: right;\n",
       "    }\n",
       "</style>\n",
       "<table border=\"1\" class=\"dataframe\">\n",
       "  <thead>\n",
       "    <tr style=\"text-align: right;\">\n",
       "      <th></th>\n",
       "      <th>Survived</th>\n",
       "    </tr>\n",
       "  </thead>\n",
       "  <tbody>\n",
       "    <tr>\n",
       "      <th>713</th>\n",
       "      <td>0</td>\n",
       "    </tr>\n",
       "    <tr>\n",
       "      <th>714</th>\n",
       "      <td>0</td>\n",
       "    </tr>\n",
       "    <tr>\n",
       "      <th>715</th>\n",
       "      <td>0</td>\n",
       "    </tr>\n",
       "    <tr>\n",
       "      <th>716</th>\n",
       "      <td>1</td>\n",
       "    </tr>\n",
       "    <tr>\n",
       "      <th>717</th>\n",
       "      <td>1</td>\n",
       "    </tr>\n",
       "  </tbody>\n",
       "</table>\n",
       "</div>"
      ],
      "text/plain": [
       "     Survived\n",
       "713         0\n",
       "714         0\n",
       "715         0\n",
       "716         1\n",
       "717         1"
      ]
     },
     "execution_count": 4,
     "metadata": {},
     "output_type": "execute_result"
    }
   ],
   "source": [
    "target_test.head()"
   ]
  },
  {
   "cell_type": "code",
   "execution_count": 5,
   "metadata": {},
   "outputs": [],
   "source": [
    "data_train['b_values']=1"
   ]
  },
  {
   "cell_type": "code",
   "execution_count": 6,
   "metadata": {},
   "outputs": [
    {
     "data": {
      "text/html": [
       "<div>\n",
       "<style scoped>\n",
       "    .dataframe tbody tr th:only-of-type {\n",
       "        vertical-align: middle;\n",
       "    }\n",
       "\n",
       "    .dataframe tbody tr th {\n",
       "        vertical-align: top;\n",
       "    }\n",
       "\n",
       "    .dataframe thead th {\n",
       "        text-align: right;\n",
       "    }\n",
       "</style>\n",
       "<table border=\"1\" class=\"dataframe\">\n",
       "  <thead>\n",
       "    <tr style=\"text-align: right;\">\n",
       "      <th></th>\n",
       "      <th>Pclass</th>\n",
       "      <th>Age</th>\n",
       "      <th>Fare</th>\n",
       "      <th>SibSp</th>\n",
       "      <th>Parch</th>\n",
       "      <th>Survived</th>\n",
       "      <th>b_values</th>\n",
       "    </tr>\n",
       "  </thead>\n",
       "  <tbody>\n",
       "    <tr>\n",
       "      <th>0</th>\n",
       "      <td>3</td>\n",
       "      <td>22.0</td>\n",
       "      <td>7.2500</td>\n",
       "      <td>1</td>\n",
       "      <td>0</td>\n",
       "      <td>0</td>\n",
       "      <td>1</td>\n",
       "    </tr>\n",
       "    <tr>\n",
       "      <th>1</th>\n",
       "      <td>1</td>\n",
       "      <td>38.0</td>\n",
       "      <td>71.2833</td>\n",
       "      <td>1</td>\n",
       "      <td>0</td>\n",
       "      <td>1</td>\n",
       "      <td>1</td>\n",
       "    </tr>\n",
       "    <tr>\n",
       "      <th>2</th>\n",
       "      <td>3</td>\n",
       "      <td>26.0</td>\n",
       "      <td>7.9250</td>\n",
       "      <td>0</td>\n",
       "      <td>0</td>\n",
       "      <td>1</td>\n",
       "      <td>1</td>\n",
       "    </tr>\n",
       "    <tr>\n",
       "      <th>3</th>\n",
       "      <td>1</td>\n",
       "      <td>35.0</td>\n",
       "      <td>53.1000</td>\n",
       "      <td>1</td>\n",
       "      <td>0</td>\n",
       "      <td>1</td>\n",
       "      <td>1</td>\n",
       "    </tr>\n",
       "    <tr>\n",
       "      <th>4</th>\n",
       "      <td>3</td>\n",
       "      <td>35.0</td>\n",
       "      <td>8.0500</td>\n",
       "      <td>0</td>\n",
       "      <td>0</td>\n",
       "      <td>0</td>\n",
       "      <td>1</td>\n",
       "    </tr>\n",
       "  </tbody>\n",
       "</table>\n",
       "</div>"
      ],
      "text/plain": [
       "   Pclass   Age     Fare  SibSp  Parch  Survived  b_values\n",
       "0       3  22.0   7.2500      1      0         0         1\n",
       "1       1  38.0  71.2833      1      0         1         1\n",
       "2       3  26.0   7.9250      0      0         1         1\n",
       "3       1  35.0  53.1000      1      0         1         1\n",
       "4       3  35.0   8.0500      0      0         0         1"
      ]
     },
     "execution_count": 6,
     "metadata": {},
     "output_type": "execute_result"
    }
   ],
   "source": [
    "data_train.head()"
   ]
  },
  {
   "cell_type": "code",
   "execution_count": 7,
   "metadata": {},
   "outputs": [
    {
     "data": {
      "text/html": [
       "<div>\n",
       "<style scoped>\n",
       "    .dataframe tbody tr th:only-of-type {\n",
       "        vertical-align: middle;\n",
       "    }\n",
       "\n",
       "    .dataframe tbody tr th {\n",
       "        vertical-align: top;\n",
       "    }\n",
       "\n",
       "    .dataframe thead th {\n",
       "        text-align: right;\n",
       "    }\n",
       "</style>\n",
       "<table border=\"1\" class=\"dataframe\">\n",
       "  <thead>\n",
       "    <tr style=\"text-align: right;\">\n",
       "      <th></th>\n",
       "      <th>Pclass</th>\n",
       "      <th>Age</th>\n",
       "      <th>Fare</th>\n",
       "      <th>SibSp</th>\n",
       "      <th>Parch</th>\n",
       "      <th>Survived</th>\n",
       "      <th>b_values</th>\n",
       "    </tr>\n",
       "  </thead>\n",
       "  <tbody>\n",
       "    <tr>\n",
       "      <th>713</th>\n",
       "      <td>3</td>\n",
       "      <td>29.0</td>\n",
       "      <td>9.4833</td>\n",
       "      <td>0</td>\n",
       "      <td>0</td>\n",
       "      <td>0</td>\n",
       "      <td>1</td>\n",
       "    </tr>\n",
       "    <tr>\n",
       "      <th>714</th>\n",
       "      <td>2</td>\n",
       "      <td>52.0</td>\n",
       "      <td>13.0000</td>\n",
       "      <td>0</td>\n",
       "      <td>0</td>\n",
       "      <td>0</td>\n",
       "      <td>1</td>\n",
       "    </tr>\n",
       "    <tr>\n",
       "      <th>715</th>\n",
       "      <td>3</td>\n",
       "      <td>19.0</td>\n",
       "      <td>7.6500</td>\n",
       "      <td>0</td>\n",
       "      <td>0</td>\n",
       "      <td>0</td>\n",
       "      <td>1</td>\n",
       "    </tr>\n",
       "    <tr>\n",
       "      <th>716</th>\n",
       "      <td>1</td>\n",
       "      <td>38.0</td>\n",
       "      <td>227.5250</td>\n",
       "      <td>0</td>\n",
       "      <td>0</td>\n",
       "      <td>1</td>\n",
       "      <td>1</td>\n",
       "    </tr>\n",
       "    <tr>\n",
       "      <th>717</th>\n",
       "      <td>2</td>\n",
       "      <td>27.0</td>\n",
       "      <td>10.5000</td>\n",
       "      <td>0</td>\n",
       "      <td>0</td>\n",
       "      <td>1</td>\n",
       "      <td>1</td>\n",
       "    </tr>\n",
       "  </tbody>\n",
       "</table>\n",
       "</div>"
      ],
      "text/plain": [
       "     Pclass   Age      Fare  SibSp  Parch  Survived  b_values\n",
       "713       3  29.0    9.4833      0      0         0         1\n",
       "714       2  52.0   13.0000      0      0         0         1\n",
       "715       3  19.0    7.6500      0      0         0         1\n",
       "716       1  38.0  227.5250      0      0         1         1\n",
       "717       2  27.0   10.5000      0      0         1         1"
      ]
     },
     "execution_count": 7,
     "metadata": {},
     "output_type": "execute_result"
    }
   ],
   "source": [
    "data_test['b_values']=1\n",
    "data_test.head()"
   ]
  },
  {
   "cell_type": "code",
   "execution_count": 8,
   "metadata": {},
   "outputs": [],
   "source": [
    "def sigmoid(x):\n",
    "    return(1.0/(1.0+np.exp(-1.0*x)) )"
   ]
  },
  {
   "cell_type": "code",
   "execution_count": 9,
   "metadata": {},
   "outputs": [],
   "source": [
    "\n",
    "weights=np.zeros((1,6))\n"
   ]
  },
  {
   "cell_type": "code",
   "execution_count": 10,
   "metadata": {},
   "outputs": [
    {
     "data": {
      "text/plain": [
       "array([[0., 0., 0., 0., 0., 0.]])"
      ]
     },
     "execution_count": 10,
     "metadata": {},
     "output_type": "execute_result"
    }
   ],
   "source": [
    "weights"
   ]
  },
  {
   "cell_type": "code",
   "execution_count": null,
   "metadata": {},
   "outputs": [],
   "source": []
  },
  {
   "cell_type": "code",
   "execution_count": 11,
   "metadata": {},
   "outputs": [],
   "source": [
    "def stochastic_grad_descent_logistic(data,target,weights,alpha,numiterations):\n",
    "    m=len(target)\n",
    "    w_l=len(weights.T)\n",
    "        \n",
    "    for k in range(numiterations):\n",
    "        f=weights.T\n",
    "        p= data.dot(f)\n",
    "        predicted=sigmoid(p)\n",
    "        diff=np.subtract(target,predicted)\n",
    "        \n",
    "        loss=((-np.dot(target.T,(np.log(predicted))))-np.dot((1-target).T,(np.log(1-predicted))))/m\n",
    "        \n",
    "        \n",
    "        \n",
    "        delta=1e-1\n",
    "        if(loss>delta):\n",
    "            for i in range(m):            \n",
    "                for j in range(w_l-1):\n",
    "                    gradient=(data.iloc[i][j])*(np.subtract(target.iloc[i],predicted.iloc[i]))/m\n",
    "                    weights[0][j]=weights[0][j]+alpha*gradient\n",
    "                \n",
    "                gradient_b=np.subtract(target.iloc[i],predicted.iloc[i])/m\n",
    "                weights[0][w_l-1]=weights[0][w_l-1]+alpha*gradient_b\n",
    "                    \n",
    "                p=(data.dot(f))\n",
    "                predicted=sigmoid(p)\n",
    "                diff=np.subtract(target,predicted)\n",
    "                loss=((-np.dot(target.T,(np.log(predicted))))-np.dot((1-target).T,(np.log(1-predicted))))/m\n",
    "            print \"loss after \",k,\"th iteration : \",loss\n",
    "            \n",
    "        if(k>5):\n",
    "            alpha=alpha/2        \n",
    "            \n",
    "        \n",
    "        \n",
    "    return weights\n"
   ]
  },
  {
   "cell_type": "code",
   "execution_count": 12,
   "metadata": {},
   "outputs": [],
   "source": [
    "def logistic_regression_fit(data_train,target_train):\n",
    "    data=data_train\n",
    "    target=target_train\n",
    "    \n",
    "    x=len(data.columns)\n",
    "    weights=np.zeros((1,x))\n",
    "    \n",
    "    alpha=.002\n",
    "    numiterations=10\n",
    "    k=weights.T\n",
    "    p=(data_train.dot(k))\n",
    "    m=len(target_train)\n",
    "\n",
    "    \n",
    "    predicted=sigmoid(p)\n",
    "    \n",
    "    \n",
    "    diff=np.subtract(target,predicted)\n",
    "    \n",
    "    loss=((-np.dot(target.T,(np.log(predicted))))-np.dot((1-target).T,(np.log(1-predicted))))/m\n",
    "    \n",
    "    \n",
    "    \n",
    "        \n",
    "    \n",
    "    weights=stochastic_grad_descent_logistic(data,target,weights,alpha,numiterations)\n",
    "    p=(data_train.dot(weights.T))\n",
    "    predicted=sigmoid(p)\n",
    "    \n",
    "    diff=np.subtract(target,predicted)\n",
    "    \n",
    "    loss=((-np.dot(target.T,(np.log(predicted))))-np.dot((1-target).T,(np.log(1-predicted))))/m\n",
    "        \n",
    "    \n",
    "    return loss,weights\n"
   ]
  },
  {
   "cell_type": "code",
   "execution_count": 91,
   "metadata": {},
   "outputs": [],
   "source": [
    "def logistic_regression_predict(data_test,target_test,weights):\n",
    "    p=(data_test.dot(np.transpose(weights)))\n",
    "    m=len(target_test)\n",
    "    predicted=sigmoid(p)\n",
    "    target=target_test\n",
    "    \n",
    "    diff=np.subtract(target,predicted)\n",
    "    \n",
    "    loss=((-np.dot(target.T,(np.log(predicted))))-np.dot((1-target).T,(np.log(1-predicted))))/m\n",
    "    threshold=.5    \n",
    "   \n",
    "    incorrect=0\n",
    "    classified=np.zeros((1,len(target_test)) )\n",
    "    for k in range(len(data_test)):\n",
    "        a=predicted.iloc[k][0]\n",
    "        threshold=.5  \n",
    "        if(a>threshold):\n",
    "            classified[0][k]=1\n",
    "            if(target.loc[713+k][0]!= classified[0][k]):\n",
    "                incorrect=incorrect+1\n",
    "        if(a<threshold):\n",
    "            classified[0][k]=0\n",
    "            if(target.loc[713+k][0]!=classified[0][k]):\n",
    "                incorrect=incorrect+1\n",
    "    denominator=len(target_test)\n",
    "    print \"incorrect:\\n\",incorrect,\"\\ntotal_test_set_size:\\n\",denominator\n",
    "    \n",
    "    accuracy=float(float(denominator-incorrect)/float(denominator) )\n",
    "    \n",
    "    return classified,accuracy"
   ]
  },
  {
   "cell_type": "code",
   "execution_count": 37,
   "metadata": {
    "scrolled": false
   },
   "outputs": [
    {
     "name": "stdout",
     "output_type": "stream",
     "text": [
      "loss after  0 th iteration :  [[0.66723711]]\n",
      "loss after  1 th iteration :  [[0.65377541]]\n",
      "loss after  2 th iteration :  [[0.64637178]]\n",
      "loss after  3 th iteration :  [[0.64213725]]\n",
      "loss after  4 th iteration :  [[0.63962065]]\n",
      "loss after  5 th iteration :  [[0.63806991]]\n",
      "loss after  6 th iteration :  [[0.63707898]]\n",
      "loss after  7 th iteration :  [[0.63661196]]\n",
      "loss after  8 th iteration :  [[0.63640498]]\n",
      "loss after  9 th iteration :  [[0.63630948]]\n"
     ]
    }
   ],
   "source": [
    "loss,weights=logistic_regression_fit(data_train,target_train)"
   ]
  },
  {
   "cell_type": "code",
   "execution_count": 92,
   "metadata": {
    "scrolled": true
   },
   "outputs": [
    {
     "name": "stdout",
     "output_type": "stream",
     "text": [
      "incorrect:\n",
      "51 \n",
      "total_test_set_size:\n",
      "178\n",
      "Accuracy of test set is :  0.713483146067\n"
     ]
    }
   ],
   "source": [
    "\n",
    "classified,accuracy=logistic_regression_predict(data_test,target_test,weights)\n",
    "print \"Accuracy of test set is : \",accuracy"
   ]
  }
 ],
 "metadata": {
  "kernelspec": {
   "display_name": "Python 2",
   "language": "python",
   "name": "python2"
  },
  "language_info": {
   "codemirror_mode": {
    "name": "ipython",
    "version": 2
   },
   "file_extension": ".py",
   "mimetype": "text/x-python",
   "name": "python",
   "nbconvert_exporter": "python",
   "pygments_lexer": "ipython2",
   "version": "2.7.14"
  }
 },
 "nbformat": 4,
 "nbformat_minor": 2
}
