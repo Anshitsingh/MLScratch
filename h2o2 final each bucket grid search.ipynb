{
 "cells": [
  {
   "cell_type": "code",
   "execution_count": 1,
   "metadata": {},
   "outputs": [
    {
     "name": "stderr",
     "output_type": "stream",
     "text": [
      "Skipping line 267909: expected 33 fields, saw 34\n",
      "\n",
      "Skipping line 299539: expected 33 fields, saw 34\n",
      "\n",
      "/home/jash/anaconda3/envs/py27/lib/python2.7/site-packages/IPython/core/interactiveshell.py:2718: DtypeWarning: Columns (5,17,18,19,20) have mixed types. Specify dtype option on import or set low_memory=False.\n",
      "  interactivity=interactivity, compiler=compiler, result=result)\n"
     ]
    }
   ],
   "source": [
    "import pandas as pd\n",
    "a=pd.read_table(\"/home/jash/Desktop/petplan/Profitability1.txt\", sep='|', lineterminator='\\n', error_bad_lines=False)"
   ]
  },
  {
   "cell_type": "code",
   "execution_count": 2,
   "metadata": {
    "scrolled": false
   },
   "outputs": [
    {
     "name": "stdout",
     "output_type": "stream",
     "text": [
      "    LossRatio  Duration               PetId   StartDate     EndDate  \\\n",
      "23  31.835243       546   US1291782Franklin  2015-05-14  2016-11-09   \n",
      "53   0.649187       472  US1161522Mia Matei  2015-01-26  2016-05-11   \n",
      "67  13.360763       300       US2103996Toby  2017-10-01  2018-09-30   \n",
      "73   1.557230       232      US2180643Futch  2017-12-08  2018-12-07   \n",
      "99  12.781145       366       US1556151Maja  2016-01-15  2017-01-14   \n",
      "\n",
      "   LastPolicyRef  TotalClaimsAmtPaid  TotalEarnedPremium  \\\n",
      "23        223943           11057.056          347.321233   \n",
      "53        175213             310.130          477.720601   \n",
      "67        528094           15000.000         1122.690411   \n",
      "73        566187            1415.960          909.281096   \n",
      "99        347631            2415.892          189.020000   \n",
      "\n",
      "               BreedName  Currentage ...    Surname  GivenName  \\\n",
      "23     Domestic Longhair         4.0 ...      banks     Cheryl   \n",
      "53          Shih Tzu Mix         1.0 ...      Matei    Mariana   \n",
      "67  Bernese Mountain Dog         0.0 ...     Snyder        Jay   \n",
      "73         Saint Bernard         0.0 ...  Borlenghi    Malcolm   \n",
      "99    Domestic Shorthair         1.0 ...  Johansson      Holly   \n",
      "\n",
      "   CustomerMailingAddr_Addr1 CustomerMailingAddr_City  \\\n",
      "23          3228 NE 110th Pl                 Portland   \n",
      "53          5106 149th Pl SW                  Edmonds   \n",
      "67             454 W 54th St                 New York   \n",
      "73               PO BOX 1856                 Cranford   \n",
      "99           N8267 Flaten Rd                   Holmen   \n",
      "\n",
      "   CustomerMailingAddr_StateProvCd  CustomerMailingAddr_PostalCode  \\\n",
      "23                              OR                      97220-2775   \n",
      "53                              WA                      98026-4436   \n",
      "67                              NY                      10019-4594   \n",
      "73                              NJ                      07016-5856   \n",
      "99                              WI                      54636-9025   \n",
      "\n",
      "            Quadrant claimdurationInception churn\\r  L  \n",
      "23  LowTenure-HighLR                   71.0       1  1  \n",
      "53  LowTenure-HighLR                  266.0       1  0  \n",
      "67  LowTenure-HighLR                   52.0       0  1  \n",
      "73  LowTenure-HighLR                   87.0       0  0  \n",
      "99  LowTenure-HighLR                   26.0       1  1  \n",
      "\n",
      "[5 rows x 34 columns]\n"
     ]
    }
   ],
   "source": [
    "data=pd.DataFrame(data=a,index=None)\n",
    "data = data.sample(frac=1).reset_index(drop=True)\n",
    "import math\n",
    "import numpy as np\n",
    "data['LossRatio'].fillna(0, inplace=True)\n",
    "data['L']=0\n",
    "data.loc[data['LossRatio'] >8.451531 ,'L'] = 1\n",
    "data.to_csv(\"/home/jash/Desktop/petplan/Profitability.csv\")\n",
    "Y=data['L']\n",
    "y=pd.DataFrame(Y)\n",
    "x=pd.DataFrame(data)\n",
    "\n",
    "m=x.loc[x['PolicyForm']!='Introductory']\n",
    "q=pd.DataFrame(m)\n",
    "m2=q.loc[q['PolicyForm']!='Intro']\n",
    "m3=pd.DataFrame(m2)\n",
    "m4=m3.loc[m3['Quadrant']=='LowTenure-HighLR']\n",
    "x=pd.DataFrame(m4)\n",
    "\n",
    "print x.head()\n"
   ]
  },
  {
   "cell_type": "code",
   "execution_count": 3,
   "metadata": {},
   "outputs": [
    {
     "data": {
      "text/plain": [
       "526.2746201058766"
      ]
     },
     "execution_count": 3,
     "metadata": {},
     "output_type": "execute_result"
    }
   ],
   "source": [
    "x['LossRatio'].max()"
   ]
  },
  {
   "cell_type": "code",
   "execution_count": 4,
   "metadata": {
    "scrolled": true
   },
   "outputs": [
    {
     "data": {
      "text/plain": [
       "4189"
      ]
     },
     "execution_count": 4,
     "metadata": {},
     "output_type": "execute_result"
    }
   ],
   "source": [
    "len(x.loc[x['L']==1])"
   ]
  },
  {
   "cell_type": "code",
   "execution_count": 5,
   "metadata": {
    "scrolled": false
   },
   "outputs": [
    {
     "data": {
      "text/plain": [
       "16161"
      ]
     },
     "execution_count": 5,
     "metadata": {},
     "output_type": "execute_result"
    }
   ],
   "source": [
    "len(x)"
   ]
  },
  {
   "cell_type": "code",
   "execution_count": 6,
   "metadata": {},
   "outputs": [
    {
     "data": {
      "text/plain": [
       "LossRatio                           0\n",
       "Duration                            0\n",
       "PetId                               0\n",
       "StartDate                           0\n",
       "EndDate                             0\n",
       "LastPolicyRef                       0\n",
       "TotalClaimsAmtPaid                  0\n",
       "TotalEarnedPremium                  0\n",
       "BreedName                           0\n",
       "Currentage                          0\n",
       "CopayPct                            0\n",
       "Deductible                          0\n",
       "PetType                             0\n",
       "PolicyForm                          0\n",
       "CarrierCd                           0\n",
       "ClaimNumber                         0\n",
       "ClaimAmount                         0\n",
       "ClaimDetails                        0\n",
       "ConditionGrp                        0\n",
       "Claimcodecategory                   0\n",
       "Severity                           46\n",
       "CustomerNumber                     61\n",
       "Country                            61\n",
       "PhoneNumber                        92\n",
       "Surname                            63\n",
       "GivenName                          67\n",
       "CustomerMailingAddr_Addr1          61\n",
       "CustomerMailingAddr_City           61\n",
       "CustomerMailingAddr_StateProvCd    61\n",
       "CustomerMailingAddr_PostalCode     61\n",
       "Quadrant                            0\n",
       "claimdurationInception              0\n",
       "churn\\r                             0\n",
       "L                                   0\n",
       "dtype: int64"
      ]
     },
     "execution_count": 6,
     "metadata": {},
     "output_type": "execute_result"
    }
   ],
   "source": [
    "\n",
    "x.isnull().sum()"
   ]
  },
  {
   "cell_type": "code",
   "execution_count": 7,
   "metadata": {
    "scrolled": true
   },
   "outputs": [],
   "source": [
    "x.drop(['LossRatio'],axis=1,inplace=True)\n",
    "x.drop(['CustomerNumber','PhoneNumber','Surname','GivenName','CustomerMailingAddr_Addr1','CustomerMailingAddr_City','CustomerMailingAddr_StateProvCd',\n",
    "       'CustomerMailingAddr_PostalCode','PetId','StartDate','EndDate','LastPolicyRef'],axis=1,inplace=True)\n",
    "\n"
   ]
  },
  {
   "cell_type": "code",
   "execution_count": 8,
   "metadata": {},
   "outputs": [],
   "source": [
    "p=pd.DataFrame(x)"
   ]
  },
  {
   "cell_type": "code",
   "execution_count": 9,
   "metadata": {},
   "outputs": [],
   "source": [
    "p.drop(['ClaimNumber','ClaimAmount','Severity','ClaimDetails','ConditionGrp','Claimcodecategory','claimdurationInception'],axis=1,inplace=True)"
   ]
  },
  {
   "cell_type": "code",
   "execution_count": 10,
   "metadata": {},
   "outputs": [
    {
     "data": {
      "text/plain": [
       "Duration               0\n",
       "TotalClaimsAmtPaid     0\n",
       "TotalEarnedPremium     0\n",
       "BreedName              0\n",
       "Currentage             0\n",
       "CopayPct               0\n",
       "Deductible             0\n",
       "PetType                0\n",
       "PolicyForm             0\n",
       "CarrierCd              0\n",
       "Country               61\n",
       "Quadrant               0\n",
       "churn\\r                0\n",
       "L                      0\n",
       "dtype: int64"
      ]
     },
     "execution_count": 10,
     "metadata": {},
     "output_type": "execute_result"
    }
   ],
   "source": [
    "p.isnull().sum()"
   ]
  },
  {
   "cell_type": "code",
   "execution_count": 11,
   "metadata": {},
   "outputs": [],
   "source": [
    "\n",
    "\n",
    "p['TotalClaimsAmtPaid'].fillna(0, inplace=True)"
   ]
  },
  {
   "cell_type": "code",
   "execution_count": 12,
   "metadata": {},
   "outputs": [
    {
     "data": {
      "text/plain": [
       "Duration               0\n",
       "TotalClaimsAmtPaid     0\n",
       "TotalEarnedPremium     0\n",
       "BreedName              0\n",
       "Currentage             0\n",
       "CopayPct               0\n",
       "Deductible             0\n",
       "PetType                0\n",
       "PolicyForm             0\n",
       "CarrierCd              0\n",
       "Country               61\n",
       "Quadrant               0\n",
       "churn\\r                0\n",
       "L                      0\n",
       "dtype: int64"
      ]
     },
     "execution_count": 12,
     "metadata": {},
     "output_type": "execute_result"
    }
   ],
   "source": [
    "p.isnull().sum()"
   ]
  },
  {
   "cell_type": "code",
   "execution_count": 13,
   "metadata": {},
   "outputs": [],
   "source": [
    "p.dropna(how='any',inplace=True)"
   ]
  },
  {
   "cell_type": "code",
   "execution_count": 14,
   "metadata": {
    "scrolled": false
   },
   "outputs": [
    {
     "data": {
      "text/plain": [
       "Duration              0\n",
       "TotalClaimsAmtPaid    0\n",
       "TotalEarnedPremium    0\n",
       "BreedName             0\n",
       "Currentage            0\n",
       "CopayPct              0\n",
       "Deductible            0\n",
       "PetType               0\n",
       "PolicyForm            0\n",
       "CarrierCd             0\n",
       "Country               0\n",
       "Quadrant              0\n",
       "churn\\r               0\n",
       "L                     0\n",
       "dtype: int64"
      ]
     },
     "execution_count": 14,
     "metadata": {},
     "output_type": "execute_result"
    }
   ],
   "source": [
    "p.isnull().sum()"
   ]
  },
  {
   "cell_type": "code",
   "execution_count": 15,
   "metadata": {},
   "outputs": [],
   "source": [
    "p.drop(['Quadrant','TotalClaimsAmtPaid','TotalEarnedPremium'],axis=1,inplace=True)"
   ]
  },
  {
   "cell_type": "code",
   "execution_count": 16,
   "metadata": {},
   "outputs": [
    {
     "name": "stdout",
     "output_type": "stream",
     "text": [
      "(16100, 11)\n"
     ]
    }
   ],
   "source": [
    "print p.shape"
   ]
  },
  {
   "cell_type": "code",
   "execution_count": 17,
   "metadata": {
    "scrolled": false
   },
   "outputs": [
    {
     "name": "stdout",
     "output_type": "stream",
     "text": [
      "Checking whether there is an H2O instance running at http://localhost:54321..... not found.\n",
      "Attempting to start a local H2O server...\n",
      "  Java Version: openjdk version \"1.8.0_121\"; OpenJDK Runtime Environment (Zulu 8.20.0.5-linux64) (build 1.8.0_121-b15); OpenJDK 64-Bit Server VM (Zulu 8.20.0.5-linux64) (build 25.121-b15, mixed mode)\n",
      "  Starting server from /home/jash/anaconda3/envs/py27/h2o_jar/h2o.jar\n",
      "  Ice root: /tmp/tmpXAsplv\n",
      "  JVM stdout: /tmp/tmpXAsplv/h2o_jash_started_from_python.out\n",
      "  JVM stderr: /tmp/tmpXAsplv/h2o_jash_started_from_python.err\n",
      "  Server is running at http://127.0.0.1:54321\n",
      "Connecting to H2O server at http://127.0.0.1:54321... successful.\n",
      "Warning: Your H2O cluster version is too old (4 months and 28 days)! Please download and install the latest version from http://h2o.ai/download/\n"
     ]
    },
    {
     "data": {
      "text/html": [
       "<div style=\"overflow:auto\"><table style=\"width:50%\"><tr><td>H2O cluster uptime:</td>\n",
       "<td>04 secs</td></tr>\n",
       "<tr><td>H2O cluster timezone:</td>\n",
       "<td>Asia/Kolkata</td></tr>\n",
       "<tr><td>H2O data parsing timezone:</td>\n",
       "<td>UTC</td></tr>\n",
       "<tr><td>H2O cluster version:</td>\n",
       "<td>3.18.0.2</td></tr>\n",
       "<tr><td>H2O cluster version age:</td>\n",
       "<td>4 months and 28 days !!!</td></tr>\n",
       "<tr><td>H2O cluster name:</td>\n",
       "<td>H2O_from_python_jash_3bpdlr</td></tr>\n",
       "<tr><td>H2O cluster total nodes:</td>\n",
       "<td>1</td></tr>\n",
       "<tr><td>H2O cluster free memory:</td>\n",
       "<td>1.714 Gb</td></tr>\n",
       "<tr><td>H2O cluster total cores:</td>\n",
       "<td>4</td></tr>\n",
       "<tr><td>H2O cluster allowed cores:</td>\n",
       "<td>4</td></tr>\n",
       "<tr><td>H2O cluster status:</td>\n",
       "<td>accepting new members, healthy</td></tr>\n",
       "<tr><td>H2O connection url:</td>\n",
       "<td>http://127.0.0.1:54321</td></tr>\n",
       "<tr><td>H2O connection proxy:</td>\n",
       "<td>None</td></tr>\n",
       "<tr><td>H2O internal security:</td>\n",
       "<td>False</td></tr>\n",
       "<tr><td>H2O API Extensions:</td>\n",
       "<td>XGBoost, Algos, AutoML, Core V3, Core V4</td></tr>\n",
       "<tr><td>Python version:</td>\n",
       "<td>2.7.14 final</td></tr></table></div>"
      ],
      "text/plain": [
       "--------------------------  ----------------------------------------\n",
       "H2O cluster uptime:         04 secs\n",
       "H2O cluster timezone:       Asia/Kolkata\n",
       "H2O data parsing timezone:  UTC\n",
       "H2O cluster version:        3.18.0.2\n",
       "H2O cluster version age:    4 months and 28 days !!!\n",
       "H2O cluster name:           H2O_from_python_jash_3bpdlr\n",
       "H2O cluster total nodes:    1\n",
       "H2O cluster free memory:    1.714 Gb\n",
       "H2O cluster total cores:    4\n",
       "H2O cluster allowed cores:  4\n",
       "H2O cluster status:         accepting new members, healthy\n",
       "H2O connection url:         http://127.0.0.1:54321\n",
       "H2O connection proxy:\n",
       "H2O internal security:      False\n",
       "H2O API Extensions:         XGBoost, Algos, AutoML, Core V3, Core V4\n",
       "Python version:             2.7.14 final\n",
       "--------------------------  ----------------------------------------"
      ]
     },
     "metadata": {},
     "output_type": "display_data"
    },
    {
     "name": "stderr",
     "output_type": "stream",
     "text": [
      "/home/jash/anaconda3/envs/py27/lib/python2.7/site-packages/h2o/h2o.py:562: UserWarning: [Lwater.parser.ParseWriter$ParseErr;@24b1c4cb\n",
      "  warnings.warn(w)\n"
     ]
    },
    {
     "name": "stdout",
     "output_type": "stream",
     "text": [
      "Parse progress: |█████████████████████████████████████████████████████████| 100%\n"
     ]
    },
    {
     "name": "stderr",
     "output_type": "stream",
     "text": [
      "/home/jash/anaconda3/envs/py27/lib/python2.7/site-packages/h2o/job.py:69: UserWarning: ParseError at file upload_be47d3d5763ee2845d446d64aeb64b7b at line 0 ( destination line 0 )  at byte offset 111; error = 'Unmatched quote char \"'\n",
      "  warnings.warn(w)\n",
      "/home/jash/anaconda3/envs/py27/lib/python2.7/site-packages/h2o/job.py:69: UserWarning: ParseError at file upload_be47d3d5763ee2845d446d64aeb64b7b at line 2 ( destination line 2 )  at byte offset 117; error = 'Unmatched quote char \"'\n",
      "  warnings.warn(w)\n"
     ]
    },
    {
     "data": {
      "text/html": [
       "<table>\n",
       "<thead>\n",
       "<tr><th style=\"text-align: right;\">  Duration</th><th>BreedName                       </th><th style=\"text-align: right;\">  Currentage</th><th style=\"text-align: right;\">  CopayPct</th><th style=\"text-align: right;\">  Deductible</th><th>PetType  </th><th style=\"text-align: right;\">  PolicyForm</th><th>CarrierCd  </th><th>Country  </th><th style=\"text-align: right;\">    churn\r",
       "</th><th style=\"text-align: right;\">  L</th></tr>\n",
       "</thead>\n",
       "<tbody>\n",
       "<tr><td style=\"text-align: right;\">       nan</td><td>BreedName                       </td><td style=\"text-align: right;\">         nan</td><td style=\"text-align: right;\">     nan  </td><td style=\"text-align: right;\">         nan</td><td>PetType  </td><td style=\"text-align: right;\">         nan</td><td>CarrierCd  </td><td>Country  </td><td style=\"text-align: right;\">nan</td><td style=\"text-align: right;\">nan</td></tr>\n",
       "<tr><td style=\"text-align: right;\">       nan</td><td>                                </td><td style=\"text-align: right;\">         nan</td><td style=\"text-align: right;\">     nan  </td><td style=\"text-align: right;\">         nan</td><td>         </td><td style=\"text-align: right;\">         nan</td><td>           </td><td>         </td><td style=\"text-align: right;\">nan</td><td style=\"text-align: right;\">nan</td></tr>\n",
       "<tr><td style=\"text-align: right;\">       546</td><td>Domestic Longhair               </td><td style=\"text-align: right;\">           4</td><td style=\"text-align: right;\">       0.8</td><td style=\"text-align: right;\">         100</td><td>Cat      </td><td style=\"text-align: right;\">         nan</td><td>ALZ        </td><td>US       </td><td style=\"text-align: right;\">  1</td><td style=\"text-align: right;\">  1</td></tr>\n",
       "<tr><td style=\"text-align: right;\">       472</td><td>Shih Tzu Mix                    </td><td style=\"text-align: right;\">           1</td><td style=\"text-align: right;\">       0.9</td><td style=\"text-align: right;\">         100</td><td>Dog      </td><td style=\"text-align: right;\">         nan</td><td>ALZ        </td><td>US       </td><td style=\"text-align: right;\">  1</td><td style=\"text-align: right;\">  0</td></tr>\n",
       "<tr><td style=\"text-align: right;\">       300</td><td>Bernese Mountain Dog            </td><td style=\"text-align: right;\">           0</td><td style=\"text-align: right;\">       0.8</td><td style=\"text-align: right;\">         250</td><td>Dog      </td><td style=\"text-align: right;\">       15000</td><td>XLC        </td><td>US       </td><td style=\"text-align: right;\">  0</td><td style=\"text-align: right;\">  1</td></tr>\n",
       "<tr><td style=\"text-align: right;\">       232</td><td>Saint Bernard                   </td><td style=\"text-align: right;\">           0</td><td style=\"text-align: right;\">       0.8</td><td style=\"text-align: right;\">         300</td><td>Dog      </td><td style=\"text-align: right;\">       15000</td><td>XLC        </td><td>US       </td><td style=\"text-align: right;\">  0</td><td style=\"text-align: right;\">  0</td></tr>\n",
       "<tr><td style=\"text-align: right;\">       366</td><td>Domestic Shorthair              </td><td style=\"text-align: right;\">           1</td><td style=\"text-align: right;\">       0.9</td><td style=\"text-align: right;\">         200</td><td>Cat      </td><td style=\"text-align: right;\">         nan</td><td>XLC        </td><td>US       </td><td style=\"text-align: right;\">  1</td><td style=\"text-align: right;\">  1</td></tr>\n",
       "<tr><td style=\"text-align: right;\">       413</td><td>Schnauzer - miniature           </td><td style=\"text-align: right;\">           8</td><td style=\"text-align: right;\">       0.9</td><td style=\"text-align: right;\">         500</td><td>Dog      </td><td style=\"text-align: right;\">         nan</td><td>XLC        </td><td>US       </td><td style=\"text-align: right;\">  1</td><td style=\"text-align: right;\">  0</td></tr>\n",
       "<tr><td style=\"text-align: right;\">       225</td><td>Mixed Breed Small ( up to 22lb )</td><td style=\"text-align: right;\">           0</td><td style=\"text-align: right;\">       0.8</td><td style=\"text-align: right;\">         300</td><td>Dog      </td><td style=\"text-align: right;\">       15000</td><td>XLC        </td><td>US       </td><td style=\"text-align: right;\">  0</td><td style=\"text-align: right;\">  0</td></tr>\n",
       "<tr><td style=\"text-align: right;\">       445</td><td>Labrador Mix                    </td><td style=\"text-align: right;\">           6</td><td style=\"text-align: right;\">       0.9</td><td style=\"text-align: right;\">         200</td><td>Dog      </td><td style=\"text-align: right;\">       15000</td><td>XLC        </td><td>US       </td><td style=\"text-align: right;\">  1</td><td style=\"text-align: right;\">  0</td></tr>\n",
       "</tbody>\n",
       "</table>"
      ]
     },
     "metadata": {},
     "output_type": "display_data"
    },
    {
     "name": "stdout",
     "output_type": "stream",
     "text": [
      "\n",
      "gbm Model Build progress: |███████████████████████████████████████████████| 100%\n",
      "Total cross validation models: 3\n"
     ]
    }
   ],
   "source": [
    "\n",
    "import h2o\n",
    "from h2o.estimators import H2ORandomForestEstimator\n",
    "h2o.init()\n",
    "df = h2o.H2OFrame(p)\n",
    "y = 'L'\n",
    "x=df.col_names\n",
    "print df\n",
    "x.remove(y)\n",
    "df[y] = df[y].asfactor()\n",
    "train, valid, test = df.split_frame(ratios=[.8,.1])\n",
    "from h2o.estimators.gbm import H2OGradientBoostingEstimator\n",
    "from h2o.grid.grid_search import H2OGridSearch\n",
    "gbm_cv3 = H2OGradientBoostingEstimator(nfolds=3,max_depth=4,ntrees=130)\n",
    "gbm_cv3.train(x=x, y=y, training_frame=train)\n",
    "## Getting all cross validated models \n",
    "all_models = gbm_cv3.cross_validation_models()\n",
    "print(\"Total cross validation models: \" + str(len(all_models)))"
   ]
  },
  {
   "cell_type": "code",
   "execution_count": 18,
   "metadata": {},
   "outputs": [
    {
     "name": "stdout",
     "output_type": "stream",
     "text": [
      "gbm Grid Build progress: |████████████████████████████████████████████████| 100%\n"
     ]
    }
   ],
   "source": [
    "## Depth 10 is usually plenty of depth for most datasets, but you never know\n",
    "hyper_params = {'max_depth' : [1,2,3,4,5,6,7,8,9,10]}\n",
    "#hyper_params = {max_depth = [4,6,8,12,16,20]} ##faster for larger datasets\n",
    "\n",
    "#Build initial GBM Model\n",
    "gbm_grid = H2OGradientBoostingEstimator(\n",
    "        ## more trees is better if the learning rate is small enough \n",
    "        ## here, use \"more than enough\" trees - we have early stopping\n",
    "        ntrees=10000,\n",
    "        ## smaller learning rate is better\n",
    "        ## since we have learning_rate_annealing, we can afford to start with a \n",
    "        #bigger learning rate\n",
    "        learn_rate=0.05,\n",
    "        ## learning rate annealing: learning_rate shrinks by 1% after every tree \n",
    "        ## (use 1.00 to disable, but then lower the learning_rate)\n",
    "        learn_rate_annealing = 0.99,\n",
    "        ## sample 80% of rows per tree\n",
    "        sample_rate = 0.8,\n",
    "        ## sample 80% of columns per split\n",
    "        col_sample_rate = 0.8,\n",
    "        ## fix a random number generator seed for reproducibility\n",
    "        seed = 1234,\n",
    "        ## score every 10 trees to make early stopping reproducible \n",
    "        #(it depends on the scoring interval)\n",
    "        score_tree_interval = 10, \n",
    "        ## early stopping once the validation AUC doesn't improve by at least 0.01% for \n",
    "        #5 consecutive scoring events\n",
    "        stopping_rounds = 5,\n",
    "        stopping_metric = \"AUC\",\n",
    "        stopping_tolerance = 1e-4)\n",
    "\n",
    "#Build grid search with previously made GBM and hyper parameters\n",
    "grid = H2OGridSearch(gbm_grid,hyper_params,\n",
    "                         grid_id = 'depth_grid',\n",
    "                         search_criteria = {'strategy': \"Cartesian\"})\n",
    "\n",
    "\n",
    "#Train grid search\n",
    "grid.train(x=x, \n",
    "           y=y,\n",
    "           training_frame = train,\n",
    "           validation_frame = valid)"
   ]
  },
  {
   "cell_type": "code",
   "execution_count": 19,
   "metadata": {},
   "outputs": [
    {
     "name": "stdout",
     "output_type": "stream",
     "text": [
      "    max_depth           model_ids              logloss\n",
      "0          10  depth_grid_model_9  0.18521023486211627\n",
      "1           9  depth_grid_model_8  0.20958326962305207\n",
      "2           8  depth_grid_model_7  0.24346022817726629\n",
      "3           7  depth_grid_model_6   0.2755609465316466\n",
      "4           6  depth_grid_model_5  0.32102128306419425\n",
      "5           5  depth_grid_model_4  0.36009978077799687\n",
      "6           4  depth_grid_model_3  0.39938527485863456\n",
      "7           3  depth_grid_model_2   0.4409395578587861\n",
      "8           2  depth_grid_model_1   0.4729661664416676\n",
      "9           1  depth_grid_model_0   0.5149487247410822\n",
      "\n"
     ]
    }
   ],
   "source": [
    "## by default, display the grid search results sorted by increasing logloss (since this is a classification task)\n",
    "print grid"
   ]
  },
  {
   "cell_type": "code",
   "execution_count": 20,
   "metadata": {},
   "outputs": [
    {
     "name": "stdout",
     "output_type": "stream",
     "text": [
      "    max_depth           model_ids                 auc\n",
      "0          10  depth_grid_model_9  0.9784013496876567\n",
      "1           9  depth_grid_model_8  0.9729962154028543\n",
      "2           8  depth_grid_model_7  0.9642177739273174\n",
      "3           7  depth_grid_model_6  0.9540823491860837\n",
      "4           6  depth_grid_model_5  0.9295007067621175\n",
      "5           5  depth_grid_model_4  0.9039523961515663\n",
      "6           4  depth_grid_model_3  0.8725074096028453\n",
      "7           3  depth_grid_model_2  0.8316939492043226\n",
      "8           2  depth_grid_model_1  0.7933509643883088\n",
      "9           1  depth_grid_model_0   0.749518945784506\n",
      "\n"
     ]
    }
   ],
   "source": [
    "\n",
    "## sort the grid models by decreasing AUC\n",
    "sorted_grid = grid.get_grid(sort_by='auc',decreasing=True)\n",
    "print(sorted_grid)"
   ]
  },
  {
   "cell_type": "code",
   "execution_count": 21,
   "metadata": {},
   "outputs": [
    {
     "name": "stdout",
     "output_type": "stream",
     "text": [
      "MaxDepth 10\n",
      "MinDepth 6\n"
     ]
    }
   ],
   "source": [
    "\n",
    "max_depths = sorted_grid.sorted_metric_table()['max_depth'][0:5]\n",
    "new_max = int(max(max_depths, key=int))\n",
    "new_min = int(min(max_depths, key=int))\n",
    "\n",
    "print \"MaxDepth\", new_max\n",
    "print \"MinDepth\", new_min"
   ]
  },
  {
   "cell_type": "code",
   "execution_count": 22,
   "metadata": {},
   "outputs": [],
   "source": [
    "new_min=1\n",
    "new_max=5\n",
    "# create hyperameter and search criteria lists (ranges are inclusive..exclusive))\n",
    "hyper_params_tune = {'max_depth' : list(range(new_min,new_max+1,1)),\n",
    "                'sample_rate': [x/100. for x in range(20,101)],\n",
    "                'col_sample_rate' : [x/100. for x in range(20,101)],\n",
    "                'col_sample_rate_per_tree': [x/100. for x in range(20,101)],\n",
    "                'col_sample_rate_change_per_level': [x/100. for x in range(90,111)],\n",
    "                'min_rows': [2**x for x in range(0,int(math.log(train.nrow,2)-1)+1)],\n",
    "                'nbins': [2**x for x in range(4,11)],\n",
    "                'nbins_cats': [2**x for x in range(4,13)],\n",
    "                'min_split_improvement': [0,1e-8,1e-6,1e-4],\n",
    "                'histogram_type': [\"UniformAdaptive\",\"QuantilesGlobal\",\"RoundRobin\"]}\n",
    "search_criteria_tune = {'strategy': \"RandomDiscrete\",\n",
    "                   'max_runtime_secs': 3600,  ## limit the runtime to 60 minutes\n",
    "                   'max_models': 100,  ## build no more than 100 models\n",
    "                   'seed' : 1234,\n",
    "                   'stopping_rounds' : 5,\n",
    "                   'stopping_metric' : \"AUC\",\n",
    "                   'stopping_tolerance': 1e-3 }\n",
    "       \n",
    "           "
   ]
  },
  {
   "cell_type": "code",
   "execution_count": 23,
   "metadata": {},
   "outputs": [
    {
     "name": "stdout",
     "output_type": "stream",
     "text": [
      "gbm Grid Build progress: |████████████████████████████████████████████████| 100%\n",
      "      col_sample_rate col_sample_rate_change_per_level  \\\n",
      "0                0.65                             1.08   \n",
      "1                0.69                             0.97   \n",
      "2                0.96                              1.1   \n",
      "3                0.85                             1.07   \n",
      "4                0.32                             1.02   \n",
      "5                0.54                             1.07   \n",
      "6                0.37                             0.93   \n",
      "7                0.28                             1.08   \n",
      "8                0.51                              1.1   \n",
      "9                 0.4                             0.91   \n",
      "10               0.91                             0.96   \n",
      "11                0.5                             0.99   \n",
      "12               0.34                             1.07   \n",
      "13               0.55                             1.05   \n",
      "14               0.63                              1.0   \n",
      "15                0.5                             1.02   \n",
      "16                0.2                             0.94   \n",
      "17               0.64                             1.02   \n",
      "18               0.74                             1.07   \n",
      "19               0.73                              0.9   \n",
      "20               0.76                             0.94   \n",
      "21               0.26                             0.91   \n",
      "22               0.91                             1.02   \n",
      "23               0.46                             0.94   \n",
      "24               0.87                              0.9   \n",
      "25               0.61                             0.97   \n",
      "26               0.25                             1.06   \n",
      "27                0.5                             0.92   \n",
      "28               0.48                              1.0   \n",
      "29                0.8                              0.9   \n",
      ".. ..             ...                              ...   \n",
      "70                0.5                             1.03   \n",
      "71               0.74                             0.96   \n",
      "72                0.6                              1.0   \n",
      "73                0.4                             1.01   \n",
      "74                0.7                             0.92   \n",
      "75               0.25                             1.04   \n",
      "76               0.42                             1.08   \n",
      "77               0.92                             0.93   \n",
      "78               0.87                              1.0   \n",
      "79               0.97                             0.96   \n",
      "80                0.7                             1.02   \n",
      "81               0.92                             1.06   \n",
      "82                0.2                             0.96   \n",
      "83               0.72                             1.08   \n",
      "84               0.49                             1.04   \n",
      "85               0.33                             1.06   \n",
      "86                0.7                             1.08   \n",
      "87               0.45                             1.03   \n",
      "88               0.31                             0.94   \n",
      "89               0.35                             1.09   \n",
      "90               0.77                             1.06   \n",
      "91               0.24                             1.08   \n",
      "92               0.22                             1.06   \n",
      "93               0.52                              1.1   \n",
      "94                0.2                             0.94   \n",
      "95               0.81                             0.94   \n",
      "96               0.67                             1.04   \n",
      "97               0.52                              1.0   \n",
      "98               0.99                              1.0   \n",
      "99               0.45                             1.06   \n",
      "\n",
      "   col_sample_rate_per_tree   histogram_type max_depth min_rows  \\\n",
      "0                      0.95  UniformAdaptive         5     64.0   \n",
      "1                      0.98  UniformAdaptive         4    128.0   \n",
      "2                      0.43       RoundRobin         5      2.0   \n",
      "3                      0.95  UniformAdaptive         4     64.0   \n",
      "4                      0.88  UniformAdaptive         4      4.0   \n",
      "5                      0.58  UniformAdaptive         4      1.0   \n",
      "6                      0.64  UniformAdaptive         5      8.0   \n",
      "7                      0.47  QuantilesGlobal         5      4.0   \n",
      "8                       0.5  UniformAdaptive         4     64.0   \n",
      "9                      0.34  UniformAdaptive         5      1.0   \n",
      "10                      0.4       RoundRobin         4      4.0   \n",
      "11                     0.81  QuantilesGlobal         3      2.0   \n",
      "12                     0.68  UniformAdaptive         4     64.0   \n",
      "13                      1.0  UniformAdaptive         5   1024.0   \n",
      "14                     0.85       RoundRobin         3      8.0   \n",
      "15                     0.65       RoundRobin         3      4.0   \n",
      "16                     0.45  UniformAdaptive         5     64.0   \n",
      "17                     0.66  QuantilesGlobal         3      8.0   \n",
      "18                      0.4       RoundRobin         5      4.0   \n",
      "19                      0.6  QuantilesGlobal         4     16.0   \n",
      "20                      0.2       RoundRobin         5      1.0   \n",
      "21                     0.88       RoundRobin         4    256.0   \n",
      "22                     0.97  UniformAdaptive         2     16.0   \n",
      "23                     0.24  UniformAdaptive         4      2.0   \n",
      "24                      0.7  UniformAdaptive         2    128.0   \n",
      "25                     0.36  QuantilesGlobal         3      2.0   \n",
      "26                     0.22  QuantilesGlobal         4     64.0   \n",
      "27                     0.55  QuantilesGlobal         5    512.0   \n",
      "28                     0.35  QuantilesGlobal         3      4.0   \n",
      "29                     0.57  UniformAdaptive         3    512.0   \n",
      "..                      ...              ...       ...      ...   \n",
      "70                     0.45       RoundRobin         2      4.0   \n",
      "71                     0.36  UniformAdaptive         4    512.0   \n",
      "72                     0.89  UniformAdaptive         2    512.0   \n",
      "73                     0.55  QuantilesGlobal         2      1.0   \n",
      "74                     0.26       RoundRobin         1     64.0   \n",
      "75                     0.87  UniformAdaptive         2   1024.0   \n",
      "76                     0.45       RoundRobin         3    512.0   \n",
      "77                     0.56  QuantilesGlobal         5   2048.0   \n",
      "78                      0.2       RoundRobin         2   4096.0   \n",
      "79                     0.96  QuantilesGlobal         1      4.0   \n",
      "80                     0.56  UniformAdaptive         1      2.0   \n",
      "81                     0.64       RoundRobin         5   2048.0   \n",
      "82                     0.96       RoundRobin         3   2048.0   \n",
      "83                     0.32  UniformAdaptive         1     32.0   \n",
      "84                     0.94  QuantilesGlobal         1      1.0   \n",
      "85                     0.69       RoundRobin         1    128.0   \n",
      "86                     0.99  QuantilesGlobal         3   2048.0   \n",
      "87                     0.79       RoundRobin         4   2048.0   \n",
      "88                      0.3  UniformAdaptive         4   1024.0   \n",
      "89                     0.83  QuantilesGlobal         1   1024.0   \n",
      "90                     0.75  QuantilesGlobal         2   2048.0   \n",
      "91                      0.3  UniformAdaptive         2   2048.0   \n",
      "92                     0.55       RoundRobin         1      2.0   \n",
      "93                     0.33  QuantilesGlobal         1     64.0   \n",
      "94                     0.49  QuantilesGlobal         1     64.0   \n",
      "95                     0.89  QuantilesGlobal         1   4096.0   \n",
      "96                     0.21  UniformAdaptive         3   2048.0   \n",
      "97                     0.42  UniformAdaptive         3   4096.0   \n",
      "98                     0.22       RoundRobin         5   4096.0   \n",
      "99                     0.28  UniformAdaptive         5   4096.0   \n",
      "\n",
      "   min_split_improvement nbins nbins_cats sample_rate            model_ids  \\\n",
      "0                 1.0E-8    64        512         0.4  final_grid_model_33   \n",
      "1                    0.0   256       4096        0.82  final_grid_model_93   \n",
      "2                 1.0E-8   512       2048        0.48  final_grid_model_64   \n",
      "3                 1.0E-6    16        512        0.55  final_grid_model_97   \n",
      "4                 1.0E-8   512       1024        0.46  final_grid_model_13   \n",
      "5                 1.0E-4   128       2048        0.72  final_grid_model_85   \n",
      "6                 1.0E-6   128        512        0.73  final_grid_model_66   \n",
      "7                    0.0   128       1024         0.7  final_grid_model_53   \n",
      "8                    0.0   128       1024        0.46  final_grid_model_25   \n",
      "9                    0.0    64       2048        0.48  final_grid_model_15   \n",
      "10                1.0E-4    32       1024        0.67  final_grid_model_41   \n",
      "11                1.0E-6   256       4096        0.76   final_grid_model_3   \n",
      "12                1.0E-8    16       2048         0.3  final_grid_model_32   \n",
      "13                1.0E-4  1024       2048        0.86  final_grid_model_17   \n",
      "14                   0.0   128       4096        0.37   final_grid_model_5   \n",
      "15                1.0E-8   512        512        0.64   final_grid_model_0   \n",
      "16                1.0E-6    16       4096        0.39  final_grid_model_71   \n",
      "17                1.0E-4   512       2048        0.35  final_grid_model_74   \n",
      "18                1.0E-4    16        128         0.3  final_grid_model_89   \n",
      "19                1.0E-4  1024        256        0.29  final_grid_model_45   \n",
      "20                   0.0   256       1024        0.62  final_grid_model_67   \n",
      "21                1.0E-8    16        512        0.92  final_grid_model_65   \n",
      "22                1.0E-6    64       2048        0.26   final_grid_model_4   \n",
      "23                   0.0   128        512        0.65  final_grid_model_42   \n",
      "24                1.0E-6   512       4096        0.55  final_grid_model_24   \n",
      "25                1.0E-6   128       1024        0.65  final_grid_model_98   \n",
      "26                   0.0   512       2048        0.23  final_grid_model_36   \n",
      "27                1.0E-8    16       2048        0.38  final_grid_model_34   \n",
      "28                1.0E-4    32        512         0.4  final_grid_model_56   \n",
      "29                1.0E-6  1024       4096        0.37  final_grid_model_43   \n",
      "..                   ...   ...        ...         ...                  ...   \n",
      "70                1.0E-8   512         16        0.28  final_grid_model_58   \n",
      "71                1.0E-6    32         64        0.63  final_grid_model_62   \n",
      "72                   0.0    16        128        0.64   final_grid_model_6   \n",
      "73                   0.0    64         32        0.42  final_grid_model_88   \n",
      "74                   0.0    16       1024        0.42  final_grid_model_84   \n",
      "75                1.0E-6   256        256        0.86  final_grid_model_78   \n",
      "76                1.0E-6    16        256        0.35  final_grid_model_16   \n",
      "77                   0.0   128        128        0.93  final_grid_model_96   \n",
      "78                1.0E-6   512       1024        0.97  final_grid_model_51   \n",
      "79                1.0E-4  1024         64        0.32  final_grid_model_75   \n",
      "80                1.0E-8    32        256        0.34  final_grid_model_22   \n",
      "81                   0.0    16         32        0.78  final_grid_model_70   \n",
      "82                1.0E-8    64        256        0.93  final_grid_model_87   \n",
      "83                   0.0   512         32        0.54  final_grid_model_77   \n",
      "84                   0.0    32        256        0.86  final_grid_model_68   \n",
      "85                1.0E-4    64        256        0.35  final_grid_model_18   \n",
      "86                1.0E-4    32         16        0.49  final_grid_model_86   \n",
      "87                1.0E-4    64         16        0.55  final_grid_model_54   \n",
      "88                1.0E-8   128        128         0.4  final_grid_model_47   \n",
      "89                1.0E-8    64        128        0.69  final_grid_model_38   \n",
      "90                1.0E-6    32         32        0.29  final_grid_model_26   \n",
      "91                1.0E-4    32         64        0.97  final_grid_model_44   \n",
      "92                1.0E-4    32         16        0.28  final_grid_model_73   \n",
      "93                   0.0    64         64        0.65  final_grid_model_20   \n",
      "94                   0.0    16         32         0.4  final_grid_model_28   \n",
      "95                1.0E-8  1024         32        0.71  final_grid_model_69   \n",
      "96                   0.0    32         64         0.6  final_grid_model_10   \n",
      "97                   0.0  1024         16        0.67  final_grid_model_59   \n",
      "98                   0.0   256        128         0.5  final_grid_model_57   \n",
      "99                1.0E-8   256         64        0.28  final_grid_model_92   \n",
      "\n",
      "                logloss  \n",
      "0   0.39805651324226016  \n",
      "1   0.41538975952286356  \n",
      "2    0.4160075599197908  \n",
      "3    0.4184543507791542  \n",
      "4   0.42117674918255715  \n",
      "5   0.42171706823653465  \n",
      "6   0.42261159706088186  \n",
      "7    0.4390955368165392  \n",
      "8    0.4391118736633636  \n",
      "9   0.43990272708943723  \n",
      "10   0.4445441813234472  \n",
      "11  0.44639341829605467  \n",
      "12   0.4466643614143254  \n",
      "13   0.4469011598117262  \n",
      "14  0.44987122648115196  \n",
      "15  0.45546607275019435  \n",
      "16   0.4559310422485119  \n",
      "17  0.45640246971162096  \n",
      "18   0.4580483730743656  \n",
      "19     0.46305780321785  \n",
      "20   0.4631663452038117  \n",
      "21   0.4642428997968227  \n",
      "22  0.46759755895179117  \n",
      "23  0.47271352243625475  \n",
      "24   0.4784881079434195  \n",
      "25  0.48029964007914683  \n",
      "26   0.4849252116900338  \n",
      "27  0.48945145173923604  \n",
      "28  0.48970847155276737  \n",
      "29  0.49039351015592536  \n",
      "..                  ...  \n",
      "70   0.5348146231189633  \n",
      "71   0.5349032984749811  \n",
      "72   0.5364231249016244  \n",
      "73   0.5374044126729016  \n",
      "74   0.5382520852871199  \n",
      "75   0.5386496517129328  \n",
      "76   0.5403098729612229  \n",
      "77   0.5455472380004098  \n",
      "78    0.546091992319792  \n",
      "79   0.5468791969620791  \n",
      "80   0.5479597785856993  \n",
      "81   0.5481416817110869  \n",
      "82   0.5484066366366486  \n",
      "83   0.5497619433561006  \n",
      "84   0.5498567383405015  \n",
      "85   0.5512165081956868  \n",
      "86   0.5518779697817062  \n",
      "87   0.5519313005110243  \n",
      "88   0.5521572978767171  \n",
      "89   0.5534394622593743  \n",
      "90   0.5535518937178364  \n",
      "91   0.5559288410775721  \n",
      "92   0.5574736711440609  \n",
      "93   0.5584172547838209  \n",
      "94   0.5589825226373238  \n",
      "95   0.5643906332667535  \n",
      "96   0.5652168120531781  \n",
      "97   0.5661169435345136  \n",
      "98   0.5684494509131404  \n",
      "99   0.5727995649488499  \n",
      "\n"
     ]
    },
    {
     "name": "stdout",
     "output_type": "stream",
     "text": [
      "[100 rows x 13 columns]\n",
      "\n"
     ]
    }
   ],
   "source": [
    "gbm_final_grid = H2OGradientBoostingEstimator(distribution='bernoulli',\n",
    "                    ## more trees is better if the learning rate is small enough \n",
    "                    ## here, use \"more than enough\" trees - we have early stopping\n",
    "                    ntrees=10000,\n",
    "                    ## smaller learning rate is better\n",
    "                    ## since we have learning_rate_annealing, we can afford to start with a \n",
    "                    #bigger learning rate\n",
    "                    learn_rate=0.05,\n",
    "                    ## learning rate annealing: learning_rate shrinks by 1% after every tree \n",
    "                    ## (use 1.00 to disable, but then lower the learning_rate)\n",
    "                    learn_rate_annealing = 0.99,\n",
    "                    ## score every 10 trees to make early stopping reproducible \n",
    "                    #(it depends on the scoring interval)\n",
    "                    score_tree_interval = 10,\n",
    "                    ## fix a random number generator seed for reproducibility\n",
    "                    seed = 1234,\n",
    "                    ## early stopping once the validation AUC doesn't improve by at least 0.01% for \n",
    "                    #5 consecutive scoring events\n",
    "                    stopping_rounds = 5,\n",
    "                    stopping_metric = \"AUC\",\n",
    "                    stopping_tolerance = 1e-4)\n",
    "            \n",
    "#Build grid search with previously made GBM and hyper parameters\n",
    "final_grid = H2OGridSearch(gbm_final_grid, hyper_params = hyper_params_tune,\n",
    "                                    grid_id = 'final_grid',\n",
    "                           search_criteria = search_criteria_tune)\n",
    "#Train grid search\n",
    "\n",
    "\n",
    "x=df.col_names\n",
    "x.remove(y)\n",
    "df[y] = df[y].asfactor()\n",
    "train, valid, test = df.split_frame(ratios=[.8,.1])\n",
    "\n",
    "\n",
    "final_grid.train(x=x, \n",
    "           y=y,\n",
    "           training_frame = train,\n",
    "           validation_frame = valid)\n",
    "\n",
    "print final_grid"
   ]
  },
  {
   "cell_type": "code",
   "execution_count": 24,
   "metadata": {},
   "outputs": [
    {
     "name": "stdout",
     "output_type": "stream",
     "text": [
      "      col_sample_rate col_sample_rate_change_per_level  \\\n",
      "0                0.65                             1.08   \n",
      "1                0.37                             0.93   \n",
      "2                0.96                              1.1   \n",
      "3                0.28                             1.08   \n",
      "4                0.32                             1.02   \n",
      "5                0.54                             1.07   \n",
      "6                0.69                             0.97   \n",
      "7                 0.4                             0.91   \n",
      "8                0.85                             1.07   \n",
      "9                0.51                              1.1   \n",
      "10                0.2                             0.94   \n",
      "11               0.74                             1.07   \n",
      "12               0.76                             0.94   \n",
      "13               0.91                             0.96   \n",
      "14               0.34                             1.07   \n",
      "15               0.55                             1.05   \n",
      "16                0.5                             0.99   \n",
      "17               0.73                              0.9   \n",
      "18               0.63                              1.0   \n",
      "19                0.5                             1.02   \n",
      "20               0.26                             0.91   \n",
      "21               0.46                             0.94   \n",
      "22               0.64                             1.02   \n",
      "23               0.25                             1.06   \n",
      "24               0.61                             0.97   \n",
      "25               0.91                             1.02   \n",
      "26               0.48                              1.0   \n",
      "27               0.66                             1.01   \n",
      "28                0.5                             0.92   \n",
      "29               0.87                              0.9   \n",
      ".. ..             ...                              ...   \n",
      "70               0.42                             1.08   \n",
      "71               0.74                             0.96   \n",
      "72                0.5                             1.03   \n",
      "73               0.25                             1.04   \n",
      "74                0.9                              1.1   \n",
      "75               0.48                             0.99   \n",
      "76                0.4                             1.01   \n",
      "77                0.6                              1.0   \n",
      "78                0.2                             0.96   \n",
      "79               0.92                             0.93   \n",
      "80                0.7                             1.02   \n",
      "81               0.97                             0.96   \n",
      "82               0.72                             1.08   \n",
      "83               0.33                             1.06   \n",
      "84               0.92                             1.06   \n",
      "85               0.22                             1.06   \n",
      "86               0.49                             1.04   \n",
      "87               0.31                             0.94   \n",
      "88               0.45                             1.03   \n",
      "89                0.7                             1.08   \n",
      "90               0.35                             1.09   \n",
      "91               0.77                             1.06   \n",
      "92               0.24                             1.08   \n",
      "93                0.2                             0.94   \n",
      "94               0.52                              1.1   \n",
      "95               0.67                             1.04   \n",
      "96               0.52                              1.0   \n",
      "97               0.81                             0.94   \n",
      "98               0.99                              1.0   \n",
      "99               0.45                             1.06   \n",
      "\n",
      "   col_sample_rate_per_tree   histogram_type max_depth min_rows  \\\n",
      "0                      0.95  UniformAdaptive         5     64.0   \n",
      "1                      0.64  UniformAdaptive         5      8.0   \n",
      "2                      0.43       RoundRobin         5      2.0   \n",
      "3                      0.47  QuantilesGlobal         5      4.0   \n",
      "4                      0.88  UniformAdaptive         4      4.0   \n",
      "5                      0.58  UniformAdaptive         4      1.0   \n",
      "6                      0.98  UniformAdaptive         4    128.0   \n",
      "7                      0.34  UniformAdaptive         5      1.0   \n",
      "8                      0.95  UniformAdaptive         4     64.0   \n",
      "9                       0.5  UniformAdaptive         4     64.0   \n",
      "10                     0.45  UniformAdaptive         5     64.0   \n",
      "11                      0.4       RoundRobin         5      4.0   \n",
      "12                      0.2       RoundRobin         5      1.0   \n",
      "13                      0.4       RoundRobin         4      4.0   \n",
      "14                     0.68  UniformAdaptive         4     64.0   \n",
      "15                      1.0  UniformAdaptive         5   1024.0   \n",
      "16                     0.81  QuantilesGlobal         3      2.0   \n",
      "17                      0.6  QuantilesGlobal         4     16.0   \n",
      "18                     0.85       RoundRobin         3      8.0   \n",
      "19                     0.65       RoundRobin         3      4.0   \n",
      "20                     0.88       RoundRobin         4    256.0   \n",
      "21                     0.24  UniformAdaptive         4      2.0   \n",
      "22                     0.66  QuantilesGlobal         3      8.0   \n",
      "23                     0.22  QuantilesGlobal         4     64.0   \n",
      "24                     0.36  QuantilesGlobal         3      2.0   \n",
      "25                     0.97  UniformAdaptive         2     16.0   \n",
      "26                     0.35  QuantilesGlobal         3      4.0   \n",
      "27                     0.22       RoundRobin         4    256.0   \n",
      "28                     0.55  QuantilesGlobal         5    512.0   \n",
      "29                      0.7  UniformAdaptive         2    128.0   \n",
      "..                      ...              ...       ...      ...   \n",
      "70                     0.45       RoundRobin         3    512.0   \n",
      "71                     0.36  UniformAdaptive         4    512.0   \n",
      "72                     0.45       RoundRobin         2      4.0   \n",
      "73                     0.87  UniformAdaptive         2   1024.0   \n",
      "74                     0.59       RoundRobin         2     64.0   \n",
      "75                     0.67       RoundRobin         2    128.0   \n",
      "76                     0.55  QuantilesGlobal         2      1.0   \n",
      "77                     0.89  UniformAdaptive         2    512.0   \n",
      "78                     0.96       RoundRobin         3   2048.0   \n",
      "79                     0.56  QuantilesGlobal         5   2048.0   \n",
      "80                     0.56  UniformAdaptive         1      2.0   \n",
      "81                     0.96  QuantilesGlobal         1      4.0   \n",
      "82                     0.32  UniformAdaptive         1     32.0   \n",
      "83                     0.69       RoundRobin         1    128.0   \n",
      "84                     0.64       RoundRobin         5   2048.0   \n",
      "85                     0.55       RoundRobin         1      2.0   \n",
      "86                     0.94  QuantilesGlobal         1      1.0   \n",
      "87                      0.3  UniformAdaptive         4   1024.0   \n",
      "88                     0.79       RoundRobin         4   2048.0   \n",
      "89                     0.99  QuantilesGlobal         3   2048.0   \n",
      "90                     0.83  QuantilesGlobal         1   1024.0   \n",
      "91                     0.75  QuantilesGlobal         2   2048.0   \n",
      "92                      0.3  UniformAdaptive         2   2048.0   \n",
      "93                     0.49  QuantilesGlobal         1     64.0   \n",
      "94                     0.33  QuantilesGlobal         1     64.0   \n",
      "95                     0.21  UniformAdaptive         3   2048.0   \n",
      "96                     0.42  UniformAdaptive         3   4096.0   \n",
      "97                     0.89  QuantilesGlobal         1   4096.0   \n",
      "98                     0.22       RoundRobin         5   4096.0   \n",
      "99                     0.28  UniformAdaptive         5   4096.0   \n",
      "\n",
      "   min_split_improvement nbins nbins_cats sample_rate            model_ids  \\\n",
      "0                 1.0E-8    64        512         0.4  final_grid_model_33   \n",
      "1                 1.0E-6   128        512        0.73  final_grid_model_66   \n",
      "2                 1.0E-8   512       2048        0.48  final_grid_model_64   \n",
      "3                    0.0   128       1024         0.7  final_grid_model_53   \n",
      "4                 1.0E-8   512       1024        0.46  final_grid_model_13   \n",
      "5                 1.0E-4   128       2048        0.72  final_grid_model_85   \n",
      "6                    0.0   256       4096        0.82  final_grid_model_93   \n",
      "7                    0.0    64       2048        0.48  final_grid_model_15   \n",
      "8                 1.0E-6    16        512        0.55  final_grid_model_97   \n",
      "9                    0.0   128       1024        0.46  final_grid_model_25   \n",
      "10                1.0E-6    16       4096        0.39  final_grid_model_71   \n",
      "11                1.0E-4    16        128         0.3  final_grid_model_89   \n",
      "12                   0.0   256       1024        0.62  final_grid_model_67   \n",
      "13                1.0E-4    32       1024        0.67  final_grid_model_41   \n",
      "14                1.0E-8    16       2048         0.3  final_grid_model_32   \n",
      "15                1.0E-4  1024       2048        0.86  final_grid_model_17   \n",
      "16                1.0E-6   256       4096        0.76   final_grid_model_3   \n",
      "17                1.0E-4  1024        256        0.29  final_grid_model_45   \n",
      "18                   0.0   128       4096        0.37   final_grid_model_5   \n",
      "19                1.0E-8   512        512        0.64   final_grid_model_0   \n",
      "20                1.0E-8    16        512        0.92  final_grid_model_65   \n",
      "21                   0.0   128        512        0.65  final_grid_model_42   \n",
      "22                1.0E-4   512       2048        0.35  final_grid_model_74   \n",
      "23                   0.0   512       2048        0.23  final_grid_model_36   \n",
      "24                1.0E-6   128       1024        0.65  final_grid_model_98   \n",
      "25                1.0E-6    64       2048        0.26   final_grid_model_4   \n",
      "26                1.0E-4    32        512         0.4  final_grid_model_56   \n",
      "27                1.0E-6    16       4096        0.59  final_grid_model_19   \n",
      "28                1.0E-8    16       2048        0.38  final_grid_model_34   \n",
      "29                1.0E-6   512       4096        0.55  final_grid_model_24   \n",
      "..                   ...   ...        ...         ...                  ...   \n",
      "70                1.0E-6    16        256        0.35  final_grid_model_16   \n",
      "71                1.0E-6    32         64        0.63  final_grid_model_62   \n",
      "72                1.0E-8   512         16        0.28  final_grid_model_58   \n",
      "73                1.0E-6   256        256        0.86  final_grid_model_78   \n",
      "74                1.0E-8   128        256        0.62  final_grid_model_91   \n",
      "75                1.0E-8    32         64        0.68  final_grid_model_83   \n",
      "76                   0.0    64         32        0.42  final_grid_model_88   \n",
      "77                   0.0    16        128        0.64   final_grid_model_6   \n",
      "78                1.0E-8    64        256        0.93  final_grid_model_87   \n",
      "79                   0.0   128        128        0.93  final_grid_model_96   \n",
      "80                1.0E-8    32        256        0.34  final_grid_model_22   \n",
      "81                1.0E-4  1024         64        0.32  final_grid_model_75   \n",
      "82                   0.0   512         32        0.54  final_grid_model_77   \n",
      "83                1.0E-4    64        256        0.35  final_grid_model_18   \n",
      "84                   0.0    16         32        0.78  final_grid_model_70   \n",
      "85                1.0E-4    32         16        0.28  final_grid_model_73   \n",
      "86                   0.0    32        256        0.86  final_grid_model_68   \n",
      "87                1.0E-8   128        128         0.4  final_grid_model_47   \n",
      "88                1.0E-4    64         16        0.55  final_grid_model_54   \n",
      "89                1.0E-4    32         16        0.49  final_grid_model_86   \n",
      "90                1.0E-8    64        128        0.69  final_grid_model_38   \n",
      "91                1.0E-6    32         32        0.29  final_grid_model_26   \n",
      "92                1.0E-4    32         64        0.97  final_grid_model_44   \n",
      "93                   0.0    16         32         0.4  final_grid_model_28   \n",
      "94                   0.0    64         64        0.65  final_grid_model_20   \n",
      "95                   0.0    32         64         0.6  final_grid_model_10   \n",
      "96                   0.0  1024         16        0.67  final_grid_model_59   \n",
      "97                1.0E-8  1024         32        0.71  final_grid_model_69   \n",
      "98                   0.0   256        128         0.5  final_grid_model_57   \n",
      "99                1.0E-8   256         64        0.28  final_grid_model_92   \n",
      "\n",
      "                   auc  \n",
      "0   0.8681195143781036  \n",
      "1   0.8584141139277052  \n",
      "2   0.8573756351772722  \n",
      "3    0.854102306848366  \n",
      "4    0.851768210821111  \n",
      "5   0.8501306444162143  \n",
      "6   0.8489703632059129  \n",
      "7   0.8488602898718097  \n",
      "8   0.8467716032451785  \n",
      "9   0.8380559605612657  \n",
      "10  0.8321823752742812  \n",
      "11  0.8302849636216654  \n",
      "12  0.8287989736112715  \n",
      "13  0.8283929654117104  \n",
      "14  0.8274573420718327  \n",
      "15  0.8220438994110174  \n",
      "16  0.8204830234438156  \n",
      "17  0.8200364144242984  \n",
      "18  0.8156325788197252  \n",
      "19  0.8151895787619817  \n",
      "20  0.8147628190322208  \n",
      "21  0.8128599939369442  \n",
      "22  0.8066841581013974  \n",
      "23  0.7964716985217692  \n",
      "24  0.7914263699618893  \n",
      "25  0.7901884960734495  \n",
      "26  0.7898645917542442  \n",
      "27  0.7852757968587596  \n",
      "28  0.7816145051391616  \n",
      "29  0.7793570995496015  \n",
      "..                 ...  \n",
      "70  0.6881550265619587  \n",
      "71  0.6874675193440352  \n",
      "72  0.6856458958886708  \n",
      "73  0.6856233398775841  \n",
      "74  0.6845316289409863  \n",
      "75  0.6795557728952535  \n",
      "76  0.6789052575355121  \n",
      "77  0.6742307497978981  \n",
      "78  0.6666167426954613  \n",
      "79  0.6573570490241367  \n",
      "80   0.654271386707472  \n",
      "81  0.6534738061554451  \n",
      "82  0.6507959565192285  \n",
      "83   0.648964408418986  \n",
      "84  0.6483716364476267  \n",
      "85  0.6454122877930477  \n",
      "86  0.6451948478461716  \n",
      "87  0.6444008762559187  \n",
      "88  0.6417356579859106  \n",
      "89  0.6414839329021828  \n",
      "90  0.6402460590137429  \n",
      "91  0.6349914106709782  \n",
      "92  0.6345493128536782  \n",
      "93  0.6331003147014668  \n",
      "94  0.6328964083612426  \n",
      "95  0.6136895138006698  \n",
      "96  0.5988999884513223  \n",
      "97  0.5971424240674442  \n",
      "98  0.5965839372329369  \n",
      "99  0.5819712510105093  \n",
      "\n"
     ]
    },
    {
     "name": "stdout",
     "output_type": "stream",
     "text": [
      "[100 rows x 13 columns]\n",
      "\n"
     ]
    }
   ],
   "source": [
    "\n",
    "## Sort the grid models by AUC\n",
    "sorted_final_grid = final_grid.get_grid(sort_by='auc',decreasing=True)\n",
    "\n",
    "print sorted_final_grid"
   ]
  },
  {
   "cell_type": "code",
   "execution_count": 25,
   "metadata": {},
   "outputs": [
    {
     "name": "stdout",
     "output_type": "stream",
     "text": [
      "0.867492332182\n"
     ]
    }
   ],
   "source": [
    "\n",
    "#Get the best model from the list (the model name listed at the top of the table)\n",
    "best_model = h2o.get_model(sorted_final_grid.sorted_metric_table()['model_ids'][0])\n",
    "performance_best_model = best_model.model_performance(test)\n",
    "print performance_best_model.auc()"
   ]
  },
  {
   "cell_type": "code",
   "execution_count": 26,
   "metadata": {
    "scrolled": true
   },
   "outputs": [
    {
     "data": {
      "text/plain": [
       "['learn_rate = 0.05',\n",
       " 'fold_column = None',\n",
       " 'col_sample_rate_per_tree = 0.95',\n",
       " 'learn_rate_annealing = 0.99',\n",
       " 'score_tree_interval = 10',\n",
       " 'sample_rate_per_class = None',\n",
       " 'seed = 1234',\n",
       " 'keep_cross_validation_predictions = False',\n",
       " \"model_id = {u'URL': u'/3/Models/final_grid_model_33', u'type': u'Key<Model>', u'name': u'final_grid_model_33', u'__meta': {u'schema_name': u'ModelKeyV3', u'schema_version': 3, u'schema_type': u'Key<Model>'}}\",\n",
       " 'nfolds = 0',\n",
       " 'max_abs_leafnode_pred = 1.79769313486e+308',\n",
       " 'offset_column = None',\n",
       " 'categorical_encoding = AUTO',\n",
       " 'pred_noise_bandwidth = 0.0',\n",
       " 'stopping_tolerance = 0.0001',\n",
       " 'fold_assignment = AUTO',\n",
       " \"training_frame = {u'URL': u'/3/Frames/py_9_sid_a140', u'type': u'Key<Frame>', u'name': u'py_9_sid_a140', u'__meta': {u'schema_name': u'FrameKeyV3', u'schema_version': 3, u'schema_type': u'Key<Frame>'}}\",\n",
       " 'max_runtime_secs = 3524.0',\n",
       " 'calibrate_model = False',\n",
       " 'checkpoint = None',\n",
       " 'balance_classes = False',\n",
       " 'r2_stopping = 1.79769313486e+308',\n",
       " \"validation_frame = {u'URL': u'/3/Frames/py_10_sid_a140', u'type': u'Key<Frame>', u'name': u'py_10_sid_a140', u'__meta': {u'schema_name': u'FrameKeyV3', u'schema_version': 3, u'schema_type': u'Key<Frame>'}}\",\n",
       " 'max_depth = 5',\n",
       " 'custom_metric_func = None',\n",
       " \"response_column = {u'is_member_of_frames': None, u'column_name': u'L', u'__meta': {u'schema_name': u'ColSpecifierV3', u'schema_version': 3, u'schema_type': u'VecSpecifier'}}\",\n",
       " 'build_tree_one_node = False',\n",
       " 'ntrees = 10000',\n",
       " 'min_split_improvement = 1e-08',\n",
       " 'ignored_columns = None',\n",
       " 'tweedie_power = 1.5',\n",
       " 'min_rows = 64.0',\n",
       " 'max_confusion_matrix_size = 20',\n",
       " 'score_each_iteration = False',\n",
       " 'nbins_top_level = 1024',\n",
       " 'max_after_balance_size = 5.0',\n",
       " 'quantile_alpha = 0.5',\n",
       " 'nbins = 64',\n",
       " 'histogram_type = UniformAdaptive',\n",
       " 'huber_alpha = 0.9',\n",
       " 'col_sample_rate = 0.65',\n",
       " 'stopping_metric = AUC',\n",
       " 'weights_column = None',\n",
       " 'stopping_rounds = 5',\n",
       " 'col_sample_rate_change_per_level = 1.08',\n",
       " 'max_hit_ratio_k = 0',\n",
       " 'nbins_cats = 512',\n",
       " 'sample_rate = 0.4',\n",
       " 'calibration_frame = None',\n",
       " 'distribution = bernoulli',\n",
       " 'class_sampling_factors = None',\n",
       " 'ignore_const_cols = True',\n",
       " 'keep_cross_validation_fold_assignment = False']"
      ]
     },
     "execution_count": 26,
     "metadata": {},
     "output_type": "execute_result"
    }
   ],
   "source": [
    "\n",
    "params_list = []\n",
    "for key, value in best_model.params.iteritems():\n",
    "    params_list.append(str(key)+\" = \"+str(value['actual']))\n",
    "params_list"
   ]
  },
  {
   "cell_type": "code",
   "execution_count": 27,
   "metadata": {},
   "outputs": [],
   "source": [
    "gbm = h2o.get_model(sorted_final_grid.sorted_metric_table()['model_ids'][0])\n",
    "#get the parameters from the Random grid search model and modify them slightly\n",
    "params = gbm.params\n",
    "new_params = {\"nfolds\":5, \"model_id\":None}\n",
    "for key in new_params.keys():\n",
    "    params[key]['actual'] = new_params[key] \n",
    "gbm_best = H2OGradientBoostingEstimator()\n"
   ]
  },
  {
   "cell_type": "code",
   "execution_count": 28,
   "metadata": {
    "scrolled": false
   },
   "outputs": [
    {
     "ename": "H2OTypeError",
     "evalue": "Argument `training_frame` should be an ?H2OFrame, got H2OResponse {u'URL': u'/3/Frames/py_9_sid_a140', u'type': u'Key<Frame>', u'name': u'py_9_sid_a140', u'__meta': {u'schema_name': u'FrameKeyV3', u'schema_version': 3, u'schema_type': u'Key<Frame>'}}",
     "output_type": "error",
     "traceback": [
      "\u001b[0;31m---------------------------------------------------------------------------\u001b[0m",
      "\u001b[0;31mH2OTypeError\u001b[0m                              Traceback (most recent call last)",
      "\u001b[0;32m<ipython-input-28-d876aed7b59e>\u001b[0m in \u001b[0;36m<module>\u001b[0;34m()\u001b[0m\n\u001b[1;32m      1\u001b[0m \u001b[0;32mfor\u001b[0m \u001b[0mkey\u001b[0m \u001b[0;32min\u001b[0m \u001b[0mparams\u001b[0m\u001b[0;34m.\u001b[0m\u001b[0mkeys\u001b[0m\u001b[0;34m(\u001b[0m\u001b[0;34m)\u001b[0m\u001b[0;34m:\u001b[0m\u001b[0;34m\u001b[0m\u001b[0m\n\u001b[1;32m      2\u001b[0m     \u001b[0;32mif\u001b[0m \u001b[0mkey\u001b[0m \u001b[0;32min\u001b[0m \u001b[0mdir\u001b[0m\u001b[0;34m(\u001b[0m\u001b[0mgbm_best\u001b[0m\u001b[0;34m)\u001b[0m \u001b[0;32mand\u001b[0m \u001b[0mgetattr\u001b[0m\u001b[0;34m(\u001b[0m\u001b[0mgbm_best\u001b[0m\u001b[0;34m,\u001b[0m\u001b[0mkey\u001b[0m\u001b[0;34m)\u001b[0m \u001b[0;34m!=\u001b[0m \u001b[0mparams\u001b[0m\u001b[0;34m[\u001b[0m\u001b[0mkey\u001b[0m\u001b[0;34m]\u001b[0m\u001b[0;34m[\u001b[0m\u001b[0;34m'actual'\u001b[0m\u001b[0;34m]\u001b[0m\u001b[0;34m:\u001b[0m\u001b[0;34m\u001b[0m\u001b[0m\n\u001b[0;32m----> 3\u001b[0;31m         \u001b[0msetattr\u001b[0m\u001b[0;34m(\u001b[0m\u001b[0mgbm_best\u001b[0m\u001b[0;34m,\u001b[0m\u001b[0mkey\u001b[0m\u001b[0;34m,\u001b[0m\u001b[0mparams\u001b[0m\u001b[0;34m[\u001b[0m\u001b[0mkey\u001b[0m\u001b[0;34m]\u001b[0m\u001b[0;34m[\u001b[0m\u001b[0;34m'actual'\u001b[0m\u001b[0;34m]\u001b[0m\u001b[0;34m)\u001b[0m\u001b[0;34m\u001b[0m\u001b[0m\n\u001b[0m",
      "\u001b[0;32m/home/jash/anaconda3/envs/py27/lib/python2.7/site-packages/h2o/estimators/gbm.pyc\u001b[0m in \u001b[0;36mtraining_frame\u001b[0;34m(self, training_frame)\u001b[0m\n\u001b[1;32m     62\u001b[0m     \u001b[0;34m@\u001b[0m\u001b[0mtraining_frame\u001b[0m\u001b[0;34m.\u001b[0m\u001b[0msetter\u001b[0m\u001b[0;34m\u001b[0m\u001b[0m\n\u001b[1;32m     63\u001b[0m     \u001b[0;32mdef\u001b[0m \u001b[0mtraining_frame\u001b[0m\u001b[0;34m(\u001b[0m\u001b[0mself\u001b[0m\u001b[0;34m,\u001b[0m \u001b[0mtraining_frame\u001b[0m\u001b[0;34m)\u001b[0m\u001b[0;34m:\u001b[0m\u001b[0;34m\u001b[0m\u001b[0m\n\u001b[0;32m---> 64\u001b[0;31m         \u001b[0massert_is_type\u001b[0m\u001b[0;34m(\u001b[0m\u001b[0mtraining_frame\u001b[0m\u001b[0;34m,\u001b[0m \u001b[0mNone\u001b[0m\u001b[0;34m,\u001b[0m \u001b[0mH2OFrame\u001b[0m\u001b[0;34m)\u001b[0m\u001b[0;34m\u001b[0m\u001b[0m\n\u001b[0m\u001b[1;32m     65\u001b[0m         \u001b[0mself\u001b[0m\u001b[0;34m.\u001b[0m\u001b[0m_parms\u001b[0m\u001b[0;34m[\u001b[0m\u001b[0;34m\"training_frame\"\u001b[0m\u001b[0;34m]\u001b[0m \u001b[0;34m=\u001b[0m \u001b[0mtraining_frame\u001b[0m\u001b[0;34m\u001b[0m\u001b[0m\n\u001b[1;32m     66\u001b[0m \u001b[0;34m\u001b[0m\u001b[0m\n",
      "\u001b[0;32m/home/jash/anaconda3/envs/py27/lib/python2.7/site-packages/h2o/utils/typechecks.pyc\u001b[0m in \u001b[0;36massert_is_type\u001b[0;34m(var, *types, **kwargs)\u001b[0m\n\u001b[1;32m    455\u001b[0m     \u001b[0mvtn\u001b[0m \u001b[0;34m=\u001b[0m \u001b[0m_get_type_name\u001b[0m\u001b[0;34m(\u001b[0m\u001b[0mtype\u001b[0m\u001b[0;34m(\u001b[0m\u001b[0mvar\u001b[0m\u001b[0;34m)\u001b[0m\u001b[0;34m)\u001b[0m\u001b[0;34m\u001b[0m\u001b[0m\n\u001b[1;32m    456\u001b[0m     raise H2OTypeError(var_name=vname, var_value=var, var_type_name=vtn, exp_type_name=etn, message=message,\n\u001b[0;32m--> 457\u001b[0;31m                        skip_frames=skip_frames)\n\u001b[0m\u001b[1;32m    458\u001b[0m \u001b[0;34m\u001b[0m\u001b[0m\n\u001b[1;32m    459\u001b[0m \u001b[0;34m\u001b[0m\u001b[0m\n",
      "\u001b[0;31mH2OTypeError\u001b[0m: Argument `training_frame` should be an ?H2OFrame, got H2OResponse {u'URL': u'/3/Frames/py_9_sid_a140', u'type': u'Key<Frame>', u'name': u'py_9_sid_a140', u'__meta': {u'schema_name': u'FrameKeyV3', u'schema_version': 3, u'schema_type': u'Key<Frame>'}}"
     ]
    }
   ],
   "source": [
    "for key in params.keys():\n",
    "    if key in dir(gbm_best) and getattr(gbm_best,key) != params[key]['actual']:\n",
    "        setattr(gbm_best,key,params[key]['actual'])"
   ]
  },
  {
   "cell_type": "code",
   "execution_count": null,
   "metadata": {},
   "outputs": [],
   "source": [
    "gbm_best.train(x=x, y=y, training_frame=df)"
   ]
  },
  {
   "cell_type": "code",
   "execution_count": null,
   "metadata": {},
   "outputs": [],
   "source": [
    "gbm_best.confusion_matrix()\n",
    "performance = gbm_best.model_performance(test_data=test)\n",
    "print performance\n"
   ]
  },
  {
   "cell_type": "code",
   "execution_count": null,
   "metadata": {},
   "outputs": [],
   "source": [
    "import matplotlib.pyplot as plt\n",
    "gbm_best.varimp_plot()\n",
    "gbm_best.varimp()"
   ]
  },
  {
   "cell_type": "code",
   "execution_count": null,
   "metadata": {},
   "outputs": [],
   "source": [
    "import subprocess\n",
    "from IPython.display import Image"
   ]
  },
  {
   "cell_type": "code",
   "execution_count": null,
   "metadata": {},
   "outputs": [],
   "source": [
    "mojo_file_name = \"/home/jash/Desktop/petplan/treeshyper/my_gbm_mojo.zip\"\n",
    "h2o_jar_path= '/home/jash/Desktop/petplan/trees/h2o-3.20.0.4/h2o.jar'\n",
    "mojo_full_path = mojo_file_name\n",
    "gv_file_path = \"/home/jash/Desktop/petplan/treeshyper/my_gbm_graph.gv\""
   ]
  },
  {
   "cell_type": "code",
   "execution_count": null,
   "metadata": {},
   "outputs": [],
   "source": [
    "image_file_name = \"/home/jash/Desktop/petplan/treeshyper/my_gbm_tree_best\""
   ]
  },
  {
   "cell_type": "code",
   "execution_count": null,
   "metadata": {},
   "outputs": [],
   "source": [
    "gbm_cv3.download_mojo(mojo_file_name)"
   ]
  },
  {
   "cell_type": "code",
   "execution_count": null,
   "metadata": {},
   "outputs": [],
   "source": [
    "\n",
    "def generateTree(h2o_jar_path, mojo_full_path, gv_file_path, image_file_path, tree_id = 0):\n",
    "    image_file_path = image_file_path + \"_\" + str(tree_id) + \".png\"\n",
    "    result = subprocess.call([\"java\", \"-cp\", h2o_jar_path, \"hex.genmodel.tools.PrintMojo\", \"--tree\", str(tree_id), \"-i\", mojo_full_path , \"-o\", gv_file_path ], shell=False)\n",
    "    result = subprocess.call([\"ls\",gv_file_path], shell = False)\n",
    "    if result is 0:\n",
    "        print(\"Success: Graphviz file \" + gv_file_path + \" is generated.\")\n",
    "    else: \n",
    "        print(\"Error: Graphviz file \" + gv_file_path + \" could not be generated.\")"
   ]
  },
  {
   "cell_type": "code",
   "execution_count": null,
   "metadata": {},
   "outputs": [],
   "source": [
    "def generateTreeImage(gv_file_path, image_file_path, tree_id):\n",
    "    image_file_path = image_file_path + \"_\" + str(tree_id) + \".png\"\n",
    "    result = subprocess.call([\"dot\", \"-Tpng\", gv_file_path, \"-o\", image_file_path], shell=False)\n",
    "    result = subprocess.call([\"ls\",image_file_path], shell = False)\n",
    "    if result is 0:\n",
    "        print(\"Success: Image File \" + image_file_path + \" is generated.\")\n",
    "        print(\"Now you can execute the follow line as-it-is to see the tree graph:\") \n",
    "        print(\"Image(filename='\" + image_file_path + \"\\')\")\n",
    "    else:\n",
    "        print(\"Error: Image file \" + image_file_path + \" could not be generated.\")"
   ]
  },
  {
   "cell_type": "code",
   "execution_count": null,
   "metadata": {},
   "outputs": [],
   "source": [
    "\n",
    "generateTree(h2o_jar_path, mojo_full_path, gv_file_path, image_file_name, 0)"
   ]
  },
  {
   "cell_type": "code",
   "execution_count": null,
   "metadata": {},
   "outputs": [],
   "source": [
    "generateTreeImage(gv_file_path, image_file_name, 0)"
   ]
  },
  {
   "cell_type": "code",
   "execution_count": null,
   "metadata": {},
   "outputs": [],
   "source": [
    "Image(filename='/home/jash/Desktop/petplan/treeshyper/my_gbm_tree_best.png')"
   ]
  },
  {
   "cell_type": "code",
   "execution_count": null,
   "metadata": {},
   "outputs": [],
   "source": []
  }
 ],
 "metadata": {
  "kernelspec": {
   "display_name": "Python 2",
   "language": "python",
   "name": "python2"
  },
  "language_info": {
   "codemirror_mode": {
    "name": "ipython",
    "version": 2
   },
   "file_extension": ".py",
   "mimetype": "text/x-python",
   "name": "python",
   "nbconvert_exporter": "python",
   "pygments_lexer": "ipython2",
   "version": "2.7.14"
  }
 },
 "nbformat": 4,
 "nbformat_minor": 2
}
